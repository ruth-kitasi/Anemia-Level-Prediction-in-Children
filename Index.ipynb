{
 "cells": [
  {
   "cell_type": "markdown",
   "metadata": {},
   "source": [
    "# ANEMIA LEVEL PREDICTION IN CHILREN"
   ]
  },
  {
   "cell_type": "markdown",
   "metadata": {},
   "source": [
    "# MODEL APPROACH : CRISP-DM"
   ]
  },
  {
   "cell_type": "markdown",
   "metadata": {
    "vscode": {
     "languageId": "plaintext"
    }
   },
   "source": [
    "## COLLABORATORS:\n",
    "\n",
    "- 1.Ruth Kitasi\n",
    "- 2.Agatha Nyambati\n",
    "- 3.Joseline Apiyo\n",
    "- 4.Cecilia Ngunjiri\n",
    "- 5.John Mbego\n",
    "- 6.Leonard Koyio\n"
   ]
  },
  {
   "cell_type": "markdown",
   "metadata": {},
   "source": [
    "<!-- from IPython.display import display, HTML -->\n",
    "\n",
    "<img src=\"anemic_child.jpg\" width=\"800\">\n"
   ]
  },
  {
   "cell_type": "markdown",
   "metadata": {},
   "source": [
    "# 1. BUSINESS UNDERSTANDING"
   ]
  },
  {
   "cell_type": "markdown",
   "metadata": {},
   "source": [
    "## 1.1 Introduction"
   ]
  },
  {
   "cell_type": "markdown",
   "metadata": {},
   "source": [
    "Anemia is a major public health concern globally, and its effects are especially pronounced among children under five, where it poses risks to growth, cognitive development, and immune health.\n",
    "Defined as a condition characterized by lower-than-normal hemoglobin (Hb) levels, anemia limits oxygen transport in the blood, which can lead to significant health complications.The World Health Organization estimates that 42% of children worldwide in this age group are anemic, predominantly due to iron deficiency, poor diet, and infections. Anemia in young children can lead to developmental delays, weakened immunity, and long-term health issues if left untreated. Socioeconomic factors, including access to quality food and healthcare, play a significant role in these high rates, with the most severe impacts observed in low- and middle-income countries.\n",
    "\n",
    "The African continent bears a disproportionate burden of anemia among children, with an estimated 60-80% prevalence in children under five. Causes include malnutrition, high prevalence of infectious diseases (like malaria and hookworm), and poor maternal health. Socioeconomic factors such as poverty, lack of healthcare, and limited access to nutritious food exacerbate the condition. Sub-Saharan Africa, in particular, faces a high prevalence due to ongoing challenges with food security, healthcare infrastructure, and education around health practices.\n",
    "\n",
    " Nigeria represents one of the highest anemia burdens in Africa, with an estimated 68% of children under five affected. Factors contributing to anemia in Nigerian children include limited access to nutritious foods, recurrent infections, and inadequate healthcare, especially in rural and low-income areas. Socioeconomic determinants, such as low household income, education levels, and lack of access to clean water, also contribute to anemia's prevalence among Nigerian children, impacting their physical and cognitive development. Addressing anemia in Nigeria is essential, given its long-term effects on individual health and its broader implications for national development."
   ]
  },
  {
   "cell_type": "markdown",
   "metadata": {},
   "source": [
    "## 1.2 Problem Statement"
   ]
  },
  {
   "cell_type": "markdown",
   "metadata": {},
   "source": [
    "Despite the high prevalence of anemia among young children in Nigeria, research on the role of socioeconomic factors influencing its severity remains limited. This project seeks to address this gap by developing a classification model to determine anemia severity levels in Nigerian children up to 56 months old, with a focus on assessing socioeconomic determinants. By identifying the primary contributors to anemia severity, this model aims to support healthcare professionals and policymakers in designing targeted interventions to reduce anemia rates among vulnerable populations in Nigeria\n",
    "\n",
    "\n",
    "\n",
    "Despite the high prevalence of anemia among young children in Nigeria, there remains a significant gap in understanding the socioeconomic determinants that influence its severity. Existing studies have largely focused on nutritional and clinical factors, but the role of underlying social and economic variables—such as parental education, household income, access to healthcare, and living conditions—has not been thoroughly explored. These factors are critical, as they often dictate access to essential resources like nutritious foods, clean water, and preventive health services.\n",
    "\n",
    "This project seeks to address this gap by developing a classification model to predict the severity of anemia in Nigerian children up to 56 months old. The model will analyze key socioeconomic indicators to determine which factors most significantly contribute to the risk and severity of anemia in this vulnerable population. By identifying these primary contributors, the model aims to empower healthcare professionals, public health organizations, and policymakers with actionable insights. The ultimate goal is to enable more targeted and effective interventions that address  the socioeconomic roots of anemia.\n",
    "\n",
    "*Citations*\n",
    "1. https://iris.who.int/bitstream/handle/10665/85839/WHO_NMH_NHD_MNM_11.1_eng.pdf?sequence=22\n",
    "2. https://cdn.who.int/media/docs/default-source/2021-dha-docs/ida_assessment_prevention_control.pdf"
   ]
  },
  {
   "cell_type": "markdown",
   "metadata": {},
   "source": [
    "## 1.3 Formulating Hypothesis."
   ]
  },
  {
   "cell_type": "markdown",
   "metadata": {},
   "source": [
    "-  Inadequate access to healthcare facilities is associated with higher levels of anemia among children living in rural areas of Nigeria.\n",
    "\n",
    "- Children exposed to secondhand smoke may experience detrimental health effects, including respiratory problems and compromised nutritional absorption.\n",
    "\n",
    "- The level of education and health awareness among parents is inversely related to the prevalence of anemia in their children,"
   ]
  },
  {
   "cell_type": "markdown",
   "metadata": {},
   "source": [
    "## 1.4 Objectives"
   ]
  },
  {
   "cell_type": "markdown",
   "metadata": {},
   "source": [
    "1. `Develop a classification codel for Anemia severity in children`:Creating a predictive model that classifies the severity of anemia in children under 56 months in Nigeria, distinguishing between mild, moderate, and severe cases. This model will be designed to handle various input factors, primarily socioeconomic variables, to enhance its practical application in identifying at-risk populations.\n",
    "\n",
    "2. `Identify key socioeconomic determinants influencing Anemia severity`:Conduct in-depth analysis to pinpoint the specific socioeconomic factors that have the most significant impact on anemia severity among young Nigerian children. \n",
    "\n",
    "3. `Evaluate the model’s predictive accuracy for effective Public Health Use`:Assess the model’s predictive performance using appropriate metrics to ensure high accuracy and reliability to provide a robust tool that healthcare professionals can rely on to anticipate anemia cases and determine the required intervention level.\n",
    "\n",
    "4. `lassify and Monitor Anemia Severity Level`:susing the model to classify anemia cases into severity levels (mild, moderate, severe) based on hemoglobin levels. By tracking these severity levels, the project aims to provide insights that can guide resource prioritization and enable healthcare providers to tailor interventions according to the specific needs of each severity group.\n",
    "\n",
    "5. `Provide Actionable Insights for Targeted Interventions`:Utilize the model’s findings to produce actionable insights that healthcare organizations and policymakers can leverage to develop targeted anemia prevention and treatment programs. \n",
    "\n",
    "6. `Support Long-Term Policy Development for Anemia Reduction`:Contribute to long-term health planning by providing data-backed recommendations for policy measures addressing the socioeconomic root causes of anemia."
   ]
  },
  {
   "cell_type": "markdown",
   "metadata": {},
   "source": [
    "## 1.5 Data Limitations"
   ]
  },
  {
   "cell_type": "markdown",
   "metadata": {},
   "source": [
    "1. `Data quality and completeness`: Incomplete or poorly collected data can hinder accurate analysis. Missing values, inconsistencies, or errors in the dataset may result in biased outcomes or misinterpretations. A study by the World Bank (2018) highlights that data collection in resource-limited settings often lacks standardization and can be subject to human error.\n",
    "\n",
    "2. `Sample size and representativeness`: Limited sample sizes or non-representative samples can affect the generalizability of the findings. If the data collected is skewed towards specific demographics (e.g., urban versus rural populations), the results may not accurately reflect the broader population. This challenge is particularly noted in studies conducted in developing countries where access to comprehensive datasets can be restricted \n",
    "\n",
    "3. `Socioeconomic data limitations`: Socioeconomic factors may be underreported or inaccurately recorded, especially in informal settlements or among marginalized populations. Factors such as income, education level, and access to healthcare are crucial for understanding anemia severity but may be inadequately captured in surveys.\n",
    "\n",
    "4. `Temporal factors`: Anemia levels and their socioeconomic determinants may change over time due to policy changes, economic fluctuations, or health interventions. Data that is not longitudinal may fail to capture these dynamics, leading to outdated conclusions..\n",
    "\n",
    "5. `Cultural and behavioral factors`: Anemia research often relies on self-reported data regarding dietary habits, health-seeking behaviors, and utilization of healthcare services. Cultural biases or reluctance to disclose certain behaviors can affect the reliability of this information."
   ]
  },
  {
   "cell_type": "markdown",
   "metadata": {},
   "source": [
    "# 2. DATA UNDERSTANDING"
   ]
  },
  {
   "cell_type": "markdown",
   "metadata": {},
   "source": [
    "Data understanding is a critical step in the data analysis process, providing a structured approach to ensure that the data utilized is not only relevant and reliable but also thoroughly comprehended. This foundational phase is essential for making informed decisions during subsequent stages of analysis and modeling.\n",
    "Key areas of focus will include:-\n",
    "\n",
    " - `Exploring the source of the data`to dentify where the data comes from. Understanding the source helps assess potential biases and the context in which the data was gathered.\n",
    " - `Import necessary libraries` to facillitate dataset loading.\n",
    "\n",
    " - `Inspect the dataset`using functions to view the first few rows, generate overview of data types, null values, data distribution, central tendencies, and variability, which are crucial for understanding the dataset's overall characteristics.\n",
    "\n",
    " - `Clearly define each column` in the dataset to understand what each variable represents."
   ]
  },
  {
   "cell_type": "markdown",
   "metadata": {},
   "source": [
    "## 2.1 Data Source Exploration"
   ]
  },
  {
   "cell_type": "markdown",
   "metadata": {},
   "source": [
    "The data obtained from the  2018 Nigeria Demographic and Health Surveys were collected to answer research questions about the effect of mothers' age and other socioeconomic factors on children aged 0-59 months anemia level in Nigeria.\n",
    "The Nigeria Demographic and Health Survey (NDHS) is a comprehensive survey designed to provide essential data on the health and demographic status of Nigeria's population.The NDHS aims to inform policymakers and health planners by offering up-to-date and reliable data that reflects the country's demographic trends and health conditions.\n",
    "This survey data considered the 36 states of Nigeria, as well as the Federal Capital Territory.The targeted population in this study are children aged 0-59 months and mothers aged 15-49 years.\n"
   ]
  },
  {
   "cell_type": "markdown",
   "metadata": {},
   "source": [
    "## 2.2 Importing Libraries\n",
    "\n",
    " Our first steP into data loading and inspection involves importing necessary librariesat the beginning of the script. We opt to import only those necessary at the moment of use. This strategy helps maintain a clean code structure and makes it easier to recognize when each library is being applied."
   ]
  },
  {
   "cell_type": "code",
   "execution_count": 5,
   "metadata": {},
   "outputs": [],
   "source": [
    "# Import libraries\n",
    "import pandas as pd\n",
    "import numpy as np"
   ]
  },
  {
   "cell_type": "code",
   "execution_count": 6,
   "metadata": {},
   "outputs": [],
   "source": [
    "# loading th  dataset\n",
    "df=pd.read_csv('anemia_dataset.csv')"
   ]
  },
  {
   "cell_type": "markdown",
   "metadata": {},
   "source": [
    "## 2.3 Inspecting the dataset"
   ]
  },
  {
   "cell_type": "code",
   "execution_count": 7,
   "metadata": {},
   "outputs": [
    {
     "data": {
      "text/html": [
       "<div>\n",
       "<style scoped>\n",
       "    .dataframe tbody tr th:only-of-type {\n",
       "        vertical-align: middle;\n",
       "    }\n",
       "\n",
       "    .dataframe tbody tr th {\n",
       "        vertical-align: top;\n",
       "    }\n",
       "\n",
       "    .dataframe thead th {\n",
       "        text-align: right;\n",
       "    }\n",
       "</style>\n",
       "<table border=\"1\" class=\"dataframe\">\n",
       "  <thead>\n",
       "    <tr style=\"text-align: right;\">\n",
       "      <th></th>\n",
       "      <th>Age in 5-year groups</th>\n",
       "      <th>Type of place of residence</th>\n",
       "      <th>Highest educational level</th>\n",
       "      <th>Wealth index combined</th>\n",
       "      <th>Births in last five years</th>\n",
       "      <th>Age of respondent at 1st birth</th>\n",
       "      <th>Hemoglobin level adjusted for altitude and smoking (g/dl - 1 decimal)</th>\n",
       "      <th>Anemia level</th>\n",
       "      <th>Have mosquito bed net for sleeping (from household questionnaire)</th>\n",
       "      <th>Smokes cigarettes</th>\n",
       "      <th>Current marital status</th>\n",
       "      <th>Currently residing with husband/partner</th>\n",
       "      <th>When child put to breast</th>\n",
       "      <th>Had fever in last two weeks</th>\n",
       "      <th>Hemoglobin level adjusted for altitude (g/dl - 1 decimal)</th>\n",
       "      <th>Anemia level.1</th>\n",
       "      <th>Taking iron pills, sprinkles or syrup</th>\n",
       "    </tr>\n",
       "  </thead>\n",
       "  <tbody>\n",
       "    <tr>\n",
       "      <th>0</th>\n",
       "      <td>40-44</td>\n",
       "      <td>Urban</td>\n",
       "      <td>Higher</td>\n",
       "      <td>Richest</td>\n",
       "      <td>1</td>\n",
       "      <td>22</td>\n",
       "      <td>NaN</td>\n",
       "      <td>NaN</td>\n",
       "      <td>Yes</td>\n",
       "      <td>No</td>\n",
       "      <td>Living with partner</td>\n",
       "      <td>Staying elsewhere</td>\n",
       "      <td>Immediately</td>\n",
       "      <td>No</td>\n",
       "      <td>NaN</td>\n",
       "      <td>NaN</td>\n",
       "      <td>Yes</td>\n",
       "    </tr>\n",
       "    <tr>\n",
       "      <th>1</th>\n",
       "      <td>35-39</td>\n",
       "      <td>Urban</td>\n",
       "      <td>Higher</td>\n",
       "      <td>Richest</td>\n",
       "      <td>1</td>\n",
       "      <td>28</td>\n",
       "      <td>NaN</td>\n",
       "      <td>NaN</td>\n",
       "      <td>Yes</td>\n",
       "      <td>No</td>\n",
       "      <td>Married</td>\n",
       "      <td>Living with her</td>\n",
       "      <td>Hours: 1</td>\n",
       "      <td>No</td>\n",
       "      <td>NaN</td>\n",
       "      <td>NaN</td>\n",
       "      <td>No</td>\n",
       "    </tr>\n",
       "    <tr>\n",
       "      <th>2</th>\n",
       "      <td>25-29</td>\n",
       "      <td>Urban</td>\n",
       "      <td>Higher</td>\n",
       "      <td>Richest</td>\n",
       "      <td>1</td>\n",
       "      <td>26</td>\n",
       "      <td>NaN</td>\n",
       "      <td>NaN</td>\n",
       "      <td>No</td>\n",
       "      <td>No</td>\n",
       "      <td>Married</td>\n",
       "      <td>Living with her</td>\n",
       "      <td>Immediately</td>\n",
       "      <td>No</td>\n",
       "      <td>NaN</td>\n",
       "      <td>NaN</td>\n",
       "      <td>No</td>\n",
       "    </tr>\n",
       "    <tr>\n",
       "      <th>3</th>\n",
       "      <td>25-29</td>\n",
       "      <td>Urban</td>\n",
       "      <td>Secondary</td>\n",
       "      <td>Richest</td>\n",
       "      <td>1</td>\n",
       "      <td>25</td>\n",
       "      <td>95.0</td>\n",
       "      <td>Moderate</td>\n",
       "      <td>Yes</td>\n",
       "      <td>No</td>\n",
       "      <td>Married</td>\n",
       "      <td>Living with her</td>\n",
       "      <td>105</td>\n",
       "      <td>No</td>\n",
       "      <td>114.0</td>\n",
       "      <td>Not anemic</td>\n",
       "      <td>No</td>\n",
       "    </tr>\n",
       "    <tr>\n",
       "      <th>4</th>\n",
       "      <td>20-24</td>\n",
       "      <td>Urban</td>\n",
       "      <td>Secondary</td>\n",
       "      <td>Richest</td>\n",
       "      <td>1</td>\n",
       "      <td>21</td>\n",
       "      <td>NaN</td>\n",
       "      <td>NaN</td>\n",
       "      <td>Yes</td>\n",
       "      <td>No</td>\n",
       "      <td>No longer living together/separated</td>\n",
       "      <td>NaN</td>\n",
       "      <td>Immediately</td>\n",
       "      <td>No</td>\n",
       "      <td>NaN</td>\n",
       "      <td>NaN</td>\n",
       "      <td>No</td>\n",
       "    </tr>\n",
       "  </tbody>\n",
       "</table>\n",
       "</div>"
      ],
      "text/plain": [
       "  Age in 5-year groups Type of place of residence Highest educational level  \\\n",
       "0                40-44                      Urban                    Higher   \n",
       "1                35-39                      Urban                    Higher   \n",
       "2                25-29                      Urban                    Higher   \n",
       "3                25-29                      Urban                 Secondary   \n",
       "4                20-24                      Urban                 Secondary   \n",
       "\n",
       "  Wealth index combined  Births in last five years  \\\n",
       "0               Richest                          1   \n",
       "1               Richest                          1   \n",
       "2               Richest                          1   \n",
       "3               Richest                          1   \n",
       "4               Richest                          1   \n",
       "\n",
       "   Age of respondent at 1st birth  \\\n",
       "0                              22   \n",
       "1                              28   \n",
       "2                              26   \n",
       "3                              25   \n",
       "4                              21   \n",
       "\n",
       "   Hemoglobin level adjusted for altitude and smoking (g/dl - 1 decimal)  \\\n",
       "0                                                NaN                       \n",
       "1                                                NaN                       \n",
       "2                                                NaN                       \n",
       "3                                               95.0                       \n",
       "4                                                NaN                       \n",
       "\n",
       "  Anemia level  \\\n",
       "0          NaN   \n",
       "1          NaN   \n",
       "2          NaN   \n",
       "3     Moderate   \n",
       "4          NaN   \n",
       "\n",
       "  Have mosquito bed net for sleeping (from household questionnaire)  \\\n",
       "0                                                Yes                  \n",
       "1                                                Yes                  \n",
       "2                                                 No                  \n",
       "3                                                Yes                  \n",
       "4                                                Yes                  \n",
       "\n",
       "  Smokes cigarettes               Current marital status  \\\n",
       "0                No                  Living with partner   \n",
       "1                No                              Married   \n",
       "2                No                              Married   \n",
       "3                No                              Married   \n",
       "4                No  No longer living together/separated   \n",
       "\n",
       "  Currently residing with husband/partner When child put to breast  \\\n",
       "0                       Staying elsewhere              Immediately   \n",
       "1                         Living with her                 Hours: 1   \n",
       "2                         Living with her              Immediately   \n",
       "3                         Living with her                      105   \n",
       "4                                     NaN              Immediately   \n",
       "\n",
       "  Had fever in last two weeks  \\\n",
       "0                          No   \n",
       "1                          No   \n",
       "2                          No   \n",
       "3                          No   \n",
       "4                          No   \n",
       "\n",
       "   Hemoglobin level adjusted for altitude (g/dl - 1 decimal) Anemia level.1  \\\n",
       "0                                                NaN                    NaN   \n",
       "1                                                NaN                    NaN   \n",
       "2                                                NaN                    NaN   \n",
       "3                                              114.0             Not anemic   \n",
       "4                                                NaN                    NaN   \n",
       "\n",
       "  Taking iron pills, sprinkles or syrup  \n",
       "0                                   Yes  \n",
       "1                                    No  \n",
       "2                                    No  \n",
       "3                                    No  \n",
       "4                                    No  "
      ]
     },
     "execution_count": 7,
     "metadata": {},
     "output_type": "execute_result"
    }
   ],
   "source": [
    "# viewing the first few rows of the dataset\n",
    "df.head()"
   ]
  },
  {
   "cell_type": "code",
   "execution_count": 9,
   "metadata": {},
   "outputs": [
    {
     "name": "stdout",
     "output_type": "stream",
     "text": [
      "The dataset has:\n",
      " 33924 number of rows and \n",
      " 17 number of columns\n"
     ]
    }
   ],
   "source": [
    "# checking for the number of rows and colmns of the dataset\n",
    "\n",
    "rows, columns = df.shape\n",
    "\n",
    "print(f'The dataset has:\\n {rows} number of rows and \\n {columns} number of columns')"
   ]
  },
  {
   "cell_type": "code",
   "execution_count": 10,
   "metadata": {},
   "outputs": [
    {
     "name": "stdout",
     "output_type": "stream",
     "text": [
      "<class 'pandas.core.frame.DataFrame'>\n",
      "RangeIndex: 33924 entries, 0 to 33923\n",
      "Data columns (total 17 columns):\n",
      " #   Column                                                                 Non-Null Count  Dtype  \n",
      "---  ------                                                                 --------------  -----  \n",
      " 0   Age in 5-year groups                                                   33924 non-null  object \n",
      " 1   Type of place of residence                                             33924 non-null  object \n",
      " 2   Highest educational level                                              33924 non-null  object \n",
      " 3   Wealth index combined                                                  33924 non-null  object \n",
      " 4   Births in last five years                                              33924 non-null  int64  \n",
      " 5   Age of respondent at 1st birth                                         33924 non-null  int64  \n",
      " 6   Hemoglobin level adjusted for altitude and smoking (g/dl - 1 decimal)  13136 non-null  float64\n",
      " 7   Anemia level                                                           13136 non-null  object \n",
      " 8   Have mosquito bed net for sleeping (from household questionnaire)      33924 non-null  object \n",
      " 9   Smokes cigarettes                                                      33924 non-null  object \n",
      " 10  Current marital status                                                 33924 non-null  object \n",
      " 11  Currently residing with husband/partner                                32226 non-null  object \n",
      " 12  When child put to breast                                               21168 non-null  object \n",
      " 13  Had fever in last two weeks                                            30713 non-null  object \n",
      " 14  Hemoglobin level adjusted for altitude (g/dl - 1 decimal)              10182 non-null  float64\n",
      " 15  Anemia level.1                                                         10182 non-null  object \n",
      " 16  Taking iron pills, sprinkles or syrup                                  30713 non-null  object \n",
      "dtypes: float64(2), int64(2), object(13)\n",
      "memory usage: 4.4+ MB\n"
     ]
    }
   ],
   "source": [
    "#Getting an overview of the structure of the dataset\n",
    "df.info()"
   ]
  },
  {
   "cell_type": "code",
   "execution_count": 13,
   "metadata": {},
   "outputs": [
    {
     "data": {
      "text/plain": [
       "object     13\n",
       "float64     2\n",
       "int64       2\n",
       "dtype: int64"
      ]
     },
     "execution_count": 13,
     "metadata": {},
     "output_type": "execute_result"
    }
   ],
   "source": [
    "#Determining the number of datatypes in our dataset\n",
    "df.dtypes.value_counts()"
   ]
  },
  {
   "cell_type": "code",
   "execution_count": null,
   "metadata": {},
   "outputs": [
    {
     "data": {
      "text/html": [
       "<div>\n",
       "<style scoped>\n",
       "    .dataframe tbody tr th:only-of-type {\n",
       "        vertical-align: middle;\n",
       "    }\n",
       "\n",
       "    .dataframe tbody tr th {\n",
       "        vertical-align: top;\n",
       "    }\n",
       "\n",
       "    .dataframe thead th {\n",
       "        text-align: right;\n",
       "    }\n",
       "</style>\n",
       "<table border=\"1\" class=\"dataframe\">\n",
       "  <thead>\n",
       "    <tr style=\"text-align: right;\">\n",
       "      <th></th>\n",
       "      <th>Births in last five years</th>\n",
       "      <th>Age of respondent at 1st birth</th>\n",
       "      <th>Hemoglobin level adjusted for altitude and smoking (g/dl - 1 decimal)</th>\n",
       "      <th>Hemoglobin level adjusted for altitude (g/dl - 1 decimal)</th>\n",
       "    </tr>\n",
       "  </thead>\n",
       "  <tbody>\n",
       "    <tr>\n",
       "      <th>count</th>\n",
       "      <td>33924.000000</td>\n",
       "      <td>33924.000000</td>\n",
       "      <td>13136.000000</td>\n",
       "      <td>10182.000000</td>\n",
       "    </tr>\n",
       "    <tr>\n",
       "      <th>mean</th>\n",
       "      <td>1.823783</td>\n",
       "      <td>19.570776</td>\n",
       "      <td>114.367235</td>\n",
       "      <td>101.270183</td>\n",
       "    </tr>\n",
       "    <tr>\n",
       "      <th>std</th>\n",
       "      <td>0.705460</td>\n",
       "      <td>4.313172</td>\n",
       "      <td>15.915408</td>\n",
       "      <td>15.569583</td>\n",
       "    </tr>\n",
       "    <tr>\n",
       "      <th>min</th>\n",
       "      <td>1.000000</td>\n",
       "      <td>12.000000</td>\n",
       "      <td>20.000000</td>\n",
       "      <td>29.000000</td>\n",
       "    </tr>\n",
       "    <tr>\n",
       "      <th>25%</th>\n",
       "      <td>1.000000</td>\n",
       "      <td>16.000000</td>\n",
       "      <td>105.000000</td>\n",
       "      <td>92.000000</td>\n",
       "    </tr>\n",
       "    <tr>\n",
       "      <th>50%</th>\n",
       "      <td>2.000000</td>\n",
       "      <td>19.000000</td>\n",
       "      <td>115.000000</td>\n",
       "      <td>103.000000</td>\n",
       "    </tr>\n",
       "    <tr>\n",
       "      <th>75%</th>\n",
       "      <td>2.000000</td>\n",
       "      <td>22.000000</td>\n",
       "      <td>125.000000</td>\n",
       "      <td>112.000000</td>\n",
       "    </tr>\n",
       "    <tr>\n",
       "      <th>max</th>\n",
       "      <td>6.000000</td>\n",
       "      <td>48.000000</td>\n",
       "      <td>218.000000</td>\n",
       "      <td>170.000000</td>\n",
       "    </tr>\n",
       "  </tbody>\n",
       "</table>\n",
       "</div>"
      ],
      "text/plain": [
       "       Births in last five years  Age of respondent at 1st birth  \\\n",
       "count               33924.000000                    33924.000000   \n",
       "mean                    1.823783                       19.570776   \n",
       "std                     0.705460                        4.313172   \n",
       "min                     1.000000                       12.000000   \n",
       "25%                     1.000000                       16.000000   \n",
       "50%                     2.000000                       19.000000   \n",
       "75%                     2.000000                       22.000000   \n",
       "max                     6.000000                       48.000000   \n",
       "\n",
       "       Hemoglobin level adjusted for altitude and smoking (g/dl - 1 decimal)  \\\n",
       "count                                       13136.000000                       \n",
       "mean                                          114.367235                       \n",
       "std                                            15.915408                       \n",
       "min                                            20.000000                       \n",
       "25%                                           105.000000                       \n",
       "50%                                           115.000000                       \n",
       "75%                                           125.000000                       \n",
       "max                                           218.000000                       \n",
       "\n",
       "       Hemoglobin level adjusted for altitude (g/dl - 1 decimal)  \n",
       "count                                       10182.000000          \n",
       "mean                                          101.270183          \n",
       "std                                            15.569583          \n",
       "min                                            29.000000          \n",
       "25%                                            92.000000          \n",
       "50%                                           103.000000          \n",
       "75%                                           112.000000          \n",
       "max                                           170.000000          "
      ]
     },
     "execution_count": 11,
     "metadata": {},
     "output_type": "execute_result"
    }
   ],
   "source": [
    "# Generates descriptive statistics of the numeric colums\n",
    "\n",
    "df.describe() "
   ]
  },
  {
   "cell_type": "markdown",
   "metadata": {},
   "source": [
    "### Observations obtained"
   ]
  },
  {
   "cell_type": "markdown",
   "metadata": {},
   "source": [
    "- Upon examining the initial rows of the dataset, it becomes evident that several columns contain missing values, necessitating appropriate imputation methods during the data cleaning process.\n",
    "\n",
    "- The dataset comprises 33,924 rows and 17 columns, providing a substantial foundation for analysis.\n",
    "\n",
    "- The data types within the dataset include a mix of objects, int64, and float64, indicating a variety of categorical and numerical data. This diversity allows for different analytical approaches tailored to each data type.\n",
    "\n",
    "- The statistical summary using the describe()method, reveals that the average age at first birth among respondents is relatively young, accompanied by a moderate mean number of births in the last five years. Notably, the hemoglobin levels indicate varying degrees of anemia across the population, with significant variability in both adjusted and unadjusted values. This underscores the importance of further investigation into the socioeconomic and health-related factors that contribute to these health outcomes.\n",
    "\n"
   ]
  },
  {
   "cell_type": "markdown",
   "metadata": {},
   "source": [
    "## 2.3 Data Dictonary"
   ]
  },
  {
   "cell_type": "code",
   "execution_count": null,
   "metadata": {},
   "outputs": [],
   "source": []
  },
  {
   "cell_type": "code",
   "execution_count": null,
   "metadata": {},
   "outputs": [],
   "source": []
  },
  {
   "cell_type": "markdown",
   "metadata": {},
   "source": [
    "# 3 DATA CLEANING AND PREPARATION"
   ]
  }
 ],
 "metadata": {
  "kernelspec": {
   "display_name": "Python (learn-env)",
   "language": "python",
   "name": "learn-env"
  },
  "language_info": {
   "codemirror_mode": {
    "name": "ipython",
    "version": 3
   },
   "file_extension": ".py",
   "mimetype": "text/x-python",
   "name": "python",
   "nbconvert_exporter": "python",
   "pygments_lexer": "ipython3",
   "version": "3.8.5"
  }
 },
 "nbformat": 4,
 "nbformat_minor": 2
}
