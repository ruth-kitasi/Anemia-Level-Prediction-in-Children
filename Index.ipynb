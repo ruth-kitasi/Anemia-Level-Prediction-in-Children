{
 "cells": [
  {
   "cell_type": "markdown",
   "metadata": {},
   "source": [
    "# ANEMIA LEVEL PREDICTION IN CHILDREN"
   ]
  },
  {
   "cell_type": "markdown",
   "metadata": {
    "vscode": {
     "languageId": "plaintext"
    }
   },
   "source": [
    "<!-- # COLLABORATORS:\n",
    "\n",
    "- 1.Ruth Kitasi\n",
    "- 2.Agatha Nyambati\n",
    "- 3.Joseline Apiyo\n",
    "- 4.Cecilia Ngunjiri\n",
    "- 5.John Mbego\n",
    "- 6.Leonard Koyio -->\n"
   ]
  },
  {
   "cell_type": "markdown",
   "metadata": {},
   "source": [
    "# MODEL APPROACH : CRISP-DM"
   ]
  },
  {
   "cell_type": "markdown",
   "metadata": {},
   "source": [
    "# TABLE OF CONTENT"
   ]
  },
  {
   "cell_type": "markdown",
   "metadata": {},
   "source": [
    "it will be placed here"
   ]
  },
  {
   "cell_type": "markdown",
   "metadata": {},
   "source": [
    "<!-- from IPython.display import display, HTML -->\n",
    "\n",
    "<img src=\"anemic_child.jpg\" width=\"800\">\n"
   ]
  },
  {
   "cell_type": "markdown",
   "metadata": {},
   "source": [
    "# 1.0 BUSINESS UNDERSTANDING"
   ]
  },
  {
   "cell_type": "markdown",
   "metadata": {},
   "source": [
    "## 1.1 Introduction"
   ]
  },
  {
   "cell_type": "markdown",
   "metadata": {},
   "source": [
    "Anemia is a major public health concern globally, and its effects are especially pronounced among children under five, where it poses risks to growth, cognitive development, and immune health.\n",
    "Defined as a condition characterized by lower-than-normal hemoglobin (Hb) levels, anemia limits oxygen transport in the blood, which can lead to significant health complications.The World Health Organization estimates that 42% of children worldwide in this age group are anemic, predominantly due to iron deficiency, poor diet, and infections. Anemia in young children can lead to developmental delays, weakened immunity, and long-term health issues if left untreated. Socioeconomic factors, including access to quality food and healthcare, play a significant role in these high rates, with the most severe impacts observed in low- and middle-income countries.\n",
    "\n",
    "The African continent bears a disproportionate burden of anemia among children, with an estimated 60-80% prevalence in children under five. Causes include malnutrition, high prevalence of infectious diseases (like malaria and hookworm), and poor maternal health. Socioeconomic factors such as poverty, lack of healthcare, and limited access to nutritious food exacerbate the condition. Sub-Saharan Africa, in particular, faces a high prevalence due to ongoing challenges with food security, healthcare infrastructure, and education around health practices.\n",
    "\n",
    " Nigeria represents one of the highest anemia burdens in Africa, with an estimated 68% of children under five affected. Factors contributing to anemia in Nigerian children include limited access to nutritious foods, recurrent infections, and inadequate healthcare, especially in rural and low-income areas. Socioeconomic determinants, such as low household income, education levels, and lack of access to clean water, also contribute to anemia's prevalence among Nigerian children, impacting their physical and cognitive development. Addressing anemia in Nigeria is essential, given its long-term effects on individual health and its broader implications for national development."
   ]
  },
  {
   "cell_type": "markdown",
   "metadata": {},
   "source": [
    "## 1.2 Problem Statement"
   ]
  },
  {
   "cell_type": "markdown",
   "metadata": {},
   "source": [
    "\n",
    "Childhood anemia is a critical public health issue,  ([World Health Organisation](https://www.who.int/data/gho/data/indicators/indicator-details/GHO/prevalence-of-anaemia-in-children-under-5-years-(-))), leading to adverse impacts on cognitive and physical development, educational attainment, and overall quality of life. Despite its prevalence, anemia in Nigerian children often goes undiagnosed and untreated due to limited healthcare access, high diagnostic costs, and a lack of awareness about the condition([UNICEF, 2021](https://www.unicef.org/nigeria/reports/childhood-anemia-report)). This situation calls for innovative, accessible approaches to early diagnosis and intervention to reduce the burden of anemia and improve the health outcomes of vulnerable children across Nigeria.This project seeks to address this gap by developing a classification model to predict the severity of anemia in Nigerian children up to 59 months old. The model will analyze key socioeconomic indicators to determine which factors most significantly contribute to the risk and severity of anemia in this vulnerable population.By identifying these primary contributors, the model aims to empower healthcare professionals, public health organizations, and policymakers with actionable insights. The ultimate goal is to enable more targeted and effective interventions that address  the socioeconomic roots of anemia."
   ]
  },
  {
   "cell_type": "markdown",
   "metadata": {},
   "source": [
    "## 1.3 Hypothesis."
   ]
  },
  {
   "cell_type": "markdown",
   "metadata": {},
   "source": [
    "-  Inadequate access to healthcare facilities is associated with higher levels of anemia among children living in rural areas of Nigeria.\n",
    "\n",
    "- Children exposed to secondhand smoke may experience detrimental health effects, including respiratory problems and compromised nutritional absorption.\n",
    "\n",
    "- The level of education and health awareness among parents is inversely related to the prevalence of anemia in their children,"
   ]
  },
  {
   "cell_type": "markdown",
   "metadata": {},
   "source": [
    "## 1.4 Objectives"
   ]
  },
  {
   "cell_type": "markdown",
   "metadata": {},
   "source": [
    "1. `Develop a classification model for Anemia severity in children`:Creating a predictive model that classifies the severity of anemia in children under 56 months in Nigeria, distinguishing between mild, moderate, and severe cases. This model will be designed to handle various input factors, primarily socioeconomic variables, to enhance its practical application in identifying at-risk populations.\n",
    "\n",
    "2. `Identify key socioeconomic determinants influencing Anemia severity`:Conduct in-depth analysis to pinpoint the specific socioeconomic factors that have the most significant impact on anemia severity among young Nigerian children. \n",
    "\n",
    "3. `Evaluate the model’s predictive accuracy for effective Public Health Use`:Assess the model’s predictive performance using appropriate metrics to ensure high accuracy and reliability to provide a robust tool that healthcare professionals can rely on to anticipate anemia cases and determine the required intervention level.\n",
    "\n",
    "4. `Classify and Monitor Anemia Severity Level`:susing the model to classify anemia cases into severity levels (mild, moderate, severe) based on hemoglobin levels. By tracking these severity levels, the project aims to provide insights that can guide resource prioritization and enable healthcare providers to tailor interventions according to the specific needs of each severity group.\n",
    "\n",
    "5. `Provide Actionable Insights for Targeted Interventions`:Utilize the model’s findings to produce actionable insights that healthcare organizations and policymakers can leverage to develop targeted anemia prevention and treatment programs. \n",
    "\n",
    "6. `Support Long-Term Policy Development for Anemia Reduction`:Contribute to long-term health planning by providing data-backed recommendations for policy measures addressing the socioeconomic root causes of anemia."
   ]
  },
  {
   "cell_type": "markdown",
   "metadata": {},
   "source": [
    "# 2.0 DATA UNDERSTANDING"
   ]
  },
  {
   "cell_type": "markdown",
   "metadata": {},
   "source": [
    "Data understanding is a critical step in the data analysis process, providing a structured approach to ensure that the data utilized is not only relevant and reliable but also thoroughly comprehended. This foundational phase is essential for making informed decisions during subsequent stages of analysis and modeling.\n",
    "Key areas of focus will include:-\n",
    "\n",
    " - `Exploring the source of the data`to dentify where the data comes from. Understanding the source helps assess potential biases and the context in which the data was gathered.\n",
    "\n",
    " - `Loading and inspecting the dataset`using functions to view the first few rows, generate overview of data types, null values, data distribution, central tendencies, and variability, which are crucial for understanding the dataset's overall characteristics.\n",
    "\n",
    " - `Clearly define each column` in the dataset to understand what each variable represents.\n",
    "\n",
    " - Giving `observations` obtained from data inspection\n",
    "\n",
    " - Listing possible `limitations of the dataset`"
   ]
  },
  {
   "cell_type": "markdown",
   "metadata": {},
   "source": [
    "## 2.1 Data Source Exploration"
   ]
  },
  {
   "cell_type": "markdown",
   "metadata": {},
   "source": [
    "The data is obtained from the  2018 Nigeria Demographic and Health Surveys. The Nigeria Demogrphic and Health survey  is a comprehensive survey designed to provide essential data on the health and demographic status of Nigeria's population.The NDHS aims to inform policymakers and health planners by offering up-to-date and reliable data that reflects the country's demographic trends and health conditions.\n",
    "\n",
    "Surveys were collected to answer research questions about the effect of mothers' age and other socioeconomic factors on children aged 0-59 months anemia level in Nigeria.39% of chilren whose parents filled the survey were tested for Anemia level, a potion which we will explore to built our classification model. The targeted population in this study are children aged 0-59 months and mothers aged 15-49 years.\n"
   ]
  },
  {
   "cell_type": "markdown",
   "metadata": {},
   "source": [
    "## 2.2 Loading and Inspecting dataset"
   ]
  },
  {
   "cell_type": "code",
   "execution_count": 383,
   "metadata": {},
   "outputs": [],
   "source": [
    "# Import necessary libraries\n",
    "\n",
    "#We choose to import libraries only when they are needed to track their usage and keep the code organized.\n",
    "\n",
    "import pandas as pd\n",
    "import numpy as np"
   ]
  },
  {
   "cell_type": "code",
   "execution_count": 384,
   "metadata": {},
   "outputs": [],
   "source": [
    "# loading th  dataset\n",
    "df=pd.read_csv('anemia_dataset.csv')"
   ]
  },
  {
   "cell_type": "code",
   "execution_count": 385,
   "metadata": {},
   "outputs": [
    {
     "data": {
      "text/html": [
       "<div>\n",
       "<style scoped>\n",
       "    .dataframe tbody tr th:only-of-type {\n",
       "        vertical-align: middle;\n",
       "    }\n",
       "\n",
       "    .dataframe tbody tr th {\n",
       "        vertical-align: top;\n",
       "    }\n",
       "\n",
       "    .dataframe thead th {\n",
       "        text-align: right;\n",
       "    }\n",
       "</style>\n",
       "<table border=\"1\" class=\"dataframe\">\n",
       "  <thead>\n",
       "    <tr style=\"text-align: right;\">\n",
       "      <th></th>\n",
       "      <th>Age in 5-year groups</th>\n",
       "      <th>Type of place of residence</th>\n",
       "      <th>Highest educational level</th>\n",
       "      <th>Wealth index combined</th>\n",
       "      <th>Births in last five years</th>\n",
       "      <th>Age of respondent at 1st birth</th>\n",
       "      <th>Hemoglobin level adjusted for altitude and smoking (g/dl - 1 decimal)</th>\n",
       "      <th>Anemia level</th>\n",
       "      <th>Have mosquito bed net for sleeping (from household questionnaire)</th>\n",
       "      <th>Smokes cigarettes</th>\n",
       "      <th>Current marital status</th>\n",
       "      <th>Currently residing with husband/partner</th>\n",
       "      <th>When child put to breast</th>\n",
       "      <th>Had fever in last two weeks</th>\n",
       "      <th>Hemoglobin level adjusted for altitude (g/dl - 1 decimal)</th>\n",
       "      <th>Anemia level.1</th>\n",
       "      <th>Taking iron pills, sprinkles or syrup</th>\n",
       "    </tr>\n",
       "  </thead>\n",
       "  <tbody>\n",
       "    <tr>\n",
       "      <th>0</th>\n",
       "      <td>40-44</td>\n",
       "      <td>Urban</td>\n",
       "      <td>Higher</td>\n",
       "      <td>Richest</td>\n",
       "      <td>1</td>\n",
       "      <td>22</td>\n",
       "      <td>NaN</td>\n",
       "      <td>NaN</td>\n",
       "      <td>Yes</td>\n",
       "      <td>No</td>\n",
       "      <td>Living with partner</td>\n",
       "      <td>Staying elsewhere</td>\n",
       "      <td>Immediately</td>\n",
       "      <td>No</td>\n",
       "      <td>NaN</td>\n",
       "      <td>NaN</td>\n",
       "      <td>Yes</td>\n",
       "    </tr>\n",
       "    <tr>\n",
       "      <th>1</th>\n",
       "      <td>35-39</td>\n",
       "      <td>Urban</td>\n",
       "      <td>Higher</td>\n",
       "      <td>Richest</td>\n",
       "      <td>1</td>\n",
       "      <td>28</td>\n",
       "      <td>NaN</td>\n",
       "      <td>NaN</td>\n",
       "      <td>Yes</td>\n",
       "      <td>No</td>\n",
       "      <td>Married</td>\n",
       "      <td>Living with her</td>\n",
       "      <td>Hours: 1</td>\n",
       "      <td>No</td>\n",
       "      <td>NaN</td>\n",
       "      <td>NaN</td>\n",
       "      <td>No</td>\n",
       "    </tr>\n",
       "    <tr>\n",
       "      <th>2</th>\n",
       "      <td>25-29</td>\n",
       "      <td>Urban</td>\n",
       "      <td>Higher</td>\n",
       "      <td>Richest</td>\n",
       "      <td>1</td>\n",
       "      <td>26</td>\n",
       "      <td>NaN</td>\n",
       "      <td>NaN</td>\n",
       "      <td>No</td>\n",
       "      <td>No</td>\n",
       "      <td>Married</td>\n",
       "      <td>Living with her</td>\n",
       "      <td>Immediately</td>\n",
       "      <td>No</td>\n",
       "      <td>NaN</td>\n",
       "      <td>NaN</td>\n",
       "      <td>No</td>\n",
       "    </tr>\n",
       "    <tr>\n",
       "      <th>3</th>\n",
       "      <td>25-29</td>\n",
       "      <td>Urban</td>\n",
       "      <td>Secondary</td>\n",
       "      <td>Richest</td>\n",
       "      <td>1</td>\n",
       "      <td>25</td>\n",
       "      <td>95.0</td>\n",
       "      <td>Moderate</td>\n",
       "      <td>Yes</td>\n",
       "      <td>No</td>\n",
       "      <td>Married</td>\n",
       "      <td>Living with her</td>\n",
       "      <td>105</td>\n",
       "      <td>No</td>\n",
       "      <td>114.0</td>\n",
       "      <td>Not anemic</td>\n",
       "      <td>No</td>\n",
       "    </tr>\n",
       "    <tr>\n",
       "      <th>4</th>\n",
       "      <td>20-24</td>\n",
       "      <td>Urban</td>\n",
       "      <td>Secondary</td>\n",
       "      <td>Richest</td>\n",
       "      <td>1</td>\n",
       "      <td>21</td>\n",
       "      <td>NaN</td>\n",
       "      <td>NaN</td>\n",
       "      <td>Yes</td>\n",
       "      <td>No</td>\n",
       "      <td>No longer living together/separated</td>\n",
       "      <td>NaN</td>\n",
       "      <td>Immediately</td>\n",
       "      <td>No</td>\n",
       "      <td>NaN</td>\n",
       "      <td>NaN</td>\n",
       "      <td>No</td>\n",
       "    </tr>\n",
       "  </tbody>\n",
       "</table>\n",
       "</div>"
      ],
      "text/plain": [
       "  Age in 5-year groups Type of place of residence Highest educational level  \\\n",
       "0                40-44                      Urban                    Higher   \n",
       "1                35-39                      Urban                    Higher   \n",
       "2                25-29                      Urban                    Higher   \n",
       "3                25-29                      Urban                 Secondary   \n",
       "4                20-24                      Urban                 Secondary   \n",
       "\n",
       "  Wealth index combined  Births in last five years  \\\n",
       "0               Richest                          1   \n",
       "1               Richest                          1   \n",
       "2               Richest                          1   \n",
       "3               Richest                          1   \n",
       "4               Richest                          1   \n",
       "\n",
       "   Age of respondent at 1st birth  \\\n",
       "0                              22   \n",
       "1                              28   \n",
       "2                              26   \n",
       "3                              25   \n",
       "4                              21   \n",
       "\n",
       "   Hemoglobin level adjusted for altitude and smoking (g/dl - 1 decimal)  \\\n",
       "0                                                NaN                       \n",
       "1                                                NaN                       \n",
       "2                                                NaN                       \n",
       "3                                               95.0                       \n",
       "4                                                NaN                       \n",
       "\n",
       "  Anemia level  \\\n",
       "0          NaN   \n",
       "1          NaN   \n",
       "2          NaN   \n",
       "3     Moderate   \n",
       "4          NaN   \n",
       "\n",
       "  Have mosquito bed net for sleeping (from household questionnaire)  \\\n",
       "0                                                Yes                  \n",
       "1                                                Yes                  \n",
       "2                                                 No                  \n",
       "3                                                Yes                  \n",
       "4                                                Yes                  \n",
       "\n",
       "  Smokes cigarettes               Current marital status  \\\n",
       "0                No                  Living with partner   \n",
       "1                No                              Married   \n",
       "2                No                              Married   \n",
       "3                No                              Married   \n",
       "4                No  No longer living together/separated   \n",
       "\n",
       "  Currently residing with husband/partner When child put to breast  \\\n",
       "0                       Staying elsewhere              Immediately   \n",
       "1                         Living with her                 Hours: 1   \n",
       "2                         Living with her              Immediately   \n",
       "3                         Living with her                      105   \n",
       "4                                     NaN              Immediately   \n",
       "\n",
       "  Had fever in last two weeks  \\\n",
       "0                          No   \n",
       "1                          No   \n",
       "2                          No   \n",
       "3                          No   \n",
       "4                          No   \n",
       "\n",
       "   Hemoglobin level adjusted for altitude (g/dl - 1 decimal) Anemia level.1  \\\n",
       "0                                                NaN                    NaN   \n",
       "1                                                NaN                    NaN   \n",
       "2                                                NaN                    NaN   \n",
       "3                                              114.0             Not anemic   \n",
       "4                                                NaN                    NaN   \n",
       "\n",
       "  Taking iron pills, sprinkles or syrup  \n",
       "0                                   Yes  \n",
       "1                                    No  \n",
       "2                                    No  \n",
       "3                                    No  \n",
       "4                                    No  "
      ]
     },
     "execution_count": 385,
     "metadata": {},
     "output_type": "execute_result"
    }
   ],
   "source": [
    "# viewing the first few rows of the dataset\n",
    "df.head()"
   ]
  },
  {
   "cell_type": "code",
   "execution_count": 386,
   "metadata": {},
   "outputs": [
    {
     "name": "stdout",
     "output_type": "stream",
     "text": [
      "The dataset has:\n",
      " 33924 number of rows and \n",
      " 17 number of columns\n"
     ]
    }
   ],
   "source": [
    "# checking for the number of rows and columns of the dataset\n",
    "\n",
    "rows, columns = df.shape\n",
    "\n",
    "print(f'The dataset has:\\n {rows} number of rows and \\n {columns} number of columns')"
   ]
  },
  {
   "cell_type": "code",
   "execution_count": 387,
   "metadata": {},
   "outputs": [
    {
     "name": "stdout",
     "output_type": "stream",
     "text": [
      "<class 'pandas.core.frame.DataFrame'>\n",
      "RangeIndex: 33924 entries, 0 to 33923\n",
      "Data columns (total 17 columns):\n",
      " #   Column                                                                 Non-Null Count  Dtype  \n",
      "---  ------                                                                 --------------  -----  \n",
      " 0   Age in 5-year groups                                                   33924 non-null  object \n",
      " 1   Type of place of residence                                             33924 non-null  object \n",
      " 2   Highest educational level                                              33924 non-null  object \n",
      " 3   Wealth index combined                                                  33924 non-null  object \n",
      " 4   Births in last five years                                              33924 non-null  int64  \n",
      " 5   Age of respondent at 1st birth                                         33924 non-null  int64  \n",
      " 6   Hemoglobin level adjusted for altitude and smoking (g/dl - 1 decimal)  13136 non-null  float64\n",
      " 7   Anemia level                                                           13136 non-null  object \n",
      " 8   Have mosquito bed net for sleeping (from household questionnaire)      33924 non-null  object \n",
      " 9   Smokes cigarettes                                                      33924 non-null  object \n",
      " 10  Current marital status                                                 33924 non-null  object \n",
      " 11  Currently residing with husband/partner                                32226 non-null  object \n",
      " 12  When child put to breast                                               21168 non-null  object \n",
      " 13  Had fever in last two weeks                                            30713 non-null  object \n",
      " 14  Hemoglobin level adjusted for altitude (g/dl - 1 decimal)              10182 non-null  float64\n",
      " 15  Anemia level.1                                                         10182 non-null  object \n",
      " 16  Taking iron pills, sprinkles or syrup                                  30713 non-null  object \n",
      "dtypes: float64(2), int64(2), object(13)\n",
      "memory usage: 4.4+ MB\n"
     ]
    }
   ],
   "source": [
    "#Generating an overview of the structure of the dataset\n",
    "\n",
    "df.info()"
   ]
  },
  {
   "cell_type": "code",
   "execution_count": 388,
   "metadata": {},
   "outputs": [
    {
     "data": {
      "text/plain": [
       "object     13\n",
       "float64     2\n",
       "int64       2\n",
       "dtype: int64"
      ]
     },
     "execution_count": 388,
     "metadata": {},
     "output_type": "execute_result"
    }
   ],
   "source": [
    "#Determining the number of datatypes in our dataset\n",
    "\n",
    "df.dtypes.value_counts()"
   ]
  },
  {
   "cell_type": "code",
   "execution_count": 389,
   "metadata": {},
   "outputs": [
    {
     "data": {
      "text/html": [
       "<div>\n",
       "<style scoped>\n",
       "    .dataframe tbody tr th:only-of-type {\n",
       "        vertical-align: middle;\n",
       "    }\n",
       "\n",
       "    .dataframe tbody tr th {\n",
       "        vertical-align: top;\n",
       "    }\n",
       "\n",
       "    .dataframe thead th {\n",
       "        text-align: right;\n",
       "    }\n",
       "</style>\n",
       "<table border=\"1\" class=\"dataframe\">\n",
       "  <thead>\n",
       "    <tr style=\"text-align: right;\">\n",
       "      <th></th>\n",
       "      <th>Births in last five years</th>\n",
       "      <th>Age of respondent at 1st birth</th>\n",
       "      <th>Hemoglobin level adjusted for altitude and smoking (g/dl - 1 decimal)</th>\n",
       "      <th>Hemoglobin level adjusted for altitude (g/dl - 1 decimal)</th>\n",
       "    </tr>\n",
       "  </thead>\n",
       "  <tbody>\n",
       "    <tr>\n",
       "      <th>count</th>\n",
       "      <td>33924.000000</td>\n",
       "      <td>33924.000000</td>\n",
       "      <td>13136.000000</td>\n",
       "      <td>10182.000000</td>\n",
       "    </tr>\n",
       "    <tr>\n",
       "      <th>mean</th>\n",
       "      <td>1.823783</td>\n",
       "      <td>19.570776</td>\n",
       "      <td>114.367235</td>\n",
       "      <td>101.270183</td>\n",
       "    </tr>\n",
       "    <tr>\n",
       "      <th>std</th>\n",
       "      <td>0.705460</td>\n",
       "      <td>4.313172</td>\n",
       "      <td>15.915408</td>\n",
       "      <td>15.569583</td>\n",
       "    </tr>\n",
       "    <tr>\n",
       "      <th>min</th>\n",
       "      <td>1.000000</td>\n",
       "      <td>12.000000</td>\n",
       "      <td>20.000000</td>\n",
       "      <td>29.000000</td>\n",
       "    </tr>\n",
       "    <tr>\n",
       "      <th>25%</th>\n",
       "      <td>1.000000</td>\n",
       "      <td>16.000000</td>\n",
       "      <td>105.000000</td>\n",
       "      <td>92.000000</td>\n",
       "    </tr>\n",
       "    <tr>\n",
       "      <th>50%</th>\n",
       "      <td>2.000000</td>\n",
       "      <td>19.000000</td>\n",
       "      <td>115.000000</td>\n",
       "      <td>103.000000</td>\n",
       "    </tr>\n",
       "    <tr>\n",
       "      <th>75%</th>\n",
       "      <td>2.000000</td>\n",
       "      <td>22.000000</td>\n",
       "      <td>125.000000</td>\n",
       "      <td>112.000000</td>\n",
       "    </tr>\n",
       "    <tr>\n",
       "      <th>max</th>\n",
       "      <td>6.000000</td>\n",
       "      <td>48.000000</td>\n",
       "      <td>218.000000</td>\n",
       "      <td>170.000000</td>\n",
       "    </tr>\n",
       "  </tbody>\n",
       "</table>\n",
       "</div>"
      ],
      "text/plain": [
       "       Births in last five years  Age of respondent at 1st birth  \\\n",
       "count               33924.000000                    33924.000000   \n",
       "mean                    1.823783                       19.570776   \n",
       "std                     0.705460                        4.313172   \n",
       "min                     1.000000                       12.000000   \n",
       "25%                     1.000000                       16.000000   \n",
       "50%                     2.000000                       19.000000   \n",
       "75%                     2.000000                       22.000000   \n",
       "max                     6.000000                       48.000000   \n",
       "\n",
       "       Hemoglobin level adjusted for altitude and smoking (g/dl - 1 decimal)  \\\n",
       "count                                       13136.000000                       \n",
       "mean                                          114.367235                       \n",
       "std                                            15.915408                       \n",
       "min                                            20.000000                       \n",
       "25%                                           105.000000                       \n",
       "50%                                           115.000000                       \n",
       "75%                                           125.000000                       \n",
       "max                                           218.000000                       \n",
       "\n",
       "       Hemoglobin level adjusted for altitude (g/dl - 1 decimal)  \n",
       "count                                       10182.000000          \n",
       "mean                                          101.270183          \n",
       "std                                            15.569583          \n",
       "min                                            29.000000          \n",
       "25%                                            92.000000          \n",
       "50%                                           103.000000          \n",
       "75%                                           112.000000          \n",
       "max                                           170.000000          "
      ]
     },
     "execution_count": 389,
     "metadata": {},
     "output_type": "execute_result"
    }
   ],
   "source": [
    "# Generating  descriptive statistics of the numeric columns\n",
    "\n",
    "df.describe() "
   ]
  },
  {
   "cell_type": "code",
   "execution_count": 390,
   "metadata": {},
   "outputs": [
    {
     "data": {
      "text/plain": [
       "Index(['Age in 5-year groups', 'Type of place of residence',\n",
       "       'Highest educational level', 'Wealth index combined',\n",
       "       'Births in last five years', 'Age of respondent at 1st birth',\n",
       "       'Hemoglobin level adjusted for altitude and smoking (g/dl - 1 decimal)',\n",
       "       'Anemia level',\n",
       "       'Have mosquito bed net for sleeping (from household questionnaire)',\n",
       "       'Smokes cigarettes', 'Current marital status',\n",
       "       'Currently residing with husband/partner', 'When child put to breast',\n",
       "       'Had fever in last two weeks',\n",
       "       'Hemoglobin level adjusted for altitude (g/dl - 1 decimal)',\n",
       "       'Anemia level.1', 'Taking iron pills, sprinkles or syrup'],\n",
       "      dtype='object')"
      ]
     },
     "execution_count": 390,
     "metadata": {},
     "output_type": "execute_result"
    }
   ],
   "source": [
    "#listing the names of the columns\n",
    "df.columns"
   ]
  },
  {
   "cell_type": "code",
   "execution_count": 391,
   "metadata": {},
   "outputs": [],
   "source": [
    "#Describing the colums names "
   ]
  },
  {
   "cell_type": "markdown",
   "metadata": {},
   "source": [
    "| Column Name                                           | Description                                                                                       |\n",
    "|------------------------------------------------------|---------------------------------------------------------------------------------------------------|\n",
    "| Age in 5-year groups                                 | Age of the mother, categorized into 5-year intervals.                                           |\n",
    "| Type of place of residence                           | Residential classification: Urban or Rural.                                                     |\n",
    "| Highest educational level                            | Mother's highest educational attainment, e.g., \"No Education\", \"Secondary\".                     |\n",
    "| Wealth index combined                                | Economic status of the mother, ranked as \"Poorest\", \"Poorer\", etc.                             |\n",
    "| Births in last five years                            | Count of live births by the mother in the past five years.                                      |\n",
    "| Age of respondent at 1st birth                       | Mother's age at her first live birth.                                                            |\n",
    "| Hemoglobin level adjusted for altitude and smoking    | Hemoglobin level in g/dL, adjusted for altitude and smoking status.                            |\n",
    "| Anemia level                                         | Categorical anemia status of the child (e.g., \"Not anemic\", \"Mild\", \"Moderate\", \"Severe\").     |\n",
    "| Have mosquito bed net for sleeping                   | Presence of a mosquito net in the household (True/False).                                       |\n",
    "| Smokes cigarettes                                    | Mother's smoking status (True/False).                                                            |\n",
    "| Current marital status                               | Mother's marital status (e.g., \"Married\", \"Single\").                                           |\n",
    "| Currently residing with husband/partner              | Co-habitation status with spouse or partner (True/False).                                       |\n",
    "| When child put to breast                             | Timing of initial breastfeeding (hours after birth).                                             |\n",
    "| Had fever in last two weeks                          | Fever incidence in the child during the past two weeks (True/False).                           |\n",
    "| Hemoglobin level adjusted for altitude (g/dl)       | Hemoglobin level in g/dL, adjusted solely for altitude.                                         |\n",
    "| Anemia level.1                                      | Alternative or duplicate anemia categorization.                                                  |\n",
    "| Taking iron pills, sprinkles or syrup                | Iron supplementation status of the child (True/False).                                          |\n"
   ]
  },
  {
   "cell_type": "markdown",
   "metadata": {},
   "source": [
    " ## 2.3 Observations"
   ]
  },
  {
   "cell_type": "markdown",
   "metadata": {},
   "source": [
    "- Upon examining the initial rows of the dataset, it becomes evident that several columns contain missing values, necessitating appropriate imputation methods during the data cleaning process.\n",
    "\n",
    "- The dataset comprises 33,924 rows and 17 columns, providing a substantial foundation for analysis.\n",
    "\n",
    "- The data types within the dataset include a mix of objects, int64, and float64, indicating a variety of categorical and numerical data. This diversity allows for different analytical approaches tailored to each data type.\n",
    "\n",
    "- The statistical summary using the describe()method, reveals that the average age at first birth among respondents is relatively young, accompanied by a moderate mean number of births in the last five years. Notably, the hemoglobin levels indicate varying degrees of anemia across the population, with significant variability in both adjusted and unadjusted values. This underscores the importance of further investigation into the socioeconomic and health-related factors that contribute to these health outcomes.\n",
    "\n"
   ]
  },
  {
   "cell_type": "markdown",
   "metadata": {},
   "source": [
    "## 2.4 Data Limitation"
   ]
  },
  {
   "cell_type": "markdown",
   "metadata": {},
   "source": [
    "1. `Data quality and completeness`: Incomplete or poorly collected data can hinder accurate analysis. Missing values, inconsistencies, or errors in the dataset may result in biased outcomes or misinterpretations. A study by the World Bank (2018) highlights that data collection in resource-limited settings often lacks standardization and can be subject to human error.\n",
    "\n",
    "2. `Sample size and representativeness`: Limited sample sizes or non-representative samples can affect the generalizability of the findings. If the data collected is skewed towards specific demographics (e.g., urban versus rural populations), the results may not accurately reflect the broader population. This challenge is particularly noted in studies conducted in developing countries where access to comprehensive datasets can be restricted \n",
    "\n",
    "3. `Socioeconomic data limitations`: Socioeconomic factors may be underreported or inaccurately recorded, especially in informal settlements or among marginalized populations. Factors such as income, education level, and access to healthcare are crucial for understanding anemia severity but may be inadequately captured in surveys.\n",
    "\n",
    "4. `Temporal factors`: Anemia levels and their socioeconomic determinants may change over time due to policy changes, economic fluctuations, or health interventions. Data that is not longitudinal may fail to capture these dynamics, leading to outdated conclusions..\n",
    "\n",
    "5. `Cultural and behavioral factors`: Anemia research often relies on self-reported data regarding dietary habits, health-seeking behaviors, and utilization of healthcare services. Cultural biases or reluctance to disclose certain behaviors can affect the reliability of this information."
   ]
  },
  {
   "cell_type": "markdown",
   "metadata": {},
   "source": [
    "Data cleaning involves identifying and correcting inaccuracies or inconsistencies in data to improve its quality and reliability for analysis and modeling. We will start by separating numerical columns from categorical ones, as each type requires different cleaning approaches.\n",
    "\n",
    "We will first separate the numerical from the categorical columns and clean thse two datsets separately.Some of the cleaning techniques applied include the following:-\n",
    "\n",
    "- Checking for missing values.\n",
    "- Imputing missing values\n",
    "- Dropping unncessary  columns and rows.\n",
    "- Renaming columns.\n",
    "- Encoding categorical columns\n",
    "- changing datatypes for consistency.\n",
    "\n",
    "Once the dataset has been clean appropriately, we will procced and concatenate the two datasets for futher analysis."
   ]
  },
  {
   "cell_type": "markdown",
   "metadata": {},
   "source": [
    "# 3.0 DATA CLEANING"
   ]
  },
  {
   "cell_type": "markdown",
   "metadata": {},
   "source": [
    "  ## 3.1. Handling numerical columns"
   ]
  },
  {
   "cell_type": "code",
   "execution_count": 392,
   "metadata": {},
   "outputs": [
    {
     "data": {
      "text/html": [
       "<div>\n",
       "<style scoped>\n",
       "    .dataframe tbody tr th:only-of-type {\n",
       "        vertical-align: middle;\n",
       "    }\n",
       "\n",
       "    .dataframe tbody tr th {\n",
       "        vertical-align: top;\n",
       "    }\n",
       "\n",
       "    .dataframe thead th {\n",
       "        text-align: right;\n",
       "    }\n",
       "</style>\n",
       "<table border=\"1\" class=\"dataframe\">\n",
       "  <thead>\n",
       "    <tr style=\"text-align: right;\">\n",
       "      <th></th>\n",
       "      <th>Births in last five years</th>\n",
       "      <th>Age of respondent at 1st birth</th>\n",
       "      <th>Hemoglobin level adjusted for altitude and smoking (g/dl - 1 decimal)</th>\n",
       "      <th>Hemoglobin level adjusted for altitude (g/dl - 1 decimal)</th>\n",
       "    </tr>\n",
       "  </thead>\n",
       "  <tbody>\n",
       "    <tr>\n",
       "      <th>33452</th>\n",
       "      <td>2</td>\n",
       "      <td>24</td>\n",
       "      <td>102.0</td>\n",
       "      <td>NaN</td>\n",
       "    </tr>\n",
       "    <tr>\n",
       "      <th>24889</th>\n",
       "      <td>2</td>\n",
       "      <td>27</td>\n",
       "      <td>100.0</td>\n",
       "      <td>103.0</td>\n",
       "    </tr>\n",
       "    <tr>\n",
       "      <th>460</th>\n",
       "      <td>1</td>\n",
       "      <td>21</td>\n",
       "      <td>128.0</td>\n",
       "      <td>116.0</td>\n",
       "    </tr>\n",
       "    <tr>\n",
       "      <th>24755</th>\n",
       "      <td>3</td>\n",
       "      <td>21</td>\n",
       "      <td>NaN</td>\n",
       "      <td>NaN</td>\n",
       "    </tr>\n",
       "    <tr>\n",
       "      <th>890</th>\n",
       "      <td>2</td>\n",
       "      <td>14</td>\n",
       "      <td>96.0</td>\n",
       "      <td>99.0</td>\n",
       "    </tr>\n",
       "  </tbody>\n",
       "</table>\n",
       "</div>"
      ],
      "text/plain": [
       "       Births in last five years  Age of respondent at 1st birth  \\\n",
       "33452                          2                              24   \n",
       "24889                          2                              27   \n",
       "460                            1                              21   \n",
       "24755                          3                              21   \n",
       "890                            2                              14   \n",
       "\n",
       "       Hemoglobin level adjusted for altitude and smoking (g/dl - 1 decimal)  \\\n",
       "33452                                              102.0                       \n",
       "24889                                              100.0                       \n",
       "460                                                128.0                       \n",
       "24755                                                NaN                       \n",
       "890                                                 96.0                       \n",
       "\n",
       "       Hemoglobin level adjusted for altitude (g/dl - 1 decimal)  \n",
       "33452                                                NaN          \n",
       "24889                                              103.0          \n",
       "460                                                116.0          \n",
       "24755                                                NaN          \n",
       "890                                                 99.0          "
      ]
     },
     "execution_count": 392,
     "metadata": {},
     "output_type": "execute_result"
    }
   ],
   "source": [
    "# Separate numerical columns (int and float types)\n",
    "numeric_cols = df.select_dtypes(include=['int64', 'float64'])\n",
    "\n",
    "numeric_cols.sample(n=5)\n"
   ]
  },
  {
   "cell_type": "code",
   "execution_count": 393,
   "metadata": {},
   "outputs": [
    {
     "name": "stdout",
     "output_type": "stream",
     "text": [
      "True\n"
     ]
    }
   ],
   "source": [
    "#checking for missing value\n",
    "if numeric_cols.isnull().value_counts:\n",
    "    print(True)\n",
    "else:\n",
    "    print(None)"
   ]
  },
  {
   "cell_type": "markdown",
   "metadata": {},
   "source": [
    "Cheking for missing values has returned True. This means that we confirmed that our numerical_cols data set has missing values, we will check how many or what percentage has the missing value and sort the results in descending order. "
   ]
  },
  {
   "cell_type": "code",
   "execution_count": 394,
   "metadata": {},
   "outputs": [
    {
     "data": {
      "text/plain": [
       "Hemoglobin level adjusted for altitude (g/dl - 1 decimal)                23742\n",
       "Hemoglobin level adjusted for altitude and smoking (g/dl - 1 decimal)    20788\n",
       "Age of respondent at 1st birth                                               0\n",
       "Births in last five years                                                    0\n",
       "dtype: int64"
      ]
     },
     "execution_count": 394,
     "metadata": {},
     "output_type": "execute_result"
    }
   ],
   "source": [
    "# Calculating the percentage of missing values for each column\n",
    "\n",
    "numeric_cols.isnull().sum().sort_values(ascending=False)\n"
   ]
  },
  {
   "cell_type": "markdown",
   "metadata": {},
   "source": [
    "Firstly, since we have two columns with the target information as seen during inspection, we will proceed and drop the Hemoglobin level adjusted for altitude (g/dl - 1 decimal) which is directly tired to anemia level.1. as it has more empty values compared to Hemoglobin level adjusted for altitude and smoking (g/dl - 1 decimal)."
   ]
  },
  {
   "cell_type": "code",
   "execution_count": 395,
   "metadata": {},
   "outputs": [],
   "source": [
    "# Make a copy to avoid the warning\n",
    "numeric_cols = numeric_cols.copy()\n",
    "\n",
    "# Now safely drop the column\n",
    "numeric_cols.drop(['Hemoglobin level adjusted for altitude (g/dl - 1 decimal)'], axis=1, inplace=True)\n"
   ]
  },
  {
   "cell_type": "markdown",
   "metadata": {},
   "source": [
    "For the 'Hemoglobin level adjusted for altitude and smoking (g/dl - 1 decimal) ' we will proceed and drop rows with empty values since they are equal to the number of rows with empty values in the 'anemia' as seen in data inspection phase, hence manintaing the structure of our dataset."
   ]
  },
  {
   "cell_type": "code",
   "execution_count": 396,
   "metadata": {},
   "outputs": [
    {
     "data": {
      "text/plain": [
       "Births in last five years                                                0\n",
       "Age of respondent at 1st birth                                           0\n",
       "Hemoglobin level adjusted for altitude and smoking (g/dl - 1 decimal)    0\n",
       "dtype: int64"
      ]
     },
     "execution_count": 396,
     "metadata": {},
     "output_type": "execute_result"
    }
   ],
   "source": [
    "# Dropping rows with missing values in the numeric_cols dataset\n",
    "numeric_cols = numeric_cols.dropna()\n",
    "\n",
    "# checking to confirm that my numerical_cols dataset has no missing values\n",
    "numeric_cols.isnull().sum()"
   ]
  },
  {
   "cell_type": "code",
   "execution_count": 397,
   "metadata": {},
   "outputs": [
    {
     "data": {
      "text/html": [
       "<div>\n",
       "<style scoped>\n",
       "    .dataframe tbody tr th:only-of-type {\n",
       "        vertical-align: middle;\n",
       "    }\n",
       "\n",
       "    .dataframe tbody tr th {\n",
       "        vertical-align: top;\n",
       "    }\n",
       "\n",
       "    .dataframe thead th {\n",
       "        text-align: right;\n",
       "    }\n",
       "</style>\n",
       "<table border=\"1\" class=\"dataframe\">\n",
       "  <thead>\n",
       "    <tr style=\"text-align: right;\">\n",
       "      <th></th>\n",
       "      <th>Births_last_5y</th>\n",
       "      <th>Age_first_birth</th>\n",
       "      <th>Hemoglobin level</th>\n",
       "    </tr>\n",
       "  </thead>\n",
       "  <tbody>\n",
       "    <tr>\n",
       "      <th>3</th>\n",
       "      <td>1</td>\n",
       "      <td>25</td>\n",
       "      <td>95.0</td>\n",
       "    </tr>\n",
       "    <tr>\n",
       "      <th>5</th>\n",
       "      <td>1</td>\n",
       "      <td>30</td>\n",
       "      <td>113.0</td>\n",
       "    </tr>\n",
       "    <tr>\n",
       "      <th>6</th>\n",
       "      <td>2</td>\n",
       "      <td>32</td>\n",
       "      <td>121.0</td>\n",
       "    </tr>\n",
       "    <tr>\n",
       "      <th>7</th>\n",
       "      <td>2</td>\n",
       "      <td>32</td>\n",
       "      <td>121.0</td>\n",
       "    </tr>\n",
       "    <tr>\n",
       "      <th>9</th>\n",
       "      <td>1</td>\n",
       "      <td>19</td>\n",
       "      <td>108.0</td>\n",
       "    </tr>\n",
       "  </tbody>\n",
       "</table>\n",
       "</div>"
      ],
      "text/plain": [
       "   Births_last_5y  Age_first_birth  Hemoglobin level\n",
       "3               1               25              95.0\n",
       "5               1               30             113.0\n",
       "6               2               32             121.0\n",
       "7               2               32             121.0\n",
       "9               1               19             108.0"
      ]
     },
     "execution_count": 397,
     "metadata": {},
     "output_type": "execute_result"
    }
   ],
   "source": [
    "#Renaming columns to improve clarity\n",
    "\n",
    "numeric_cols.rename(columns={\n",
    "    'Births in last five years': 'Births_last_5y',\n",
    "    'Age of respondent at 1st birth': 'Age_first_birth',\n",
    "    'Hemoglobin level adjusted for altitude and smoking (g/dl - 1 decimal)': 'Hemoglobin level'\n",
    "}, inplace=True)\n",
    "\n",
    "# Display the updated DataFrame\n",
    "numeric_cols.head()"
   ]
  },
  {
   "cell_type": "code",
   "execution_count": 398,
   "metadata": {},
   "outputs": [],
   "source": [
    "#converting the 'Hemoglobin level' to and int\n",
    "numeric_cols['Hemoglobin level'] = numeric_cols['Hemoglobin level'].astype(int)"
   ]
  },
  {
   "cell_type": "code",
   "execution_count": 399,
   "metadata": {},
   "outputs": [
    {
     "data": {
      "text/html": [
       "<div>\n",
       "<style scoped>\n",
       "    .dataframe tbody tr th:only-of-type {\n",
       "        vertical-align: middle;\n",
       "    }\n",
       "\n",
       "    .dataframe tbody tr th {\n",
       "        vertical-align: top;\n",
       "    }\n",
       "\n",
       "    .dataframe thead th {\n",
       "        text-align: right;\n",
       "    }\n",
       "</style>\n",
       "<table border=\"1\" class=\"dataframe\">\n",
       "  <thead>\n",
       "    <tr style=\"text-align: right;\">\n",
       "      <th></th>\n",
       "      <th>Births_last_5y</th>\n",
       "      <th>Age_first_birth</th>\n",
       "      <th>Hemoglobin level</th>\n",
       "    </tr>\n",
       "  </thead>\n",
       "  <tbody>\n",
       "    <tr>\n",
       "      <th>3</th>\n",
       "      <td>1</td>\n",
       "      <td>25</td>\n",
       "      <td>95</td>\n",
       "    </tr>\n",
       "    <tr>\n",
       "      <th>5</th>\n",
       "      <td>1</td>\n",
       "      <td>30</td>\n",
       "      <td>113</td>\n",
       "    </tr>\n",
       "    <tr>\n",
       "      <th>6</th>\n",
       "      <td>2</td>\n",
       "      <td>32</td>\n",
       "      <td>121</td>\n",
       "    </tr>\n",
       "    <tr>\n",
       "      <th>7</th>\n",
       "      <td>2</td>\n",
       "      <td>32</td>\n",
       "      <td>121</td>\n",
       "    </tr>\n",
       "    <tr>\n",
       "      <th>9</th>\n",
       "      <td>1</td>\n",
       "      <td>19</td>\n",
       "      <td>108</td>\n",
       "    </tr>\n",
       "  </tbody>\n",
       "</table>\n",
       "</div>"
      ],
      "text/plain": [
       "   Births_last_5y  Age_first_birth  Hemoglobin level\n",
       "3               1               25                95\n",
       "5               1               30               113\n",
       "6               2               32               121\n",
       "7               2               32               121\n",
       "9               1               19               108"
      ]
     },
     "execution_count": 399,
     "metadata": {},
     "output_type": "execute_result"
    }
   ],
   "source": [
    "# Inspecting the final dataset of the numeric cols.\n",
    "numeric_cols.head()"
   ]
  },
  {
   "cell_type": "markdown",
   "metadata": {},
   "source": [
    "## Obsevations"
   ]
  },
  {
   "cell_type": "markdown",
   "metadata": {},
   "source": [
    "- All columns are fully populated, with no missing values, guaranteeing that analyses conducted on this DataFrame will leverage the entirety of the dataset.\n",
    "\n",
    "- The total number of rows has been significantly reduced from 33,924 to 13,136.This imply that during the survey, approximately 39% of chilren were actually tested for the anemia level, while the rest only the parents information was collected.\n",
    "\n",
    "- The DataFrame exhibits efficient memory usage, making it highly manageable for computational tasks and data transformations."
   ]
  },
  {
   "cell_type": "markdown",
   "metadata": {},
   "source": [
    "  ## 3.2 Handling categorical columns"
   ]
  },
  {
   "cell_type": "code",
   "execution_count": 400,
   "metadata": {},
   "outputs": [
    {
     "data": {
      "text/html": [
       "<div>\n",
       "<style scoped>\n",
       "    .dataframe tbody tr th:only-of-type {\n",
       "        vertical-align: middle;\n",
       "    }\n",
       "\n",
       "    .dataframe tbody tr th {\n",
       "        vertical-align: top;\n",
       "    }\n",
       "\n",
       "    .dataframe thead th {\n",
       "        text-align: right;\n",
       "    }\n",
       "</style>\n",
       "<table border=\"1\" class=\"dataframe\">\n",
       "  <thead>\n",
       "    <tr style=\"text-align: right;\">\n",
       "      <th></th>\n",
       "      <th>Age in 5-year groups</th>\n",
       "      <th>Type of place of residence</th>\n",
       "      <th>Highest educational level</th>\n",
       "      <th>Wealth index combined</th>\n",
       "      <th>Anemia level</th>\n",
       "      <th>Have mosquito bed net for sleeping (from household questionnaire)</th>\n",
       "      <th>Smokes cigarettes</th>\n",
       "      <th>Current marital status</th>\n",
       "      <th>Currently residing with husband/partner</th>\n",
       "      <th>When child put to breast</th>\n",
       "      <th>Had fever in last two weeks</th>\n",
       "      <th>Anemia level.1</th>\n",
       "      <th>Taking iron pills, sprinkles or syrup</th>\n",
       "    </tr>\n",
       "  </thead>\n",
       "  <tbody>\n",
       "    <tr>\n",
       "      <th>0</th>\n",
       "      <td>40-44</td>\n",
       "      <td>Urban</td>\n",
       "      <td>Higher</td>\n",
       "      <td>Richest</td>\n",
       "      <td>NaN</td>\n",
       "      <td>Yes</td>\n",
       "      <td>No</td>\n",
       "      <td>Living with partner</td>\n",
       "      <td>Staying elsewhere</td>\n",
       "      <td>Immediately</td>\n",
       "      <td>No</td>\n",
       "      <td>NaN</td>\n",
       "      <td>Yes</td>\n",
       "    </tr>\n",
       "    <tr>\n",
       "      <th>1</th>\n",
       "      <td>35-39</td>\n",
       "      <td>Urban</td>\n",
       "      <td>Higher</td>\n",
       "      <td>Richest</td>\n",
       "      <td>NaN</td>\n",
       "      <td>Yes</td>\n",
       "      <td>No</td>\n",
       "      <td>Married</td>\n",
       "      <td>Living with her</td>\n",
       "      <td>Hours: 1</td>\n",
       "      <td>No</td>\n",
       "      <td>NaN</td>\n",
       "      <td>No</td>\n",
       "    </tr>\n",
       "    <tr>\n",
       "      <th>2</th>\n",
       "      <td>25-29</td>\n",
       "      <td>Urban</td>\n",
       "      <td>Higher</td>\n",
       "      <td>Richest</td>\n",
       "      <td>NaN</td>\n",
       "      <td>No</td>\n",
       "      <td>No</td>\n",
       "      <td>Married</td>\n",
       "      <td>Living with her</td>\n",
       "      <td>Immediately</td>\n",
       "      <td>No</td>\n",
       "      <td>NaN</td>\n",
       "      <td>No</td>\n",
       "    </tr>\n",
       "    <tr>\n",
       "      <th>3</th>\n",
       "      <td>25-29</td>\n",
       "      <td>Urban</td>\n",
       "      <td>Secondary</td>\n",
       "      <td>Richest</td>\n",
       "      <td>Moderate</td>\n",
       "      <td>Yes</td>\n",
       "      <td>No</td>\n",
       "      <td>Married</td>\n",
       "      <td>Living with her</td>\n",
       "      <td>105</td>\n",
       "      <td>No</td>\n",
       "      <td>Not anemic</td>\n",
       "      <td>No</td>\n",
       "    </tr>\n",
       "    <tr>\n",
       "      <th>4</th>\n",
       "      <td>20-24</td>\n",
       "      <td>Urban</td>\n",
       "      <td>Secondary</td>\n",
       "      <td>Richest</td>\n",
       "      <td>NaN</td>\n",
       "      <td>Yes</td>\n",
       "      <td>No</td>\n",
       "      <td>No longer living together/separated</td>\n",
       "      <td>NaN</td>\n",
       "      <td>Immediately</td>\n",
       "      <td>No</td>\n",
       "      <td>NaN</td>\n",
       "      <td>No</td>\n",
       "    </tr>\n",
       "  </tbody>\n",
       "</table>\n",
       "</div>"
      ],
      "text/plain": [
       "  Age in 5-year groups Type of place of residence Highest educational level  \\\n",
       "0                40-44                      Urban                    Higher   \n",
       "1                35-39                      Urban                    Higher   \n",
       "2                25-29                      Urban                    Higher   \n",
       "3                25-29                      Urban                 Secondary   \n",
       "4                20-24                      Urban                 Secondary   \n",
       "\n",
       "  Wealth index combined Anemia level  \\\n",
       "0               Richest          NaN   \n",
       "1               Richest          NaN   \n",
       "2               Richest          NaN   \n",
       "3               Richest     Moderate   \n",
       "4               Richest          NaN   \n",
       "\n",
       "  Have mosquito bed net for sleeping (from household questionnaire)  \\\n",
       "0                                                Yes                  \n",
       "1                                                Yes                  \n",
       "2                                                 No                  \n",
       "3                                                Yes                  \n",
       "4                                                Yes                  \n",
       "\n",
       "  Smokes cigarettes               Current marital status  \\\n",
       "0                No                  Living with partner   \n",
       "1                No                              Married   \n",
       "2                No                              Married   \n",
       "3                No                              Married   \n",
       "4                No  No longer living together/separated   \n",
       "\n",
       "  Currently residing with husband/partner When child put to breast  \\\n",
       "0                       Staying elsewhere              Immediately   \n",
       "1                         Living with her                 Hours: 1   \n",
       "2                         Living with her              Immediately   \n",
       "3                         Living with her                      105   \n",
       "4                                     NaN              Immediately   \n",
       "\n",
       "  Had fever in last two weeks Anemia level.1  \\\n",
       "0                          No            NaN   \n",
       "1                          No            NaN   \n",
       "2                          No            NaN   \n",
       "3                          No     Not anemic   \n",
       "4                          No            NaN   \n",
       "\n",
       "  Taking iron pills, sprinkles or syrup  \n",
       "0                                   Yes  \n",
       "1                                    No  \n",
       "2                                    No  \n",
       "3                                    No  \n",
       "4                                    No  "
      ]
     },
     "execution_count": 400,
     "metadata": {},
     "output_type": "execute_result"
    }
   ],
   "source": [
    "# Separate categorical columns (object and category types)\n",
    "categorical_cols = df.select_dtypes(include=['object', 'category'])\n",
    "categorical_cols.head()"
   ]
  },
  {
   "cell_type": "code",
   "execution_count": 401,
   "metadata": {},
   "outputs": [
    {
     "name": "stdout",
     "output_type": "stream",
     "text": [
      "True\n"
     ]
    }
   ],
   "source": [
    "#checking for missing values\n",
    "if categorical_cols.isnull().value_counts:\n",
    "    print(True)\n",
    "else:\n",
    "    print(None)"
   ]
  },
  {
   "cell_type": "markdown",
   "metadata": {},
   "source": [
    "Checking for missing values output is `True`. This means that we confirmed that our categorical_cols data set has missing values. We will Inpect the number of missing value and sort the results in descending order. "
   ]
  },
  {
   "cell_type": "code",
   "execution_count": 402,
   "metadata": {},
   "outputs": [
    {
     "data": {
      "text/plain": [
       "Anemia level.1                                                       23742\n",
       "Anemia level                                                         20788\n",
       "When child put to breast                                             12756\n",
       "Taking iron pills, sprinkles or syrup                                 3211\n",
       "Had fever in last two weeks                                           3211\n",
       "Currently residing with husband/partner                               1698\n",
       "Current marital status                                                   0\n",
       "Smokes cigarettes                                                        0\n",
       "Have mosquito bed net for sleeping (from household questionnaire)        0\n",
       "Wealth index combined                                                    0\n",
       "Highest educational level                                                0\n",
       "Type of place of residence                                               0\n",
       "Age in 5-year groups                                                     0\n",
       "dtype: int64"
      ]
     },
     "execution_count": 402,
     "metadata": {},
     "output_type": "execute_result"
    }
   ],
   "source": [
    "# Calculating the number of missing values in each categorical column\n",
    "categorical_cols_col_missing_val = categorical_cols.isnull().sum().sort_values(ascending=False)\n",
    "\n",
    "# Display the sorted result\n",
    "categorical_cols_col_missing_val"
   ]
  },
  {
   "cell_type": "markdown",
   "metadata": {},
   "source": [
    "From the output, first we will begin by dropping the `When child put to breast` and `Anemia level.1` from our `categorical_cols` DataFrame. The `When child put to breast` column is considered vague, while the `Anemia level.1`is linked to `Hemoglobin level adjusted for altitude (g/dl - 1 decimal)` which we dropped earlier when handling numerical columns"
   ]
  },
  {
   "cell_type": "code",
   "execution_count": 403,
   "metadata": {},
   "outputs": [],
   "source": [
    "# Dropping unnecessary columns safely\n",
    "categorical_cols = categorical_cols.loc[:, ~categorical_cols.columns.isin(['When child put to breast', 'Anemia level.1'])]\n"
   ]
  },
  {
   "cell_type": "code",
   "execution_count": 404,
   "metadata": {},
   "outputs": [
    {
     "data": {
      "text/plain": [
       "Anemia level                                                         20788\n",
       "Taking iron pills, sprinkles or syrup                                 3211\n",
       "Had fever in last two weeks                                           3211\n",
       "Currently residing with husband/partner                               1698\n",
       "Current marital status                                                   0\n",
       "Smokes cigarettes                                                        0\n",
       "Have mosquito bed net for sleeping (from household questionnaire)        0\n",
       "Wealth index combined                                                    0\n",
       "Highest educational level                                                0\n",
       "Type of place of residence                                               0\n",
       "Age in 5-year groups                                                     0\n",
       "dtype: int64"
      ]
     },
     "execution_count": 404,
     "metadata": {},
     "output_type": "execute_result"
    }
   ],
   "source": [
    "categorical_cols.isnull().sum().sort_values(ascending=False)"
   ]
  },
  {
   "cell_type": "markdown",
   "metadata": {},
   "source": [
    "Now that we have 4 columns with missing value, we will fill the these columns with the value `unkown` except the anemia level"
   ]
  },
  {
   "cell_type": "code",
   "execution_count": 405,
   "metadata": {},
   "outputs": [],
   "source": [
    "# Defining the columns to fill with 'unknown'\n",
    "columns_to_fill = [\n",
    "    'Taking iron pills, sprinkles or syrup',\n",
    "    'Had fever in last two weeks',\n",
    "    'Currently residing with husband/partner'\n",
    "]\n",
    "\n",
    "# Filling empty cells with 'unknown'\n",
    "categorical_cols[columns_to_fill] = categorical_cols[columns_to_fill].fillna('unknown')"
   ]
  },
  {
   "cell_type": "code",
   "execution_count": 406,
   "metadata": {},
   "outputs": [
    {
     "data": {
      "text/plain": [
       "Age in 5-year groups                                                     0\n",
       "Type of place of residence                                               0\n",
       "Highest educational level                                                0\n",
       "Wealth index combined                                                    0\n",
       "Anemia level                                                         20788\n",
       "Have mosquito bed net for sleeping (from household questionnaire)        0\n",
       "Smokes cigarettes                                                        0\n",
       "Current marital status                                                   0\n",
       "Currently residing with husband/partner                                  0\n",
       "Had fever in last two weeks                                              0\n",
       "Taking iron pills, sprinkles or syrup                                    0\n",
       "dtype: int64"
      ]
     },
     "execution_count": 406,
     "metadata": {},
     "output_type": "execute_result"
    }
   ],
   "source": [
    "#Displaying the columns after imputing empty collumns of selected columns with 'unknown'\n",
    "categorical_cols.isnull().sum()"
   ]
  },
  {
   "cell_type": "markdown",
   "metadata": {},
   "source": [
    "After imputation, we notice that the number of empty values in `Anemia Level` is equal to the number of empty values in `Hemoglobin level adjusted for altitude and smoking (g/dl - 1 decimal`.We will proceed and drop the rows with missing values to keep our dataset structure compact"
   ]
  },
  {
   "cell_type": "code",
   "execution_count": 407,
   "metadata": {},
   "outputs": [
    {
     "data": {
      "text/plain": [
       "Age in 5-year groups                                                 0\n",
       "Type of place of residence                                           0\n",
       "Highest educational level                                            0\n",
       "Wealth index combined                                                0\n",
       "Anemia level                                                         0\n",
       "Have mosquito bed net for sleeping (from household questionnaire)    0\n",
       "Smokes cigarettes                                                    0\n",
       "Current marital status                                               0\n",
       "Currently residing with husband/partner                              0\n",
       "Had fever in last two weeks                                          0\n",
       "Taking iron pills, sprinkles or syrup                                0\n",
       "dtype: int64"
      ]
     },
     "execution_count": 407,
     "metadata": {},
     "output_type": "execute_result"
    }
   ],
   "source": [
    "#dropping empty values of Hemoglobin level adjusted for altitude (g/dl - 1 decimal) column\n",
    "categorical_cols= categorical_cols.dropna()\n",
    "\n",
    "\n",
    "# checking to confirm that my numerical_cols dataset has no missing values\n",
    "categorical_cols.isnull().sum()"
   ]
  },
  {
   "cell_type": "code",
   "execution_count": 408,
   "metadata": {},
   "outputs": [
    {
     "data": {
      "text/html": [
       "<div>\n",
       "<style scoped>\n",
       "    .dataframe tbody tr th:only-of-type {\n",
       "        vertical-align: middle;\n",
       "    }\n",
       "\n",
       "    .dataframe tbody tr th {\n",
       "        vertical-align: top;\n",
       "    }\n",
       "\n",
       "    .dataframe thead th {\n",
       "        text-align: right;\n",
       "    }\n",
       "</style>\n",
       "<table border=\"1\" class=\"dataframe\">\n",
       "  <thead>\n",
       "    <tr style=\"text-align: right;\">\n",
       "      <th></th>\n",
       "      <th>Age_group</th>\n",
       "      <th>Area_Type</th>\n",
       "      <th>Highest educational level</th>\n",
       "      <th>Wealth index combined</th>\n",
       "      <th>Anemia level</th>\n",
       "      <th>Have mosquito net</th>\n",
       "      <th>Smokes cigarettes</th>\n",
       "      <th>Current marital status</th>\n",
       "      <th>living with spouse</th>\n",
       "      <th>Had fever in last two weeks</th>\n",
       "      <th>Taking_meds</th>\n",
       "    </tr>\n",
       "  </thead>\n",
       "  <tbody>\n",
       "    <tr>\n",
       "      <th>3</th>\n",
       "      <td>25-29</td>\n",
       "      <td>Urban</td>\n",
       "      <td>Secondary</td>\n",
       "      <td>Richest</td>\n",
       "      <td>Moderate</td>\n",
       "      <td>Yes</td>\n",
       "      <td>No</td>\n",
       "      <td>Married</td>\n",
       "      <td>Living with her</td>\n",
       "      <td>No</td>\n",
       "      <td>No</td>\n",
       "    </tr>\n",
       "    <tr>\n",
       "      <th>5</th>\n",
       "      <td>30-34</td>\n",
       "      <td>Urban</td>\n",
       "      <td>Higher</td>\n",
       "      <td>Richest</td>\n",
       "      <td>Mild</td>\n",
       "      <td>Yes</td>\n",
       "      <td>No</td>\n",
       "      <td>Married</td>\n",
       "      <td>Living with her</td>\n",
       "      <td>No</td>\n",
       "      <td>No</td>\n",
       "    </tr>\n",
       "    <tr>\n",
       "      <th>6</th>\n",
       "      <td>35-39</td>\n",
       "      <td>Urban</td>\n",
       "      <td>Secondary</td>\n",
       "      <td>Richest</td>\n",
       "      <td>Not anemic</td>\n",
       "      <td>Yes</td>\n",
       "      <td>No</td>\n",
       "      <td>Married</td>\n",
       "      <td>Living with her</td>\n",
       "      <td>No</td>\n",
       "      <td>Yes</td>\n",
       "    </tr>\n",
       "    <tr>\n",
       "      <th>7</th>\n",
       "      <td>35-39</td>\n",
       "      <td>Urban</td>\n",
       "      <td>Secondary</td>\n",
       "      <td>Richest</td>\n",
       "      <td>Not anemic</td>\n",
       "      <td>Yes</td>\n",
       "      <td>No</td>\n",
       "      <td>Married</td>\n",
       "      <td>Living with her</td>\n",
       "      <td>unknown</td>\n",
       "      <td>unknown</td>\n",
       "    </tr>\n",
       "    <tr>\n",
       "      <th>9</th>\n",
       "      <td>20-24</td>\n",
       "      <td>Urban</td>\n",
       "      <td>Secondary</td>\n",
       "      <td>Richest</td>\n",
       "      <td>Moderate</td>\n",
       "      <td>Yes</td>\n",
       "      <td>No</td>\n",
       "      <td>Married</td>\n",
       "      <td>Living with her</td>\n",
       "      <td>No</td>\n",
       "      <td>Yes</td>\n",
       "    </tr>\n",
       "  </tbody>\n",
       "</table>\n",
       "</div>"
      ],
      "text/plain": [
       "  Age_group Area_Type Highest educational level Wealth index combined  \\\n",
       "3     25-29     Urban                 Secondary               Richest   \n",
       "5     30-34     Urban                    Higher               Richest   \n",
       "6     35-39     Urban                 Secondary               Richest   \n",
       "7     35-39     Urban                 Secondary               Richest   \n",
       "9     20-24     Urban                 Secondary               Richest   \n",
       "\n",
       "  Anemia level Have mosquito net Smokes cigarettes Current marital status  \\\n",
       "3     Moderate               Yes                No                Married   \n",
       "5         Mild               Yes                No                Married   \n",
       "6   Not anemic               Yes                No                Married   \n",
       "7   Not anemic               Yes                No                Married   \n",
       "9     Moderate               Yes                No                Married   \n",
       "\n",
       "  living with spouse Had fever in last two weeks Taking_meds  \n",
       "3    Living with her                          No          No  \n",
       "5    Living with her                          No          No  \n",
       "6    Living with her                          No         Yes  \n",
       "7    Living with her                     unknown     unknown  \n",
       "9    Living with her                          No         Yes  "
      ]
     },
     "execution_count": 408,
     "metadata": {},
     "output_type": "execute_result"
    }
   ],
   "source": [
    "#renaming columns to improve clarity\n",
    "categorical_cols.rename(columns={'Have mosquito bed net for sleeping (from household questionnaire)':'Have mosquito net',\n",
    "                                 'Currently residing with husband/partner':'living with spouse','Type of place of residence':'Area_Type',\n",
    "                                 'Taking iron pills, sprinkles or syrup':'Taking_meds','Age in 5-year groups':'Age_group'}, inplace=True)\n",
    "\n",
    "# Display the updated DataFrame\n",
    "categorical_cols.head()"
   ]
  },
  {
   "cell_type": "markdown",
   "metadata": {},
   "source": [
    "## Endcoding categorical columns"
   ]
  },
  {
   "cell_type": "markdown",
   "metadata": {},
   "source": [
    "Encoding categorical columns is the process of transforming categorical (non-numeric) data into a numerical format so that it can be used effectively in machine learning models and other analytical processes that require numerical inputs. Since our categorical colums contains a meaning order, wewill proceed and apply the `ordinal encoding`"
   ]
  },
  {
   "cell_type": "markdown",
   "metadata": {},
   "source": [
    "### Ordinal Encoding"
   ]
  },
  {
   "cell_type": "code",
   "execution_count": 409,
   "metadata": {},
   "outputs": [
    {
     "data": {
      "text/html": [
       "<div>\n",
       "<style scoped>\n",
       "    .dataframe tbody tr th:only-of-type {\n",
       "        vertical-align: middle;\n",
       "    }\n",
       "\n",
       "    .dataframe tbody tr th {\n",
       "        vertical-align: top;\n",
       "    }\n",
       "\n",
       "    .dataframe thead th {\n",
       "        text-align: right;\n",
       "    }\n",
       "</style>\n",
       "<table border=\"1\" class=\"dataframe\">\n",
       "  <thead>\n",
       "    <tr style=\"text-align: right;\">\n",
       "      <th></th>\n",
       "      <th>Age_group</th>\n",
       "      <th>Area_Type</th>\n",
       "      <th>Highest educational level</th>\n",
       "      <th>Wealth index combined</th>\n",
       "      <th>Anemia level</th>\n",
       "      <th>Have mosquito net</th>\n",
       "      <th>Smokes cigarettes</th>\n",
       "      <th>Current marital status</th>\n",
       "      <th>living with spouse</th>\n",
       "      <th>Had fever in last two weeks</th>\n",
       "      <th>Taking_meds</th>\n",
       "    </tr>\n",
       "  </thead>\n",
       "  <tbody>\n",
       "    <tr>\n",
       "      <th>0</th>\n",
       "      <td>2.0</td>\n",
       "      <td>1.0</td>\n",
       "      <td>3.0</td>\n",
       "      <td>4.0</td>\n",
       "      <td>1.0</td>\n",
       "      <td>1.0</td>\n",
       "      <td>0.0</td>\n",
       "      <td>2.0</td>\n",
       "      <td>0.0</td>\n",
       "      <td>1.0</td>\n",
       "      <td>1.0</td>\n",
       "    </tr>\n",
       "    <tr>\n",
       "      <th>1</th>\n",
       "      <td>3.0</td>\n",
       "      <td>1.0</td>\n",
       "      <td>0.0</td>\n",
       "      <td>4.0</td>\n",
       "      <td>0.0</td>\n",
       "      <td>1.0</td>\n",
       "      <td>0.0</td>\n",
       "      <td>2.0</td>\n",
       "      <td>0.0</td>\n",
       "      <td>1.0</td>\n",
       "      <td>1.0</td>\n",
       "    </tr>\n",
       "    <tr>\n",
       "      <th>2</th>\n",
       "      <td>4.0</td>\n",
       "      <td>1.0</td>\n",
       "      <td>3.0</td>\n",
       "      <td>4.0</td>\n",
       "      <td>2.0</td>\n",
       "      <td>1.0</td>\n",
       "      <td>0.0</td>\n",
       "      <td>2.0</td>\n",
       "      <td>0.0</td>\n",
       "      <td>1.0</td>\n",
       "      <td>2.0</td>\n",
       "    </tr>\n",
       "    <tr>\n",
       "      <th>3</th>\n",
       "      <td>4.0</td>\n",
       "      <td>1.0</td>\n",
       "      <td>3.0</td>\n",
       "      <td>4.0</td>\n",
       "      <td>2.0</td>\n",
       "      <td>1.0</td>\n",
       "      <td>0.0</td>\n",
       "      <td>2.0</td>\n",
       "      <td>0.0</td>\n",
       "      <td>3.0</td>\n",
       "      <td>3.0</td>\n",
       "    </tr>\n",
       "    <tr>\n",
       "      <th>4</th>\n",
       "      <td>1.0</td>\n",
       "      <td>1.0</td>\n",
       "      <td>3.0</td>\n",
       "      <td>4.0</td>\n",
       "      <td>1.0</td>\n",
       "      <td>1.0</td>\n",
       "      <td>0.0</td>\n",
       "      <td>2.0</td>\n",
       "      <td>0.0</td>\n",
       "      <td>1.0</td>\n",
       "      <td>2.0</td>\n",
       "    </tr>\n",
       "  </tbody>\n",
       "</table>\n",
       "</div>"
      ],
      "text/plain": [
       "   Age_group  Area_Type  Highest educational level  Wealth index combined  \\\n",
       "0        2.0        1.0                        3.0                    4.0   \n",
       "1        3.0        1.0                        0.0                    4.0   \n",
       "2        4.0        1.0                        3.0                    4.0   \n",
       "3        4.0        1.0                        3.0                    4.0   \n",
       "4        1.0        1.0                        3.0                    4.0   \n",
       "\n",
       "   Anemia level  Have mosquito net  Smokes cigarettes  Current marital status  \\\n",
       "0           1.0                1.0                0.0                     2.0   \n",
       "1           0.0                1.0                0.0                     2.0   \n",
       "2           2.0                1.0                0.0                     2.0   \n",
       "3           2.0                1.0                0.0                     2.0   \n",
       "4           1.0                1.0                0.0                     2.0   \n",
       "\n",
       "   living with spouse  Had fever in last two weeks  Taking_meds  \n",
       "0                 0.0                          1.0          1.0  \n",
       "1                 0.0                          1.0          1.0  \n",
       "2                 0.0                          1.0          2.0  \n",
       "3                 0.0                          3.0          3.0  \n",
       "4                 0.0                          1.0          2.0  "
      ]
     },
     "execution_count": 409,
     "metadata": {},
     "output_type": "execute_result"
    }
   ],
   "source": [
    "# Importing necessary library\n",
    "from sklearn.preprocessing import OrdinalEncoder\n",
    "\n",
    "# Initializing OrdinalEncoder\n",
    "ordinal_encoder = OrdinalEncoder()\n",
    "\n",
    "# Applying OrdinalEncoder to categorical columns\n",
    "categorical_cols_encoded = ordinal_encoder.fit_transform(categorical_cols)\n",
    "\n",
    "# Converting the result back to a DataFrame with the same column names\n",
    "categorical_cols_encoded = pd.DataFrame(categorical_cols_encoded, columns=categorical_cols.columns)\n",
    "\n",
    "# Displaying the first few rows of the encoded DataFrame\n",
    "categorical_cols_encoded.head()\n",
    "\n"
   ]
  },
  {
   "cell_type": "code",
   "execution_count": 410,
   "metadata": {},
   "outputs": [
    {
     "data": {
      "text/html": [
       "<div>\n",
       "<style scoped>\n",
       "    .dataframe tbody tr th:only-of-type {\n",
       "        vertical-align: middle;\n",
       "    }\n",
       "\n",
       "    .dataframe tbody tr th {\n",
       "        vertical-align: top;\n",
       "    }\n",
       "\n",
       "    .dataframe thead th {\n",
       "        text-align: right;\n",
       "    }\n",
       "</style>\n",
       "<table border=\"1\" class=\"dataframe\">\n",
       "  <thead>\n",
       "    <tr style=\"text-align: right;\">\n",
       "      <th></th>\n",
       "      <th>Age_group</th>\n",
       "      <th>Area_Type</th>\n",
       "      <th>Highest educational level</th>\n",
       "      <th>Wealth index combined</th>\n",
       "      <th>Anemia level</th>\n",
       "      <th>Have mosquito net</th>\n",
       "      <th>Smokes cigarettes</th>\n",
       "      <th>Current marital status</th>\n",
       "      <th>living with spouse</th>\n",
       "      <th>Had fever in last two weeks</th>\n",
       "      <th>Taking_meds</th>\n",
       "    </tr>\n",
       "  </thead>\n",
       "  <tbody>\n",
       "    <tr>\n",
       "      <th>0</th>\n",
       "      <td>2</td>\n",
       "      <td>1</td>\n",
       "      <td>3</td>\n",
       "      <td>4</td>\n",
       "      <td>1</td>\n",
       "      <td>1</td>\n",
       "      <td>0</td>\n",
       "      <td>2</td>\n",
       "      <td>0</td>\n",
       "      <td>1</td>\n",
       "      <td>1</td>\n",
       "    </tr>\n",
       "    <tr>\n",
       "      <th>1</th>\n",
       "      <td>3</td>\n",
       "      <td>1</td>\n",
       "      <td>0</td>\n",
       "      <td>4</td>\n",
       "      <td>0</td>\n",
       "      <td>1</td>\n",
       "      <td>0</td>\n",
       "      <td>2</td>\n",
       "      <td>0</td>\n",
       "      <td>1</td>\n",
       "      <td>1</td>\n",
       "    </tr>\n",
       "    <tr>\n",
       "      <th>2</th>\n",
       "      <td>4</td>\n",
       "      <td>1</td>\n",
       "      <td>3</td>\n",
       "      <td>4</td>\n",
       "      <td>2</td>\n",
       "      <td>1</td>\n",
       "      <td>0</td>\n",
       "      <td>2</td>\n",
       "      <td>0</td>\n",
       "      <td>1</td>\n",
       "      <td>2</td>\n",
       "    </tr>\n",
       "    <tr>\n",
       "      <th>3</th>\n",
       "      <td>4</td>\n",
       "      <td>1</td>\n",
       "      <td>3</td>\n",
       "      <td>4</td>\n",
       "      <td>2</td>\n",
       "      <td>1</td>\n",
       "      <td>0</td>\n",
       "      <td>2</td>\n",
       "      <td>0</td>\n",
       "      <td>3</td>\n",
       "      <td>3</td>\n",
       "    </tr>\n",
       "    <tr>\n",
       "      <th>4</th>\n",
       "      <td>1</td>\n",
       "      <td>1</td>\n",
       "      <td>3</td>\n",
       "      <td>4</td>\n",
       "      <td>1</td>\n",
       "      <td>1</td>\n",
       "      <td>0</td>\n",
       "      <td>2</td>\n",
       "      <td>0</td>\n",
       "      <td>1</td>\n",
       "      <td>2</td>\n",
       "    </tr>\n",
       "  </tbody>\n",
       "</table>\n",
       "</div>"
      ],
      "text/plain": [
       "   Age_group  Area_Type  Highest educational level  Wealth index combined  \\\n",
       "0          2          1                          3                      4   \n",
       "1          3          1                          0                      4   \n",
       "2          4          1                          3                      4   \n",
       "3          4          1                          3                      4   \n",
       "4          1          1                          3                      4   \n",
       "\n",
       "   Anemia level  Have mosquito net  Smokes cigarettes  Current marital status  \\\n",
       "0             1                  1                  0                       2   \n",
       "1             0                  1                  0                       2   \n",
       "2             2                  1                  0                       2   \n",
       "3             2                  1                  0                       2   \n",
       "4             1                  1                  0                       2   \n",
       "\n",
       "   living with spouse  Had fever in last two weeks  Taking_meds  \n",
       "0                   0                            1            1  \n",
       "1                   0                            1            1  \n",
       "2                   0                            1            2  \n",
       "3                   0                            3            3  \n",
       "4                   0                            1            2  "
      ]
     },
     "execution_count": 410,
     "metadata": {},
     "output_type": "execute_result"
    }
   ],
   "source": [
    "#converting the results of the categorical_cols_encoded to int type\n",
    "\n",
    "categorical_cols_encoded = pd.DataFrame(OrdinalEncoder().fit_transform(categorical_cols), columns=categorical_cols.columns).astype(int)\n",
    "categorical_cols_encoded.head()"
   ]
  },
  {
   "cell_type": "markdown",
   "metadata": {},
   "source": [
    "Now that both our numerical columns and our categorical columns have been clean appropriately, we will now proceed and concatenate the two datasets for further anaysis."
   ]
  },
  {
   "cell_type": "markdown",
   "metadata": {},
   "source": [
    "## 3.3 Concatenate Numrical and Categorical Columns"
   ]
  },
  {
   "cell_type": "code",
   "execution_count": 411,
   "metadata": {},
   "outputs": [
    {
     "name": "stdout",
     "output_type": "stream",
     "text": [
      "(13136, 3)\n",
      "(13136, 11)\n"
     ]
    }
   ],
   "source": [
    "#Checking for the number of rows and colums of the rows datasets before concatenating\n",
    "print(numeric_cols.shape)\n",
    "print(categorical_cols_encoded.shape)\n"
   ]
  },
  {
   "cell_type": "code",
   "execution_count": 412,
   "metadata": {},
   "outputs": [],
   "source": [
    "## resetting the index of both my numerical and the categorical_cols to ensure consistency.\n",
    "numeric_cols.reset_index(drop=True, inplace=True)\n",
    "categorical_cols_encoded.reset_index(drop=True, inplace=True)"
   ]
  },
  {
   "cell_type": "code",
   "execution_count": 413,
   "metadata": {},
   "outputs": [
    {
     "data": {
      "text/plain": [
       "(13136, 14)"
      ]
     },
     "execution_count": 413,
     "metadata": {},
     "output_type": "execute_result"
    }
   ],
   "source": [
    "# concatenating the two datasets\n",
    "anemia_df = pd.concat([numeric_cols, categorical_cols_encoded], axis=1)\n",
    "\n",
    "# displaying the shape of the new combined set to check if it matches the rows f the numerical_cols and the categorical_cols_emcoded\n",
    "anemia_df.shape\n"
   ]
  },
  {
   "cell_type": "code",
   "execution_count": 414,
   "metadata": {},
   "outputs": [
    {
     "data": {
      "text/html": [
       "<div>\n",
       "<style scoped>\n",
       "    .dataframe tbody tr th:only-of-type {\n",
       "        vertical-align: middle;\n",
       "    }\n",
       "\n",
       "    .dataframe tbody tr th {\n",
       "        vertical-align: top;\n",
       "    }\n",
       "\n",
       "    .dataframe thead th {\n",
       "        text-align: right;\n",
       "    }\n",
       "</style>\n",
       "<table border=\"1\" class=\"dataframe\">\n",
       "  <thead>\n",
       "    <tr style=\"text-align: right;\">\n",
       "      <th></th>\n",
       "      <th>Births_last_5y</th>\n",
       "      <th>Age_first_birth</th>\n",
       "      <th>Hemoglobin level</th>\n",
       "      <th>Age_group</th>\n",
       "      <th>Area_Type</th>\n",
       "      <th>Highest educational level</th>\n",
       "      <th>Wealth index combined</th>\n",
       "      <th>Anemia level</th>\n",
       "      <th>Have mosquito net</th>\n",
       "      <th>Smokes cigarettes</th>\n",
       "      <th>Current marital status</th>\n",
       "      <th>living with spouse</th>\n",
       "      <th>Had fever in last two weeks</th>\n",
       "      <th>Taking_meds</th>\n",
       "    </tr>\n",
       "  </thead>\n",
       "  <tbody>\n",
       "    <tr>\n",
       "      <th>3913</th>\n",
       "      <td>2</td>\n",
       "      <td>25</td>\n",
       "      <td>112</td>\n",
       "      <td>3</td>\n",
       "      <td>0</td>\n",
       "      <td>3</td>\n",
       "      <td>2</td>\n",
       "      <td>0</td>\n",
       "      <td>1</td>\n",
       "      <td>0</td>\n",
       "      <td>2</td>\n",
       "      <td>0</td>\n",
       "      <td>1</td>\n",
       "      <td>1</td>\n",
       "    </tr>\n",
       "    <tr>\n",
       "      <th>7981</th>\n",
       "      <td>2</td>\n",
       "      <td>18</td>\n",
       "      <td>131</td>\n",
       "      <td>4</td>\n",
       "      <td>0</td>\n",
       "      <td>1</td>\n",
       "      <td>2</td>\n",
       "      <td>2</td>\n",
       "      <td>1</td>\n",
       "      <td>0</td>\n",
       "      <td>2</td>\n",
       "      <td>0</td>\n",
       "      <td>1</td>\n",
       "      <td>1</td>\n",
       "    </tr>\n",
       "    <tr>\n",
       "      <th>4751</th>\n",
       "      <td>2</td>\n",
       "      <td>17</td>\n",
       "      <td>129</td>\n",
       "      <td>6</td>\n",
       "      <td>1</td>\n",
       "      <td>1</td>\n",
       "      <td>2</td>\n",
       "      <td>2</td>\n",
       "      <td>1</td>\n",
       "      <td>0</td>\n",
       "      <td>2</td>\n",
       "      <td>0</td>\n",
       "      <td>2</td>\n",
       "      <td>1</td>\n",
       "    </tr>\n",
       "    <tr>\n",
       "      <th>2510</th>\n",
       "      <td>1</td>\n",
       "      <td>17</td>\n",
       "      <td>123</td>\n",
       "      <td>0</td>\n",
       "      <td>0</td>\n",
       "      <td>3</td>\n",
       "      <td>1</td>\n",
       "      <td>2</td>\n",
       "      <td>1</td>\n",
       "      <td>0</td>\n",
       "      <td>3</td>\n",
       "      <td>2</td>\n",
       "      <td>1</td>\n",
       "      <td>1</td>\n",
       "    </tr>\n",
       "    <tr>\n",
       "      <th>12237</th>\n",
       "      <td>1</td>\n",
       "      <td>18</td>\n",
       "      <td>69</td>\n",
       "      <td>2</td>\n",
       "      <td>0</td>\n",
       "      <td>3</td>\n",
       "      <td>0</td>\n",
       "      <td>3</td>\n",
       "      <td>1</td>\n",
       "      <td>0</td>\n",
       "      <td>2</td>\n",
       "      <td>0</td>\n",
       "      <td>1</td>\n",
       "      <td>1</td>\n",
       "    </tr>\n",
       "  </tbody>\n",
       "</table>\n",
       "</div>"
      ],
      "text/plain": [
       "       Births_last_5y  Age_first_birth  Hemoglobin level  Age_group  \\\n",
       "3913                2               25               112          3   \n",
       "7981                2               18               131          4   \n",
       "4751                2               17               129          6   \n",
       "2510                1               17               123          0   \n",
       "12237               1               18                69          2   \n",
       "\n",
       "       Area_Type  Highest educational level  Wealth index combined  \\\n",
       "3913           0                          3                      2   \n",
       "7981           0                          1                      2   \n",
       "4751           1                          1                      2   \n",
       "2510           0                          3                      1   \n",
       "12237          0                          3                      0   \n",
       "\n",
       "       Anemia level  Have mosquito net  Smokes cigarettes  \\\n",
       "3913              0                  1                  0   \n",
       "7981              2                  1                  0   \n",
       "4751              2                  1                  0   \n",
       "2510              2                  1                  0   \n",
       "12237             3                  1                  0   \n",
       "\n",
       "       Current marital status  living with spouse  \\\n",
       "3913                        2                   0   \n",
       "7981                        2                   0   \n",
       "4751                        2                   0   \n",
       "2510                        3                   2   \n",
       "12237                       2                   0   \n",
       "\n",
       "       Had fever in last two weeks  Taking_meds  \n",
       "3913                             1            1  \n",
       "7981                             1            1  \n",
       "4751                             2            1  \n",
       "2510                             1            1  \n",
       "12237                            1            1  "
      ]
     },
     "execution_count": 414,
     "metadata": {},
     "output_type": "execute_result"
    }
   ],
   "source": [
    "#displaying the combined dataset\n",
    "anemia_df.sample(n=5)"
   ]
  },
  {
   "cell_type": "markdown",
   "metadata": {},
   "source": [
    "# 4.0 EXPLANATORY DATA ANALYSIS(EDA)"
   ]
  },
  {
   "cell_type": "markdown",
   "metadata": {},
   "source": [
    "Explanatory Data Anlysis involves examining and visualizing the dataset to highlight key characteristics and patterns using statistical graphics.\n",
    "\n"
   ]
  },
  {
   "cell_type": "code",
   "execution_count": 415,
   "metadata": {},
   "outputs": [],
   "source": [
    "#Importing necessary libraries for visualization\n",
    "import matplotlib.pyplot as plt\n",
    "%matplotlib inline\n",
    "import seaborn as sns"
   ]
  },
  {
   "cell_type": "markdown",
   "metadata": {},
   "source": [
    "### 4.1 Distribution of the anemia level."
   ]
  },
  {
   "cell_type": "code",
   "execution_count": 416,
   "metadata": {},
   "outputs": [
    {
     "data": {
      "image/png": "[encoded data removed]",
      "text/plain": [
       "<Figure size 1152x432 with 1 Axes>"
      ]
     },
     "metadata": {
      "needs_background": "light"
     },
     "output_type": "display_data"
    }
   ],
   "source": [
    "# Determine the order of categories based on their frequency, sorted in descending order\n",
    "order = categorical_cols['Anemia level'].value_counts().index.tolist()\n",
    "\n",
    "# Plot the distribution\n",
    "plt.figure(figsize=(16, 6))\n",
    "ax = sns.countplot(data=categorical_cols, x='Anemia level', order=order, color='skyblue')  \n",
    "\n",
    "# Adding counts on top of the bars\n",
    "for p in ax.patches:\n",
    "    ax.annotate(f'{p.get_height()}', \n",
    "                (p.get_x() + p.get_width() / 2., p.get_height()), \n",
    "                ha='center', va='bottom')\n",
    "\n",
    "plt.title(f\"Distribution of Anemia level\")\n",
    "plt.xlabel('Anemia level')\n",
    "plt.ylabel(\"Count\")\n",
    "plt.show()"
   ]
  },
  {
   "cell_type": "code",
   "execution_count": 417,
   "metadata": {},
   "outputs": [
    {
     "data": {
      "image/png": "[encoded data removed]",
      "text/plain": [
       "<Figure size 720x432 with 1 Axes>"
      ]
     },
     "metadata": {},
     "output_type": "display_data"
    }
   ],
   "source": [
    "\n",
    "# Calculate the counts and percentages of the target variable\n",
    "anemia_counts = categorical_cols['Anemia level'].value_counts()\n",
    "anemia_percentages = anemia_counts / anemia_counts.sum() * 100\n",
    "\n",
    "# Define the order for the pie chart\n",
    "order = anemia_counts.index.tolist()\n",
    "\n",
    "# Plotting the pie chart\n",
    "plt.figure(figsize=(10, 6))\n",
    "plt.pie(anemia_percentages[order], labels=order, autopct='%1.1f%%', startangle=140, colors=sns.color_palette(\"Blues\", len(order)))\n",
    "plt.title(\"Percentage Distribution of Anemia Level\")\n",
    "plt.axis('equal')  # Equal aspect ratio ensures that pie is drawn as a circle.\n",
    "plt.show()\n"
   ]
  },
  {
   "cell_type": "markdown",
   "metadata": {},
   "source": [
    "### Creating functions to examine the relationships between anemia levels and other features"
   ]
  },
  {
   "cell_type": "code",
   "execution_count": null,
   "metadata": {},
   "outputs": [],
   "source": [
    "#creating a function to visualize feature distribution against anemia level.\n",
    "def plot_feature_distribution(df, feature, anemia_level='Anemia level'):\n",
    "    \n",
    "    # Create the count plot\n",
    "    plt.figure(figsize=(12, 6))\n",
    "    sns.countplot(data=df, x=feature, hue=anemia_level, palette='viridis')\n",
    "    plt.title(f'Distribution of {feature} Based on {anemia_level}')\n",
    "    plt.xlabel(feature)\n",
    "    plt.ylabel('Count')\n",
    "    plt.legend(title=anemia_level)\n",
    "    \n",
    "    # plt.xticks(rotation=45)\n",
    "    plt.tight_layout()\n",
    "    plt.show()\n"
   ]
  },
  {
   "cell_type": "markdown",
   "metadata": {},
   "source": [
    "### 4.2 Relationship of Anemia level and parent's age_group"
   ]
  },
  {
   "cell_type": "code",
   "execution_count": 419,
   "metadata": {},
   "outputs": [
    {
     "data": {
      "image/png": "[encoded data removed]",
      "text/plain": [
       "<Figure size 864x432 with 1 Axes>"
      ]
     },
     "metadata": {
      "needs_background": "light"
     },
     "output_type": "display_data"
    }
   ],
   "source": [
    "#Anemia level vs parents age group\n",
    "plot_feature_distribution(categorical_cols, 'Age_group') "
   ]
  },
  {
   "cell_type": "markdown",
   "metadata": {},
   "source": [
    "### 4.3 Relationship of Anemia level and Area_Type"
   ]
  },
  {
   "cell_type": "code",
   "execution_count": 420,
   "metadata": {},
   "outputs": [
    {
     "data": {
      "image/png": "[encoded data removed]",
      "text/plain": [
       "<Figure size 864x432 with 1 Axes>"
      ]
     },
     "metadata": {
      "needs_background": "light"
     },
     "output_type": "display_data"
    }
   ],
   "source": [
    "\n",
    "plot_feature_distribution(categorical_cols, 'Area_Type') "
   ]
  },
  {
   "cell_type": "markdown",
   "metadata": {},
   "source": [
    "### 4.4 Relationship of Anemia level and parent's Level of education"
   ]
  },
  {
   "cell_type": "code",
   "execution_count": 421,
   "metadata": {},
   "outputs": [
    {
     "data": {
      "image/png": "[encoded data removed]",
      "text/plain": [
       "<Figure size 864x432 with 1 Axes>"
      ]
     },
     "metadata": {
      "needs_background": "light"
     },
     "output_type": "display_data"
    }
   ],
   "source": [
    "#Anemia level vs Highest educational level\n",
    "plot_feature_distribution(categorical_cols, 'Highest educational level') "
   ]
  },
  {
   "cell_type": "markdown",
   "metadata": {},
   "source": [
    "### 4.5 Relationship of Anemia level and child taking pills"
   ]
  },
  {
   "cell_type": "code",
   "execution_count": 422,
   "metadata": {},
   "outputs": [
    {
     "data": {
      "image/png": "[encoded data removed]",
      "text/plain": [
       "<Figure size 864x432 with 1 Axes>"
      ]
     },
     "metadata": {
      "needs_background": "light"
     },
     "output_type": "display_data"
    }
   ],
   "source": [
    "#Anemia level vs taking_meds\n",
    "plot_feature_distribution(categorical_cols, 'Taking_meds') "
   ]
  },
  {
   "cell_type": "markdown",
   "metadata": {},
   "source": [
    "## 4.4 Heatmap"
   ]
  },
  {
   "cell_type": "code",
   "execution_count": 423,
   "metadata": {},
   "outputs": [
    {
     "data": {
      "image/png": "[encoded data removed]",
      "text/plain": [
       "<Figure size 1008x864 with 2 Axes>"
      ]
     },
     "metadata": {
      "needs_background": "light"
     },
     "output_type": "display_data"
    }
   ],
   "source": [
    "# Correlation heatmap of columns\n",
    "\n",
    "correlation_matrix =  anemia_df.corr()\n",
    "plt.figure(figsize=(14, 12))\n",
    "sns.heatmap(correlation_matrix, annot=True, cmap='coolwarm', vmin=-1, vmax=1)\n",
    "plt.title('Correlation Matrix Heatmap')\n",
    "plt.show()"
   ]
  },
  {
   "cell_type": "markdown",
   "metadata": {},
   "source": [
    "# 5.0 DATA PREPROCESSING"
   ]
  },
  {
   "cell_type": "markdown",
   "metadata": {},
   "source": [
    "## 5.1 Feature Selection"
   ]
  },
  {
   "cell_type": "markdown",
   "metadata": {},
   "source": [
    "Feature selection is the process of identifying and selecting a subset of relevant features from the main dataset. The primary goal of feature selection is to improve the performance of machine learning models by reducing overfitting, improving accuracy, and decreasing training time."
   ]
  },
  {
   "cell_type": "code",
   "execution_count": 424,
   "metadata": {},
   "outputs": [
    {
     "name": "stdout",
     "output_type": "stream",
     "text": [
      "Top 10 features most correlated with 'Anemia level':\n",
      "Hemoglobin level               0.332432\n",
      "Wealth index combined          0.057651\n",
      "Area_Type                      0.050819\n",
      "Age_first_birth                0.035504\n",
      "Age_group                      0.018716\n",
      "Births_last_5y                 0.015711\n",
      "Had fever in last two weeks    0.015612\n",
      "Have mosquito net              0.012576\n",
      "Taking_meds                    0.012134\n",
      "Smokes cigarettes              0.005979\n",
      "Name: Anemia level, dtype: float64\n"
     ]
    }
   ],
   "source": [
    "# Calculate the correlation matrix\n",
    "correlation_matrix = anemia_df.corr()\n",
    "\n",
    "# Get the correlations with the target variable 'Anemia level' and sort them in descending order\n",
    "target_corr = correlation_matrix['Anemia level'].abs().sort_values(ascending=False)\n",
    "\n",
    "# Select the top 10 features that are highly correlated with 'Anemia level', excluding the target itself\n",
    "selected_features = target_corr.index[1:11] \n",
    "\n",
    "# Display the top 10 features and their correlation values\n",
    "selected_features = target_corr[selected_features]\n",
    "\n",
    "print(\"Top 10 features most correlated with 'Anemia level':\")\n",
    "print(selected_features)\n"
   ]
  },
  {
   "cell_type": "markdown",
   "metadata": {},
   "source": [
    "## 5.2 Data Splitting"
   ]
  },
  {
   "cell_type": "markdown",
   "metadata": {},
   "source": [
    "Data splitting invloves dividing the dataset into separate subsets for training and evaluation. The primary goal is to assess how well a model generalizes to unseen data."
   ]
  },
  {
   "cell_type": "code",
   "execution_count": 435,
   "metadata": {},
   "outputs": [],
   "source": [
    "#Importing libraries\n",
    "from sklearn.model_selection import train_test_split\n",
    "\n",
    "# Split the data based on the selected features\n",
    "X = anemia_df[selected_features]  # Feature DataFrame\n",
    "y = anemia_df['Anemia level']      # Target variable\n",
    "\n",
    "# Split the dataset into training and testing sets\n",
    "X_train, X_test, y_train, y_test = train_test_split(X, y, test_size=0.2, random_state=42)\n"
   ]
  },
  {
   "cell_type": "markdown",
   "metadata": {},
   "source": [
    "## 5.3 Handling Class Imbalance\n",
    "\n",
    "Class imbalance occurs in classification problems where the classes in the target variable are not represented equally. In our case, the heights of the bars represent the frequency of each class. Anemia with severity level (with a count of 231) is significantly underrepresented compared to the others. This uneven distribution suggests a class imbalance issue. We will therefore apply the SMOTE technique to adress this issue."
   ]
  },
  {
   "cell_type": "code",
   "execution_count": null,
   "metadata": {},
   "outputs": [
    {
     "name": "stdout",
     "output_type": "stream",
     "text": [
      "Class distribution before SMOTE: Counter({2: 4236, 1: 3156, 0: 2939, 3: 177})\n",
      "Class distribution after SMOTE: Counter({2: 4236, 1: 4236, 0: 4236, 3: 4236})\n"
     ]
    },
    {
     "data": {
      "image/png": "[encoded data removed]",
      "text/plain": [
       "<Figure size 864x360 with 2 Axes>"
      ]
     },
     "metadata": {
      "needs_background": "light"
     },
     "output_type": "display_data"
    }
   ],
   "source": [
    "from imblearn.over_sampling import SMOTE\n",
    "from collections import Counter\n",
    "import matplotlib.pyplot as plt\n",
    "\n",
    "# Check the class distribution before SMOTE\n",
    "print(\"Class distribution before SMOTE:\", Counter(y_train))\n",
    "\n",
    "# Apply SMOTE to the training data\n",
    "smote = SMOTE(random_state=42)\n",
    "X_resampled, y_resampled = smote.fit_resample(X_train, y_train)\n",
    "\n",
    "# Check the class distribution after SMOTE\n",
    "print(\"Class distribution after SMOTE:\", Counter(y_resampled))\n",
    "\n",
    "# Visualize the class distributions before and after SMOTE\n",
    "def plot_class_distribution(y_train, y_resampled):\n",
    "    fig, ax = plt.subplots(1, 2, figsize=(12, 5))\n",
    "\n",
    "    # Original class distribution\n",
    "    ax[0].bar(Counter(y_train).keys(), Counter(y_train).values(), color='blue')\n",
    "    ax[0].set_title('Class Distribution Before SMOTE')\n",
    "    ax[0].set_xlabel('Classes')\n",
    "    ax[0].set_ylabel('Number of Instances')\n",
    "\n",
    "    # Resampled class distribution\n",
    "    ax[1].bar(Counter(y_resampled).keys(), Counter(y_resampled).values(), color='green')\n",
    "    ax[1].set_title('Class Distribution After SMOTE')\n",
    "    ax[1].set_xlabel('Classes')\n",
    "    ax[1].set_ylabel('Number of Instances')\n",
    "\n",
    "    plt.tight_layout()\n",
    "    plt.show()\n",
    "\n",
    "# Call the plotting function\n",
    "plot_class_distribution(y_train, y_resampled)\n",
    "\n"
   ]
  },
  {
   "cell_type": "markdown",
   "metadata": {},
   "source": [
    "# 6.0 MODELLING"
   ]
  }
 ],
 "metadata": {
  "kernelspec": {
   "display_name": "Python (learn-env)",
   "language": "python",
   "name": "learn-env"
  },
  "language_info": {
   "codemirror_mode": {
    "name": "ipython",
    "version": 3
   },
   "file_extension": ".py",
   "mimetype": "text/x-python",
   "name": "python",
   "nbconvert_exporter": "python",
   "pygments_lexer": "ipython3",
   "version": "3.8.5"
  }
 },
 "nbformat": 4,
 "nbformat_minor": 2
}
