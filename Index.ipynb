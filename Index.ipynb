{
 "cells": [
  {
   "cell_type": "markdown",
   "metadata": {},
   "source": [
    "# ANEMIA LEVEL PREDICTION IN CHILDREN"
   ]
  },
  {
   "cell_type": "markdown",
   "metadata": {},
   "source": [
    "### MODEL APPROACH : CRISP-DM"
   ]
  },
  {
   "cell_type": "markdown",
   "metadata": {},
   "source": [
    "### COLABORATORS\n"
   ]
  },
  {
   "cell_type": "markdown",
   "metadata": {},
   "source": [
    "1. Ruth Kitasi\n",
    "\n",
    "2. Agatha Nyambati\n",
    "\n",
    "3. Joseline Apiyo\n",
    "\n",
    "4. Cecilia Ngunjiri\n",
    "\n",
    "5. John Mbego\n",
    "\n",
    "6. Leonard Koyio"
   ]
  },
  {
   "cell_type": "markdown",
   "metadata": {},
   "source": [
    "<!-- from IPython.display import display, HTML -->\n",
    "\n",
    "<img src=\"anemic_child.jpg\" width=\"800\">\n"
   ]
  },
  {
   "cell_type": "markdown",
   "metadata": {},
   "source": [
    "# <font color=\"#a63603\"><b>1.0 BUSINESS UNDERSTANDING</b><font>"
   ]
  },
  {
   "cell_type": "markdown",
   "metadata": {},
   "source": [
    "## <font color=\"#e6550d\"><b>1.1 Introduction</b><font>"
   ]
  },
  {
   "cell_type": "markdown",
   "metadata": {},
   "source": [
    "Anemia is a major public health concern globally, and its effects are especially pronounced among children under five, where it poses risks to growth, cognitive development, and immune health.\n",
    "Defined as a condition characterized by lower-than-normal hemoglobin (Hb) levels, anemia limits oxygen transport in the blood, which can lead to significant health complications.The World Health Organization estimates that 42% of children worldwide in this age group are anemic, predominantly due to iron deficiency, poor diet, and infections. Anemia in young children can lead to developmental delays, weakened immunity, and long-term health issues if left untreated. Socioeconomic factors, including access to quality food and healthcare, play a significant role in these high rates, with the most severe impacts observed in low- and middle-income countries.\n",
    "\n",
    "The African continent bears a disproportionate burden of anemia among children, with an estimated 60-80% prevalence in children under five. Causes include malnutrition, high prevalence of infectious diseases (like malaria and hookworm), and poor maternal health. Socioeconomic factors such as poverty, lack of healthcare, and limited access to nutritious food exacerbate the condition. Sub-Saharan Africa, in particular, faces a high prevalence due to ongoing challenges with food security, healthcare infrastructure, and education around health practices.\n",
    "\n",
    " Nigeria represents one of the highest anemia burdens in Africa, with an estimated 68% of children under five affected. Factors contributing to anemia in Nigerian children include limited access to nutritious foods, recurrent infections, and inadequate healthcare, especially in rural and low-income areas. Socioeconomic determinants, such as low household income, education levels, and lack of access to clean water, also contribute to anemia's prevalence among Nigerian children, impacting their physical and cognitive development. Addressing anemia in Nigeria is essential, given its long-term effects on individual health and its broader implications for national development."
   ]
  },
  {
   "cell_type": "markdown",
   "metadata": {},
   "source": [
    "\n",
    "## <font color=\"#e6550d\"><b>1.2 Problem Statement</b><font>"
   ]
  },
  {
   "cell_type": "markdown",
   "metadata": {},
   "source": [
    "\n",
    "Childhood anemia is a critical public health issue,  ([World Health Organisation](https://www.who.int/data/gho/data/indicators/indicator-details/GHO/prevalence-of-anaemia-in-children-under-5-years-(-))), leading to adverse impacts on cognitive and physical development, educational attainment, and overall quality of life. Despite its prevalence, anemia in Nigerian children often goes undiagnosed and untreated due to limited healthcare access, high diagnostic costs, and a lack of awareness about the condition([UNICEF, 2021](https://www.unicef.org/nigeria/reports/childhood-anemia-report)). This situation calls for innovative, accessible approaches to early diagnosis and intervention to reduce the burden of anemia and improve the health outcomes of vulnerable children across Nigeria.This project seeks to address this gap by developing a classification model to predict the severity of anemia in Nigerian children up to 59 months old. The model will analyze key socioeconomic indicators to determine which factors most significantly contribute to the risk and severity of anemia in this vulnerable population.By identifying these primary contributors, the model aims to empower healthcare professionals, public health organizations, and policymakers with actionable insights. The ultimate goal is to enable more targeted and effective interventions that address  the socioeconomic roots of anemia."
   ]
  },
  {
   "cell_type": "markdown",
   "metadata": {},
   "source": [
    "## <font color=\"#e6550d\"><b>1.3 Hypothesis.</b><font>"
   ]
  },
  {
   "cell_type": "markdown",
   "metadata": {},
   "source": [
    "- The prevalence of anemia in children is inversely related to the education level, health awareness, and weight of the child, as influenced by parental knowledge and practices.\n",
    "\n",
    "- Children in rural areas have a higher risk of anemia and may also exhibit lower weight averages compared to those in urban areas, due to potential disparities in nutrition, healthcare access, and socio-economic conditions.\n"
   ]
  },
  {
   "cell_type": "markdown",
   "metadata": {},
   "source": [
    "## <font color=\"#e6550d\"><b>1.4 Objectives</b><font>\n"
   ]
  },
  {
   "cell_type": "markdown",
   "metadata": {},
   "source": [
    "1. `Develop a classification model for Anemia severity in children`:Creating a predictive model that classifies the severity of anemia in children under 56 months in Nigeria, distinguishing between mild, moderate, and severe cases. This model will be designed to handle various input factors, primarily socioeconomic variables, to enhance its practical application in identifying at-risk populations.\n",
    "\n",
    "2. `Identify key socioeconomic determinants influencing Anemia severity`:Conduct in-depth analysis to pinpoint the specific socioeconomic factors that have the most significant impact on anemia severity among young Nigerian children. \n",
    "\n",
    "3. `Evaluate the model’s predictive accuracy for effective Public Health Use`:Assess the model’s predictive performance using appropriate metrics to ensure high accuracy and reliability to provide a robust tool that healthcare professionals can rely on to anticipate anemia cases and determine the required intervention level.\n",
    "\n",
    "4. `Classify and Monitor Anemia Severity Level`:susing the model to classify anemia cases into severity levels (mild, moderate, severe) based on hemoglobin levels. By tracking these severity levels, the project aims to provide insights that can guide resource prioritization and enable healthcare providers to tailor interventions according to the specific needs of each severity group.\n",
    "\n",
    "5. `Provide Actionable Insights for Targeted Interventions`:Utilize the model’s findings to produce actionable insights that healthcare organizations and policymakers can leverage to develop targeted anemia prevention and treatment programs. \n",
    "\n",
    "6. `Support Long-Term Policy Development for Anemia Reduction`:Contribute to long-term health planning by providing data-backed recommendations for policy measures addressing the socioeconomic root causes of anemia."
   ]
  },
  {
   "cell_type": "markdown",
   "metadata": {},
   "source": [
    "\n",
    "# <font color=\"#a63603\"><b>2.0 DATA UNDERSTANDING</b><font>"
   ]
  },
  {
   "cell_type": "markdown",
   "metadata": {},
   "source": [
    "Data understanding is a critical step in the data analysis process, providing a structured approach to ensure that the data utilized is not only relevant and reliable but also thoroughly comprehended. This foundational phase is essential for making informed decisions during subsequent stages of analysis and modeling.\n",
    "Key areas of focus will include:-\n",
    "\n",
    " - `Exploring the source of the data`to dentify where the data comes from. Understanding the source helps assess potential biases and the context in which the data was gathered.\n",
    "\n",
    " - `Loading and inspecting the dataset`using functions to view the first few rows, generate overview of data types, null values, data distribution, central tendencies, and variability, which are crucial for understanding the dataset's overall characteristics.\n",
    "\n",
    " - `Clearly define each column` in the dataset to understand what each variable represents.\n",
    "\n",
    " - Giving `observations` obtained from data inspection\n",
    "\n",
    " - Listing possible `limitations of the dataset`"
   ]
  },
  {
   "cell_type": "markdown",
   "metadata": {},
   "source": [
    "\n",
    "## <font color=\"#e6550d\"><b>2.1 Data Source Exploration</b><font>"
   ]
  },
  {
   "cell_type": "markdown",
   "metadata": {},
   "source": [
    "The data is obtained from the  2018 Nigeria Demographic and Health Surveys. The Nigeria Demogrphic and Health survey  is a comprehensive survey designed to provide essential data on the health and demographic status of Nigeria's population.The NDHS aims to inform policymakers and health planners by offering up-to-date and reliable data that reflects the country's demographic trends and health conditions.\n",
    "\n",
    "Surveys were collected to answer research questions about the effect of mothers' age and other socioeconomic factors on children aged 0-59 months anemia level in Nigeria.39% of chilren whose parents filled the survey were tested for Anemia level, a potion which we will explore to built our classification model. The targeted population in this study are children aged 0-59 months and mothers aged 15-49 years.\n"
   ]
  },
  {
   "cell_type": "markdown",
   "metadata": {},
   "source": [
    "\n",
    "## <font color=\"#e6550d\"><b>2.2 Loading and Inspecting dataset</b><font>"
   ]
  },
  {
   "cell_type": "code",
   "execution_count": 199,
   "metadata": {},
   "outputs": [],
   "source": [
    "# Import necessary libraries\n",
    "\n",
    "#We choose to import libraries only when they are needed to track their usage and keep the code organized.\n",
    "\n",
    "import pandas as pd\n",
    "import numpy as np"
   ]
  },
  {
   "cell_type": "code",
   "execution_count": 200,
   "metadata": {},
   "outputs": [],
   "source": [
    "# loading th  dataset\n",
    "df=pd.read_csv('anemia_dataset.csv')"
   ]
  },
  {
   "cell_type": "code",
   "execution_count": 201,
   "metadata": {},
   "outputs": [
    {
     "data": {
      "text/html": [
       "<div>\n",
       "<style scoped>\n",
       "    .dataframe tbody tr th:only-of-type {\n",
       "        vertical-align: middle;\n",
       "    }\n",
       "\n",
       "    .dataframe tbody tr th {\n",
       "        vertical-align: top;\n",
       "    }\n",
       "\n",
       "    .dataframe thead th {\n",
       "        text-align: right;\n",
       "    }\n",
       "</style>\n",
       "<table border=\"1\" class=\"dataframe\">\n",
       "  <thead>\n",
       "    <tr style=\"text-align: right;\">\n",
       "      <th></th>\n",
       "      <th>Age in 5-year groups</th>\n",
       "      <th>Type of place of residence</th>\n",
       "      <th>Highest educational level</th>\n",
       "      <th>Wealth index combined</th>\n",
       "      <th>Births in last five years</th>\n",
       "      <th>Age of respondent at 1st birth</th>\n",
       "      <th>Hemoglobin level adjusted for altitude and smoking (g/dl - 1 decimal)</th>\n",
       "      <th>Anemia level</th>\n",
       "      <th>Have mosquito bed net for sleeping (from household questionnaire)</th>\n",
       "      <th>Smokes cigarettes</th>\n",
       "      <th>Current marital status</th>\n",
       "      <th>Currently residing with husband/partner</th>\n",
       "      <th>When child put to breast</th>\n",
       "      <th>Had fever in last two weeks</th>\n",
       "      <th>Hemoglobin level adjusted for altitude (g/dl - 1 decimal)</th>\n",
       "      <th>Anemia level.1</th>\n",
       "      <th>Taking iron pills, sprinkles or syrup</th>\n",
       "    </tr>\n",
       "  </thead>\n",
       "  <tbody>\n",
       "    <tr>\n",
       "      <th>0</th>\n",
       "      <td>40-44</td>\n",
       "      <td>Urban</td>\n",
       "      <td>Higher</td>\n",
       "      <td>Richest</td>\n",
       "      <td>1</td>\n",
       "      <td>22</td>\n",
       "      <td>NaN</td>\n",
       "      <td>NaN</td>\n",
       "      <td>Yes</td>\n",
       "      <td>No</td>\n",
       "      <td>Living with partner</td>\n",
       "      <td>Staying elsewhere</td>\n",
       "      <td>Immediately</td>\n",
       "      <td>No</td>\n",
       "      <td>NaN</td>\n",
       "      <td>NaN</td>\n",
       "      <td>Yes</td>\n",
       "    </tr>\n",
       "    <tr>\n",
       "      <th>1</th>\n",
       "      <td>35-39</td>\n",
       "      <td>Urban</td>\n",
       "      <td>Higher</td>\n",
       "      <td>Richest</td>\n",
       "      <td>1</td>\n",
       "      <td>28</td>\n",
       "      <td>NaN</td>\n",
       "      <td>NaN</td>\n",
       "      <td>Yes</td>\n",
       "      <td>No</td>\n",
       "      <td>Married</td>\n",
       "      <td>Living with her</td>\n",
       "      <td>Hours: 1</td>\n",
       "      <td>No</td>\n",
       "      <td>NaN</td>\n",
       "      <td>NaN</td>\n",
       "      <td>No</td>\n",
       "    </tr>\n",
       "    <tr>\n",
       "      <th>2</th>\n",
       "      <td>25-29</td>\n",
       "      <td>Urban</td>\n",
       "      <td>Higher</td>\n",
       "      <td>Richest</td>\n",
       "      <td>1</td>\n",
       "      <td>26</td>\n",
       "      <td>NaN</td>\n",
       "      <td>NaN</td>\n",
       "      <td>No</td>\n",
       "      <td>No</td>\n",
       "      <td>Married</td>\n",
       "      <td>Living with her</td>\n",
       "      <td>Immediately</td>\n",
       "      <td>No</td>\n",
       "      <td>NaN</td>\n",
       "      <td>NaN</td>\n",
       "      <td>No</td>\n",
       "    </tr>\n",
       "    <tr>\n",
       "      <th>3</th>\n",
       "      <td>25-29</td>\n",
       "      <td>Urban</td>\n",
       "      <td>Secondary</td>\n",
       "      <td>Richest</td>\n",
       "      <td>1</td>\n",
       "      <td>25</td>\n",
       "      <td>95.0</td>\n",
       "      <td>Moderate</td>\n",
       "      <td>Yes</td>\n",
       "      <td>No</td>\n",
       "      <td>Married</td>\n",
       "      <td>Living with her</td>\n",
       "      <td>105</td>\n",
       "      <td>No</td>\n",
       "      <td>114.0</td>\n",
       "      <td>Not anemic</td>\n",
       "      <td>No</td>\n",
       "    </tr>\n",
       "    <tr>\n",
       "      <th>4</th>\n",
       "      <td>20-24</td>\n",
       "      <td>Urban</td>\n",
       "      <td>Secondary</td>\n",
       "      <td>Richest</td>\n",
       "      <td>1</td>\n",
       "      <td>21</td>\n",
       "      <td>NaN</td>\n",
       "      <td>NaN</td>\n",
       "      <td>Yes</td>\n",
       "      <td>No</td>\n",
       "      <td>No longer living together/separated</td>\n",
       "      <td>NaN</td>\n",
       "      <td>Immediately</td>\n",
       "      <td>No</td>\n",
       "      <td>NaN</td>\n",
       "      <td>NaN</td>\n",
       "      <td>No</td>\n",
       "    </tr>\n",
       "  </tbody>\n",
       "</table>\n",
       "</div>"
      ],
      "text/plain": [
       "  Age in 5-year groups Type of place of residence Highest educational level  \\\n",
       "0                40-44                      Urban                    Higher   \n",
       "1                35-39                      Urban                    Higher   \n",
       "2                25-29                      Urban                    Higher   \n",
       "3                25-29                      Urban                 Secondary   \n",
       "4                20-24                      Urban                 Secondary   \n",
       "\n",
       "  Wealth index combined  Births in last five years  \\\n",
       "0               Richest                          1   \n",
       "1               Richest                          1   \n",
       "2               Richest                          1   \n",
       "3               Richest                          1   \n",
       "4               Richest                          1   \n",
       "\n",
       "   Age of respondent at 1st birth  \\\n",
       "0                              22   \n",
       "1                              28   \n",
       "2                              26   \n",
       "3                              25   \n",
       "4                              21   \n",
       "\n",
       "   Hemoglobin level adjusted for altitude and smoking (g/dl - 1 decimal)  \\\n",
       "0                                                NaN                       \n",
       "1                                                NaN                       \n",
       "2                                                NaN                       \n",
       "3                                               95.0                       \n",
       "4                                                NaN                       \n",
       "\n",
       "  Anemia level  \\\n",
       "0          NaN   \n",
       "1          NaN   \n",
       "2          NaN   \n",
       "3     Moderate   \n",
       "4          NaN   \n",
       "\n",
       "  Have mosquito bed net for sleeping (from household questionnaire)  \\\n",
       "0                                                Yes                  \n",
       "1                                                Yes                  \n",
       "2                                                 No                  \n",
       "3                                                Yes                  \n",
       "4                                                Yes                  \n",
       "\n",
       "  Smokes cigarettes               Current marital status  \\\n",
       "0                No                  Living with partner   \n",
       "1                No                              Married   \n",
       "2                No                              Married   \n",
       "3                No                              Married   \n",
       "4                No  No longer living together/separated   \n",
       "\n",
       "  Currently residing with husband/partner When child put to breast  \\\n",
       "0                       Staying elsewhere              Immediately   \n",
       "1                         Living with her                 Hours: 1   \n",
       "2                         Living with her              Immediately   \n",
       "3                         Living with her                      105   \n",
       "4                                     NaN              Immediately   \n",
       "\n",
       "  Had fever in last two weeks  \\\n",
       "0                          No   \n",
       "1                          No   \n",
       "2                          No   \n",
       "3                          No   \n",
       "4                          No   \n",
       "\n",
       "   Hemoglobin level adjusted for altitude (g/dl - 1 decimal) Anemia level.1  \\\n",
       "0                                                NaN                    NaN   \n",
       "1                                                NaN                    NaN   \n",
       "2                                                NaN                    NaN   \n",
       "3                                              114.0             Not anemic   \n",
       "4                                                NaN                    NaN   \n",
       "\n",
       "  Taking iron pills, sprinkles or syrup  \n",
       "0                                   Yes  \n",
       "1                                    No  \n",
       "2                                    No  \n",
       "3                                    No  \n",
       "4                                    No  "
      ]
     },
     "execution_count": 201,
     "metadata": {},
     "output_type": "execute_result"
    }
   ],
   "source": [
    "# viewing the first few rows of the dataset\n",
    "df.head()"
   ]
  },
  {
   "cell_type": "code",
   "execution_count": 202,
   "metadata": {},
   "outputs": [
    {
     "name": "stdout",
     "output_type": "stream",
     "text": [
      "The dataset has:\n",
      " 33924 number of rows and \n",
      " 17 number of columns\n"
     ]
    }
   ],
   "source": [
    "# checking for the number of rows and columns of the dataset\n",
    "\n",
    "rows, columns = df.shape\n",
    "\n",
    "print(f'The dataset has:\\n {rows} number of rows and \\n {columns} number of columns')"
   ]
  },
  {
   "cell_type": "code",
   "execution_count": 203,
   "metadata": {},
   "outputs": [
    {
     "name": "stdout",
     "output_type": "stream",
     "text": [
      "<class 'pandas.core.frame.DataFrame'>\n",
      "RangeIndex: 33924 entries, 0 to 33923\n",
      "Data columns (total 17 columns):\n",
      " #   Column                                                                 Non-Null Count  Dtype  \n",
      "---  ------                                                                 --------------  -----  \n",
      " 0   Age in 5-year groups                                                   33924 non-null  object \n",
      " 1   Type of place of residence                                             33924 non-null  object \n",
      " 2   Highest educational level                                              33924 non-null  object \n",
      " 3   Wealth index combined                                                  33924 non-null  object \n",
      " 4   Births in last five years                                              33924 non-null  int64  \n",
      " 5   Age of respondent at 1st birth                                         33924 non-null  int64  \n",
      " 6   Hemoglobin level adjusted for altitude and smoking (g/dl - 1 decimal)  13136 non-null  float64\n",
      " 7   Anemia level                                                           13136 non-null  object \n",
      " 8   Have mosquito bed net for sleeping (from household questionnaire)      33924 non-null  object \n",
      " 9   Smokes cigarettes                                                      33924 non-null  object \n",
      " 10  Current marital status                                                 33924 non-null  object \n",
      " 11  Currently residing with husband/partner                                32226 non-null  object \n",
      " 12  When child put to breast                                               21168 non-null  object \n",
      " 13  Had fever in last two weeks                                            30713 non-null  object \n",
      " 14  Hemoglobin level adjusted for altitude (g/dl - 1 decimal)              10182 non-null  float64\n",
      " 15  Anemia level.1                                                         10182 non-null  object \n",
      " 16  Taking iron pills, sprinkles or syrup                                  30713 non-null  object \n",
      "dtypes: float64(2), int64(2), object(13)\n",
      "memory usage: 4.4+ MB\n"
     ]
    }
   ],
   "source": [
    "#Generating an overview of the structure of the dataset\n",
    "\n",
    "df.info()"
   ]
  },
  {
   "cell_type": "code",
   "execution_count": 204,
   "metadata": {},
   "outputs": [
    {
     "data": {
      "text/plain": [
       "object     13\n",
       "int64       2\n",
       "float64     2\n",
       "dtype: int64"
      ]
     },
     "execution_count": 204,
     "metadata": {},
     "output_type": "execute_result"
    }
   ],
   "source": [
    "#Determining the number of datatypes in our dataset\n",
    "\n",
    "df.dtypes.value_counts()"
   ]
  },
  {
   "cell_type": "code",
   "execution_count": 205,
   "metadata": {},
   "outputs": [
    {
     "data": {
      "text/html": [
       "<div>\n",
       "<style scoped>\n",
       "    .dataframe tbody tr th:only-of-type {\n",
       "        vertical-align: middle;\n",
       "    }\n",
       "\n",
       "    .dataframe tbody tr th {\n",
       "        vertical-align: top;\n",
       "    }\n",
       "\n",
       "    .dataframe thead th {\n",
       "        text-align: right;\n",
       "    }\n",
       "</style>\n",
       "<table border=\"1\" class=\"dataframe\">\n",
       "  <thead>\n",
       "    <tr style=\"text-align: right;\">\n",
       "      <th></th>\n",
       "      <th>Births in last five years</th>\n",
       "      <th>Age of respondent at 1st birth</th>\n",
       "      <th>Hemoglobin level adjusted for altitude and smoking (g/dl - 1 decimal)</th>\n",
       "      <th>Hemoglobin level adjusted for altitude (g/dl - 1 decimal)</th>\n",
       "    </tr>\n",
       "  </thead>\n",
       "  <tbody>\n",
       "    <tr>\n",
       "      <th>count</th>\n",
       "      <td>33924.000000</td>\n",
       "      <td>33924.000000</td>\n",
       "      <td>13136.000000</td>\n",
       "      <td>10182.000000</td>\n",
       "    </tr>\n",
       "    <tr>\n",
       "      <th>mean</th>\n",
       "      <td>1.823783</td>\n",
       "      <td>19.570776</td>\n",
       "      <td>114.367235</td>\n",
       "      <td>101.270183</td>\n",
       "    </tr>\n",
       "    <tr>\n",
       "      <th>std</th>\n",
       "      <td>0.705460</td>\n",
       "      <td>4.313172</td>\n",
       "      <td>15.915408</td>\n",
       "      <td>15.569583</td>\n",
       "    </tr>\n",
       "    <tr>\n",
       "      <th>min</th>\n",
       "      <td>1.000000</td>\n",
       "      <td>12.000000</td>\n",
       "      <td>20.000000</td>\n",
       "      <td>29.000000</td>\n",
       "    </tr>\n",
       "    <tr>\n",
       "      <th>25%</th>\n",
       "      <td>1.000000</td>\n",
       "      <td>16.000000</td>\n",
       "      <td>105.000000</td>\n",
       "      <td>92.000000</td>\n",
       "    </tr>\n",
       "    <tr>\n",
       "      <th>50%</th>\n",
       "      <td>2.000000</td>\n",
       "      <td>19.000000</td>\n",
       "      <td>115.000000</td>\n",
       "      <td>103.000000</td>\n",
       "    </tr>\n",
       "    <tr>\n",
       "      <th>75%</th>\n",
       "      <td>2.000000</td>\n",
       "      <td>22.000000</td>\n",
       "      <td>125.000000</td>\n",
       "      <td>112.000000</td>\n",
       "    </tr>\n",
       "    <tr>\n",
       "      <th>max</th>\n",
       "      <td>6.000000</td>\n",
       "      <td>48.000000</td>\n",
       "      <td>218.000000</td>\n",
       "      <td>170.000000</td>\n",
       "    </tr>\n",
       "  </tbody>\n",
       "</table>\n",
       "</div>"
      ],
      "text/plain": [
       "       Births in last five years  Age of respondent at 1st birth  \\\n",
       "count               33924.000000                    33924.000000   \n",
       "mean                    1.823783                       19.570776   \n",
       "std                     0.705460                        4.313172   \n",
       "min                     1.000000                       12.000000   \n",
       "25%                     1.000000                       16.000000   \n",
       "50%                     2.000000                       19.000000   \n",
       "75%                     2.000000                       22.000000   \n",
       "max                     6.000000                       48.000000   \n",
       "\n",
       "       Hemoglobin level adjusted for altitude and smoking (g/dl - 1 decimal)  \\\n",
       "count                                       13136.000000                       \n",
       "mean                                          114.367235                       \n",
       "std                                            15.915408                       \n",
       "min                                            20.000000                       \n",
       "25%                                           105.000000                       \n",
       "50%                                           115.000000                       \n",
       "75%                                           125.000000                       \n",
       "max                                           218.000000                       \n",
       "\n",
       "       Hemoglobin level adjusted for altitude (g/dl - 1 decimal)  \n",
       "count                                       10182.000000          \n",
       "mean                                          101.270183          \n",
       "std                                            15.569583          \n",
       "min                                            29.000000          \n",
       "25%                                            92.000000          \n",
       "50%                                           103.000000          \n",
       "75%                                           112.000000          \n",
       "max                                           170.000000          "
      ]
     },
     "execution_count": 205,
     "metadata": {},
     "output_type": "execute_result"
    }
   ],
   "source": [
    "# Generating  descriptive statistics of the numeric columns\n",
    "\n",
    "df.describe() "
   ]
  },
  {
   "cell_type": "code",
   "execution_count": 206,
   "metadata": {},
   "outputs": [
    {
     "data": {
      "text/plain": [
       "Index(['Age in 5-year groups', 'Type of place of residence',\n",
       "       'Highest educational level', 'Wealth index combined',\n",
       "       'Births in last five years', 'Age of respondent at 1st birth',\n",
       "       'Hemoglobin level adjusted for altitude and smoking (g/dl - 1 decimal)',\n",
       "       'Anemia level',\n",
       "       'Have mosquito bed net for sleeping (from household questionnaire)',\n",
       "       'Smokes cigarettes', 'Current marital status',\n",
       "       'Currently residing with husband/partner', 'When child put to breast',\n",
       "       'Had fever in last two weeks',\n",
       "       'Hemoglobin level adjusted for altitude (g/dl - 1 decimal)',\n",
       "       'Anemia level.1', 'Taking iron pills, sprinkles or syrup'],\n",
       "      dtype='object')"
      ]
     },
     "execution_count": 206,
     "metadata": {},
     "output_type": "execute_result"
    }
   ],
   "source": [
    "#listing the names of the columns\n",
    "df.columns"
   ]
  },
  {
   "cell_type": "code",
   "execution_count": 207,
   "metadata": {},
   "outputs": [],
   "source": [
    "#Describing the colums names "
   ]
  },
  {
   "cell_type": "markdown",
   "metadata": {},
   "source": [
    "| Column Name                                           | Description                                                                                       |\n",
    "|------------------------------------------------------|---------------------------------------------------------------------------------------------------|\n",
    "| Age in 5-year groups                                 | Age of the mother, categorized into 5-year intervals.                                           |\n",
    "| Type of place of residence                           | Residential classification: Urban or Rural.                                                     |\n",
    "| Highest educational level                            | Mother's highest educational attainment, e.g., \"No Education\", \"Secondary\".                     |\n",
    "| Wealth index combined                                | Economic status of the mother, ranked as \"Poorest\", \"Poorer\", etc.                             |\n",
    "| Births in last five years                            | Count of live births by the mother in the past five years.                                      |\n",
    "| Age of respondent at 1st birth                       | Mother's age at her first live birth.                                                            |\n",
    "| Hemoglobin level adjusted for altitude and smoking    | Hemoglobin level in g/dL, adjusted for altitude and smoking status.                            |\n",
    "| Anemia level                                         | Categorical anemia status of the child (e.g., \"Not anemic\", \"Mild\", \"Moderate\", \"Severe\").     |\n",
    "| Have mosquito bed net for sleeping                   | Presence of a mosquito net in the household (True/False).                                       |\n",
    "| Smokes cigarettes                                    | Mother's smoking status (True/False).                                                            |\n",
    "| Current marital status                               | Mother's marital status (e.g., \"Married\", \"Single\").                                           |\n",
    "| Currently residing with husband/partner              | Co-habitation status with spouse or partner (True/False).                                       |\n",
    "| When child put to breast                             | Timing of initial breastfeeding (hours after birth).                                             |\n",
    "| Had fever in last two weeks                          | Fever incidence in the child during the past two weeks (True/False).                           |\n",
    "| Hemoglobin level adjusted for altitude (g/dl)       | Hemoglobin level in g/dL, adjusted solely for altitude.                                         |\n",
    "| Anemia level.1                                      | Alternative or duplicate anemia categorization.                                                  |\n",
    "| Taking iron pills, sprinkles or syrup                | Iron supplementation status of the child (True/False).                                          |\n"
   ]
  },
  {
   "cell_type": "markdown",
   "metadata": {},
   "source": [
    " ## <font color=\"#e6550d\"><b>2.3 Observations</b><font>"
   ]
  },
  {
   "cell_type": "markdown",
   "metadata": {},
   "source": [
    "- Upon examining the initial rows of the dataset, it becomes evident that several columns contain missing values, necessitating appropriate imputation methods during the data cleaning process.\n",
    "\n",
    "- The dataset comprises 33,924 rows and 17 columns, providing a substantial foundation for analysis.\n",
    "\n",
    "- The data types within the dataset include a mix of objects, int64, and float64, indicating a variety of categorical and numerical data. This diversity allows for different analytical approaches tailored to each data type.\n",
    "\n",
    "- The statistical summary using the describe()method, reveals that the average age at first birth among respondents is relatively young, accompanied by a moderate mean number of births in the last five years. Notably, the hemoglobin levels indicate varying degrees of anemia across the population, with significant variability in both adjusted and unadjusted values. This underscores the importance of further investigation into the socioeconomic and health-related factors that contribute to these health outcomes.\n",
    "\n"
   ]
  },
  {
   "cell_type": "markdown",
   "metadata": {},
   "source": [
    "\n",
    " ## <font color=\"#e6550d\"><b>2.4 Data Limitation</b><font>"
   ]
  },
  {
   "cell_type": "markdown",
   "metadata": {},
   "source": [
    "1. `Data quality and completeness`: Incomplete or poorly collected data can hinder accurate analysis. Missing values, inconsistencies, or errors in the dataset may result in biased outcomes or misinterpretations. A study by the World Bank (2018) highlights that data collection in resource-limited settings often lacks standardization and can be subject to human error.\n",
    "\n",
    "2. `Sample size and representativeness`: Limited sample sizes or non-representative samples can affect the generalizability of the findings. If the data collected is skewed towards specific demographics (e.g., urban versus rural populations), the results may not accurately reflect the broader population. This challenge is particularly noted in studies conducted in developing countries where access to comprehensive datasets can be restricted \n",
    "\n",
    "3. `Socioeconomic data limitations`: Socioeconomic factors may be underreported or inaccurately recorded, especially in informal settlements or among marginalized populations. Factors such as income, education level, and access to healthcare are crucial for understanding anemia severity but may be inadequately captured in surveys.\n",
    "\n",
    "4. `Temporal factors`: Anemia levels and their socioeconomic determinants may change over time due to policy changes, economic fluctuations, or health interventions. Data that is not longitudinal may fail to capture these dynamics, leading to outdated conclusions..\n",
    "\n",
    "5. `Cultural and behavioral factors`: Anemia research often relies on self-reported data regarding dietary habits, health-seeking behaviors, and utilization of healthcare services. Cultural biases or reluctance to disclose certain behaviors can affect the reliability of this information."
   ]
  },
  {
   "cell_type": "markdown",
   "metadata": {},
   "source": [
    "\n",
    "\n",
    "# <font color=\"#a63603\"><b>3.0 DATA CLEANING</b><font>"
   ]
  },
  {
   "cell_type": "markdown",
   "metadata": {},
   "source": [
    "Data cleaning involves identifying and correcting inaccuracies or inconsistencies in data to improve its quality and reliability for analysis and modeling.We will separate the data into two subsets—one for `numerical variables`and the other for `categorical variables`. By isolating them, we will apply cleaning procedures independently, ensuring that each subset is processed according to its unique requirements.\n",
    "\n",
    "\n",
    "- Checking and handling for missing values.\n",
    "- Dropping unncessary  columns and rows.\n",
    "- Renaming columns.\n",
    "- Encoding categorical columns\n",
    "- changing datatypes for consistency.\n"
   ]
  },
  {
   "cell_type": "markdown",
   "metadata": {},
   "source": [
    "\n",
    "  \n",
    " ## <font color=\"#e6550d\"><b>3.1. Data cleaning on numerical columns</b><font>"
   ]
  },
  {
   "cell_type": "markdown",
   "metadata": {},
   "source": [
    "First, we will begin by separating integer and float columns from the main DataFrame to create a subset called numerical_cols."
   ]
  },
  {
   "cell_type": "code",
   "execution_count": 208,
   "metadata": {},
   "outputs": [
    {
     "data": {
      "text/html": [
       "<div>\n",
       "<style scoped>\n",
       "    .dataframe tbody tr th:only-of-type {\n",
       "        vertical-align: middle;\n",
       "    }\n",
       "\n",
       "    .dataframe tbody tr th {\n",
       "        vertical-align: top;\n",
       "    }\n",
       "\n",
       "    .dataframe thead th {\n",
       "        text-align: right;\n",
       "    }\n",
       "</style>\n",
       "<table border=\"1\" class=\"dataframe\">\n",
       "  <thead>\n",
       "    <tr style=\"text-align: right;\">\n",
       "      <th></th>\n",
       "      <th>Births in last five years</th>\n",
       "      <th>Age of respondent at 1st birth</th>\n",
       "      <th>Hemoglobin level adjusted for altitude and smoking (g/dl - 1 decimal)</th>\n",
       "      <th>Hemoglobin level adjusted for altitude (g/dl - 1 decimal)</th>\n",
       "    </tr>\n",
       "  </thead>\n",
       "  <tbody>\n",
       "    <tr>\n",
       "      <th>5346</th>\n",
       "      <td>1</td>\n",
       "      <td>24</td>\n",
       "      <td>137.0</td>\n",
       "      <td>122.0</td>\n",
       "    </tr>\n",
       "    <tr>\n",
       "      <th>15172</th>\n",
       "      <td>2</td>\n",
       "      <td>20</td>\n",
       "      <td>NaN</td>\n",
       "      <td>NaN</td>\n",
       "    </tr>\n",
       "    <tr>\n",
       "      <th>24259</th>\n",
       "      <td>2</td>\n",
       "      <td>22</td>\n",
       "      <td>114.0</td>\n",
       "      <td>81.0</td>\n",
       "    </tr>\n",
       "    <tr>\n",
       "      <th>14549</th>\n",
       "      <td>1</td>\n",
       "      <td>19</td>\n",
       "      <td>NaN</td>\n",
       "      <td>NaN</td>\n",
       "    </tr>\n",
       "    <tr>\n",
       "      <th>13849</th>\n",
       "      <td>3</td>\n",
       "      <td>22</td>\n",
       "      <td>NaN</td>\n",
       "      <td>NaN</td>\n",
       "    </tr>\n",
       "  </tbody>\n",
       "</table>\n",
       "</div>"
      ],
      "text/plain": [
       "       Births in last five years  Age of respondent at 1st birth  \\\n",
       "5346                           1                              24   \n",
       "15172                          2                              20   \n",
       "24259                          2                              22   \n",
       "14549                          1                              19   \n",
       "13849                          3                              22   \n",
       "\n",
       "       Hemoglobin level adjusted for altitude and smoking (g/dl - 1 decimal)  \\\n",
       "5346                                               137.0                       \n",
       "15172                                                NaN                       \n",
       "24259                                              114.0                       \n",
       "14549                                                NaN                       \n",
       "13849                                                NaN                       \n",
       "\n",
       "       Hemoglobin level adjusted for altitude (g/dl - 1 decimal)  \n",
       "5346                                               122.0          \n",
       "15172                                                NaN          \n",
       "24259                                               81.0          \n",
       "14549                                                NaN          \n",
       "13849                                                NaN          "
      ]
     },
     "execution_count": 208,
     "metadata": {},
     "output_type": "execute_result"
    }
   ],
   "source": [
    "# Separate numerical columns (int and float types)\n",
    "numeric_cols = df.select_dtypes(include=['int64', 'float64'])\n",
    "\n",
    "numeric_cols.sample(n=5)\n"
   ]
  },
  {
   "cell_type": "markdown",
   "metadata": {},
   "source": [
    "### 3.1 (a) `Checking missing values`"
   ]
  },
  {
   "cell_type": "code",
   "execution_count": 209,
   "metadata": {},
   "outputs": [
    {
     "name": "stdout",
     "output_type": "stream",
     "text": [
      "True\n"
     ]
    }
   ],
   "source": [
    "if numeric_cols.isnull().value_counts:\n",
    "    print(True)\n",
    "else:\n",
    "    print(None)"
   ]
  },
  {
   "cell_type": "markdown",
   "metadata": {},
   "source": [
    "Our check for missing values returned **True**, confirming the presence of missing data in our numerical_cols dataset. We will now quantify the missing values by calculating the count and percentage for each column, then sort the results in descending order to prioritize columns with the highest missing values."
   ]
  },
  {
   "cell_type": "code",
   "execution_count": 210,
   "metadata": {},
   "outputs": [
    {
     "data": {
      "text/plain": [
       "Hemoglobin level adjusted for altitude (g/dl - 1 decimal)                23742\n",
       "Hemoglobin level adjusted for altitude and smoking (g/dl - 1 decimal)    20788\n",
       "Age of respondent at 1st birth                                               0\n",
       "Births in last five years                                                    0\n",
       "dtype: int64"
      ]
     },
     "execution_count": 210,
     "metadata": {},
     "output_type": "execute_result"
    }
   ],
   "source": [
    "#Calculating the sum of missing values for each column\n",
    "\n",
    "numeric_cols.isnull().sum().sort_values(ascending=False)\n"
   ]
  },
  {
   "cell_type": "markdown",
   "metadata": {},
   "source": [
    "### 3.1(b) `Dropping unnecesary columns`"
   ]
  },
  {
   "cell_type": "markdown",
   "metadata": {},
   "source": [
    "Given that we identified two columns containing target information during our inspection, we will proceed by removing the Hemoglobin level adjusted for altitude (g/dl - 1 decimal) which has the highest number of missing."
   ]
  },
  {
   "cell_type": "markdown",
   "metadata": {},
   "source": [
    "<!-- Given that we identified two columns containing target information during our inspection, we will proceed by removing the Hemoglobin level adjusted for altitude (g/dl - 1 decimal) which has the highest number of missing. This column reflects maternal data directly associated with anemia level, which is outside our primary focus on child-specific indicators. We will instead retain and clean the `Hemoglobin level adjusted for altitude (g/dl - 1 decimal)` column, as it directly pertains to the child's anemia level -->"
   ]
  },
  {
   "cell_type": "code",
   "execution_count": 211,
   "metadata": {},
   "outputs": [],
   "source": [
    "# Make a copy to avoid the warning\n",
    "numeric_cols = numeric_cols.copy()\n",
    "\n",
    "# Now safely drop the column\n",
    "numeric_cols.drop(['Hemoglobin level adjusted for altitude (g/dl - 1 decimal)'], axis=1, inplace=True)\n"
   ]
  },
  {
   "cell_type": "markdown",
   "metadata": {},
   "source": [
    "### 3.1(c) `Dropping rows with missing values`"
   ]
  },
  {
   "cell_type": "markdown",
   "metadata": {},
   "source": [
    "For the Hemoglobin level adjusted for altitude smoking (g/dl - 1 decimal) column, we will drop rows with missing values, as they correspond directly to the missing values in the Anemia Level column identified during the data inspection phase. This approach will preserve the structural integrity of our dataset."
   ]
  },
  {
   "cell_type": "code",
   "execution_count": 212,
   "metadata": {},
   "outputs": [
    {
     "data": {
      "text/plain": [
       "Births in last five years                                                0\n",
       "Age of respondent at 1st birth                                           0\n",
       "Hemoglobin level adjusted for altitude and smoking (g/dl - 1 decimal)    0\n",
       "dtype: int64"
      ]
     },
     "execution_count": 212,
     "metadata": {},
     "output_type": "execute_result"
    }
   ],
   "source": [
    "# Dropping rows with missing values in the numeric_cols dataset\n",
    "numeric_cols = numeric_cols.dropna()\n",
    "\n",
    "# checking to confirm that my numerical_cols dataset has no missing values\n",
    "numeric_cols.isnull().sum()"
   ]
  },
  {
   "cell_type": "markdown",
   "metadata": {},
   "source": [
    "### 3.1(d) `Renaming columns`"
   ]
  },
  {
   "cell_type": "code",
   "execution_count": 213,
   "metadata": {},
   "outputs": [
    {
     "data": {
      "text/html": [
       "<div>\n",
       "<style scoped>\n",
       "    .dataframe tbody tr th:only-of-type {\n",
       "        vertical-align: middle;\n",
       "    }\n",
       "\n",
       "    .dataframe tbody tr th {\n",
       "        vertical-align: top;\n",
       "    }\n",
       "\n",
       "    .dataframe thead th {\n",
       "        text-align: right;\n",
       "    }\n",
       "</style>\n",
       "<table border=\"1\" class=\"dataframe\">\n",
       "  <thead>\n",
       "    <tr style=\"text-align: right;\">\n",
       "      <th></th>\n",
       "      <th>Births_last_5y</th>\n",
       "      <th>Age_first_birth</th>\n",
       "      <th>Hemoglobin level</th>\n",
       "    </tr>\n",
       "  </thead>\n",
       "  <tbody>\n",
       "    <tr>\n",
       "      <th>3</th>\n",
       "      <td>1</td>\n",
       "      <td>25</td>\n",
       "      <td>95.0</td>\n",
       "    </tr>\n",
       "    <tr>\n",
       "      <th>5</th>\n",
       "      <td>1</td>\n",
       "      <td>30</td>\n",
       "      <td>113.0</td>\n",
       "    </tr>\n",
       "    <tr>\n",
       "      <th>6</th>\n",
       "      <td>2</td>\n",
       "      <td>32</td>\n",
       "      <td>121.0</td>\n",
       "    </tr>\n",
       "    <tr>\n",
       "      <th>7</th>\n",
       "      <td>2</td>\n",
       "      <td>32</td>\n",
       "      <td>121.0</td>\n",
       "    </tr>\n",
       "    <tr>\n",
       "      <th>9</th>\n",
       "      <td>1</td>\n",
       "      <td>19</td>\n",
       "      <td>108.0</td>\n",
       "    </tr>\n",
       "  </tbody>\n",
       "</table>\n",
       "</div>"
      ],
      "text/plain": [
       "   Births_last_5y  Age_first_birth  Hemoglobin level\n",
       "3               1               25              95.0\n",
       "5               1               30             113.0\n",
       "6               2               32             121.0\n",
       "7               2               32             121.0\n",
       "9               1               19             108.0"
      ]
     },
     "execution_count": 213,
     "metadata": {},
     "output_type": "execute_result"
    }
   ],
   "source": [
    "#Renaming columns to improve clarity\n",
    "\n",
    "numeric_cols.rename(columns={\n",
    "    'Births in last five years':'Births_last_5y',\n",
    "    'Age of respondent at 1st birth':'Age_first_birth',\n",
    "    'Hemoglobin level adjusted for altitude and smoking (g/dl - 1 decimal)':'Hemoglobin level'\n",
    "}, inplace=True)\n",
    "\n",
    "# Display the updated DataFrame\n",
    "numeric_cols.head()"
   ]
  },
  {
   "cell_type": "markdown",
   "metadata": {},
   "source": [
    "### 3.1(e) `Datatype conversion`"
   ]
  },
  {
   "cell_type": "code",
   "execution_count": 214,
   "metadata": {},
   "outputs": [],
   "source": [
    "#converting the 'Hemoglobin level' to and int\n",
    "numeric_cols['Hemoglobin level'] = numeric_cols['Hemoglobin level'].astype(int)"
   ]
  },
  {
   "cell_type": "code",
   "execution_count": 215,
   "metadata": {},
   "outputs": [
    {
     "name": "stdout",
     "output_type": "stream",
     "text": [
      "   Births_last_5y  Age_first_birth  Hemoglobin level\n",
      "3               1               25                95\n",
      "5               1               30               113\n",
      "6               2               32               121\n",
      "7               2               32               121\n",
      "9               1               19               108\n",
      "(13136, 3)\n"
     ]
    }
   ],
   "source": [
    "# Inspecting the final dataset of the numeric cols.\n",
    "print(numeric_cols.head())\n",
    "print(numeric_cols.shape)"
   ]
  },
  {
   "cell_type": "markdown",
   "metadata": {},
   "source": [
    "## Obsevations"
   ]
  },
  {
   "cell_type": "markdown",
   "metadata": {},
   "source": [
    "- All columns are fully populated, with no missing values, guaranteeing that analyses conducted on this DataFrame will leverage the entirety of the dataset.\n",
    "\n",
    "- The total number of rows has been significantly reduced from 33,924 to 13,136.This imply that during the survey, approximately 40% of chilren were actually tested for the anemia level, while the rest only the parents information was collected.\n",
    "\n",
    "- The DataFrame exhibits efficient memory usage, making it highly manageable for computational tasks and data transformations."
   ]
  },
  {
   "cell_type": "markdown",
   "metadata": {},
   "source": [
    "   ## <font color=\"#e6550d\"><b>3.2 Data cleaning on categorical columns</b><font>"
   ]
  },
  {
   "cell_type": "code",
   "execution_count": 216,
   "metadata": {},
   "outputs": [
    {
     "data": {
      "text/html": [
       "<div>\n",
       "<style scoped>\n",
       "    .dataframe tbody tr th:only-of-type {\n",
       "        vertical-align: middle;\n",
       "    }\n",
       "\n",
       "    .dataframe tbody tr th {\n",
       "        vertical-align: top;\n",
       "    }\n",
       "\n",
       "    .dataframe thead th {\n",
       "        text-align: right;\n",
       "    }\n",
       "</style>\n",
       "<table border=\"1\" class=\"dataframe\">\n",
       "  <thead>\n",
       "    <tr style=\"text-align: right;\">\n",
       "      <th></th>\n",
       "      <th>Age in 5-year groups</th>\n",
       "      <th>Type of place of residence</th>\n",
       "      <th>Highest educational level</th>\n",
       "      <th>Wealth index combined</th>\n",
       "      <th>Anemia level</th>\n",
       "      <th>Have mosquito bed net for sleeping (from household questionnaire)</th>\n",
       "      <th>Smokes cigarettes</th>\n",
       "      <th>Current marital status</th>\n",
       "      <th>Currently residing with husband/partner</th>\n",
       "      <th>When child put to breast</th>\n",
       "      <th>Had fever in last two weeks</th>\n",
       "      <th>Anemia level.1</th>\n",
       "      <th>Taking iron pills, sprinkles or syrup</th>\n",
       "    </tr>\n",
       "  </thead>\n",
       "  <tbody>\n",
       "    <tr>\n",
       "      <th>0</th>\n",
       "      <td>40-44</td>\n",
       "      <td>Urban</td>\n",
       "      <td>Higher</td>\n",
       "      <td>Richest</td>\n",
       "      <td>NaN</td>\n",
       "      <td>Yes</td>\n",
       "      <td>No</td>\n",
       "      <td>Living with partner</td>\n",
       "      <td>Staying elsewhere</td>\n",
       "      <td>Immediately</td>\n",
       "      <td>No</td>\n",
       "      <td>NaN</td>\n",
       "      <td>Yes</td>\n",
       "    </tr>\n",
       "    <tr>\n",
       "      <th>1</th>\n",
       "      <td>35-39</td>\n",
       "      <td>Urban</td>\n",
       "      <td>Higher</td>\n",
       "      <td>Richest</td>\n",
       "      <td>NaN</td>\n",
       "      <td>Yes</td>\n",
       "      <td>No</td>\n",
       "      <td>Married</td>\n",
       "      <td>Living with her</td>\n",
       "      <td>Hours: 1</td>\n",
       "      <td>No</td>\n",
       "      <td>NaN</td>\n",
       "      <td>No</td>\n",
       "    </tr>\n",
       "    <tr>\n",
       "      <th>2</th>\n",
       "      <td>25-29</td>\n",
       "      <td>Urban</td>\n",
       "      <td>Higher</td>\n",
       "      <td>Richest</td>\n",
       "      <td>NaN</td>\n",
       "      <td>No</td>\n",
       "      <td>No</td>\n",
       "      <td>Married</td>\n",
       "      <td>Living with her</td>\n",
       "      <td>Immediately</td>\n",
       "      <td>No</td>\n",
       "      <td>NaN</td>\n",
       "      <td>No</td>\n",
       "    </tr>\n",
       "    <tr>\n",
       "      <th>3</th>\n",
       "      <td>25-29</td>\n",
       "      <td>Urban</td>\n",
       "      <td>Secondary</td>\n",
       "      <td>Richest</td>\n",
       "      <td>Moderate</td>\n",
       "      <td>Yes</td>\n",
       "      <td>No</td>\n",
       "      <td>Married</td>\n",
       "      <td>Living with her</td>\n",
       "      <td>105</td>\n",
       "      <td>No</td>\n",
       "      <td>Not anemic</td>\n",
       "      <td>No</td>\n",
       "    </tr>\n",
       "    <tr>\n",
       "      <th>4</th>\n",
       "      <td>20-24</td>\n",
       "      <td>Urban</td>\n",
       "      <td>Secondary</td>\n",
       "      <td>Richest</td>\n",
       "      <td>NaN</td>\n",
       "      <td>Yes</td>\n",
       "      <td>No</td>\n",
       "      <td>No longer living together/separated</td>\n",
       "      <td>NaN</td>\n",
       "      <td>Immediately</td>\n",
       "      <td>No</td>\n",
       "      <td>NaN</td>\n",
       "      <td>No</td>\n",
       "    </tr>\n",
       "  </tbody>\n",
       "</table>\n",
       "</div>"
      ],
      "text/plain": [
       "  Age in 5-year groups Type of place of residence Highest educational level  \\\n",
       "0                40-44                      Urban                    Higher   \n",
       "1                35-39                      Urban                    Higher   \n",
       "2                25-29                      Urban                    Higher   \n",
       "3                25-29                      Urban                 Secondary   \n",
       "4                20-24                      Urban                 Secondary   \n",
       "\n",
       "  Wealth index combined Anemia level  \\\n",
       "0               Richest          NaN   \n",
       "1               Richest          NaN   \n",
       "2               Richest          NaN   \n",
       "3               Richest     Moderate   \n",
       "4               Richest          NaN   \n",
       "\n",
       "  Have mosquito bed net for sleeping (from household questionnaire)  \\\n",
       "0                                                Yes                  \n",
       "1                                                Yes                  \n",
       "2                                                 No                  \n",
       "3                                                Yes                  \n",
       "4                                                Yes                  \n",
       "\n",
       "  Smokes cigarettes               Current marital status  \\\n",
       "0                No                  Living with partner   \n",
       "1                No                              Married   \n",
       "2                No                              Married   \n",
       "3                No                              Married   \n",
       "4                No  No longer living together/separated   \n",
       "\n",
       "  Currently residing with husband/partner When child put to breast  \\\n",
       "0                       Staying elsewhere              Immediately   \n",
       "1                         Living with her                 Hours: 1   \n",
       "2                         Living with her              Immediately   \n",
       "3                         Living with her                      105   \n",
       "4                                     NaN              Immediately   \n",
       "\n",
       "  Had fever in last two weeks Anemia level.1  \\\n",
       "0                          No            NaN   \n",
       "1                          No            NaN   \n",
       "2                          No            NaN   \n",
       "3                          No     Not anemic   \n",
       "4                          No            NaN   \n",
       "\n",
       "  Taking iron pills, sprinkles or syrup  \n",
       "0                                   Yes  \n",
       "1                                    No  \n",
       "2                                    No  \n",
       "3                                    No  \n",
       "4                                    No  "
      ]
     },
     "execution_count": 216,
     "metadata": {},
     "output_type": "execute_result"
    }
   ],
   "source": [
    "# Separate categorical columns (object and category types)\n",
    "categorical_cols = df.select_dtypes(include=['object', 'category'])\n",
    "categorical_cols.head()"
   ]
  },
  {
   "cell_type": "markdown",
   "metadata": {},
   "source": [
    "### 3.2 (a) `Checking missing values`"
   ]
  },
  {
   "cell_type": "code",
   "execution_count": 217,
   "metadata": {},
   "outputs": [
    {
     "name": "stdout",
     "output_type": "stream",
     "text": [
      "True\n"
     ]
    }
   ],
   "source": [
    "#checking for missing values\n",
    "if categorical_cols.isnull().value_counts:\n",
    "    print(True)\n",
    "else:\n",
    "    print(None)"
   ]
  },
  {
   "cell_type": "markdown",
   "metadata": {},
   "source": [
    "Our check for missing values returned **True**, confirming the presence of missing data in our numerical_cols dataset. We will now quantify the missing values by calculating the count and percentage for each column, then sort the results in descending order to prioritize columns with the highest missing values."
   ]
  },
  {
   "cell_type": "code",
   "execution_count": 218,
   "metadata": {},
   "outputs": [
    {
     "data": {
      "text/plain": [
       "Anemia level.1                                                       23742\n",
       "Anemia level                                                         20788\n",
       "When child put to breast                                             12756\n",
       "Taking iron pills, sprinkles or syrup                                 3211\n",
       "Had fever in last two weeks                                           3211\n",
       "Currently residing with husband/partner                               1698\n",
       "Current marital status                                                   0\n",
       "Smokes cigarettes                                                        0\n",
       "Have mosquito bed net for sleeping (from household questionnaire)        0\n",
       "Wealth index combined                                                    0\n",
       "Highest educational level                                                0\n",
       "Type of place of residence                                               0\n",
       "Age in 5-year groups                                                     0\n",
       "dtype: int64"
      ]
     },
     "execution_count": 218,
     "metadata": {},
     "output_type": "execute_result"
    }
   ],
   "source": [
    "# Calculating the number of missing values in each categorical column\n",
    "categorical_cols_col_missing_val = categorical_cols.isnull().sum().sort_values(ascending=False)\n",
    "\n",
    "# Display the sorted result\n",
    "categorical_cols_col_missing_val"
   ]
  },
  {
   "cell_type": "markdown",
   "metadata": {},
   "source": [
    "### 3.2 (b) `Dropping unnecessary columns`"
   ]
  },
  {
   "cell_type": "markdown",
   "metadata": {},
   "source": [
    "Based on the output, we will start by dropping the `When child put to breast` and `Anemia level.1`columns from our categorical_cols DataFrame. The When child put to breast column is considered vague, and the Anemia level column is redundant as it corresponds to the Hemoglobin level adjusted for altitude (g/dl - 1 decimal)/smoke column, which we previously removed during the numerical data processing"
   ]
  },
  {
   "cell_type": "code",
   "execution_count": 219,
   "metadata": {},
   "outputs": [
    {
     "data": {
      "text/plain": [
       "Index(['Age in 5-year groups', 'Type of place of residence',\n",
       "       'Highest educational level', 'Wealth index combined', 'Anemia level',\n",
       "       'Have mosquito bed net for sleeping (from household questionnaire)',\n",
       "       'Smokes cigarettes', 'Current marital status',\n",
       "       'Currently residing with husband/partner', 'When child put to breast',\n",
       "       'Had fever in last two weeks', 'Anemia level.1',\n",
       "       'Taking iron pills, sprinkles or syrup'],\n",
       "      dtype='object')"
      ]
     },
     "execution_count": 219,
     "metadata": {},
     "output_type": "execute_result"
    }
   ],
   "source": [
    "categorical_cols.columns"
   ]
  },
  {
   "cell_type": "code",
   "execution_count": 220,
   "metadata": {},
   "outputs": [
    {
     "data": {
      "text/plain": [
       "Anemia level                                                         20788\n",
       "Taking iron pills, sprinkles or syrup                                 3211\n",
       "Had fever in last two weeks                                           3211\n",
       "Currently residing with husband/partner                               1698\n",
       "Current marital status                                                   0\n",
       "Have mosquito bed net for sleeping (from household questionnaire)        0\n",
       "Wealth index combined                                                    0\n",
       "Highest educational level                                                0\n",
       "Type of place of residence                                               0\n",
       "Age in 5-year groups                                                     0\n",
       "dtype: int64"
      ]
     },
     "execution_count": 220,
     "metadata": {},
     "output_type": "execute_result"
    }
   ],
   "source": [
    "# Dropping unnecessary columns safely\n",
    "categorical_cols = categorical_cols.loc[:, ~categorical_cols.columns.isin(['When child put to breast', 'Anemia level.1','Smokes cigarettes'])]\n",
    "\n",
    "categorical_cols.isnull().sum().sort_values(ascending=False)\n"
   ]
  },
  {
   "cell_type": "markdown",
   "metadata": {},
   "source": [
    "### 3.2 (c) `Categorical columns Imputation`"
   ]
  },
  {
   "cell_type": "markdown",
   "metadata": {},
   "source": [
    "Now that we have 4 columns with missing value, we will fill the these columns with the value `unkown` except the anemia level"
   ]
  },
  {
   "cell_type": "code",
   "execution_count": 221,
   "metadata": {},
   "outputs": [
    {
     "data": {
      "text/plain": [
       "Age in 5-year groups                                                     0\n",
       "Type of place of residence                                               0\n",
       "Highest educational level                                                0\n",
       "Wealth index combined                                                    0\n",
       "Anemia level                                                         20788\n",
       "Have mosquito bed net for sleeping (from household questionnaire)        0\n",
       "Current marital status                                                   0\n",
       "Currently residing with husband/partner                                  0\n",
       "Had fever in last two weeks                                              0\n",
       "Taking iron pills, sprinkles or syrup                                    0\n",
       "dtype: int64"
      ]
     },
     "execution_count": 221,
     "metadata": {},
     "output_type": "execute_result"
    }
   ],
   "source": [
    "# Defining the columns to fill with 'unknown'\n",
    "columns_to_fill = [\n",
    "    'Taking iron pills, sprinkles or syrup',\n",
    "    'Had fever in last two weeks',\n",
    "    'Currently residing with husband/partner'\n",
    "]\n",
    "\n",
    "# Filling empty cells with 'unknown'\n",
    "categorical_cols[columns_to_fill] = categorical_cols[columns_to_fill].fillna('unknown')\n",
    "\n",
    "#Displaying the columns after imputing empty collumns of selected columns with 'unknown'\n",
    "categorical_cols.isnull().sum()"
   ]
  },
  {
   "cell_type": "markdown",
   "metadata": {},
   "source": [
    "### 3.2 (d) `Dropping rows with missing values`"
   ]
  },
  {
   "cell_type": "markdown",
   "metadata": {},
   "source": [
    "After imputation, we notice that the number of empty values in `Anemia Level` is equal to the number of empty values in `Hemoglobin level adjusted for altitude and smoking (g/dl - 1 decimal`.We will proceed and drop the rows with missing values to keep our dataset structure compact"
   ]
  },
  {
   "cell_type": "code",
   "execution_count": 222,
   "metadata": {},
   "outputs": [
    {
     "data": {
      "text/plain": [
       "Age in 5-year groups                                                 0\n",
       "Type of place of residence                                           0\n",
       "Highest educational level                                            0\n",
       "Wealth index combined                                                0\n",
       "Anemia level                                                         0\n",
       "Have mosquito bed net for sleeping (from household questionnaire)    0\n",
       "Current marital status                                               0\n",
       "Currently residing with husband/partner                              0\n",
       "Had fever in last two weeks                                          0\n",
       "Taking iron pills, sprinkles or syrup                                0\n",
       "dtype: int64"
      ]
     },
     "execution_count": 222,
     "metadata": {},
     "output_type": "execute_result"
    }
   ],
   "source": [
    "#dropping empty values of Hemoglobin level adjusted for altitude (g/dl - 1 decimal) column\n",
    "categorical_cols= categorical_cols.dropna()\n",
    "\n",
    "\n",
    "# checking to confirm that my numerical_cols dataset has no missing values\n",
    "categorical_cols.isnull().sum()"
   ]
  },
  {
   "cell_type": "markdown",
   "metadata": {},
   "source": [
    "### 3.1 (e) `Renaming columns`"
   ]
  },
  {
   "cell_type": "code",
   "execution_count": 223,
   "metadata": {},
   "outputs": [
    {
     "data": {
      "text/html": [
       "<div>\n",
       "<style scoped>\n",
       "    .dataframe tbody tr th:only-of-type {\n",
       "        vertical-align: middle;\n",
       "    }\n",
       "\n",
       "    .dataframe tbody tr th {\n",
       "        vertical-align: top;\n",
       "    }\n",
       "\n",
       "    .dataframe thead th {\n",
       "        text-align: right;\n",
       "    }\n",
       "</style>\n",
       "<table border=\"1\" class=\"dataframe\">\n",
       "  <thead>\n",
       "    <tr style=\"text-align: right;\">\n",
       "      <th></th>\n",
       "      <th>Age_group</th>\n",
       "      <th>Area_Type</th>\n",
       "      <th>Education level</th>\n",
       "      <th>Wealth</th>\n",
       "      <th>Anemia level</th>\n",
       "      <th>Mosquito net</th>\n",
       "      <th>Marital status</th>\n",
       "      <th>Living with spouse</th>\n",
       "      <th>Had fever</th>\n",
       "      <th>Taking_meds</th>\n",
       "    </tr>\n",
       "  </thead>\n",
       "  <tbody>\n",
       "    <tr>\n",
       "      <th>3</th>\n",
       "      <td>25-29</td>\n",
       "      <td>Urban</td>\n",
       "      <td>Secondary</td>\n",
       "      <td>Richest</td>\n",
       "      <td>Moderate</td>\n",
       "      <td>Yes</td>\n",
       "      <td>Married</td>\n",
       "      <td>Living with her</td>\n",
       "      <td>No</td>\n",
       "      <td>No</td>\n",
       "    </tr>\n",
       "    <tr>\n",
       "      <th>5</th>\n",
       "      <td>30-34</td>\n",
       "      <td>Urban</td>\n",
       "      <td>Higher</td>\n",
       "      <td>Richest</td>\n",
       "      <td>Mild</td>\n",
       "      <td>Yes</td>\n",
       "      <td>Married</td>\n",
       "      <td>Living with her</td>\n",
       "      <td>No</td>\n",
       "      <td>No</td>\n",
       "    </tr>\n",
       "    <tr>\n",
       "      <th>6</th>\n",
       "      <td>35-39</td>\n",
       "      <td>Urban</td>\n",
       "      <td>Secondary</td>\n",
       "      <td>Richest</td>\n",
       "      <td>Not anemic</td>\n",
       "      <td>Yes</td>\n",
       "      <td>Married</td>\n",
       "      <td>Living with her</td>\n",
       "      <td>No</td>\n",
       "      <td>Yes</td>\n",
       "    </tr>\n",
       "  </tbody>\n",
       "</table>\n",
       "</div>"
      ],
      "text/plain": [
       "  Age_group Area_Type Education level   Wealth Anemia level Mosquito net  \\\n",
       "3     25-29     Urban       Secondary  Richest     Moderate          Yes   \n",
       "5     30-34     Urban          Higher  Richest         Mild          Yes   \n",
       "6     35-39     Urban       Secondary  Richest   Not anemic          Yes   \n",
       "\n",
       "  Marital status Living with spouse Had fever Taking_meds  \n",
       "3        Married    Living with her        No          No  \n",
       "5        Married    Living with her        No          No  \n",
       "6        Married    Living with her        No         Yes  "
      ]
     },
     "execution_count": 223,
     "metadata": {},
     "output_type": "execute_result"
    }
   ],
   "source": [
    "categorical_cols.rename(columns={'Have mosquito bed net for sleeping (from household questionnaire)':'Mosquito net','Highest educational level':'Education level',\n",
    "                                 'Wealth index combined':'Wealth','Currently residing with husband/partner':'Living with spouse','Type of place of residence':'Area_Type',\n",
    "                                 'Taking iron pills, sprinkles or syrup':'Taking_meds','Age in 5-year groups':'Age_group','Anemia level.1':'Anemia level',\n",
    "                                 'Had fever in last two weeks':'Had fever','Current marital status':'Marital status'}, inplace=True)\n",
    "\n",
    "# Display the updated DataFrame\n",
    "categorical_cols.head(3)"
   ]
  },
  {
   "cell_type": "markdown",
   "metadata": {},
   "source": [
    "### 3.2 (f) `Encoding categorical columns`"
   ]
  },
  {
   "cell_type": "markdown",
   "metadata": {},
   "source": [
    "Encoding categorical columns is the process of transforming categorical (non-numeric) data into a numerical format so that it can be used effectively in machine learning models and other analytical processes that require numerical inputs. Since our categorical colums contains a meaning order, wewill proceed and apply the `ordinal encoding`"
   ]
  },
  {
   "cell_type": "markdown",
   "metadata": {},
   "source": [
    "**Ordinal Encoding**"
   ]
  },
  {
   "cell_type": "code",
   "execution_count": 224,
   "metadata": {},
   "outputs": [
    {
     "data": {
      "text/html": [
       "<div>\n",
       "<style scoped>\n",
       "    .dataframe tbody tr th:only-of-type {\n",
       "        vertical-align: middle;\n",
       "    }\n",
       "\n",
       "    .dataframe tbody tr th {\n",
       "        vertical-align: top;\n",
       "    }\n",
       "\n",
       "    .dataframe thead th {\n",
       "        text-align: right;\n",
       "    }\n",
       "</style>\n",
       "<table border=\"1\" class=\"dataframe\">\n",
       "  <thead>\n",
       "    <tr style=\"text-align: right;\">\n",
       "      <th></th>\n",
       "      <th>Age_group</th>\n",
       "      <th>Area_Type</th>\n",
       "      <th>Education level</th>\n",
       "      <th>Wealth</th>\n",
       "      <th>Anemia level</th>\n",
       "      <th>Mosquito net</th>\n",
       "      <th>Marital status</th>\n",
       "      <th>Living with spouse</th>\n",
       "      <th>Had fever</th>\n",
       "      <th>Taking_meds</th>\n",
       "    </tr>\n",
       "  </thead>\n",
       "  <tbody>\n",
       "    <tr>\n",
       "      <th>0</th>\n",
       "      <td>2.0</td>\n",
       "      <td>1.0</td>\n",
       "      <td>3.0</td>\n",
       "      <td>4.0</td>\n",
       "      <td>1.0</td>\n",
       "      <td>1.0</td>\n",
       "      <td>2.0</td>\n",
       "      <td>0.0</td>\n",
       "      <td>1.0</td>\n",
       "      <td>1.0</td>\n",
       "    </tr>\n",
       "    <tr>\n",
       "      <th>1</th>\n",
       "      <td>3.0</td>\n",
       "      <td>1.0</td>\n",
       "      <td>0.0</td>\n",
       "      <td>4.0</td>\n",
       "      <td>0.0</td>\n",
       "      <td>1.0</td>\n",
       "      <td>2.0</td>\n",
       "      <td>0.0</td>\n",
       "      <td>1.0</td>\n",
       "      <td>1.0</td>\n",
       "    </tr>\n",
       "    <tr>\n",
       "      <th>2</th>\n",
       "      <td>4.0</td>\n",
       "      <td>1.0</td>\n",
       "      <td>3.0</td>\n",
       "      <td>4.0</td>\n",
       "      <td>2.0</td>\n",
       "      <td>1.0</td>\n",
       "      <td>2.0</td>\n",
       "      <td>0.0</td>\n",
       "      <td>1.0</td>\n",
       "      <td>2.0</td>\n",
       "    </tr>\n",
       "    <tr>\n",
       "      <th>3</th>\n",
       "      <td>4.0</td>\n",
       "      <td>1.0</td>\n",
       "      <td>3.0</td>\n",
       "      <td>4.0</td>\n",
       "      <td>2.0</td>\n",
       "      <td>1.0</td>\n",
       "      <td>2.0</td>\n",
       "      <td>0.0</td>\n",
       "      <td>3.0</td>\n",
       "      <td>3.0</td>\n",
       "    </tr>\n",
       "    <tr>\n",
       "      <th>4</th>\n",
       "      <td>1.0</td>\n",
       "      <td>1.0</td>\n",
       "      <td>3.0</td>\n",
       "      <td>4.0</td>\n",
       "      <td>1.0</td>\n",
       "      <td>1.0</td>\n",
       "      <td>2.0</td>\n",
       "      <td>0.0</td>\n",
       "      <td>1.0</td>\n",
       "      <td>2.0</td>\n",
       "    </tr>\n",
       "  </tbody>\n",
       "</table>\n",
       "</div>"
      ],
      "text/plain": [
       "   Age_group  Area_Type  Education level  Wealth  Anemia level  Mosquito net  \\\n",
       "0        2.0        1.0              3.0     4.0           1.0           1.0   \n",
       "1        3.0        1.0              0.0     4.0           0.0           1.0   \n",
       "2        4.0        1.0              3.0     4.0           2.0           1.0   \n",
       "3        4.0        1.0              3.0     4.0           2.0           1.0   \n",
       "4        1.0        1.0              3.0     4.0           1.0           1.0   \n",
       "\n",
       "   Marital status  Living with spouse  Had fever  Taking_meds  \n",
       "0             2.0                 0.0        1.0          1.0  \n",
       "1             2.0                 0.0        1.0          1.0  \n",
       "2             2.0                 0.0        1.0          2.0  \n",
       "3             2.0                 0.0        3.0          3.0  \n",
       "4             2.0                 0.0        1.0          2.0  "
      ]
     },
     "execution_count": 224,
     "metadata": {},
     "output_type": "execute_result"
    }
   ],
   "source": [
    "# Importing necessary library\n",
    "from sklearn.preprocessing import OrdinalEncoder\n",
    "\n",
    "# Initializing OrdinalEncoder\n",
    "ordinal_encoder = OrdinalEncoder()\n",
    "\n",
    "# Applying OrdinalEncoder to categorical columns\n",
    "categorical_cols_encoded = ordinal_encoder.fit_transform(categorical_cols)\n",
    "\n",
    "# Converting the result back to a DataFrame with the same column names\n",
    "categorical_cols_encoded = pd.DataFrame(categorical_cols_encoded, columns=categorical_cols.columns)\n",
    "\n",
    "# Displaying the first few rows of the encoded DataFrame\n",
    "categorical_cols_encoded.head()"
   ]
  },
  {
   "cell_type": "markdown",
   "metadata": {},
   "source": [
    "### 3.2 (g) `Datatype conversion`"
   ]
  },
  {
   "cell_type": "code",
   "execution_count": 225,
   "metadata": {},
   "outputs": [
    {
     "data": {
      "text/html": [
       "<div>\n",
       "<style scoped>\n",
       "    .dataframe tbody tr th:only-of-type {\n",
       "        vertical-align: middle;\n",
       "    }\n",
       "\n",
       "    .dataframe tbody tr th {\n",
       "        vertical-align: top;\n",
       "    }\n",
       "\n",
       "    .dataframe thead th {\n",
       "        text-align: right;\n",
       "    }\n",
       "</style>\n",
       "<table border=\"1\" class=\"dataframe\">\n",
       "  <thead>\n",
       "    <tr style=\"text-align: right;\">\n",
       "      <th></th>\n",
       "      <th>Age_group</th>\n",
       "      <th>Area_Type</th>\n",
       "      <th>Education level</th>\n",
       "      <th>Wealth</th>\n",
       "      <th>Anemia level</th>\n",
       "      <th>Mosquito net</th>\n",
       "      <th>Marital status</th>\n",
       "      <th>Living with spouse</th>\n",
       "      <th>Had fever</th>\n",
       "      <th>Taking_meds</th>\n",
       "    </tr>\n",
       "  </thead>\n",
       "  <tbody>\n",
       "    <tr>\n",
       "      <th>0</th>\n",
       "      <td>2</td>\n",
       "      <td>1</td>\n",
       "      <td>3</td>\n",
       "      <td>4</td>\n",
       "      <td>1</td>\n",
       "      <td>1</td>\n",
       "      <td>2</td>\n",
       "      <td>0</td>\n",
       "      <td>1</td>\n",
       "      <td>1</td>\n",
       "    </tr>\n",
       "    <tr>\n",
       "      <th>1</th>\n",
       "      <td>3</td>\n",
       "      <td>1</td>\n",
       "      <td>0</td>\n",
       "      <td>4</td>\n",
       "      <td>0</td>\n",
       "      <td>1</td>\n",
       "      <td>2</td>\n",
       "      <td>0</td>\n",
       "      <td>1</td>\n",
       "      <td>1</td>\n",
       "    </tr>\n",
       "    <tr>\n",
       "      <th>2</th>\n",
       "      <td>4</td>\n",
       "      <td>1</td>\n",
       "      <td>3</td>\n",
       "      <td>4</td>\n",
       "      <td>2</td>\n",
       "      <td>1</td>\n",
       "      <td>2</td>\n",
       "      <td>0</td>\n",
       "      <td>1</td>\n",
       "      <td>2</td>\n",
       "    </tr>\n",
       "    <tr>\n",
       "      <th>3</th>\n",
       "      <td>4</td>\n",
       "      <td>1</td>\n",
       "      <td>3</td>\n",
       "      <td>4</td>\n",
       "      <td>2</td>\n",
       "      <td>1</td>\n",
       "      <td>2</td>\n",
       "      <td>0</td>\n",
       "      <td>3</td>\n",
       "      <td>3</td>\n",
       "    </tr>\n",
       "    <tr>\n",
       "      <th>4</th>\n",
       "      <td>1</td>\n",
       "      <td>1</td>\n",
       "      <td>3</td>\n",
       "      <td>4</td>\n",
       "      <td>1</td>\n",
       "      <td>1</td>\n",
       "      <td>2</td>\n",
       "      <td>0</td>\n",
       "      <td>1</td>\n",
       "      <td>2</td>\n",
       "    </tr>\n",
       "  </tbody>\n",
       "</table>\n",
       "</div>"
      ],
      "text/plain": [
       "   Age_group  Area_Type  Education level  Wealth  Anemia level  Mosquito net  \\\n",
       "0          2          1                3       4             1             1   \n",
       "1          3          1                0       4             0             1   \n",
       "2          4          1                3       4             2             1   \n",
       "3          4          1                3       4             2             1   \n",
       "4          1          1                3       4             1             1   \n",
       "\n",
       "   Marital status  Living with spouse  Had fever  Taking_meds  \n",
       "0               2                   0          1            1  \n",
       "1               2                   0          1            1  \n",
       "2               2                   0          1            2  \n",
       "3               2                   0          3            3  \n",
       "4               2                   0          1            2  "
      ]
     },
     "execution_count": 225,
     "metadata": {},
     "output_type": "execute_result"
    }
   ],
   "source": [
    "#converting the results of the categorical_cols_encoded to int type\n",
    "\n",
    "categorical_cols_encoded = pd.DataFrame(OrdinalEncoder().fit_transform(categorical_cols), columns=categorical_cols.columns).astype(int)\n",
    "categorical_cols_encoded.head()"
   ]
  },
  {
   "cell_type": "markdown",
   "metadata": {},
   "source": [
    "Now that both our numerical columns and our categorical columns have been clean appropriately, we will proceed and concatenate the two datasets for further anaysis."
   ]
  },
  {
   "cell_type": "markdown",
   "metadata": {},
   "source": [
    "   ## <font color=\"#e6550d\"><b>3.3 Concatenate Numerical and Categorical Columns</b><font>"
   ]
  },
  {
   "cell_type": "code",
   "execution_count": 226,
   "metadata": {},
   "outputs": [
    {
     "name": "stdout",
     "output_type": "stream",
     "text": [
      "(13136, 3)\n",
      "(13136, 10)\n"
     ]
    }
   ],
   "source": [
    "#Checking for the number of rows and colums of the rows datasets before concatenating\n",
    "print(numeric_cols.shape)\n",
    "print(categorical_cols_encoded.shape)"
   ]
  },
  {
   "cell_type": "code",
   "execution_count": 227,
   "metadata": {},
   "outputs": [],
   "source": [
    "## resetting the index of both my numerical and the categorical_cols to ensure consistency.\n",
    "numeric_cols.reset_index(drop=True, inplace=True)\n",
    "categorical_cols_encoded.reset_index(drop=True, inplace=True)"
   ]
  },
  {
   "cell_type": "code",
   "execution_count": 228,
   "metadata": {},
   "outputs": [
    {
     "data": {
      "text/plain": [
       "(13136, 13)"
      ]
     },
     "execution_count": 228,
     "metadata": {},
     "output_type": "execute_result"
    }
   ],
   "source": [
    "# concatenating the two datasets\n",
    "anemia_df = pd.concat([numeric_cols, categorical_cols_encoded], axis=1)\n",
    "\n",
    "# displaying the shape of the new combined set to check if it matches the rows f the numerical_cols and the categorical_cols_emcoded\n",
    "anemia_df.shape\n"
   ]
  },
  {
   "cell_type": "code",
   "execution_count": 229,
   "metadata": {},
   "outputs": [
    {
     "data": {
      "text/html": [
       "<div>\n",
       "<style scoped>\n",
       "    .dataframe tbody tr th:only-of-type {\n",
       "        vertical-align: middle;\n",
       "    }\n",
       "\n",
       "    .dataframe tbody tr th {\n",
       "        vertical-align: top;\n",
       "    }\n",
       "\n",
       "    .dataframe thead th {\n",
       "        text-align: right;\n",
       "    }\n",
       "</style>\n",
       "<table border=\"1\" class=\"dataframe\">\n",
       "  <thead>\n",
       "    <tr style=\"text-align: right;\">\n",
       "      <th></th>\n",
       "      <th>Births_last_5y</th>\n",
       "      <th>Age_first_birth</th>\n",
       "      <th>Hemoglobin level</th>\n",
       "      <th>Age_group</th>\n",
       "      <th>Area_Type</th>\n",
       "      <th>Education level</th>\n",
       "      <th>Wealth</th>\n",
       "      <th>Anemia level</th>\n",
       "      <th>Mosquito net</th>\n",
       "      <th>Marital status</th>\n",
       "      <th>Living with spouse</th>\n",
       "      <th>Had fever</th>\n",
       "      <th>Taking_meds</th>\n",
       "    </tr>\n",
       "  </thead>\n",
       "  <tbody>\n",
       "    <tr>\n",
       "      <th>9439</th>\n",
       "      <td>3</td>\n",
       "      <td>22</td>\n",
       "      <td>106</td>\n",
       "      <td>2</td>\n",
       "      <td>0</td>\n",
       "      <td>0</td>\n",
       "      <td>4</td>\n",
       "      <td>1</td>\n",
       "      <td>1</td>\n",
       "      <td>2</td>\n",
       "      <td>1</td>\n",
       "      <td>1</td>\n",
       "      <td>1</td>\n",
       "    </tr>\n",
       "    <tr>\n",
       "      <th>12881</th>\n",
       "      <td>1</td>\n",
       "      <td>12</td>\n",
       "      <td>120</td>\n",
       "      <td>5</td>\n",
       "      <td>1</td>\n",
       "      <td>3</td>\n",
       "      <td>4</td>\n",
       "      <td>2</td>\n",
       "      <td>1</td>\n",
       "      <td>2</td>\n",
       "      <td>0</td>\n",
       "      <td>1</td>\n",
       "      <td>1</td>\n",
       "    </tr>\n",
       "    <tr>\n",
       "      <th>8329</th>\n",
       "      <td>1</td>\n",
       "      <td>24</td>\n",
       "      <td>124</td>\n",
       "      <td>5</td>\n",
       "      <td>1</td>\n",
       "      <td>2</td>\n",
       "      <td>1</td>\n",
       "      <td>2</td>\n",
       "      <td>0</td>\n",
       "      <td>4</td>\n",
       "      <td>2</td>\n",
       "      <td>3</td>\n",
       "      <td>3</td>\n",
       "    </tr>\n",
       "    <tr>\n",
       "      <th>4250</th>\n",
       "      <td>2</td>\n",
       "      <td>17</td>\n",
       "      <td>131</td>\n",
       "      <td>3</td>\n",
       "      <td>0</td>\n",
       "      <td>2</td>\n",
       "      <td>1</td>\n",
       "      <td>2</td>\n",
       "      <td>0</td>\n",
       "      <td>2</td>\n",
       "      <td>0</td>\n",
       "      <td>1</td>\n",
       "      <td>1</td>\n",
       "    </tr>\n",
       "    <tr>\n",
       "      <th>8096</th>\n",
       "      <td>2</td>\n",
       "      <td>27</td>\n",
       "      <td>105</td>\n",
       "      <td>3</td>\n",
       "      <td>0</td>\n",
       "      <td>3</td>\n",
       "      <td>3</td>\n",
       "      <td>1</td>\n",
       "      <td>1</td>\n",
       "      <td>2</td>\n",
       "      <td>0</td>\n",
       "      <td>2</td>\n",
       "      <td>1</td>\n",
       "    </tr>\n",
       "  </tbody>\n",
       "</table>\n",
       "</div>"
      ],
      "text/plain": [
       "       Births_last_5y  Age_first_birth  Hemoglobin level  Age_group  \\\n",
       "9439                3               22               106          2   \n",
       "12881               1               12               120          5   \n",
       "8329                1               24               124          5   \n",
       "4250                2               17               131          3   \n",
       "8096                2               27               105          3   \n",
       "\n",
       "       Area_Type  Education level  Wealth  Anemia level  Mosquito net  \\\n",
       "9439           0                0       4             1             1   \n",
       "12881          1                3       4             2             1   \n",
       "8329           1                2       1             2             0   \n",
       "4250           0                2       1             2             0   \n",
       "8096           0                3       3             1             1   \n",
       "\n",
       "       Marital status  Living with spouse  Had fever  Taking_meds  \n",
       "9439                2                   1          1            1  \n",
       "12881               2                   0          1            1  \n",
       "8329                4                   2          3            3  \n",
       "4250                2                   0          1            1  \n",
       "8096                2                   0          2            1  "
      ]
     },
     "execution_count": 229,
     "metadata": {},
     "output_type": "execute_result"
    }
   ],
   "source": [
    "#displaying the combined dataset\n",
    "anemia_df.sample(n=5)"
   ]
  },
  {
   "cell_type": "markdown",
   "metadata": {},
   "source": [
    "\n",
    "# <font color=\"#a63603\"><b>4.0 EXPLANATORY DATA ANALYSIS(EDA)</b><font>"
   ]
  },
  {
   "cell_type": "markdown",
   "metadata": {},
   "source": [
    "Explanatory Data Anlysis involves examining and visualizing the dataset to highlight key characteristics and patterns using statistical graphics.\n",
    "\n"
   ]
  },
  {
   "cell_type": "code",
   "execution_count": 230,
   "metadata": {},
   "outputs": [],
   "source": [
    "#Importing necessary libraries for visualization\n",
    "import matplotlib.pyplot as plt\n",
    "%matplotlib inline\n",
    "import seaborn as sns"
   ]
  },
  {
   "cell_type": "markdown",
   "metadata": {},
   "source": [
    "## <font color=\"#e6550d\"><b>4.1 Univariate Analysis</b><font>"
   ]
  },
  {
   "cell_type": "markdown",
   "metadata": {},
   "source": [
    "### (a) Distribution of the anemia level."
   ]
  },
  {
   "cell_type": "code",
   "execution_count": 231,
   "metadata": {},
   "outputs": [
    {
     "data": {
      "image/png": "[encoded data removed]",
      "text/plain": [
       "<Figure size 1152x432 with 1 Axes>"
      ]
     },
     "metadata": {
      "needs_background": "light"
     },
     "output_type": "display_data"
    }
   ],
   "source": [
    "import matplotlib.pyplot as plt\n",
    "\n",
    "def addLabels(x, y):\n",
    "    for i in range(len(y)):\n",
    "        plt.text(i, y[i], y[i], ha=\"center\")\n",
    "\n",
    "# Get color shades from dark to light blue\n",
    "color_shades = plt.cm.Blues([0.9, 0.7, 0.5, 0.3])  \n",
    "\n",
    "plt.figure(figsize=(16, 6))\n",
    "plt.bar(\n",
    "    categorical_cols[\"Anemia level\"].value_counts().index,\n",
    "    df[\"Anemia level\"].value_counts().values,\n",
    "    color=color_shades\n",
    ")\n",
    "addLabels(categorical_cols[\"Anemia level\"].value_counts().index, df[\"Anemia level\"].value_counts().values)\n",
    "\n",
    "plt.xlabel(\"Anemia Level\")\n",
    "plt.ylabel(\"Count\")\n",
    "plt.title(\"Anemia Level Distribution\")\n",
    "plt.show()\n"
   ]
  },
  {
   "cell_type": "markdown",
   "metadata": {},
   "source": [
    "The distribution of anemia levels shows a significant imbalance, with the majority of individuals classified as \"Not Anemic.\" The \"Severe\" category has the least number of individuals. The class imbalance can pose challenges during model training. If left unaddressed, the model may be biased towards the majority class and struggle to accurately classify instances from the minority classes.Given the significant class imbalance, we will to apply techniques like SMOTE to balance the dataset before training a classification model. This will help the model learn from the minority classes more effectively and improve its overall predictive performance."
   ]
  },
  {
   "cell_type": "code",
   "execution_count": 232,
   "metadata": {},
   "outputs": [
    {
     "data": {
      "image/png": "[encoded data removed]",
      "text/plain": [
       "<Figure size 720x432 with 1 Axes>"
      ]
     },
     "metadata": {},
     "output_type": "display_data"
    }
   ],
   "source": [
    "\n",
    "# Calculate the counts and percentages of the target variable\n",
    "anemia_counts = categorical_cols['Anemia level'].value_counts()\n",
    "anemia_percentages = anemia_counts / anemia_counts.sum() * 100\n",
    "\n",
    "# Define the order for the pie chart\n",
    "order = anemia_counts.index.tolist()\n",
    "\n",
    "# Plotting the pie chart\n",
    "plt.figure(figsize=(10, 6))\n",
    "plt.pie(anemia_percentages[order], labels=order, autopct='%1.1f%%', startangle=140, colors=sns.color_palette(\"Blues\", len(order)))\n",
    "plt.title(\"Percentage Distribution of Anemia Level\")\n",
    "plt.axis('equal')\n",
    "plt.show()\n"
   ]
  },
  {
   "cell_type": "code",
   "execution_count": 233,
   "metadata": {},
   "outputs": [],
   "source": [
    "# univariate function\n",
    "def plot_univariate_distribution(data, feature, bins=20, color=\"blue\", kde=True):\n",
    " \n",
    "    # Set plot aesthetics\n",
    "    sns.set(style=\"whitegrid\")\n",
    "    \n",
    "    # Plot the distribution\n",
    "    sns.displot(\n",
    "        data[feature],kde=kde,color=color,bins=bins,height=6,aspect=1.5\n",
    "    ) \n",
    "    # Add title and labels\n",
    "    plt.title(f\"Distribution of {feature}\")\n",
    "    plt.xlabel(feature)\n",
    "    plt.ylabel(\"Frequency\")   \n",
    "    # Show the plot\n",
    "    plt.show()\n",
    "\n"
   ]
  },
  {
   "cell_type": "markdown",
   "metadata": {},
   "source": [
    "### (b) Distribution of the Age_first_birth."
   ]
  },
  {
   "cell_type": "code",
   "execution_count": 234,
   "metadata": {},
   "outputs": [
    {
     "data": {
      "image/png": "[encoded data removed]",
      "text/plain": [
       "<Figure size 648x432 with 1 Axes>"
      ]
     },
     "metadata": {},
     "output_type": "display_data"
    }
   ],
   "source": [
    "plot_univariate_distribution(numeric_cols, 'Age_first_birth')"
   ]
  },
  {
   "cell_type": "markdown",
   "metadata": {},
   "source": [
    "The distribution is skewed to the right, indicating that the majority of respondents had their first child at a younger age, particularly between 15 and 25 years. This distribution suggests that early childbearing is more prevalent in this dataset, while fewer respondents experience first-time childbirth later in life."
   ]
  },
  {
   "cell_type": "markdown",
   "metadata": {},
   "source": [
    "### (c) Distribution of the Hemoglobin level."
   ]
  },
  {
   "cell_type": "code",
   "execution_count": 235,
   "metadata": {},
   "outputs": [
    {
     "data": {
      "image/png": "[encoded data removed]",
      "text/plain": [
       "<Figure size 648x432 with 1 Axes>"
      ]
     },
     "metadata": {},
     "output_type": "display_data"
    }
   ],
   "source": [
    "plot_univariate_distribution(numeric_cols, 'Hemoglobin level')"
   ]
  },
  {
   "cell_type": "markdown",
   "metadata": {},
   "source": [
    "The distribution is approximately bell-shaped and symmetrical, with most hemoglobin levels concentrated between 95 and 125 g/dL. \n",
    "The distribution has a narrow spread, with relatively few respondents having hemoglobin levels below 75 or above 150. This shape implies that hemoglobin levels are normally distributed among the respondents after adjusting for altitude."
   ]
  },
  {
   "cell_type": "markdown",
   "metadata": {},
   "source": [
    "## <font color=\"#e6550d\"><b>4.2 Bivariate Analysis</b><font>"
   ]
  },
  {
   "cell_type": "markdown",
   "metadata": {},
   "source": [
    "### Creating functions to examine the relationships between anemia levels and other features"
   ]
  },
  {
   "cell_type": "code",
   "execution_count": 236,
   "metadata": {},
   "outputs": [],
   "source": [
    "#creating a function to visualize feature distribution against anemia level.\n",
    "def plot_feature_distribution(df, feature, anemia_level='Anemia level'):\n",
    "    \n",
    "    # Create the count plot\n",
    "    plt.figure(figsize=(12, 6))\n",
    "    sns.countplot(data=df, x=feature, hue=anemia_level, palette='viridis')\n",
    "    plt.title(f'Distribution of {feature} Based on {anemia_level}')\n",
    "    plt.xlabel(feature)\n",
    "    plt.ylabel('Count')\n",
    "    plt.legend(title=anemia_level)\n",
    "    \n",
    "    # plt.xticks(rotation=45)\n",
    "    plt.tight_layout()\n",
    "    plt.show()"
   ]
  },
  {
   "cell_type": "markdown",
   "metadata": {},
   "source": [
    "### (a) Relationship of Anemia level and parent's age_group"
   ]
  },
  {
   "cell_type": "code",
   "execution_count": 237,
   "metadata": {},
   "outputs": [
    {
     "data": {
      "image/png": "[encoded data removed]",
      "text/plain": [
       "<Figure size 864x432 with 1 Axes>"
      ]
     },
     "metadata": {},
     "output_type": "display_data"
    }
   ],
   "source": [
    "#Anemia level vs parents age group\n",
    "plot_feature_distribution(categorical_cols, 'Age_group') "
   ]
  },
  {
   "cell_type": "markdown",
   "metadata": {},
   "source": [
    " Children of mothers in the 20-39 age range show higher counts of moderate anemia compared to children of mothers in other age groups, with the peak in the 25-29 and 30-34 age groups. This trend may indicate that maternal age influences children's anemia levels, potentially due to factors associated with the health, nutritional status, or socioeconomic conditions of mothers in these age ranges"
   ]
  },
  {
   "cell_type": "markdown",
   "metadata": {},
   "source": [
    "### (b) Relationship of Anemia level and Area_Type"
   ]
  },
  {
   "cell_type": "code",
   "execution_count": 238,
   "metadata": {},
   "outputs": [
    {
     "data": {
      "image/png": "[encoded data removed]",
      "text/plain": [
       "<Figure size 864x432 with 1 Axes>"
      ]
     },
     "metadata": {},
     "output_type": "display_data"
    }
   ],
   "source": [
    "\n",
    "plot_feature_distribution(categorical_cols, 'Area_Type') "
   ]
  },
  {
   "cell_type": "markdown",
   "metadata": {},
   "source": [
    "In rural areas majority of children fall under the \"Moderate\" anemia level, with the count significantly higher than other categories while in Urban areas, the counts are more balanced across the anemia levels compared to rural areas, but \"Moderate\" anemia is still common.This distribution suggests that moderate anemia is more prevalent in rural areas than in urban areas.his could indicate potential socio-economic or healthcare access disparities between rural and urban settings that influence anemia severity."
   ]
  },
  {
   "cell_type": "markdown",
   "metadata": {},
   "source": [
    "### (c) Relationship of Anemia level and parent's Level of education"
   ]
  },
  {
   "cell_type": "code",
   "execution_count": 239,
   "metadata": {},
   "outputs": [
    {
     "data": {
      "image/png": "[encoded data removed]",
      "text/plain": [
       "<Figure size 864x432 with 1 Axes>"
      ]
     },
     "metadata": {},
     "output_type": "display_data"
    }
   ],
   "source": [
    "#Anemia level vs Highest educational level\n",
    "plot_feature_distribution(categorical_cols, 'Education level') "
   ]
  },
  {
   "cell_type": "markdown",
   "metadata": {},
   "source": [
    "\n",
    "The analysis shows a clear relationship between education level and anemia severity. Chilren whose parents have no education have the highest prevalence of moderate anemia, suggesting that lack of education is associated with poorer anemia outcomes. In contrast,chilren whose parents have higher education have the fewest cases of moderate and severe anemia, indicating that education may play a protective role against anemia. This could be due to greater health awareness, better nutrition, and access to healthcare among educated individuals."
   ]
  },
  {
   "cell_type": "markdown",
   "metadata": {},
   "source": [
    "## <font color=\"#e6550d\"><b>4.3 Multivariate Analysis</b><font>"
   ]
  },
  {
   "cell_type": "markdown",
   "metadata": {},
   "source": [
    "### (a)Relationship of Anemia level, Education level and Area_type"
   ]
  },
  {
   "cell_type": "code",
   "execution_count": 241,
   "metadata": {},
   "outputs": [
    {
     "data": {
      "image/png": "[encoded data removed]",
      "text/plain": [
       "<Figure size 720x432 with 1 Axes>"
      ]
     },
     "metadata": {},
     "output_type": "display_data"
    }
   ],
   "source": [
    "# Group by Education and Area of Residence, then count occurrences of each Anemia level\n",
    "education_area_anemia = categorical_cols.groupby([\"Education level\", \"Area_Type\", \"Anemia level\"]).size().unstack(fill_value=0)\n",
    "\n",
    "# Plotting the stacked bar plot\n",
    "education_area_anemia.plot(kind=\"bar\", stacked=True, figsize=(10, 6))\n",
    "\n",
    "# Customizing plot\n",
    "plt.title(\"Relationship between Education, Area of Residence, and Anemia Levels\")\n",
    "plt.xlabel(\"Education Level and Area of Residence\")\n",
    "plt.ylabel(\"Count\")\n",
    "plt.legend(title=\"Anemia Level\")\n",
    "plt.xticks(rotation=45, ha='right')\n",
    "\n",
    "plt.show()"
   ]
  },
  {
   "cell_type": "markdown",
   "metadata": {},
   "source": [
    "\n",
    "Education and Anemia: Individuals with higher education levels (Secondary and Higher) tend to have a lower prevalence of anemia, while those with lower education levels (No education and Primary) have a higher prevalence of anemia, especially in the mild and moderate categories.\n",
    "\n",
    "Area of Residence and Anemia: There doesn't seem to be a significant difference in anemia prevalence between urban and rural areas within the same educational level. \n",
    "\n",
    "Education and Area: The combination of education and area of residence might influence anemia risk. For example, individuals with low education in rural areas might be at higher risk of anemia compared to those in urban areas with higher education."
   ]
  },
  {
   "cell_type": "markdown",
   "metadata": {},
   "source": [
    "## <font color=\"#e6550d\"><b>4.4 Heatmap</b><font>"
   ]
  },
  {
   "cell_type": "code",
   "execution_count": 242,
   "metadata": {},
   "outputs": [
    {
     "data": {
      "image/png": "[encoded data removed]",
      "text/plain": [
       "<Figure size 1152x576 with 2 Axes>"
      ]
     },
     "metadata": {},
     "output_type": "display_data"
    }
   ],
   "source": [
    "# Correlation heatmap of columns\n",
    "\n",
    "correlation_matrix =  anemia_df.corr()\n",
    "plt.figure(figsize=(16, 8))\n",
    "sns.heatmap(correlation_matrix, annot=True, cmap='coolwarm', vmin=-1, vmax=1)\n",
    "plt.title('Correlation Matrix Heatmap')\n",
    "plt.show()"
   ]
  },
  {
   "cell_type": "markdown",
   "metadata": {},
   "source": [
    "Hemoglobin level and Anemia level (0.33): There’s a moderate positive correlation between hemoglobin levels and anemia levels, indicating that as hemoglobin level changes, anemia level is also affected."
   ]
  },
  {
   "cell_type": "markdown",
   "metadata": {},
   "source": [
    "## <font color=\"#e6550d\"><b>Hypothesis Testing</b><font>"
   ]
  },
  {
   "cell_type": "markdown",
   "metadata": {},
   "source": [
    "- **Hypothesis**: The prevalence of anemia in children is inversely related to the education level and health awareness of their parents.\n",
    "  - **Finding**: EDA shows that children whose parents have higher levels of education are less prone to anemia.\n",
    "  - **Conclusion**: Based on this finding, we would likely **reject the null hypothesis** ,which states there is no relationship between parental education and anemia and **accept the alternative hypothesis** that higher parental education is associated with a lower prevalence of anemia in children.\n",
    "\n",
    "- **Hypothesis**: Children in rural areas have a higher risk of anemia compared to those in urban areas.\n",
    "  - **Finding**: Analysis suggests that children living in rural areas experience higher levels of anemia than those in urban areas.\n",
    "  - **Conclusion**: This supports the hypothesis, so we would likely **reject the null hypothesis** (which states there is no difference in anemia prevalence between rural and urban areas) and **accept the alternative hypothesis** that rural residency is associated with a higher risk of anemia in children.\n"
   ]
  },
  {
   "cell_type": "markdown",
   "metadata": {},
   "source": [
    "# <font color=\"#a63603\"><b>5.0 DATA PREPROCESSING</b><font>"
   ]
  },
  {
   "cell_type": "markdown",
   "metadata": {},
   "source": [
    "\n",
    "## <font color=\"#e6550d\"><b> 5.1 Data Splitting</b><font>"
   ]
  },
  {
   "cell_type": "markdown",
   "metadata": {},
   "source": [
    "Data splitting invloves dividing the dataset into separate subsets for training and evaluation. The primary goal is to assess how well a model generalizes to unseen data."
   ]
  },
  {
   "cell_type": "code",
   "execution_count": 243,
   "metadata": {},
   "outputs": [
    {
     "name": "stdout",
     "output_type": "stream",
     "text": [
      "Training set features shape: (10508, 12)\n",
      "Test set features shape: (2628, 12)\n",
      "Training set target shape: (10508,)\n",
      "Test set target shape: (2628,)\n"
     ]
    }
   ],
   "source": [
    "from sklearn.model_selection import train_test_split\n",
    "\n",
    "# Define the features and target variable\n",
    "X = anemia_df.drop(columns=['Anemia level'])  \n",
    "y = anemia_df['Anemia level'] \n",
    "\n",
    "# Split the data into training (80%) and testing (20%) sets\n",
    "X_train, X_test, y_train, y_test = train_test_split(X, y, test_size=0.2, random_state=42)\n",
    "\n",
    "# Print the shape of the training and test sets to verify\n",
    "print(f\"Training set features shape: {X_train.shape}\")\n",
    "print(f\"Test set features shape: {X_test.shape}\")\n",
    "print(f\"Training set target shape: {y_train.shape}\")\n",
    "print(f\"Test set target shape: {y_test.shape}\")\n"
   ]
  },
  {
   "cell_type": "markdown",
   "metadata": {},
   "source": [
    "\n",
    "## <font color=\"#e6550d\"><b>5.2 Feature Selection</b><font>"
   ]
  },
  {
   "cell_type": "markdown",
   "metadata": {},
   "source": [
    "Feature selection is the process of identifying and selecting a subset of relevant features from the main dataset. The primary goal of feature selection is to improve the performance of machine learning models by reducing overfitting, improving accuracy, and decreasing training time."
   ]
  },
  {
   "cell_type": "code",
   "execution_count": 244,
   "metadata": {},
   "outputs": [
    {
     "name": "stdout",
     "output_type": "stream",
     "text": [
      "Hemoglobin level      0.335471\n",
      "Wealth                0.058029\n",
      "Area_Type             0.053760\n",
      "Age_first_birth       0.041599\n",
      "Age_group             0.020403\n",
      "Mosquito net          0.013209\n",
      "Education level       0.004730\n",
      "Marital status       -0.006245\n",
      "Living with spouse   -0.010359\n",
      "Had fever            -0.015385\n",
      "Taking_meds          -0.015856\n",
      "Births_last_5y       -0.019182\n",
      "Name: Anemia level, dtype: float64\n"
     ]
    }
   ],
   "source": [
    "# Calculate the correlation matrix between the features in X_train and the target y_train\n",
    "\n",
    "# Concatenate X_train and y_train to form a combined DataFrame\n",
    "X_train_with_target = pd.concat([X_train, y_train], axis=1)\n",
    "\n",
    "# Calculate the correlation matrix\n",
    "correlation_matrix = X_train_with_target.corr()\n",
    "\n",
    "# Select the correlation values between features and the target variable 'Anemia level'\n",
    "target_corr = correlation_matrix['Anemia level'].sort_values(ascending=False)\n",
    "\n",
    "# Select the top 10 features with the highest correlation \n",
    "selected_features = target_corr[1:13]  \n",
    "\n",
    "# Display the top 10 features\n",
    "print(selected_features)\n"
   ]
  },
  {
   "cell_type": "markdown",
   "metadata": {},
   "source": [
    "## <font color=\"#e6550d\"><b>5.3 Handling Class Imbalance</b><font>"
   ]
  },
  {
   "cell_type": "markdown",
   "metadata": {},
   "source": [
    "\n",
    "Class imbalance is a common issue in classification problems, occurring when the target variable's classes are not represented equally. In our dataset, this is evident in the bar heights, where the frequency of each class varies significantly. Specifically, the class representing severe anemia, with a count of 231, is notably underrepresented compared to other classes. This uneven distribution suggests a class imbalance, which could negatively impact model performance by biasing predictions toward the majority class."
   ]
  },
  {
   "cell_type": "code",
   "execution_count": 245,
   "metadata": {},
   "outputs": [
    {
     "name": "stdout",
     "output_type": "stream",
     "text": [
      "Class distribution before SMOTE: Counter({2: 4236, 1: 3156, 0: 2939, 3: 177})\n",
      "Class distribution after SMOTE: Counter({2: 4236, 1: 4236, 0: 4236, 3: 4236})\n"
     ]
    },
    {
     "data": {
      "image/png": "[encoded data removed]",
      "text/plain": [
       "<Figure size 864x360 with 2 Axes>"
      ]
     },
     "metadata": {},
     "output_type": "display_data"
    }
   ],
   "source": [
    "\n",
    "# Import necessary libraries\n",
    "from imblearn.over_sampling import SMOTE\n",
    "from collections import Counter\n",
    "\n",
    "# Check the class distribution before SMOTE\n",
    "print(\"Class distribution before SMOTE:\", Counter(y_train))\n",
    "\n",
    "# Apply SMOTE to the training data\n",
    "smote = SMOTE(random_state=42)\n",
    "X_resampled, y_resampled = smote.fit_resample(X_train, y_train)\n",
    "\n",
    "# Check the class distribution after SMOTE\n",
    "print(\"Class distribution after SMOTE:\", Counter(y_resampled))\n",
    "\n",
    "# Optional: Visualize the class distributions before and after SMOTE\n",
    "def plot_class_distribution(y_train, y_resampled):\n",
    "    fig, ax = plt.subplots(1, 2, figsize=(12, 5))\n",
    "\n",
    "    # Original class distribution\n",
    "    ax[0].bar(Counter(y_train).keys(), Counter(y_train).values(), color='blue')\n",
    "    ax[0].set_title('Class Distribution Before SMOTE')\n",
    "    ax[0].set_xlabel('Classes')\n",
    "    ax[0].set_ylabel('Number of Instances')\n",
    "\n",
    "    # Resampled class distribution\n",
    "    ax[1].bar(Counter(y_resampled).keys(), Counter(y_resampled).values(), color='green')\n",
    "    ax[1].set_title('Class Distribution After SMOTE')\n",
    "    ax[1].set_xlabel('Classes')\n",
    "    ax[1].set_ylabel('Number of Instances')\n",
    "\n",
    "    plt.tight_layout()\n",
    "    plt.show()\n",
    "\n",
    "# Call the plotting function to visualize class distributions\n",
    "plot_class_distribution(y_train, y_resampled)\n"
   ]
  },
  {
   "cell_type": "markdown",
   "metadata": {},
   "source": [
    "## <font color=\"#e6550d\"><b> 5.4 Standard Scaling</b><font>"
   ]
  },
  {
   "cell_type": "markdown",
   "metadata": {},
   "source": [
    "The Standard Scaler is a preprocessing technique that normalizes the range of independent features in a dataset by transforming them to have a mean of 0 and a standard deviation of 1. This ensures that all features contribute equally to the model, preventing those with larger ranges from dominating the learning process.\n",
    "\n",
    "Following the application of `SMOTE` to address class imbalance, we will fit the scaler to the resampled training data and then transform it accordingly."
   ]
  },
  {
   "cell_type": "code",
   "execution_count": 246,
   "metadata": {},
   "outputs": [
    {
     "name": "stdout",
     "output_type": "stream",
     "text": [
      "Resampled training set shape: (16944, 12)\n",
      "Test set shape: (2628, 12)\n"
     ]
    }
   ],
   "source": [
    "# Import the StandardScaler\n",
    "from sklearn.preprocessing import StandardScaler\n",
    "\n",
    "# Create a StandardScaler instance\n",
    "scaler = StandardScaler()\n",
    "\n",
    "# Fit the scaler on the resampled training data and transform it\n",
    "X_resampled_scaled = scaler.fit_transform(X_resampled)\n",
    "\n",
    "#transforming the test set.\n",
    "X_test_scaled = scaler.transform(X_test)\n",
    "\n",
    "# Optional: Print the shapes of the resulting sets to verify the scaling\n",
    "print(f\"Resampled training set shape: {X_resampled_scaled.shape}\")\n",
    "print(f\"Test set shape: {X_test_scaled.shape}\")"
   ]
  },
  {
   "cell_type": "markdown",
   "metadata": {},
   "source": [
    "\n",
    "# <font color=\"#a63603\"><b>6. MODELLING & EVALUTION</b><font>"
   ]
  },
  {
   "cell_type": "markdown",
   "metadata": {},
   "source": [
    "For our modeling approach, we will start with three algorithms: `Logistic Regression` as our baseline model, followed by `Decision Trees` and `Random Forest`. Based on the performance of these models, we will then select the most suitable one for hyperparameter tuning."
   ]
  },
  {
   "cell_type": "code",
   "execution_count": 323,
   "metadata": {},
   "outputs": [],
   "source": [
    "#Importing necessary libraries for modelig and evaluation\n",
    "\n",
    "from sklearn.pipeline import Pipeline\n",
    "from sklearn.preprocessing import StandardScaler\n",
    "from sklearn.linear_model import LogisticRegression\n",
    "from sklearn.tree import DecisionTreeClassifier\n",
    "from sklearn.ensemble import RandomForestClassifier\n",
    "from sklearn.neighbors import KNeighborsClassifier\n",
    "from sklearn.metrics import confusion_matrix, ConfusionMatrixDisplay, precision_score, recall_score, f1_score"
   ]
  },
  {
   "cell_type": "code",
   "execution_count": 322,
   "metadata": {},
   "outputs": [
    {
     "name": "stdout",
     "output_type": "stream",
     "text": [
      "Logistic Regression\n",
      "- Accuracy: 0.8836, Precision: 0.8912, Recall: 0.8836, F1 Score: 0.8854\n",
      "\n",
      "Decision Tree\n",
      "- Accuracy: 0.9357, Precision: 0.9368, Recall: 0.9357, F1 Score: 0.9360\n",
      "\n",
      "Random Forest\n",
      "- Accuracy: 0.9543, Precision: 0.9555, Recall: 0.9543, F1 Score: 0.9546\n",
      "\n",
      "K-Nearest Neighbors\n",
      "- Accuracy: 0.6533, Precision: 0.6970, Recall: 0.6533, F1 Score: 0.6654\n",
      "\n"
     ]
    },
    {
     "data": {
      "image/png": "[encoded data removed]",
      "text/plain": [
       "<Figure size 864x720 with 8 Axes>"
      ]
     },
     "metadata": {},
     "output_type": "display_data"
    }
   ],
   "source": [
    "# Define the classifiers\n",
    "classifiers = {\n",
    "    'Logistic Regression': LogisticRegression(),\n",
    "    'Decision Tree': DecisionTreeClassifier(),\n",
    "    'Random Forest': RandomForestClassifier(),\n",
    "    'K-Nearest Neighbors': KNeighborsClassifier()\n",
    "}\n",
    "\n",
    "# Initialize dictionaries to store each model's performance metrics\n",
    "accuracy_scores = {}\n",
    "precision_scores = {}\n",
    "recall_scores = {}\n",
    "f1_scores = {}\n",
    "\n",
    "# Set up the plot for confusion matrices\n",
    "fig, axes = plt.subplots(2, 2, figsize=(12, 10))\n",
    "axes = axes.flatten()\n",
    "\n",
    "# Iterate over classifiers and create pipelines\n",
    "for idx, (name, clf) in enumerate(classifiers.items()):\n",
    "    # Create the pipeline (no need for an explicit scaler step if already scaled)\n",
    "    pipeline = Pipeline([\n",
    "        ('classifier', clf)  # Only the classifier, as data is already scaled\n",
    "    ])\n",
    "    \n",
    "    # Fit the model on the training set and make predictions on the test set\n",
    "    pipeline.fit(X_resampled_scaled, y_resampled)\n",
    "    y_pred = pipeline.predict(X_test_scaled)\n",
    "    \n",
    "    # Calculate metrics\n",
    "    accuracy_scores[name] = pipeline.score(X_test_scaled, y_test)\n",
    "    precision_scores[name] = precision_score(y_test, y_pred, average='weighted')\n",
    "    recall_scores[name] = recall_score(y_test, y_pred, average='weighted')\n",
    "    f1_scores[name] = f1_score(y_test, y_pred, average='weighted')\n",
    "    \n",
    "    # Confusion matrix\n",
    "    cm = confusion_matrix(y_test, y_pred)\n",
    "    disp = ConfusionMatrixDisplay(confusion_matrix=cm)\n",
    "    disp.plot(ax=axes[idx], cmap='Blues')\n",
    "    axes[idx].set_title(f'{name} Confusion Matrix')\n",
    "\n",
    "# Display the metrics for each model\n",
    "for model in classifiers.keys():\n",
    "    print(f\"{model}\\n- Accuracy: {accuracy_scores[model]:.4f}, Precision: {precision_scores[model]:.4f}, Recall: {recall_scores[model]:.4f}, F1 Score: {f1_scores[model]:.4f}\\n\")\n",
    "\n",
    "\n",
    "# Show confusion matrix plots\n",
    "plt.tight_layout()\n",
    "plt.show()\n"
   ]
  },
  {
   "cell_type": "markdown",
   "metadata": {},
   "source": [
    "\n",
    "## <font color=\"#e6550d\"><b>Model Performance Comparison by Metric</b><font>\n"
   ]
  },
  {
   "cell_type": "markdown",
   "metadata": {},
   "source": [
    "\n",
    "\n",
    "#### 1. `Accuracy Comparison`\n",
    "   - **Random Forest**: 0.9543 (highest)\n",
    "   - **Decision Tree**: 0.9357\n",
    "   - **Logistic Regression**: 0.8836\n",
    "   - **K-Nearest Neighbors**: 0.6533 (lowest)\n",
    "\n",
    "   *Observation*: Random Forest had the highest accuracy, closely followed by Decision Tree, indicating that both models excelled in correctly predicting the labels.\n",
    "\n",
    "#### 2. `Precision Comparison`\n",
    "   - **Random Forest**: 0.9555 (highest)\n",
    "   - **Decision Tree**: 0.9368\n",
    "   - **Logistic Regression**: 0.8912\n",
    "   - **K-Nearest Neighbors**: 0.6970 (lowest)\n",
    "\n",
    "   *Observation*: Random Forest also achieved the highest precision, meaning it had fewer false positives. Decision Tree and Logistic Regression maintained strong precision scores, while K-Nearest Neighbors had a relatively low precision.\n",
    "\n",
    "#### 3. `Recall Comparison`\n",
    "   - **Random Forest**: 0.9543 (highest)\n",
    "   - **Decision Tree**: 0.9357\n",
    "   - **Logistic Regression**: 0.8836\n",
    "   - **K-Nearest Neighbors**: 0.6533 (lowest)\n",
    "\n",
    "   *Observation*: Random Forest led in recall, successfully identifying most of the true positive instances. Decision Tree and Logistic Regression had strong recall values, with K-Nearest Neighbors significantly lower.\n",
    "\n",
    "#### 4. `F1 Score Comparison`\n",
    "   - **Random Forest**: 0.9546 (highest)\n",
    "   - **Decision Tree**: 0.9360\n",
    "   - **Logistic Regression**: 0.8854\n",
    "   - **K-Nearest Neighbors**: 0.6654 (lowest)\n",
    "\n",
    "   *Observation*: Random Forest achieved the highest F1 score, suggesting it balances precision and recall better than the other models. Decision Tree and Logistic Regression also had strong F1 scores, while K-Nearest Neighbors lagged behind.\n",
    "\n",
    "### Conclusion\n",
    "The **Random Forest** model outperformed all other models across all metrics, making it the best choice for this classification task, particularly for scenarios requiring high accuracy, precision, and recall. **Decision Tree** also performed well, suggesting it could be a good alternative with slightly lower computational cost than Random Forest. **Logistic Regression** provided moderate performance, and while **K-Nearest Neighbors** had the lowest scores in all metrics, it may still be suitable if simplicity is a priority over performance."
   ]
  },
  {
   "cell_type": "markdown",
   "metadata": {},
   "source": [
    "# <font color=\"#a63603\"><b>7.0 DEPLOYMENT</b><font>"
   ]
  },
  {
   "cell_type": "markdown",
   "metadata": {},
   "source": []
  },
  {
   "cell_type": "markdown",
   "metadata": {},
   "source": []
  },
  {
   "cell_type": "markdown",
   "metadata": {},
   "source": []
  },
  {
   "cell_type": "markdown",
   "metadata": {},
   "source": [
    "# <font color=\"#a63603\"><b> 8.0 CONCLUSION</b><font>"
   ]
  },
  {
   "cell_type": "markdown",
   "metadata": {},
   "source": [
    "In conclusion,  the project has successfully developed a classification model to predict anemia severity among the target group , `children in the age below 56 months`. with afocus on the social economic factors giving an influence to the target variable `anemia level` The models have been trained to classifiy the cases in four categories and the best picked for deployment. This therefore achieves the derivable to enable early identification of `at_risk children` . With an intergration of varoious predictors , ie `socioeconic variables`, we conlude that the model provides an accessible tool for the healthcare proffessionals. \n",
    "\n",
    "This project positively contributes a data-driven and statistcal approach to public health,offering actionable insights for targeted anemia interventions and informing policy initiatives aimed at anemia reduction among Nigerian children.\n",
    "Conclusion cntd ...\n",
    "\n",
    "The following are the actionable importants and the projects concluding derivalables based on its key objectives ; \n",
    "The projects analysis reveal that `socialeconomic determinants` for example factors like wealth index and parental education play a role in anemia severity. The insights therefore offers a  valuable guidance to the public health strategies targeting specific demographics most vulnerable to anemia.\n",
    "The `model` achieved high accuracy in classifying `anemia levels`, validated through numerous `testing metrics`. This `predictive accuracy` without doubt supports its application in real-world settings, aiding `healthcare providers` in efficiently categorizing anemia severity and `tailoring interventions` accordingly.\n",
    "\n",
    "The `model’s classification capabilities` allow for monitoring anemia severity and prioritizing resources. By identifying children with severe anemia, healthcare providers can better allocate treatments and interventions. Futher recomendations for certain dieting can also be tailored right.\n",
    "for `policy makers` , The findings highlight the importance of developing policies that target the socioeconomic factors contributing to anemia in children. By addressing issues such as poverty, educational access, and healthcare availability, policymakers can help mitigate anemia's impact. Insights from this model offer a foundation for long-term health strategies focused on reducing anemia among at-risk groups, with an emphasis on tackling underlying causes for a more sustainable reduction in anemia prevalence.\n"
   ]
  },
  {
   "cell_type": "markdown",
   "metadata": {},
   "source": [
    "# <font color=\"#a63603\"><b> 9.0 RECOMMENDATION</b><font>\n"
   ]
  },
  {
   "cell_type": "markdown",
   "metadata": {},
   "source": [
    "## 1. Target Socioeconomic Interventions\n",
    "\n",
    "Recommendation: Focus public health efforts on children from low-income families and those whose parents have low educational attainment, as these socioeconomic factors are strongly linked to higher anemia prevalence.\n",
    "\n",
    "Action: Implement targeted educational programs for parents, particularly in economically disadvantaged areas, to improve nutrition awareness and the importance of regular healthcare checkups.\n",
    "\n",
    "## 2. Resource Allocation and Prioritization\n",
    "\n",
    "Recommendation: Use the model to guide the allocation of healthcare resources, focusing on regions or communities with a higher proportion of children at risk of severe anemia.\n",
    "\n",
    "Action: Develop region-specific intervention strategies, such as providing iron supplements or fortified foods in areas with high anemia prevalence. Prioritize these resources for children with severe anemia identified by the model.\n",
    "\n",
    "## 3. Nutritional Programs and Dietary Recommendations\n",
    "\n",
    "Recommendation: Integrate the predictive model’s results into community health initiatives that promote better nutrition and iron-rich diets for at-risk children.\n",
    "\n",
    "Action: Collaborate with local health organizations to distribute guidelines or cooking programs focused on affordable, iron-rich foods, particularly in communities identified as high-risk.\n",
    "\n",
    "## 4. Policy Development and Advocacy\n",
    "\n",
    "Recommendation: Advocate for the implementation of policies addressing socioeconomic disparities that contribute to anemia in children, particularly in underprivileged communities.\n",
    "\n",
    "Action: Encourage policymakers to develop policies aimed at reducing poverty, improving access to education, and enhancing healthcare services for underserved populations. This can involve increasing funding for maternal and child health programs in these regions.\n",
    "\n",
    "## 5. Monitoring and Early Detection Systems\n",
    "\n",
    "Recommendation: Incorporate the model into national or regional health surveillance systems for early detection of anemia in children under 56 months.\n",
    "\n",
    "Action: Work with health ministries to integrate the model’s classification system into routine screenings at pediatric healthcare facilities, ensuring timely diagnosis and intervention for children with severe anemia.\n",
    "\n",
    "## 6. Community Engagement and Awareness\n",
    "\n",
    "Recommendation: Build awareness among communities, particularly in rural or underprivileged areas, about the importance of addressing anemia through proper diet and healthcare.\n",
    "\n",
    "Action: Organize community outreach programs to raise awareness about anemia, its effects on children, and how socioeconomic factors contribute to its severity. Engage with local leaders to support educational campaigns.\n",
    "\n",
    "## 7. Data-Driven Public Health Strategies\n",
    "\n",
    "Recommendation: Use the insights generated by the model to inform the development of data-driven public health strategies for long-term anemia reduction.\n",
    "\n",
    "Action: Regularly update the model with new data to refine its predictions and identify emerging trends. Use the updated model to guide ongoing public health campaigns and interventions.\n",
    "\n",
    "## 8. Partnership with International Health Organizations\n",
    "\n",
    "Recommendation: Collaborate with global health organizations such as WHO, UNICEF, and other non-governmental organizations working on child health in Nigeria.\n",
    "\n",
    "Action: Share the model and its insights with these organizations to enhance the reach of anemia-related health interventions and to collaborate on implementing best practices for anemia prevention across the country."
   ]
  },
  {
   "cell_type": "markdown",
   "metadata": {},
   "source": [
    "-------------------------------------------------------------------------------------------------------------------------------------------------------"
   ]
  }
 ],
 "metadata": {
  "kernelspec": {
   "display_name": "Python (learn-env)",
   "language": "python",
   "name": "learn-env"
  },
  "language_info": {
   "codemirror_mode": {
    "name": "ipython",
    "version": 3
   },
   "file_extension": ".py",
   "mimetype": "text/x-python",
   "name": "python",
   "nbconvert_exporter": "python",
   "pygments_lexer": "ipython3",
   "version": "3.8.5"
  }
 },
 "nbformat": 4,
 "nbformat_minor": 2
}
