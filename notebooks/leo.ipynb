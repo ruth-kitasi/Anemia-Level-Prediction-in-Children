{
 "cells": [
  {
   "cell_type": "markdown",
   "metadata": {},
   "source": [
    "# ANAEMIA LEVEL PREDICTION IN CHILDREN"
   ]
  },
  {
   "cell_type": "markdown",
   "metadata": {},
   "source": [
    "# BUSINESS UNDERSTANDING\n",
    "\n",
    "This project addresses childhood anemia, a significant public health concern that can adversely affect cognitive and physical development in children. By analyzing a comprehensive dataset that captures key demographic, health, and socio-economic variables—such as age groups (15-49), place of residence (urban vs. rural), education levels (ranging from no education to higher education), and wealth indices (from poorest to richest)—the project aims to identify and mitigate the causes of anemia in diverse communities. The dataset includes vital health indicators, such as hemoglobin levels (20 to 218 g/dL) and anemia classifications (mild, moderate, severe, not anemic), as well as factors like recent health issues (fevers), usage of iron supplements, and living conditions (e.g., access to mosquito bed nets).\n",
    "\n",
    "This project is essential for developing targeted interventions tailored to high-risk groups, thereby optimizing resource allocation. It will raise awareness about the importance of proper nutrition and iron intake, empowering families with the knowledge needed to prevent anemia. Community engagement will be a cornerstone of the initiative, fostering a collaborative approach to health and encouraging families to support each other in adopting healthier practices. Ultimately, the goal is to decrease anemia rates among children, leading to better health outcomes, improved school performance, and enhanced quality of life.\n",
    "\n",
    "Key stakeholders include families and caregivers, healthcare providers (such as pediatricians and community health workers), local government and health departments, educational institutions, non-governmental organizations (NGOs), and research and academic institutions. By engaging these stakeholders, the project aims to create a comprehensive approach to combat childhood anemia, ensuring sustainable improvements in child health and nutrition.\n",
    "\n",
    "## Problem Statement\n",
    "Childhood anemia is a critical public health issue, leading to adverse impacts on cognitive and physical development. This project aims to build a predictive classification model to determine anemia status in children based on a comprehensive dataset encompassing demographic, health, and socio-economic factors. By identifying high-risk groups and predicting anemia likelihood, this model will support targeted interventions, optimize resource allocation, and guide public health policies. The ultimate objective is to reduce anemia rates in children, leading to improved health, educational outcomes, and quality of life.\n",
    "\n",
    "## Objectives\n",
    "\n",
    "- Develop an Anemia Prediction Model\n",
    "Create a classification model to predict whether a child has anemia using a combination of demographic, health, and socio-economic factors. By building a model that reliably predicts anemia status, the project aims to enable early detection and facilitate timely, targeted intervention for children most at risk.\n",
    "\n",
    "- Classify and Monitor Anemia Severity Levels\n",
    "Use the model to classify anemia cases into severity levels (mild, moderate, severe) based on hemoglobin levels. By tracking these severity levels, the project aims to provide insights that can guide resource prioritization and enable healthcare providers to tailor interventions according to the specific needs of each severity group.\n",
    "\n",
    "\n",
    "- Identify Key Risk Factors for Anemia\n",
    "Conduct a thorough analysis of predictive factors such as hemoglobin levels, nutritional intake, caregiver health practices, and environmental conditions. Identifying and understanding these key risk factors will allow for focused prevention efforts, addressing the root causes of childhood anemia across different demographics.\n",
    "\n",
    "- Guide Targeted Public Health Interventions\n",
    "Leverage insights from the model to guide and prioritize public health interventions for high-risk groups, particularly in resource-limited areas. This objective aims to support data-driven, targeted health campaigns, focusing on nutrition, supplement distribution, and anemia education to reduce childhood anemia rates sustainably.\n",
    "\n",
    "## Data Limitations\n",
    "\n",
    "- Cross-sectional Nature of Data\n",
    "The dataset is cross-sectional, capturing information from a single point in time. This restricts the ability to infer causation between variables and anemia levels, permitting only association-based insights.\n",
    "\n",
    "- Potential Reporting Bias\n",
    "Variables such as the wealth index and anemia status are based on estimated data, which may introduce reporting biases and potential inaccuracies in representing actual conditions.\n",
    "\n",
    "- Granularity of Anemia Measurements\n",
    "Hemoglobin levels are adjusted for altitude and smoking, yet other unmeasured health factors that might independently affect hemoglobin levels are not accounted for, potentially impacting the precision of anemia classifications.\n",
    "\n",
    "- Missing Values and Data Quality\n",
    "Some columns contain missing data or inconsistencies (e.g., missing hemoglobin levels and anemia status). Such gaps may necessitate imputation or exclusion, potentially affecting the robustness and generalizability of findings.\n",
    "\n",
    "- Limited Representation of Seasonal Factors\n",
    "Anemia prevalence can vary with seasonal factors (e.g., malaria rates). Since the dataset does not include temporal data to capture such fluctuations, any seasonal influences on anemia are not accounted for in this analysis.\n",
    "---"
   ]
  },
  {
   "cell_type": "markdown",
   "metadata": {},
   "source": [
    "# DATA UNDERSTANDING\n",
    "\n",
    "## Data Inspection\n",
    "\n",
    "Loading and sampling data"
   ]
  },
  {
   "cell_type": "code",
   "execution_count": 1,
   "metadata": {},
   "outputs": [],
   "source": [
    "# Imports\n",
    "import pandas as pd"
   ]
  },
  {
   "cell_type": "code",
   "execution_count": 2,
   "metadata": {},
   "outputs": [
    {
     "data": {
      "text/html": [
       "<div>\n",
       "<style scoped>\n",
       "    .dataframe tbody tr th:only-of-type {\n",
       "        vertical-align: middle;\n",
       "    }\n",
       "\n",
       "    .dataframe tbody tr th {\n",
       "        vertical-align: top;\n",
       "    }\n",
       "\n",
       "    .dataframe thead th {\n",
       "        text-align: right;\n",
       "    }\n",
       "</style>\n",
       "<table border=\"1\" class=\"dataframe\">\n",
       "  <thead>\n",
       "    <tr style=\"text-align: right;\">\n",
       "      <th></th>\n",
       "      <th>Age in 5-year groups</th>\n",
       "      <th>Type of place of residence</th>\n",
       "      <th>Highest educational level</th>\n",
       "      <th>Wealth index combined</th>\n",
       "      <th>Births in last five years</th>\n",
       "      <th>Age of respondent at 1st birth</th>\n",
       "      <th>Hemoglobin level adjusted for altitude and smoking (g/dl - 1 decimal)</th>\n",
       "      <th>Anemia level</th>\n",
       "      <th>Have mosquito bed net for sleeping (from household questionnaire)</th>\n",
       "      <th>Smokes cigarettes</th>\n",
       "      <th>Current marital status</th>\n",
       "      <th>Currently residing with husband/partner</th>\n",
       "      <th>When child put to breast</th>\n",
       "      <th>Had fever in last two weeks</th>\n",
       "      <th>Hemoglobin level adjusted for altitude (g/dl - 1 decimal)</th>\n",
       "      <th>Anemia level.1</th>\n",
       "      <th>Taking iron pills, sprinkles or syrup</th>\n",
       "    </tr>\n",
       "  </thead>\n",
       "  <tbody>\n",
       "    <tr>\n",
       "      <th>8451</th>\n",
       "      <td>40-44</td>\n",
       "      <td>Urban</td>\n",
       "      <td>No education</td>\n",
       "      <td>Richer</td>\n",
       "      <td>1</td>\n",
       "      <td>15</td>\n",
       "      <td>118.0</td>\n",
       "      <td>Mild</td>\n",
       "      <td>Yes</td>\n",
       "      <td>No</td>\n",
       "      <td>Married</td>\n",
       "      <td>Living with her</td>\n",
       "      <td>Immediately</td>\n",
       "      <td>No</td>\n",
       "      <td>128.0</td>\n",
       "      <td>Not anemic</td>\n",
       "      <td>No</td>\n",
       "    </tr>\n",
       "    <tr>\n",
       "      <th>18779</th>\n",
       "      <td>45-49</td>\n",
       "      <td>Rural</td>\n",
       "      <td>No education</td>\n",
       "      <td>Poorer</td>\n",
       "      <td>2</td>\n",
       "      <td>19</td>\n",
       "      <td>NaN</td>\n",
       "      <td>NaN</td>\n",
       "      <td>No</td>\n",
       "      <td>No</td>\n",
       "      <td>Married</td>\n",
       "      <td>Living with her</td>\n",
       "      <td>Immediately</td>\n",
       "      <td>No</td>\n",
       "      <td>NaN</td>\n",
       "      <td>NaN</td>\n",
       "      <td>No</td>\n",
       "    </tr>\n",
       "    <tr>\n",
       "      <th>22955</th>\n",
       "      <td>20-24</td>\n",
       "      <td>Rural</td>\n",
       "      <td>Primary</td>\n",
       "      <td>Poorest</td>\n",
       "      <td>2</td>\n",
       "      <td>14</td>\n",
       "      <td>NaN</td>\n",
       "      <td>NaN</td>\n",
       "      <td>Yes</td>\n",
       "      <td>No</td>\n",
       "      <td>Married</td>\n",
       "      <td>Living with her</td>\n",
       "      <td>NaN</td>\n",
       "      <td>No</td>\n",
       "      <td>NaN</td>\n",
       "      <td>NaN</td>\n",
       "      <td>No</td>\n",
       "    </tr>\n",
       "    <tr>\n",
       "      <th>33662</th>\n",
       "      <td>20-24</td>\n",
       "      <td>Urban</td>\n",
       "      <td>Secondary</td>\n",
       "      <td>Richer</td>\n",
       "      <td>2</td>\n",
       "      <td>14</td>\n",
       "      <td>NaN</td>\n",
       "      <td>NaN</td>\n",
       "      <td>Yes</td>\n",
       "      <td>No</td>\n",
       "      <td>Married</td>\n",
       "      <td>Living with her</td>\n",
       "      <td>NaN</td>\n",
       "      <td>NaN</td>\n",
       "      <td>NaN</td>\n",
       "      <td>NaN</td>\n",
       "      <td>NaN</td>\n",
       "    </tr>\n",
       "    <tr>\n",
       "      <th>31553</th>\n",
       "      <td>30-34</td>\n",
       "      <td>Urban</td>\n",
       "      <td>Higher</td>\n",
       "      <td>Richest</td>\n",
       "      <td>1</td>\n",
       "      <td>31</td>\n",
       "      <td>121.0</td>\n",
       "      <td>Not anemic</td>\n",
       "      <td>No</td>\n",
       "      <td>No</td>\n",
       "      <td>Married</td>\n",
       "      <td>Living with her</td>\n",
       "      <td>202</td>\n",
       "      <td>No</td>\n",
       "      <td>103.0</td>\n",
       "      <td>Mild</td>\n",
       "      <td>No</td>\n",
       "    </tr>\n",
       "    <tr>\n",
       "      <th>18043</th>\n",
       "      <td>20-24</td>\n",
       "      <td>Rural</td>\n",
       "      <td>No education</td>\n",
       "      <td>Poorer</td>\n",
       "      <td>3</td>\n",
       "      <td>17</td>\n",
       "      <td>NaN</td>\n",
       "      <td>NaN</td>\n",
       "      <td>Yes</td>\n",
       "      <td>No</td>\n",
       "      <td>Married</td>\n",
       "      <td>Living with her</td>\n",
       "      <td>NaN</td>\n",
       "      <td>No</td>\n",
       "      <td>NaN</td>\n",
       "      <td>NaN</td>\n",
       "      <td>No</td>\n",
       "    </tr>\n",
       "    <tr>\n",
       "      <th>28692</th>\n",
       "      <td>25-29</td>\n",
       "      <td>Rural</td>\n",
       "      <td>No education</td>\n",
       "      <td>Middle</td>\n",
       "      <td>2</td>\n",
       "      <td>21</td>\n",
       "      <td>117.0</td>\n",
       "      <td>Mild</td>\n",
       "      <td>No</td>\n",
       "      <td>No</td>\n",
       "      <td>Living with partner</td>\n",
       "      <td>Staying elsewhere</td>\n",
       "      <td>Immediately</td>\n",
       "      <td>No</td>\n",
       "      <td>NaN</td>\n",
       "      <td>NaN</td>\n",
       "      <td>No</td>\n",
       "    </tr>\n",
       "    <tr>\n",
       "      <th>4638</th>\n",
       "      <td>35-39</td>\n",
       "      <td>Rural</td>\n",
       "      <td>No education</td>\n",
       "      <td>Poorer</td>\n",
       "      <td>1</td>\n",
       "      <td>21</td>\n",
       "      <td>101.0</td>\n",
       "      <td>Moderate</td>\n",
       "      <td>Yes</td>\n",
       "      <td>No</td>\n",
       "      <td>Married</td>\n",
       "      <td>Living with her</td>\n",
       "      <td>Immediately</td>\n",
       "      <td>No</td>\n",
       "      <td>116.0</td>\n",
       "      <td>Not anemic</td>\n",
       "      <td>No</td>\n",
       "    </tr>\n",
       "    <tr>\n",
       "      <th>26920</th>\n",
       "      <td>45-49</td>\n",
       "      <td>Rural</td>\n",
       "      <td>Primary</td>\n",
       "      <td>Middle</td>\n",
       "      <td>1</td>\n",
       "      <td>30</td>\n",
       "      <td>77.0</td>\n",
       "      <td>Severe</td>\n",
       "      <td>No</td>\n",
       "      <td>No</td>\n",
       "      <td>Married</td>\n",
       "      <td>Living with her</td>\n",
       "      <td>103</td>\n",
       "      <td>No</td>\n",
       "      <td>61.0</td>\n",
       "      <td>Severe</td>\n",
       "      <td>Yes</td>\n",
       "    </tr>\n",
       "    <tr>\n",
       "      <th>25610</th>\n",
       "      <td>25-29</td>\n",
       "      <td>Urban</td>\n",
       "      <td>Secondary</td>\n",
       "      <td>Poorer</td>\n",
       "      <td>2</td>\n",
       "      <td>18</td>\n",
       "      <td>NaN</td>\n",
       "      <td>NaN</td>\n",
       "      <td>No</td>\n",
       "      <td>No</td>\n",
       "      <td>Married</td>\n",
       "      <td>Living with her</td>\n",
       "      <td>Immediately</td>\n",
       "      <td>No</td>\n",
       "      <td>NaN</td>\n",
       "      <td>NaN</td>\n",
       "      <td>Yes</td>\n",
       "    </tr>\n",
       "  </tbody>\n",
       "</table>\n",
       "</div>"
      ],
      "text/plain": [
       "      Age in 5-year groups Type of place of residence  \\\n",
       "8451                 40-44                      Urban   \n",
       "18779                45-49                      Rural   \n",
       "22955                20-24                      Rural   \n",
       "33662                20-24                      Urban   \n",
       "31553                30-34                      Urban   \n",
       "18043                20-24                      Rural   \n",
       "28692                25-29                      Rural   \n",
       "4638                 35-39                      Rural   \n",
       "26920                45-49                      Rural   \n",
       "25610                25-29                      Urban   \n",
       "\n",
       "      Highest educational level Wealth index combined  \\\n",
       "8451               No education                Richer   \n",
       "18779              No education                Poorer   \n",
       "22955                   Primary               Poorest   \n",
       "33662                 Secondary                Richer   \n",
       "31553                    Higher               Richest   \n",
       "18043              No education                Poorer   \n",
       "28692              No education                Middle   \n",
       "4638               No education                Poorer   \n",
       "26920                   Primary                Middle   \n",
       "25610                 Secondary                Poorer   \n",
       "\n",
       "       Births in last five years  Age of respondent at 1st birth  \\\n",
       "8451                           1                              15   \n",
       "18779                          2                              19   \n",
       "22955                          2                              14   \n",
       "33662                          2                              14   \n",
       "31553                          1                              31   \n",
       "18043                          3                              17   \n",
       "28692                          2                              21   \n",
       "4638                           1                              21   \n",
       "26920                          1                              30   \n",
       "25610                          2                              18   \n",
       "\n",
       "       Hemoglobin level adjusted for altitude and smoking (g/dl - 1 decimal)  \\\n",
       "8451                                               118.0                       \n",
       "18779                                                NaN                       \n",
       "22955                                                NaN                       \n",
       "33662                                                NaN                       \n",
       "31553                                              121.0                       \n",
       "18043                                                NaN                       \n",
       "28692                                              117.0                       \n",
       "4638                                               101.0                       \n",
       "26920                                               77.0                       \n",
       "25610                                                NaN                       \n",
       "\n",
       "      Anemia level  \\\n",
       "8451          Mild   \n",
       "18779          NaN   \n",
       "22955          NaN   \n",
       "33662          NaN   \n",
       "31553   Not anemic   \n",
       "18043          NaN   \n",
       "28692         Mild   \n",
       "4638      Moderate   \n",
       "26920       Severe   \n",
       "25610          NaN   \n",
       "\n",
       "      Have mosquito bed net for sleeping (from household questionnaire)  \\\n",
       "8451                                                 Yes                  \n",
       "18779                                                 No                  \n",
       "22955                                                Yes                  \n",
       "33662                                                Yes                  \n",
       "31553                                                 No                  \n",
       "18043                                                Yes                  \n",
       "28692                                                 No                  \n",
       "4638                                                 Yes                  \n",
       "26920                                                 No                  \n",
       "25610                                                 No                  \n",
       "\n",
       "      Smokes cigarettes Current marital status  \\\n",
       "8451                 No                Married   \n",
       "18779                No                Married   \n",
       "22955                No                Married   \n",
       "33662                No                Married   \n",
       "31553                No                Married   \n",
       "18043                No                Married   \n",
       "28692                No    Living with partner   \n",
       "4638                 No                Married   \n",
       "26920                No                Married   \n",
       "25610                No                Married   \n",
       "\n",
       "      Currently residing with husband/partner When child put to breast  \\\n",
       "8451                          Living with her              Immediately   \n",
       "18779                         Living with her              Immediately   \n",
       "22955                         Living with her                      NaN   \n",
       "33662                         Living with her                      NaN   \n",
       "31553                         Living with her                      202   \n",
       "18043                         Living with her                      NaN   \n",
       "28692                       Staying elsewhere              Immediately   \n",
       "4638                          Living with her              Immediately   \n",
       "26920                         Living with her                      103   \n",
       "25610                         Living with her              Immediately   \n",
       "\n",
       "      Had fever in last two weeks  \\\n",
       "8451                           No   \n",
       "18779                          No   \n",
       "22955                          No   \n",
       "33662                         NaN   \n",
       "31553                          No   \n",
       "18043                          No   \n",
       "28692                          No   \n",
       "4638                           No   \n",
       "26920                          No   \n",
       "25610                          No   \n",
       "\n",
       "       Hemoglobin level adjusted for altitude (g/dl - 1 decimal)  \\\n",
       "8451                                               128.0           \n",
       "18779                                                NaN           \n",
       "22955                                                NaN           \n",
       "33662                                                NaN           \n",
       "31553                                              103.0           \n",
       "18043                                                NaN           \n",
       "28692                                                NaN           \n",
       "4638                                               116.0           \n",
       "26920                                               61.0           \n",
       "25610                                                NaN           \n",
       "\n",
       "      Anemia level.1 Taking iron pills, sprinkles or syrup  \n",
       "8451      Not anemic                                    No  \n",
       "18779            NaN                                    No  \n",
       "22955            NaN                                    No  \n",
       "33662            NaN                                   NaN  \n",
       "31553           Mild                                    No  \n",
       "18043            NaN                                    No  \n",
       "28692            NaN                                    No  \n",
       "4638      Not anemic                                    No  \n",
       "26920         Severe                                   Yes  \n",
       "25610            NaN                                   Yes  "
      ]
     },
     "execution_count": 2,
     "metadata": {},
     "output_type": "execute_result"
    }
   ],
   "source": [
    "df = pd.read_csv('../anemia_dataset.csv')\n",
    "df.sample(n=10, random_state= 42)"
   ]
  },
  {
   "cell_type": "code",
   "execution_count": 3,
   "metadata": {},
   "outputs": [],
   "source": [
    "# column descriptions\n"
   ]
  },
  {
   "cell_type": "markdown",
   "metadata": {},
   "source": [
    "Column Names and Descriptions"
   ]
  },
  {
   "cell_type": "code",
   "execution_count": 4,
   "metadata": {},
   "outputs": [
    {
     "name": "stdout",
     "output_type": "stream",
     "text": [
      "Age in 5-year groups\n",
      "Type of place of residence\n",
      "Highest educational level\n",
      "Wealth index combined\n",
      "Births in last five years\n",
      "Age of respondent at 1st birth\n",
      "Hemoglobin level adjusted for altitude and smoking (g/dl - 1 decimal)\n",
      "Anemia level\n",
      "Have mosquito bed net for sleeping (from household questionnaire)\n",
      "Smokes cigarettes\n",
      "Current marital status\n",
      "Currently residing with husband/partner\n",
      "When child put to breast\n",
      "Had fever in last two weeks\n",
      "Hemoglobin level adjusted for altitude (g/dl - 1 decimal)\n",
      "Anemia level.1\n",
      "Taking iron pills, sprinkles or syrup\n"
     ]
    }
   ],
   "source": [
    "# column names \n",
    "cols =df.columns\n",
    "for column in cols:\n",
    "    print(column)"
   ]
  },
  {
   "cell_type": "markdown",
   "metadata": {},
   "source": [
    "# Column Descriptions\n",
    "\n",
    "| Column Name                                               | Description                                                                                  |\n",
    "|-----------------------------------------------------------|----------------------------------------------------------------------------------------------|\n",
    "| **Age in 5-year groups**                                  | Age of the mother, grouped in 5-year intervals.                                             |\n",
    "| **Type of place of residence**                            | Type of residence where the mother resides, classified as either Urban or Rural.             |\n",
    "| **Highest educational level**                             | Mother's highest level of education achieved, including categories such as \"No Education\" and \"Secondary\". |\n",
    "| **Wealth index combined**                                 | Mother’s economic status, categorized in levels such as \"Poorest\" and \"Poorer\".             |\n",
    "| **Births in last five years**                             | Number of children the mother has given birth to in the last five years.                     |\n",
    "| **Age of respondent at 1st birth**                        | Age of the mother at the time of her first birth.                                           |\n",
    "| **Hemoglobin level adjusted for altitude and smoking**    | Mother's hemoglobin levels, adjusted for altitude and smoking, measured in grams per deciliter (g/dl). |\n",
    "| **Anemia level**                                          | Anemia status of the mother, categorized (e.g., \"Not anemic\").                              |\n",
    "| **Have mosquito bed net for sleeping**                    | Indicates if the household has a mosquito net for sleeping (True/False).                    |\n",
    "| **Smokes cigarettes**                                     | Indicates if the mother smokes cigarettes (True/False).                                     |\n",
    "| **Current marital status**                                | Marital status of the mother (e.g., \"Married\", \"Single\").                                   |\n",
    "| **Currently residing with husband/partner**               | Indicates if the mother currently resides with her husband or partner (True/False).         |\n",
    "| **When child put to breast**                              | Timing of initial breastfeeding after the child was born.                                   |\n",
    "| **Had fever in last two weeks**                           | Indicates if the child had a fever in the past two weeks (True/False).                     |\n",
    "| **Hemoglobin level adjusted for altitude (g/dl)**         | Mother’s hemoglobin levels, adjusted only for altitude, measured in grams per deciliter (g/dl). |\n",
    "| **Anemia level.1**                                        | Duplicate or alternative measure of anemia level, possibly due to different categorization.  |\n",
    "| **Taking iron pills, sprinkles or syrup**                 | Indicates if the mother is taking iron supplements such as pills, sprinkles, or syrup (True/False). |\n"
   ]
  },
  {
   "cell_type": "markdown",
   "metadata": {},
   "source": []
  },
  {
   "cell_type": "markdown",
   "metadata": {},
   "source": [
    "From the sample above, we observe some NaNs"
   ]
  },
  {
   "cell_type": "code",
   "execution_count": 5,
   "metadata": {},
   "outputs": [
    {
     "data": {
      "text/plain": [
       "Age in 5-year groups                                                         0\n",
       "Type of place of residence                                                   0\n",
       "Highest educational level                                                    0\n",
       "Wealth index combined                                                        0\n",
       "Births in last five years                                                    0\n",
       "Age of respondent at 1st birth                                               0\n",
       "Hemoglobin level adjusted for altitude and smoking (g/dl - 1 decimal)    20788\n",
       "Anemia level                                                             20788\n",
       "Have mosquito bed net for sleeping (from household questionnaire)            0\n",
       "Smokes cigarettes                                                            0\n",
       "Current marital status                                                       0\n",
       "Currently residing with husband/partner                                   1698\n",
       "When child put to breast                                                 12756\n",
       "Had fever in last two weeks                                               3211\n",
       "Hemoglobin level adjusted for altitude (g/dl - 1 decimal)                23742\n",
       "Anemia level.1                                                           23742\n",
       "Taking iron pills, sprinkles or syrup                                     3211\n",
       "dtype: int64"
      ]
     },
     "execution_count": 5,
     "metadata": {},
     "output_type": "execute_result"
    }
   ],
   "source": [
    "df.isnull().sum()"
   ]
  },
  {
   "cell_type": "markdown",
   "metadata": {},
   "source": [
    "More info on the columns and data types"
   ]
  },
  {
   "cell_type": "code",
   "execution_count": 6,
   "metadata": {},
   "outputs": [
    {
     "name": "stdout",
     "output_type": "stream",
     "text": [
      "<class 'pandas.core.frame.DataFrame'>\n",
      "RangeIndex: 33924 entries, 0 to 33923\n",
      "Data columns (total 17 columns):\n",
      " #   Column                                                                 Non-Null Count  Dtype  \n",
      "---  ------                                                                 --------------  -----  \n",
      " 0   Age in 5-year groups                                                   33924 non-null  object \n",
      " 1   Type of place of residence                                             33924 non-null  object \n",
      " 2   Highest educational level                                              33924 non-null  object \n",
      " 3   Wealth index combined                                                  33924 non-null  object \n",
      " 4   Births in last five years                                              33924 non-null  int64  \n",
      " 5   Age of respondent at 1st birth                                         33924 non-null  int64  \n",
      " 6   Hemoglobin level adjusted for altitude and smoking (g/dl - 1 decimal)  13136 non-null  float64\n",
      " 7   Anemia level                                                           13136 non-null  object \n",
      " 8   Have mosquito bed net for sleeping (from household questionnaire)      33924 non-null  object \n",
      " 9   Smokes cigarettes                                                      33924 non-null  object \n",
      " 10  Current marital status                                                 33924 non-null  object \n",
      " 11  Currently residing with husband/partner                                32226 non-null  object \n",
      " 12  When child put to breast                                               21168 non-null  object \n",
      " 13  Had fever in last two weeks                                            30713 non-null  object \n",
      " 14  Hemoglobin level adjusted for altitude (g/dl - 1 decimal)              10182 non-null  float64\n",
      " 15  Anemia level.1                                                         10182 non-null  object \n",
      " 16  Taking iron pills, sprinkles or syrup                                  30713 non-null  object \n",
      "dtypes: float64(2), int64(2), object(13)\n",
      "memory usage: 4.4+ MB\n"
     ]
    }
   ],
   "source": [
    "df.info()"
   ]
  },
  {
   "cell_type": "markdown",
   "metadata": {},
   "source": [
    "Distribution of int and float data type columns"
   ]
  },
  {
   "cell_type": "code",
   "execution_count": 7,
   "metadata": {},
   "outputs": [
    {
     "data": {
      "text/html": [
       "<div>\n",
       "<style scoped>\n",
       "    .dataframe tbody tr th:only-of-type {\n",
       "        vertical-align: middle;\n",
       "    }\n",
       "\n",
       "    .dataframe tbody tr th {\n",
       "        vertical-align: top;\n",
       "    }\n",
       "\n",
       "    .dataframe thead th {\n",
       "        text-align: right;\n",
       "    }\n",
       "</style>\n",
       "<table border=\"1\" class=\"dataframe\">\n",
       "  <thead>\n",
       "    <tr style=\"text-align: right;\">\n",
       "      <th></th>\n",
       "      <th>Births in last five years</th>\n",
       "      <th>Age of respondent at 1st birth</th>\n",
       "      <th>Hemoglobin level adjusted for altitude and smoking (g/dl - 1 decimal)</th>\n",
       "      <th>Hemoglobin level adjusted for altitude (g/dl - 1 decimal)</th>\n",
       "    </tr>\n",
       "  </thead>\n",
       "  <tbody>\n",
       "    <tr>\n",
       "      <th>count</th>\n",
       "      <td>33924.000000</td>\n",
       "      <td>33924.000000</td>\n",
       "      <td>13136.000000</td>\n",
       "      <td>10182.000000</td>\n",
       "    </tr>\n",
       "    <tr>\n",
       "      <th>mean</th>\n",
       "      <td>1.823783</td>\n",
       "      <td>19.570776</td>\n",
       "      <td>114.367235</td>\n",
       "      <td>101.270183</td>\n",
       "    </tr>\n",
       "    <tr>\n",
       "      <th>std</th>\n",
       "      <td>0.705460</td>\n",
       "      <td>4.313172</td>\n",
       "      <td>15.915408</td>\n",
       "      <td>15.569583</td>\n",
       "    </tr>\n",
       "    <tr>\n",
       "      <th>min</th>\n",
       "      <td>1.000000</td>\n",
       "      <td>12.000000</td>\n",
       "      <td>20.000000</td>\n",
       "      <td>29.000000</td>\n",
       "    </tr>\n",
       "    <tr>\n",
       "      <th>25%</th>\n",
       "      <td>1.000000</td>\n",
       "      <td>16.000000</td>\n",
       "      <td>105.000000</td>\n",
       "      <td>92.000000</td>\n",
       "    </tr>\n",
       "    <tr>\n",
       "      <th>50%</th>\n",
       "      <td>2.000000</td>\n",
       "      <td>19.000000</td>\n",
       "      <td>115.000000</td>\n",
       "      <td>103.000000</td>\n",
       "    </tr>\n",
       "    <tr>\n",
       "      <th>75%</th>\n",
       "      <td>2.000000</td>\n",
       "      <td>22.000000</td>\n",
       "      <td>125.000000</td>\n",
       "      <td>112.000000</td>\n",
       "    </tr>\n",
       "    <tr>\n",
       "      <th>max</th>\n",
       "      <td>6.000000</td>\n",
       "      <td>48.000000</td>\n",
       "      <td>218.000000</td>\n",
       "      <td>170.000000</td>\n",
       "    </tr>\n",
       "  </tbody>\n",
       "</table>\n",
       "</div>"
      ],
      "text/plain": [
       "       Births in last five years  Age of respondent at 1st birth  \\\n",
       "count               33924.000000                    33924.000000   \n",
       "mean                    1.823783                       19.570776   \n",
       "std                     0.705460                        4.313172   \n",
       "min                     1.000000                       12.000000   \n",
       "25%                     1.000000                       16.000000   \n",
       "50%                     2.000000                       19.000000   \n",
       "75%                     2.000000                       22.000000   \n",
       "max                     6.000000                       48.000000   \n",
       "\n",
       "       Hemoglobin level adjusted for altitude and smoking (g/dl - 1 decimal)  \\\n",
       "count                                       13136.000000                       \n",
       "mean                                          114.367235                       \n",
       "std                                            15.915408                       \n",
       "min                                            20.000000                       \n",
       "25%                                           105.000000                       \n",
       "50%                                           115.000000                       \n",
       "75%                                           125.000000                       \n",
       "max                                           218.000000                       \n",
       "\n",
       "       Hemoglobin level adjusted for altitude (g/dl - 1 decimal)  \n",
       "count                                       10182.000000          \n",
       "mean                                          101.270183          \n",
       "std                                            15.569583          \n",
       "min                                            29.000000          \n",
       "25%                                            92.000000          \n",
       "50%                                           103.000000          \n",
       "75%                                           112.000000          \n",
       "max                                           170.000000          "
      ]
     },
     "execution_count": 7,
     "metadata": {},
     "output_type": "execute_result"
    }
   ],
   "source": [
    "df.describe()"
   ]
  },
  {
   "cell_type": "markdown",
   "metadata": {},
   "source": [
    "Checking the categories for the non-int datatypes"
   ]
  },
  {
   "cell_type": "code",
   "execution_count": 8,
   "metadata": {},
   "outputs": [
    {
     "name": "stdout",
     "output_type": "stream",
     "text": [
      "Age in 5-year groups --> Unique variables 7\n",
      "Type of place of residence --> Unique variables 2\n",
      "Highest educational level --> Unique variables 4\n",
      "Wealth index combined --> Unique variables 5\n",
      "Anemia level --> Unique variables 4\n",
      "Have mosquito bed net for sleeping (from household questionnaire) --> Unique variables 2\n",
      "Smokes cigarettes --> Unique variables 2\n",
      "Current marital status --> Unique variables 6\n",
      "Currently residing with husband/partner --> Unique variables 2\n",
      "When child put to breast --> Unique variables 41\n",
      "Had fever in last two weeks --> Unique variables 3\n",
      "Anemia level.1 --> Unique variables 4\n",
      "Taking iron pills, sprinkles or syrup --> Unique variables 3\n"
     ]
    }
   ],
   "source": [
    "# column names plus how many unique variables each has, to get overall feel of the data\n",
    "\n",
    "cols =df.columns\n",
    "for column in cols:\n",
    "    if df[column].dtype == object:\n",
    "        print(f\"{column} --> Unique variables {len(df[column].value_counts())}\")"
   ]
  },
  {
   "cell_type": "markdown",
   "metadata": {},
   "source": [
    "The column `When child put to breast`is an anomaly, we shall deal with it during cleaning phase,  but for now we exclude it so we can inpect the different categories of categorical columns clearly\n"
   ]
  },
  {
   "cell_type": "code",
   "execution_count": 9,
   "metadata": {},
   "outputs": [
    {
     "name": "stdout",
     "output_type": "stream",
     "text": [
      "Column - Age in 5-year groups\n",
      "Categories\n",
      "25-29    9470\n",
      "30-34    7647\n",
      "20-24    6626\n",
      "35-39    5447\n",
      "40-44    2407\n",
      "15-19    1434\n",
      "45-49     893\n",
      "Name: Age in 5-year groups, dtype: int64\n",
      " NaNs - 0\n",
      "\n",
      "\n",
      "Column - Type of place of residence\n",
      "Categories\n",
      "Rural    22225\n",
      "Urban    11699\n",
      "Name: Type of place of residence, dtype: int64\n",
      " NaNs - 0\n",
      "\n",
      "\n",
      "Column - Highest educational level\n",
      "Categories\n",
      "No education    15391\n",
      "Secondary       10623\n",
      "Primary          5274\n",
      "Higher           2636\n",
      "Name: Highest educational level, dtype: int64\n",
      " NaNs - 0\n",
      "\n",
      "\n",
      "Column - Wealth index combined\n",
      "Categories\n",
      "Poorest    8066\n",
      "Poorer     7743\n",
      "Middle     7171\n",
      "Richer     6166\n",
      "Richest    4778\n",
      "Name: Wealth index combined, dtype: int64\n",
      " NaNs - 0\n",
      "\n",
      "\n",
      "Column - Anemia level\n",
      "Categories\n",
      "Not anemic    5337\n",
      "Moderate      3974\n",
      "Mild          3594\n",
      "Severe         231\n",
      "Name: Anemia level, dtype: int64\n",
      " NaNs - 20788\n",
      "\n",
      "\n",
      "Column - Have mosquito bed net for sleeping (from household questionnaire)\n",
      "Categories\n",
      "Yes    24016\n",
      "No      9908\n",
      "Name: Have mosquito bed net for sleeping (from household questionnaire), dtype: int64\n",
      " NaNs - 0\n",
      "\n",
      "\n",
      "Column - Smokes cigarettes\n",
      "Categories\n",
      "No     33852\n",
      "Yes       72\n",
      "Name: Smokes cigarettes, dtype: int64\n",
      " NaNs - 0\n",
      "\n",
      "\n",
      "Column - Current marital status\n",
      "Categories\n",
      "Married                                31222\n",
      "Living with partner                     1004\n",
      "Never in union                           689\n",
      "Widowed                                  376\n",
      "Divorced                                 332\n",
      "No longer living together/separated      301\n",
      "Name: Current marital status, dtype: int64\n",
      " NaNs - 0\n",
      "\n",
      "\n",
      "Column - Currently residing with husband/partner\n",
      "Categories\n",
      "Living with her      29619\n",
      "Staying elsewhere     2607\n",
      "Name: Currently residing with husband/partner, dtype: int64\n",
      " NaNs - 1698\n",
      "\n",
      "\n",
      "Column - Had fever in last two weeks\n",
      "Categories\n",
      "No            23065\n",
      "Yes            7536\n",
      "Don't know      112\n",
      "Name: Had fever in last two weeks, dtype: int64\n",
      " NaNs - 3211\n",
      "\n",
      "\n",
      "Column - Anemia level.1\n",
      "Categories\n",
      "Moderate      3927\n",
      "Not anemic    3179\n",
      "Mild          2754\n",
      "Severe         322\n",
      "Name: Anemia level.1, dtype: int64\n",
      " NaNs - 23742\n",
      "\n",
      "\n",
      "Column - Taking iron pills, sprinkles or syrup\n",
      "Categories\n",
      "No            25358\n",
      "Yes            5190\n",
      "Don't know      165\n",
      "Name: Taking iron pills, sprinkles or syrup, dtype: int64\n",
      " NaNs - 3211\n",
      "\n",
      "\n"
     ]
    }
   ],
   "source": [
    "df_inspect_cat = df.drop(columns=['When child put to breast'], axis =1)\n",
    "cols =df_inspect_cat.columns\n",
    "for column in cols:\n",
    "    if df[column].dtype == object:\n",
    "        print(f\"Column - {column}\\nCategories\\n{df[column].value_counts()}\\n NaNs - {df[column].isna().sum()}\\n\\n\")"
   ]
  },
  {
   "cell_type": "markdown",
   "metadata": {},
   "source": [
    "inspecting the  `When child put to breast`column"
   ]
  },
  {
   "cell_type": "code",
   "execution_count": 10,
   "metadata": {},
   "outputs": [
    {
     "data": {
      "text/plain": [
       "8451     Immediately\n",
       "18779    Immediately\n",
       "22955            NaN\n",
       "33662            NaN\n",
       "31553            202\n",
       "18043            NaN\n",
       "28692    Immediately\n",
       "4638     Immediately\n",
       "26920            103\n",
       "25610    Immediately\n",
       "Name: When child put to breast, dtype: object"
      ]
     },
     "execution_count": 10,
     "metadata": {},
     "output_type": "execute_result"
    }
   ],
   "source": [
    "df['When child put to breast'].sample (n =10, random_state= 42)"
   ]
  },
  {
   "cell_type": "code",
   "execution_count": 11,
   "metadata": {},
   "outputs": [
    {
     "data": {
      "text/plain": [
       "12756"
      ]
     },
     "execution_count": 11,
     "metadata": {},
     "output_type": "execute_result"
    }
   ],
   "source": [
    "df['When child put to breast'].isnull().sum()"
   ]
  },
  {
   "cell_type": "markdown",
   "metadata": {},
   "source": [
    "This is not a very descriptive column, we shall handle it in the cleaning phase.\n",
    "\n",
    "---"
   ]
  },
  {
   "cell_type": "markdown",
   "metadata": {},
   "source": [
    "# DATA PREPARATION\n",
    "\n",
    "## Data Cleaning\n"
   ]
  },
  {
   "cell_type": "code",
   "execution_count": 12,
   "metadata": {},
   "outputs": [
    {
     "data": {
      "text/plain": [
       "(33924, 17)"
      ]
     },
     "execution_count": 12,
     "metadata": {},
     "output_type": "execute_result"
    }
   ],
   "source": [
    "df.shape"
   ]
  },
  {
   "cell_type": "markdown",
   "metadata": {},
   "source": [
    "- Before data cleaning, we have 33924 rows and 17 columns\n",
    "\n",
    "### Checking for duplicates"
   ]
  },
  {
   "cell_type": "code",
   "execution_count": 13,
   "metadata": {},
   "outputs": [
    {
     "data": {
      "text/plain": [
       "4678"
      ]
     },
     "execution_count": 13,
     "metadata": {},
     "output_type": "execute_result"
    }
   ],
   "source": [
    "df.duplicated().sum()"
   ]
  },
  {
   "cell_type": "markdown",
   "metadata": {},
   "source": [
    "4678 rows have duplicates, we do not drop them since without ID we are not sure if the respondents are unique\n",
    "\n"
   ]
  },
  {
   "cell_type": "markdown",
   "metadata": {},
   "source": [
    "\n"
   ]
  },
  {
   "cell_type": "code",
   "execution_count": 14,
   "metadata": {},
   "outputs": [
    {
     "name": "stdout",
     "output_type": "stream",
     "text": [
      "Age in 5-year groups\n",
      "Type of place of residence\n",
      "Highest educational level\n",
      "Wealth index combined\n",
      "Births in last five years\n",
      "Age of respondent at 1st birth\n",
      "Hemoglobin level adjusted for altitude and smoking (g/dl - 1 decimal)\n",
      "Anemia level\n",
      "Have mosquito bed net for sleeping (from household questionnaire)\n",
      "Smokes cigarettes\n",
      "Current marital status\n",
      "Currently residing with husband/partner\n",
      "Had fever in last two weeks\n",
      "Hemoglobin level adjusted for altitude (g/dl - 1 decimal)\n",
      "Anemia level.1\n",
      "Taking iron pills, sprinkles or syrup\n"
     ]
    }
   ],
   "source": [
    "for column in cols:\n",
    "    print(column)"
   ]
  },
  {
   "cell_type": "markdown",
   "metadata": {},
   "source": [
    "These columns have many missing values and/or are irrelevant so we drop(`Anemia level.1`, `Hemoglobin level adjusted for altitude (g/dl - 1 decimal)` and `Smokes cigarettes`)"
   ]
  },
  {
   "cell_type": "code",
   "execution_count": 15,
   "metadata": {},
   "outputs": [],
   "source": [
    "df = df.drop(columns=['Anemia level.1','Hemoglobin level adjusted for altitude (g/dl - 1 decimal)','Smokes cigarettes'], axis =1)"
   ]
  },
  {
   "cell_type": "code",
   "execution_count": 16,
   "metadata": {},
   "outputs": [
    {
     "data": {
      "text/plain": [
       "(33924, 14)"
      ]
     },
     "execution_count": 16,
     "metadata": {},
     "output_type": "execute_result"
    }
   ],
   "source": [
    "df.shape"
   ]
  },
  {
   "cell_type": "markdown",
   "metadata": {},
   "source": [
    "After dropping duplicates we have -- rows, -- columns"
   ]
  },
  {
   "cell_type": "markdown",
   "metadata": {},
   "source": [
    "### Checking for NaNs"
   ]
  },
  {
   "cell_type": "code",
   "execution_count": 17,
   "metadata": {},
   "outputs": [
    {
     "data": {
      "text/plain": [
       "Age in 5-year groups                                                         0\n",
       "Type of place of residence                                                   0\n",
       "Highest educational level                                                    0\n",
       "Wealth index combined                                                        0\n",
       "Births in last five years                                                    0\n",
       "Age of respondent at 1st birth                                               0\n",
       "Hemoglobin level adjusted for altitude and smoking (g/dl - 1 decimal)    20788\n",
       "Anemia level                                                             20788\n",
       "Have mosquito bed net for sleeping (from household questionnaire)            0\n",
       "Current marital status                                                       0\n",
       "Currently residing with husband/partner                                   1698\n",
       "When child put to breast                                                 12756\n",
       "Had fever in last two weeks                                               3211\n",
       "Taking iron pills, sprinkles or syrup                                     3211\n",
       "dtype: int64"
      ]
     },
     "execution_count": 17,
     "metadata": {},
     "output_type": "execute_result"
    }
   ],
   "source": [
    "df.isnull().sum()"
   ]
  },
  {
   "cell_type": "markdown",
   "metadata": {},
   "source": [
    "First and foremost, we drop NaNs in our target column `Anemia level` since this column has to have a value for modeling purposes"
   ]
  },
  {
   "cell_type": "code",
   "execution_count": 18,
   "metadata": {},
   "outputs": [],
   "source": [
    "df = df.dropna(subset= ['Anemia level'])"
   ]
  },
  {
   "cell_type": "code",
   "execution_count": 19,
   "metadata": {},
   "outputs": [
    {
     "data": {
      "text/plain": [
       "Age in 5-year groups                                                        0\n",
       "Type of place of residence                                                  0\n",
       "Highest educational level                                                   0\n",
       "Wealth index combined                                                       0\n",
       "Births in last five years                                                   0\n",
       "Age of respondent at 1st birth                                              0\n",
       "Hemoglobin level adjusted for altitude and smoking (g/dl - 1 decimal)       0\n",
       "Anemia level                                                                0\n",
       "Have mosquito bed net for sleeping (from household questionnaire)           0\n",
       "Current marital status                                                      0\n",
       "Currently residing with husband/partner                                   724\n",
       "When child put to breast                                                 4955\n",
       "Had fever in last two weeks                                              1204\n",
       "Taking iron pills, sprinkles or syrup                                    1204\n",
       "dtype: int64"
      ]
     },
     "execution_count": 19,
     "metadata": {},
     "output_type": "execute_result"
    }
   ],
   "source": [
    "df.isnull().sum()"
   ]
  },
  {
   "cell_type": "markdown",
   "metadata": {},
   "source": [
    "- Interestingly, all NaNs in `Anemia level` column were also NaNs in the `Hemoglobin level adjusted for altitude and smoking (g/dl - 1 decimal)` column\n",
    "- For the remaining NaNs, we observe the distribution of their values to guide on the best strategy to deal with thm"
   ]
  },
  {
   "cell_type": "code",
   "execution_count": 20,
   "metadata": {},
   "outputs": [
    {
     "name": "stdout",
     "output_type": "stream",
     "text": [
      "Column - Currently residing with husband/partner\n",
      "Categories\n",
      "Living with her      11148\n",
      "Staying elsewhere     1264\n",
      "Name: Currently residing with husband/partner, dtype: int64\n",
      " NaNs - 724\n",
      "\n",
      "\n",
      "Column - When child put to breast\n",
      "Categories\n",
      "Immediately    3787\n",
      "Hours: 1       1126\n",
      "102             759\n",
      "Days: 1         666\n",
      "103             443\n",
      "202             265\n",
      "104             224\n",
      "105             191\n",
      "106             145\n",
      "203             137\n",
      "108              91\n",
      "107              62\n",
      "112              44\n",
      "110              43\n",
      "109              40\n",
      "204              23\n",
      "111              20\n",
      "114              15\n",
      "207              15\n",
      "113              14\n",
      "205              13\n",
      "115               8\n",
      "214               7\n",
      "123               7\n",
      "118               6\n",
      "117               4\n",
      "116               4\n",
      "119               4\n",
      "120               3\n",
      "206               3\n",
      "220               2\n",
      "211               2\n",
      "210               2\n",
      "121               2\n",
      "122               1\n",
      "223               1\n",
      "212               1\n",
      "208               1\n",
      "Name: When child put to breast, dtype: int64\n",
      " NaNs - 4955\n",
      "\n",
      "\n",
      "Column - Had fever in last two weeks\n",
      "Categories\n",
      "No            8851\n",
      "Yes           3034\n",
      "Don't know      47\n",
      "Name: Had fever in last two weeks, dtype: int64\n",
      " NaNs - 1204\n",
      "\n",
      "\n",
      "Column - Taking iron pills, sprinkles or syrup\n",
      "Categories\n",
      "No            9642\n",
      "Yes           2225\n",
      "Don't know      65\n",
      "Name: Taking iron pills, sprinkles or syrup, dtype: int64\n",
      " NaNs - 1204\n",
      "\n",
      "\n"
     ]
    }
   ],
   "source": [
    "nan_cols =['Currently residing with husband/partner','When child put to breast','Had fever in last two weeks','Taking iron pills, sprinkles or syrup']\n",
    "\n",
    "for column in nan_cols:\n",
    "    print(f\"Column - {column}\\nCategories\\n{df[column].value_counts()}\\n NaNs - {df[column].isna().sum()}\\n\\n\")"
   ]
  },
  {
   "cell_type": "markdown",
   "metadata": {},
   "source": [
    "- For the columns `When child put to breast` and `Currently residing with husband/partner` we shall impute NaNs with the most frequent value. This is because these columns are highly unlikely, from domain knowledge, to affect the target so it is better to avoid dropping them to get as many rows for modeling as possible.\n",
    "- For the columns `Had fever in last two weeks` and `Taking iron pills, sprinkles or syrup` we shall impute NaNs with the string `Don't Know` , as indeed this data is unknown."
   ]
  },
  {
   "cell_type": "code",
   "execution_count": 21,
   "metadata": {},
   "outputs": [],
   "source": [
    "from sklearn.impute import SimpleImputer\n",
    "\n",
    "# Impute most frequent value for specified columns\n",
    "most_frequent_imputer = SimpleImputer(strategy='most_frequent')\n",
    "df[['When child put to breast', 'Currently residing with husband/partner']] = most_frequent_imputer.fit_transform(\n",
    "    df[['When child put to breast', 'Currently residing with husband/partner']]\n",
    ")\n",
    "\n",
    "# Impute \"Don't know\" for other specified columns\n",
    "df[['Had fever in last two weeks', 'Taking iron pills, sprinkles or syrup']] = df[\n",
    "    ['Had fever in last two weeks', 'Taking iron pills, sprinkles or syrup']\n",
    "].fillna(\"Don't know\")"
   ]
  },
  {
   "cell_type": "code",
   "execution_count": 22,
   "metadata": {},
   "outputs": [
    {
     "name": "stdout",
     "output_type": "stream",
     "text": [
      "Column - Currently residing with husband/partner\n",
      "Categories\n",
      "Living with her      11872\n",
      "Staying elsewhere     1264\n",
      "Name: Currently residing with husband/partner, dtype: int64\n",
      " NaNs - 0\n",
      "\n",
      "\n",
      "Column - When child put to breast\n",
      "Categories\n",
      "Immediately    8742\n",
      "Hours: 1       1126\n",
      "102             759\n",
      "Days: 1         666\n",
      "103             443\n",
      "202             265\n",
      "104             224\n",
      "105             191\n",
      "106             145\n",
      "203             137\n",
      "108              91\n",
      "107              62\n",
      "112              44\n",
      "110              43\n",
      "109              40\n",
      "204              23\n",
      "111              20\n",
      "114              15\n",
      "207              15\n",
      "113              14\n",
      "205              13\n",
      "115               8\n",
      "214               7\n",
      "123               7\n",
      "118               6\n",
      "117               4\n",
      "116               4\n",
      "119               4\n",
      "120               3\n",
      "206               3\n",
      "220               2\n",
      "211               2\n",
      "210               2\n",
      "121               2\n",
      "122               1\n",
      "223               1\n",
      "212               1\n",
      "208               1\n",
      "Name: When child put to breast, dtype: int64\n",
      " NaNs - 0\n",
      "\n",
      "\n",
      "Column - Had fever in last two weeks\n",
      "Categories\n",
      "No            8851\n",
      "Yes           3034\n",
      "Don't know    1251\n",
      "Name: Had fever in last two weeks, dtype: int64\n",
      " NaNs - 0\n",
      "\n",
      "\n",
      "Column - Taking iron pills, sprinkles or syrup\n",
      "Categories\n",
      "No            9642\n",
      "Yes           2225\n",
      "Don't know    1269\n",
      "Name: Taking iron pills, sprinkles or syrup, dtype: int64\n",
      " NaNs - 0\n",
      "\n",
      "\n"
     ]
    }
   ],
   "source": [
    "#checking output\n",
    "nan_cols =['Currently residing with husband/partner','When child put to breast','Had fever in last two weeks','Taking iron pills, sprinkles or syrup']\n",
    "\n",
    "for column in nan_cols:\n",
    "    print(f\"Column - {column}\\nCategories\\n{df[column].value_counts()}\\n NaNs - {df[column].isna().sum()}\\n\\n\")"
   ]
  },
  {
   "cell_type": "code",
   "execution_count": 23,
   "metadata": {},
   "outputs": [
    {
     "data": {
      "text/plain": [
       "Age in 5-year groups                                                     0\n",
       "Type of place of residence                                               0\n",
       "Highest educational level                                                0\n",
       "Wealth index combined                                                    0\n",
       "Births in last five years                                                0\n",
       "Age of respondent at 1st birth                                           0\n",
       "Hemoglobin level adjusted for altitude and smoking (g/dl - 1 decimal)    0\n",
       "Anemia level                                                             0\n",
       "Have mosquito bed net for sleeping (from household questionnaire)        0\n",
       "Current marital status                                                   0\n",
       "Currently residing with husband/partner                                  0\n",
       "When child put to breast                                                 0\n",
       "Had fever in last two weeks                                              0\n",
       "Taking iron pills, sprinkles or syrup                                    0\n",
       "dtype: int64"
      ]
     },
     "execution_count": 23,
     "metadata": {},
     "output_type": "execute_result"
    }
   ],
   "source": [
    "df.isna().sum()"
   ]
  },
  {
   "cell_type": "markdown",
   "metadata": {},
   "source": [
    "### Renaming columns\n",
    "\n",
    "- Some columns are unnecessarily too wordy, we rename these\n"
   ]
  },
  {
   "cell_type": "code",
   "execution_count": 24,
   "metadata": {},
   "outputs": [],
   "source": [
    "# Rename columns\n",
    "df = df.rename(columns={\n",
    "    'Age in 5-year groups': 'Age',\n",
    "    'Type of place of residence': 'Residence',\n",
    "    'Wealth index combined': 'Wealth index',\n",
    "    'Hemoglobin level adjusted for altitude and smoking (g/dl - 1 decimal)': 'Hemoglobin level',\n",
    "    'Have mosquito bed net for sleeping (from household questionnaire)': 'Have mosquito net',\n",
    "    'Current marital status': 'marital status',\n",
    "    'Currently residing with husband/partner': 'Residing with partner',\n",
    "    'Taking iron pills, sprinkles or syrup': 'Taking iron medication'\n",
    "})"
   ]
  },
  {
   "cell_type": "code",
   "execution_count": 25,
   "metadata": {},
   "outputs": [
    {
     "data": {
      "text/html": [
       "<div>\n",
       "<style scoped>\n",
       "    .dataframe tbody tr th:only-of-type {\n",
       "        vertical-align: middle;\n",
       "    }\n",
       "\n",
       "    .dataframe tbody tr th {\n",
       "        vertical-align: top;\n",
       "    }\n",
       "\n",
       "    .dataframe thead th {\n",
       "        text-align: right;\n",
       "    }\n",
       "</style>\n",
       "<table border=\"1\" class=\"dataframe\">\n",
       "  <thead>\n",
       "    <tr style=\"text-align: right;\">\n",
       "      <th></th>\n",
       "      <th>Age</th>\n",
       "      <th>Residence</th>\n",
       "      <th>Highest educational level</th>\n",
       "      <th>Wealth index</th>\n",
       "      <th>Births in last five years</th>\n",
       "      <th>Age of respondent at 1st birth</th>\n",
       "      <th>Hemoglobin level</th>\n",
       "      <th>Anemia level</th>\n",
       "      <th>Have mosquito net</th>\n",
       "      <th>marital status</th>\n",
       "      <th>Residing with partner</th>\n",
       "      <th>When child put to breast</th>\n",
       "      <th>Had fever in last two weeks</th>\n",
       "      <th>Taking iron medication</th>\n",
       "    </tr>\n",
       "  </thead>\n",
       "  <tbody>\n",
       "    <tr>\n",
       "      <th>17620</th>\n",
       "      <td>25-29</td>\n",
       "      <td>Rural</td>\n",
       "      <td>No education</td>\n",
       "      <td>Poorer</td>\n",
       "      <td>3</td>\n",
       "      <td>15</td>\n",
       "      <td>132.0</td>\n",
       "      <td>Not anemic</td>\n",
       "      <td>Yes</td>\n",
       "      <td>Married</td>\n",
       "      <td>Living with her</td>\n",
       "      <td>Immediately</td>\n",
       "      <td>Don't know</td>\n",
       "      <td>Don't know</td>\n",
       "    </tr>\n",
       "    <tr>\n",
       "      <th>7337</th>\n",
       "      <td>20-24</td>\n",
       "      <td>Rural</td>\n",
       "      <td>No education</td>\n",
       "      <td>Poorest</td>\n",
       "      <td>1</td>\n",
       "      <td>15</td>\n",
       "      <td>84.0</td>\n",
       "      <td>Moderate</td>\n",
       "      <td>Yes</td>\n",
       "      <td>Married</td>\n",
       "      <td>Living with her</td>\n",
       "      <td>202</td>\n",
       "      <td>Yes</td>\n",
       "      <td>No</td>\n",
       "    </tr>\n",
       "    <tr>\n",
       "      <th>25085</th>\n",
       "      <td>30-34</td>\n",
       "      <td>Urban</td>\n",
       "      <td>Secondary</td>\n",
       "      <td>Poorer</td>\n",
       "      <td>2</td>\n",
       "      <td>23</td>\n",
       "      <td>114.0</td>\n",
       "      <td>Mild</td>\n",
       "      <td>Yes</td>\n",
       "      <td>No longer living together/separated</td>\n",
       "      <td>Living with her</td>\n",
       "      <td>102</td>\n",
       "      <td>Yes</td>\n",
       "      <td>No</td>\n",
       "    </tr>\n",
       "    <tr>\n",
       "      <th>5849</th>\n",
       "      <td>35-39</td>\n",
       "      <td>Rural</td>\n",
       "      <td>Primary</td>\n",
       "      <td>Poorest</td>\n",
       "      <td>1</td>\n",
       "      <td>15</td>\n",
       "      <td>124.0</td>\n",
       "      <td>Not anemic</td>\n",
       "      <td>Yes</td>\n",
       "      <td>Married</td>\n",
       "      <td>Living with her</td>\n",
       "      <td>114</td>\n",
       "      <td>Yes</td>\n",
       "      <td>No</td>\n",
       "    </tr>\n",
       "    <tr>\n",
       "      <th>23066</th>\n",
       "      <td>25-29</td>\n",
       "      <td>Rural</td>\n",
       "      <td>No education</td>\n",
       "      <td>Middle</td>\n",
       "      <td>3</td>\n",
       "      <td>14</td>\n",
       "      <td>131.0</td>\n",
       "      <td>Not anemic</td>\n",
       "      <td>Yes</td>\n",
       "      <td>Married</td>\n",
       "      <td>Living with her</td>\n",
       "      <td>Immediately</td>\n",
       "      <td>No</td>\n",
       "      <td>No</td>\n",
       "    </tr>\n",
       "    <tr>\n",
       "      <th>20640</th>\n",
       "      <td>30-34</td>\n",
       "      <td>Rural</td>\n",
       "      <td>No education</td>\n",
       "      <td>Poorest</td>\n",
       "      <td>2</td>\n",
       "      <td>23</td>\n",
       "      <td>132.0</td>\n",
       "      <td>Not anemic</td>\n",
       "      <td>Yes</td>\n",
       "      <td>Married</td>\n",
       "      <td>Living with her</td>\n",
       "      <td>Immediately</td>\n",
       "      <td>No</td>\n",
       "      <td>No</td>\n",
       "    </tr>\n",
       "    <tr>\n",
       "      <th>26874</th>\n",
       "      <td>25-29</td>\n",
       "      <td>Rural</td>\n",
       "      <td>Secondary</td>\n",
       "      <td>Richer</td>\n",
       "      <td>2</td>\n",
       "      <td>19</td>\n",
       "      <td>117.0</td>\n",
       "      <td>Mild</td>\n",
       "      <td>No</td>\n",
       "      <td>Married</td>\n",
       "      <td>Staying elsewhere</td>\n",
       "      <td>Immediately</td>\n",
       "      <td>Yes</td>\n",
       "      <td>No</td>\n",
       "    </tr>\n",
       "    <tr>\n",
       "      <th>10570</th>\n",
       "      <td>40-44</td>\n",
       "      <td>Rural</td>\n",
       "      <td>No education</td>\n",
       "      <td>Poorer</td>\n",
       "      <td>2</td>\n",
       "      <td>15</td>\n",
       "      <td>131.0</td>\n",
       "      <td>Not anemic</td>\n",
       "      <td>Yes</td>\n",
       "      <td>Married</td>\n",
       "      <td>Living with her</td>\n",
       "      <td>Immediately</td>\n",
       "      <td>No</td>\n",
       "      <td>No</td>\n",
       "    </tr>\n",
       "    <tr>\n",
       "      <th>24385</th>\n",
       "      <td>20-24</td>\n",
       "      <td>Urban</td>\n",
       "      <td>Secondary</td>\n",
       "      <td>Richest</td>\n",
       "      <td>1</td>\n",
       "      <td>22</td>\n",
       "      <td>91.0</td>\n",
       "      <td>Moderate</td>\n",
       "      <td>No</td>\n",
       "      <td>Married</td>\n",
       "      <td>Living with her</td>\n",
       "      <td>Immediately</td>\n",
       "      <td>No</td>\n",
       "      <td>No</td>\n",
       "    </tr>\n",
       "    <tr>\n",
       "      <th>1864</th>\n",
       "      <td>20-24</td>\n",
       "      <td>Urban</td>\n",
       "      <td>Secondary</td>\n",
       "      <td>Richer</td>\n",
       "      <td>2</td>\n",
       "      <td>20</td>\n",
       "      <td>113.0</td>\n",
       "      <td>Mild</td>\n",
       "      <td>Yes</td>\n",
       "      <td>Married</td>\n",
       "      <td>Staying elsewhere</td>\n",
       "      <td>Immediately</td>\n",
       "      <td>Yes</td>\n",
       "      <td>Yes</td>\n",
       "    </tr>\n",
       "  </tbody>\n",
       "</table>\n",
       "</div>"
      ],
      "text/plain": [
       "         Age Residence Highest educational level Wealth index  \\\n",
       "17620  25-29     Rural              No education       Poorer   \n",
       "7337   20-24     Rural              No education      Poorest   \n",
       "25085  30-34     Urban                 Secondary       Poorer   \n",
       "5849   35-39     Rural                   Primary      Poorest   \n",
       "23066  25-29     Rural              No education       Middle   \n",
       "20640  30-34     Rural              No education      Poorest   \n",
       "26874  25-29     Rural                 Secondary       Richer   \n",
       "10570  40-44     Rural              No education       Poorer   \n",
       "24385  20-24     Urban                 Secondary      Richest   \n",
       "1864   20-24     Urban                 Secondary       Richer   \n",
       "\n",
       "       Births in last five years  Age of respondent at 1st birth  \\\n",
       "17620                          3                              15   \n",
       "7337                           1                              15   \n",
       "25085                          2                              23   \n",
       "5849                           1                              15   \n",
       "23066                          3                              14   \n",
       "20640                          2                              23   \n",
       "26874                          2                              19   \n",
       "10570                          2                              15   \n",
       "24385                          1                              22   \n",
       "1864                           2                              20   \n",
       "\n",
       "       Hemoglobin level Anemia level Have mosquito net  \\\n",
       "17620             132.0   Not anemic               Yes   \n",
       "7337               84.0     Moderate               Yes   \n",
       "25085             114.0         Mild               Yes   \n",
       "5849              124.0   Not anemic               Yes   \n",
       "23066             131.0   Not anemic               Yes   \n",
       "20640             132.0   Not anemic               Yes   \n",
       "26874             117.0         Mild                No   \n",
       "10570             131.0   Not anemic               Yes   \n",
       "24385              91.0     Moderate                No   \n",
       "1864              113.0         Mild               Yes   \n",
       "\n",
       "                            marital status Residing with partner  \\\n",
       "17620                              Married       Living with her   \n",
       "7337                               Married       Living with her   \n",
       "25085  No longer living together/separated       Living with her   \n",
       "5849                               Married       Living with her   \n",
       "23066                              Married       Living with her   \n",
       "20640                              Married       Living with her   \n",
       "26874                              Married     Staying elsewhere   \n",
       "10570                              Married       Living with her   \n",
       "24385                              Married       Living with her   \n",
       "1864                               Married     Staying elsewhere   \n",
       "\n",
       "      When child put to breast Had fever in last two weeks  \\\n",
       "17620              Immediately                  Don't know   \n",
       "7337                       202                         Yes   \n",
       "25085                      102                         Yes   \n",
       "5849                       114                         Yes   \n",
       "23066              Immediately                          No   \n",
       "20640              Immediately                          No   \n",
       "26874              Immediately                         Yes   \n",
       "10570              Immediately                          No   \n",
       "24385              Immediately                          No   \n",
       "1864               Immediately                         Yes   \n",
       "\n",
       "      Taking iron medication  \n",
       "17620             Don't know  \n",
       "7337                      No  \n",
       "25085                     No  \n",
       "5849                      No  \n",
       "23066                     No  \n",
       "20640                     No  \n",
       "26874                     No  \n",
       "10570                     No  \n",
       "24385                     No  \n",
       "1864                     Yes  "
      ]
     },
     "execution_count": 25,
     "metadata": {},
     "output_type": "execute_result"
    }
   ],
   "source": [
    "df.sample(n=10, random_state= 42)"
   ]
  },
  {
   "cell_type": "markdown",
   "metadata": {},
   "source": [
    "## Feature Selection"
   ]
  },
  {
   "cell_type": "markdown",
   "metadata": {},
   "source": []
  },
  {
   "cell_type": "code",
   "execution_count": 26,
   "metadata": {},
   "outputs": [
    {
     "name": "stdout",
     "output_type": "stream",
     "text": [
      "<class 'pandas.core.frame.DataFrame'>\n",
      "Int64Index: 13136 entries, 3 to 33922\n",
      "Data columns (total 14 columns):\n",
      " #   Column                          Non-Null Count  Dtype  \n",
      "---  ------                          --------------  -----  \n",
      " 0   Age                             13136 non-null  object \n",
      " 1   Residence                       13136 non-null  object \n",
      " 2   Highest educational level       13136 non-null  object \n",
      " 3   Wealth index                    13136 non-null  object \n",
      " 4   Births in last five years       13136 non-null  int64  \n",
      " 5   Age of respondent at 1st birth  13136 non-null  int64  \n",
      " 6   Hemoglobin level                13136 non-null  float64\n",
      " 7   Anemia level                    13136 non-null  object \n",
      " 8   Have mosquito net               13136 non-null  object \n",
      " 9   marital status                  13136 non-null  object \n",
      " 10  Residing with partner           13136 non-null  object \n",
      " 11  When child put to breast        13136 non-null  object \n",
      " 12  Had fever in last two weeks     13136 non-null  object \n",
      " 13  Taking iron medication          13136 non-null  object \n",
      "dtypes: float64(1), int64(2), object(11)\n",
      "memory usage: 1.5+ MB\n"
     ]
    }
   ],
   "source": [
    "df.info()"
   ]
  },
  {
   "cell_type": "markdown",
   "metadata": {},
   "source": [
    "- For now we shall only drop the column `When child put to breast` since it is very vague.We shall leave the rest , even if unlikely, in order to investigate whether socioeconomic factors have an effect on anemia levels\n"
   ]
  },
  {
   "cell_type": "code",
   "execution_count": 27,
   "metadata": {},
   "outputs": [],
   "source": [
    "df = df.drop(columns= ['When child put to breast'], axis =1 )"
   ]
  },
  {
   "cell_type": "code",
   "execution_count": null,
   "metadata": {},
   "outputs": [],
   "source": []
  },
  {
   "cell_type": "code",
   "execution_count": 28,
   "metadata": {},
   "outputs": [
    {
     "name": "stdout",
     "output_type": "stream",
     "text": [
      "<class 'pandas.core.frame.DataFrame'>\n",
      "Int64Index: 13136 entries, 3 to 33922\n",
      "Data columns (total 13 columns):\n",
      " #   Column                          Non-Null Count  Dtype  \n",
      "---  ------                          --------------  -----  \n",
      " 0   Age                             13136 non-null  object \n",
      " 1   Residence                       13136 non-null  object \n",
      " 2   Highest educational level       13136 non-null  object \n",
      " 3   Wealth index                    13136 non-null  object \n",
      " 4   Births in last five years       13136 non-null  int64  \n",
      " 5   Age of respondent at 1st birth  13136 non-null  int64  \n",
      " 6   Hemoglobin level                13136 non-null  float64\n",
      " 7   Anemia level                    13136 non-null  object \n",
      " 8   Have mosquito net               13136 non-null  object \n",
      " 9   marital status                  13136 non-null  object \n",
      " 10  Residing with partner           13136 non-null  object \n",
      " 11  Had fever in last two weeks     13136 non-null  object \n",
      " 12  Taking iron medication          13136 non-null  object \n",
      "dtypes: float64(1), int64(2), object(10)\n",
      "memory usage: 1.4+ MB\n"
     ]
    }
   ],
   "source": [
    "df.info()"
   ]
  },
  {
   "cell_type": "code",
   "execution_count": null,
   "metadata": {},
   "outputs": [],
   "source": []
  },
  {
   "cell_type": "markdown",
   "metadata": {},
   "source": [
    "## Converting target to integer values"
   ]
  },
  {
   "cell_type": "code",
   "execution_count": 29,
   "metadata": {},
   "outputs": [],
   "source": [
    "severity_mapping = {\n",
    "    'Not anemic': 0,\n",
    "    'Mild': 1,\n",
    "    'Moderate': 2,\n",
    "    'Severe': 3\n",
    "}\n",
    "\n",
    "# Apply the mapping to convert the target column to integer labels\n",
    "df['Anemia level'] = df['Anemia level'].map(severity_mapping)"
   ]
  },
  {
   "cell_type": "markdown",
   "metadata": {},
   "source": [
    "---\n",
    "# EXPLORATORY DATA ANALYSIS (EDA)\n",
    "\n",
    "- We shall now explore the data set and look for insights\n"
   ]
  },
  {
   "cell_type": "code",
   "execution_count": 30,
   "metadata": {},
   "outputs": [
    {
     "data": {
      "text/html": [
       "<div>\n",
       "<style scoped>\n",
       "    .dataframe tbody tr th:only-of-type {\n",
       "        vertical-align: middle;\n",
       "    }\n",
       "\n",
       "    .dataframe tbody tr th {\n",
       "        vertical-align: top;\n",
       "    }\n",
       "\n",
       "    .dataframe thead th {\n",
       "        text-align: right;\n",
       "    }\n",
       "</style>\n",
       "<table border=\"1\" class=\"dataframe\">\n",
       "  <thead>\n",
       "    <tr style=\"text-align: right;\">\n",
       "      <th></th>\n",
       "      <th>Age</th>\n",
       "      <th>Residence</th>\n",
       "      <th>Highest educational level</th>\n",
       "      <th>Wealth index</th>\n",
       "      <th>Births in last five years</th>\n",
       "      <th>Age of respondent at 1st birth</th>\n",
       "      <th>Hemoglobin level</th>\n",
       "      <th>Anemia level</th>\n",
       "      <th>Have mosquito net</th>\n",
       "      <th>marital status</th>\n",
       "      <th>Residing with partner</th>\n",
       "      <th>Had fever in last two weeks</th>\n",
       "      <th>Taking iron medication</th>\n",
       "    </tr>\n",
       "  </thead>\n",
       "  <tbody>\n",
       "    <tr>\n",
       "      <th>3</th>\n",
       "      <td>25-29</td>\n",
       "      <td>Urban</td>\n",
       "      <td>Secondary</td>\n",
       "      <td>Richest</td>\n",
       "      <td>1</td>\n",
       "      <td>25</td>\n",
       "      <td>95.0</td>\n",
       "      <td>2</td>\n",
       "      <td>Yes</td>\n",
       "      <td>Married</td>\n",
       "      <td>Living with her</td>\n",
       "      <td>No</td>\n",
       "      <td>No</td>\n",
       "    </tr>\n",
       "    <tr>\n",
       "      <th>5</th>\n",
       "      <td>30-34</td>\n",
       "      <td>Urban</td>\n",
       "      <td>Higher</td>\n",
       "      <td>Richest</td>\n",
       "      <td>1</td>\n",
       "      <td>30</td>\n",
       "      <td>113.0</td>\n",
       "      <td>1</td>\n",
       "      <td>Yes</td>\n",
       "      <td>Married</td>\n",
       "      <td>Living with her</td>\n",
       "      <td>No</td>\n",
       "      <td>No</td>\n",
       "    </tr>\n",
       "    <tr>\n",
       "      <th>6</th>\n",
       "      <td>35-39</td>\n",
       "      <td>Urban</td>\n",
       "      <td>Secondary</td>\n",
       "      <td>Richest</td>\n",
       "      <td>2</td>\n",
       "      <td>32</td>\n",
       "      <td>121.0</td>\n",
       "      <td>0</td>\n",
       "      <td>Yes</td>\n",
       "      <td>Married</td>\n",
       "      <td>Living with her</td>\n",
       "      <td>No</td>\n",
       "      <td>Yes</td>\n",
       "    </tr>\n",
       "    <tr>\n",
       "      <th>7</th>\n",
       "      <td>35-39</td>\n",
       "      <td>Urban</td>\n",
       "      <td>Secondary</td>\n",
       "      <td>Richest</td>\n",
       "      <td>2</td>\n",
       "      <td>32</td>\n",
       "      <td>121.0</td>\n",
       "      <td>0</td>\n",
       "      <td>Yes</td>\n",
       "      <td>Married</td>\n",
       "      <td>Living with her</td>\n",
       "      <td>Don't know</td>\n",
       "      <td>Don't know</td>\n",
       "    </tr>\n",
       "    <tr>\n",
       "      <th>9</th>\n",
       "      <td>20-24</td>\n",
       "      <td>Urban</td>\n",
       "      <td>Secondary</td>\n",
       "      <td>Richest</td>\n",
       "      <td>1</td>\n",
       "      <td>19</td>\n",
       "      <td>108.0</td>\n",
       "      <td>2</td>\n",
       "      <td>Yes</td>\n",
       "      <td>Married</td>\n",
       "      <td>Living with her</td>\n",
       "      <td>No</td>\n",
       "      <td>Yes</td>\n",
       "    </tr>\n",
       "  </tbody>\n",
       "</table>\n",
       "</div>"
      ],
      "text/plain": [
       "     Age Residence Highest educational level Wealth index  \\\n",
       "3  25-29     Urban                 Secondary      Richest   \n",
       "5  30-34     Urban                    Higher      Richest   \n",
       "6  35-39     Urban                 Secondary      Richest   \n",
       "7  35-39     Urban                 Secondary      Richest   \n",
       "9  20-24     Urban                 Secondary      Richest   \n",
       "\n",
       "   Births in last five years  Age of respondent at 1st birth  \\\n",
       "3                          1                              25   \n",
       "5                          1                              30   \n",
       "6                          2                              32   \n",
       "7                          2                              32   \n",
       "9                          1                              19   \n",
       "\n",
       "   Hemoglobin level  Anemia level Have mosquito net marital status  \\\n",
       "3              95.0             2               Yes        Married   \n",
       "5             113.0             1               Yes        Married   \n",
       "6             121.0             0               Yes        Married   \n",
       "7             121.0             0               Yes        Married   \n",
       "9             108.0             2               Yes        Married   \n",
       "\n",
       "  Residing with partner Had fever in last two weeks Taking iron medication  \n",
       "3       Living with her                          No                     No  \n",
       "5       Living with her                          No                     No  \n",
       "6       Living with her                          No                    Yes  \n",
       "7       Living with her                  Don't know             Don't know  \n",
       "9       Living with her                          No                    Yes  "
      ]
     },
     "execution_count": 30,
     "metadata": {},
     "output_type": "execute_result"
    }
   ],
   "source": [
    "df.head()"
   ]
  },
  {
   "cell_type": "code",
   "execution_count": 31,
   "metadata": {},
   "outputs": [
    {
     "name": "stdout",
     "output_type": "stream",
     "text": [
      "<class 'pandas.core.frame.DataFrame'>\n",
      "Int64Index: 13136 entries, 3 to 33922\n",
      "Data columns (total 13 columns):\n",
      " #   Column                          Non-Null Count  Dtype  \n",
      "---  ------                          --------------  -----  \n",
      " 0   Age                             13136 non-null  object \n",
      " 1   Residence                       13136 non-null  object \n",
      " 2   Highest educational level       13136 non-null  object \n",
      " 3   Wealth index                    13136 non-null  object \n",
      " 4   Births in last five years       13136 non-null  int64  \n",
      " 5   Age of respondent at 1st birth  13136 non-null  int64  \n",
      " 6   Hemoglobin level                13136 non-null  float64\n",
      " 7   Anemia level                    13136 non-null  int64  \n",
      " 8   Have mosquito net               13136 non-null  object \n",
      " 9   marital status                  13136 non-null  object \n",
      " 10  Residing with partner           13136 non-null  object \n",
      " 11  Had fever in last two weeks     13136 non-null  object \n",
      " 12  Taking iron medication          13136 non-null  object \n",
      "dtypes: float64(1), int64(3), object(9)\n",
      "memory usage: 1.4+ MB\n"
     ]
    }
   ],
   "source": [
    "df.info()"
   ]
  },
  {
   "cell_type": "markdown",
   "metadata": {},
   "source": [
    "## Distribution of Features\n",
    "\n",
    "For the modeling, the column `Anemia level ` is the target and the other columns are the features, let us explore the distribution of each feature to understand our dataset better.\n"
   ]
  },
  {
   "cell_type": "markdown",
   "metadata": {},
   "source": [
    "### Function to display distribution of features"
   ]
  },
  {
   "cell_type": "code",
   "execution_count": 32,
   "metadata": {},
   "outputs": [],
   "source": [
    "import matplotlib.pyplot as plt\n",
    "import seaborn as sns\n",
    "\n",
    "\n",
    "def addLabels(x, y):\n",
    "    for i in range(len(y)):\n",
    "        plt.text(i, y[i], y[i], ha=\"center\", fontsize=12)\n",
    "\n",
    "def column_info(column):\n",
    "    # Check if the column is categorical (object type)\n",
    "    if df[column].dtype == object:\n",
    "        # Print basic information\n",
    "        print(f\"Column - {column}\\nCategories\\n{df[column].value_counts()}\\nMissing values: {df[column].isna().sum()}\\n\\n\")\n",
    "        \n",
    "        # Get the value counts and unique values\n",
    "        value_counts = df[column].value_counts()\n",
    "        unique_values = value_counts.index\n",
    "        \n",
    "        # Generate colors dynamically based on the number of unique values\n",
    "        colors = sns.color_palette(\"hsv\", len(unique_values))\n",
    "        \n",
    "        # Plot bar chart for categorical data\n",
    "        plt.figure(figsize=(10, 7))\n",
    "        plt.bar(unique_values, value_counts.values, color=colors, width=0.6)\n",
    "        addLabels(unique_values, value_counts.values)\n",
    "        plt.title(f\"Distribution of {column}\", fontsize=16)\n",
    "        plt.xlabel(column, fontsize=14)\n",
    "        plt.ylabel(\"Frequency\", fontsize=14)\n",
    "        plt.xticks(rotation=45, fontsize=12)\n",
    "        plt.yticks(fontsize=12)\n",
    "        plt.show()\n",
    "        \n",
    "    # Else, deal with numerical columns (int or float types)\n",
    "    else:\n",
    "        print(f\"Column - {column}\\nStatistics:\\n{df[column].describe()}\\nMissing values: {df[column].isna().sum()}\\n\\n\")\n",
    "        \n",
    "        # Plot histogram and KDE for numerical data\n",
    "        plt.figure(figsize=(10, 7))\n",
    "        sns.histplot(df[column], kde=True, color='skyblue', bins=20)\n",
    "        plt.title(f\"Distribution of {column}\", fontsize=16, fontweight='bold')\n",
    "        plt.xlabel(column, fontsize=14)\n",
    "        plt.ylabel(\"Density\", fontsize=14)\n",
    "        plt.xticks(fontsize=12)\n",
    "        plt.yticks(fontsize=12)\n",
    "        plt.show()\n"
   ]
  },
  {
   "cell_type": "markdown",
   "metadata": {},
   "source": []
  },
  {
   "cell_type": "code",
   "execution_count": 33,
   "metadata": {},
   "outputs": [
    {
     "data": {
      "text/plain": [
       "Index(['Age', 'Residence', 'Highest educational level', 'Wealth index',\n",
       "       'Births in last five years', 'Age of respondent at 1st birth',\n",
       "       'Hemoglobin level', 'Anemia level', 'Have mosquito net',\n",
       "       'marital status', 'Residing with partner',\n",
       "       'Had fever in last two weeks', 'Taking iron medication'],\n",
       "      dtype='object')"
      ]
     },
     "execution_count": 33,
     "metadata": {},
     "output_type": "execute_result"
    }
   ],
   "source": [
    "df.columns"
   ]
  },
  {
   "cell_type": "markdown",
   "metadata": {},
   "source": [
    "### 1.Age\n",
    "  "
   ]
  },
  {
   "cell_type": "code",
   "execution_count": 34,
   "metadata": {},
   "outputs": [
    {
     "name": "stdout",
     "output_type": "stream",
     "text": [
      "Column - Age\n",
      "Categories\n",
      "25-29    3704\n",
      "30-34    3046\n",
      "20-24    2339\n",
      "35-39    2259\n",
      "40-44     894\n",
      "15-19     526\n",
      "45-49     368\n",
      "Name: Age, dtype: int64\n",
      "Missing values: 0\n",
      "\n",
      "\n"
     ]
    },
    {
     "data": {
      "image/png": "[encoded data removed]",
      "text/plain": [
       "<Figure size 720x504 with 1 Axes>"
      ]
     },
     "metadata": {
      "needs_background": "light"
     },
     "output_type": "display_data"
    }
   ],
   "source": [
    "column_info(\"Age\")"
   ]
  },
  {
   "cell_type": "markdown",
   "metadata": {},
   "source": [
    "### 2. Residence"
   ]
  },
  {
   "cell_type": "code",
   "execution_count": 35,
   "metadata": {},
   "outputs": [
    {
     "name": "stdout",
     "output_type": "stream",
     "text": [
      "Column - Residence\n",
      "Categories\n",
      "Rural    8196\n",
      "Urban    4940\n",
      "Name: Residence, dtype: int64\n",
      "Missing values: 0\n",
      "\n",
      "\n"
     ]
    },
    {
     "data": {
      "image/png": "[encoded data removed]",
      "text/plain": [
       "<Figure size 720x504 with 1 Axes>"
      ]
     },
     "metadata": {
      "needs_background": "light"
     },
     "output_type": "display_data"
    }
   ],
   "source": [
    "column_info(\"Residence\")"
   ]
  },
  {
   "cell_type": "markdown",
   "metadata": {},
   "source": [
    "### 3.Highest Education level"
   ]
  },
  {
   "cell_type": "code",
   "execution_count": 36,
   "metadata": {},
   "outputs": [
    {
     "name": "stdout",
     "output_type": "stream",
     "text": [
      "Column - Highest educational level\n",
      "Categories\n",
      "No education    5206\n",
      "Secondary       4596\n",
      "Primary         2195\n",
      "Higher          1139\n",
      "Name: Highest educational level, dtype: int64\n",
      "Missing values: 0\n",
      "\n",
      "\n"
     ]
    },
    {
     "data": {
      "image/png": "[encoded data removed]",
      "text/plain": [
       "<Figure size 720x504 with 1 Axes>"
      ]
     },
     "metadata": {
      "needs_background": "light"
     },
     "output_type": "display_data"
    }
   ],
   "source": [
    "column_info(\"Highest educational level\")"
   ]
  },
  {
   "cell_type": "markdown",
   "metadata": {},
   "source": [
    "### 4.Wealth index"
   ]
  },
  {
   "cell_type": "code",
   "execution_count": 37,
   "metadata": {},
   "outputs": [
    {
     "name": "stdout",
     "output_type": "stream",
     "text": [
      "Column - Wealth index\n",
      "Categories\n",
      "Middle     2898\n",
      "Poorest    2762\n",
      "Poorer     2715\n",
      "Richer     2686\n",
      "Richest    2075\n",
      "Name: Wealth index, dtype: int64\n",
      "Missing values: 0\n",
      "\n",
      "\n"
     ]
    },
    {
     "data": {
      "image/png": "[encoded data removed]",
      "text/plain": [
       "<Figure size 720x504 with 1 Axes>"
      ]
     },
     "metadata": {
      "needs_background": "light"
     },
     "output_type": "display_data"
    }
   ],
   "source": [
    "column_info(\"Wealth index\")"
   ]
  },
  {
   "cell_type": "markdown",
   "metadata": {},
   "source": [
    "### 5.Births in the last 5 years"
   ]
  },
  {
   "cell_type": "code",
   "execution_count": 38,
   "metadata": {},
   "outputs": [
    {
     "name": "stdout",
     "output_type": "stream",
     "text": [
      "Column - Births in last five years\n",
      "Statistics:\n",
      "count    13136.000000\n",
      "mean         1.830238\n",
      "std          0.710968\n",
      "min          1.000000\n",
      "25%          1.000000\n",
      "50%          2.000000\n",
      "75%          2.000000\n",
      "max          6.000000\n",
      "Name: Births in last five years, dtype: float64\n",
      "Missing values: 0\n",
      "\n",
      "\n"
     ]
    },
    {
     "data": {
      "image/png": "[encoded data removed]",
      "text/plain": [
       "<Figure size 720x504 with 1 Axes>"
      ]
     },
     "metadata": {
      "needs_background": "light"
     },
     "output_type": "display_data"
    }
   ],
   "source": [
    "column_info(\"Births in last five years\")"
   ]
  },
  {
   "cell_type": "markdown",
   "metadata": {},
   "source": [
    "### 6.Age of the respondent at 1st birth"
   ]
  },
  {
   "cell_type": "code",
   "execution_count": 39,
   "metadata": {},
   "outputs": [
    {
     "name": "stdout",
     "output_type": "stream",
     "text": [
      "Column - Age of respondent at 1st birth\n",
      "Statistics:\n",
      "count    13136.000000\n",
      "mean        19.858100\n",
      "std          4.420783\n",
      "min         12.000000\n",
      "25%         17.000000\n",
      "50%         19.000000\n",
      "75%         22.000000\n",
      "max         45.000000\n",
      "Name: Age of respondent at 1st birth, dtype: float64\n",
      "Missing values: 0\n",
      "\n",
      "\n"
     ]
    },
    {
     "data": {
      "image/png": "[encoded data removed]",
      "text/plain": [
       "<Figure size 720x504 with 1 Axes>"
      ]
     },
     "metadata": {
      "needs_background": "light"
     },
     "output_type": "display_data"
    }
   ],
   "source": [
    "column_info(\"Age of respondent at 1st birth\")"
   ]
  },
  {
   "cell_type": "markdown",
   "metadata": {},
   "source": [
    "### 7.Hemoglobin level"
   ]
  },
  {
   "cell_type": "code",
   "execution_count": 40,
   "metadata": {},
   "outputs": [
    {
     "name": "stdout",
     "output_type": "stream",
     "text": [
      "Column - Hemoglobin level\n",
      "Statistics:\n",
      "count    13136.000000\n",
      "mean       114.367235\n",
      "std         15.915408\n",
      "min         20.000000\n",
      "25%        105.000000\n",
      "50%        115.000000\n",
      "75%        125.000000\n",
      "max        218.000000\n",
      "Name: Hemoglobin level, dtype: float64\n",
      "Missing values: 0\n",
      "\n",
      "\n"
     ]
    },
    {
     "data": {
      "image/png": "[encoded data removed]",
      "text/plain": [
       "<Figure size 720x504 with 1 Axes>"
      ]
     },
     "metadata": {
      "needs_background": "light"
     },
     "output_type": "display_data"
    }
   ],
   "source": [
    "column_info(\"Hemoglobin level\")"
   ]
  },
  {
   "cell_type": "markdown",
   "metadata": {},
   "source": [
    "### 8.Have mosquito net"
   ]
  },
  {
   "cell_type": "code",
   "execution_count": 41,
   "metadata": {},
   "outputs": [
    {
     "name": "stdout",
     "output_type": "stream",
     "text": [
      "Column - Have mosquito net\n",
      "Categories\n",
      "Yes    9135\n",
      "No     4001\n",
      "Name: Have mosquito net, dtype: int64\n",
      "Missing values: 0\n",
      "\n",
      "\n"
     ]
    },
    {
     "data": {
      "image/png": "[encoded data removed]",
      "text/plain": [
       "<Figure size 720x504 with 1 Axes>"
      ]
     },
     "metadata": {
      "needs_background": "light"
     },
     "output_type": "display_data"
    }
   ],
   "source": [
    "column_info(\"Have mosquito net\")"
   ]
  },
  {
   "cell_type": "markdown",
   "metadata": {},
   "source": [
    "### 9.Smokes cigarettes"
   ]
  },
  {
   "cell_type": "code",
   "execution_count": 43,
   "metadata": {},
   "outputs": [],
   "source": [
    "#column_info(\"Smokes cigarettes\")"
   ]
  },
  {
   "cell_type": "markdown",
   "metadata": {},
   "source": [
    "### 10.Marital Status"
   ]
  },
  {
   "cell_type": "code",
   "execution_count": 44,
   "metadata": {},
   "outputs": [
    {
     "name": "stdout",
     "output_type": "stream",
     "text": [
      "Column - marital status\n",
      "Categories\n",
      "Married                                11950\n",
      "Living with partner                      462\n",
      "Never in union                           278\n",
      "Widowed                                  179\n",
      "No longer living together/separated      141\n",
      "Divorced                                 126\n",
      "Name: marital status, dtype: int64\n",
      "Missing values: 0\n",
      "\n",
      "\n"
     ]
    },
    {
     "data": {
      "image/png": "[encoded data removed]",
      "text/plain": [
       "<Figure size 720x504 with 1 Axes>"
      ]
     },
     "metadata": {
      "needs_background": "light"
     },
     "output_type": "display_data"
    }
   ],
   "source": [
    "column_info(\"marital status\")"
   ]
  },
  {
   "cell_type": "markdown",
   "metadata": {},
   "source": [
    "### 11.Residing with partner"
   ]
  },
  {
   "cell_type": "code",
   "execution_count": 45,
   "metadata": {},
   "outputs": [
    {
     "name": "stdout",
     "output_type": "stream",
     "text": [
      "Column - Residing with partner\n",
      "Categories\n",
      "Living with her      11872\n",
      "Staying elsewhere     1264\n",
      "Name: Residing with partner, dtype: int64\n",
      "Missing values: 0\n",
      "\n",
      "\n"
     ]
    },
    {
     "data": {
      "image/png": "[encoded data removed]",
      "text/plain": [
       "<Figure size 720x504 with 1 Axes>"
      ]
     },
     "metadata": {
      "needs_background": "light"
     },
     "output_type": "display_data"
    }
   ],
   "source": [
    "column_info(\"Residing with partner\")"
   ]
  },
  {
   "cell_type": "markdown",
   "metadata": {},
   "source": [
    "### 12.Had fever in last 2 weeks"
   ]
  },
  {
   "cell_type": "code",
   "execution_count": 46,
   "metadata": {},
   "outputs": [
    {
     "name": "stdout",
     "output_type": "stream",
     "text": [
      "Column - Had fever in last two weeks\n",
      "Categories\n",
      "No            8851\n",
      "Yes           3034\n",
      "Don't know    1251\n",
      "Name: Had fever in last two weeks, dtype: int64\n",
      "Missing values: 0\n",
      "\n",
      "\n"
     ]
    },
    {
     "data": {
      "image/png": "[encoded data removed]",
      "text/plain": [
       "<Figure size 720x504 with 1 Axes>"
      ]
     },
     "metadata": {
      "needs_background": "light"
     },
     "output_type": "display_data"
    }
   ],
   "source": [
    "column_info(\"Had fever in last two weeks\")"
   ]
  },
  {
   "cell_type": "markdown",
   "metadata": {},
   "source": [
    "### 13.Taking iron medication"
   ]
  },
  {
   "cell_type": "code",
   "execution_count": 47,
   "metadata": {},
   "outputs": [
    {
     "name": "stdout",
     "output_type": "stream",
     "text": [
      "Column - Taking iron medication\n",
      "Categories\n",
      "No            9642\n",
      "Yes           2225\n",
      "Don't know    1269\n",
      "Name: Taking iron medication, dtype: int64\n",
      "Missing values: 0\n",
      "\n",
      "\n"
     ]
    },
    {
     "data": {
      "image/png": "[encoded data removed]",
      "text/plain": [
       "<Figure size 720x504 with 1 Axes>"
      ]
     },
     "metadata": {
      "needs_background": "light"
     },
     "output_type": "display_data"
    }
   ],
   "source": [
    "column_info(\"Taking iron medication\")"
   ]
  },
  {
   "cell_type": "code",
   "execution_count": 48,
   "metadata": {},
   "outputs": [],
   "source": [
    "def plot_correlation_with_target(column, target='Anemia level'):\n",
    "    plt.figure(figsize=(10, 6))\n",
    "    \n",
    "    if df[column].dtype in ['int64', 'float64']:  # For numerical columns\n",
    "        plt.scatter(df[column], df[target], alpha=0.6, c='tab:blue', label=column)\n",
    "        plt.xlabel(column)\n",
    "        plt.ylabel(target)\n",
    "        plt.title(f\"{column} vs {target}\")\n",
    "        plt.legend()\n",
    "    \n",
    "    else:  # For categorical columns\n",
    "        sns.boxplot(data=df, x=column, y=target, palette='Set2')\n",
    "        plt.title(f\"Distribution of {target} by {column}\")\n",
    "    \n",
    "    plt.xticks(rotation=45)\n",
    "    plt.tight_layout()\n",
    "    plt.figure(figsize=(12, 8))  \n",
    "    plt.show()\n"
   ]
  },
  {
   "cell_type": "code",
   "execution_count": 49,
   "metadata": {},
   "outputs": [
    {
     "data": {
      "image/png": "[encoded data removed]",
      "text/plain": [
       "<Figure size 720x432 with 1 Axes>"
      ]
     },
     "metadata": {
      "needs_background": "light"
     },
     "output_type": "display_data"
    },
    {
     "data": {
      "text/plain": [
       "<Figure size 864x576 with 0 Axes>"
      ]
     },
     "metadata": {},
     "output_type": "display_data"
    }
   ],
   "source": [
    "plot_correlation_with_target('Wealth index')"
   ]
  },
  {
   "cell_type": "code",
   "execution_count": null,
   "metadata": {},
   "outputs": [],
   "source": []
  },
  {
   "cell_type": "code",
   "execution_count": 50,
   "metadata": {},
   "outputs": [],
   "source": [
    "import matplotlib.pyplot as plt\n",
    "import seaborn as sns\n",
    "\n",
    "# Set the style for seaborn plots\n",
    "sns.set_style(\"white\")\n",
    "\n",
    "def addLabels(x, y):\n",
    "    for i in range(len(y)):\n",
    "        plt.text(i, y[i], y[i], ha=\"center\", fontsize=12)\n",
    "\n",
    "def column_info(column):\n",
    "    # Check if the column is categorical (object type)\n",
    "    if df[column].dtype == object:\n",
    "        # Print basic information\n",
    "        print(f\"Column - {column}\\nCategories\\n{df[column].value_counts()}\\nMissing values: {df[column].isna().sum()}\\n\\n\")\n",
    "        \n",
    "        # Get the value counts and unique values\n",
    "        value_counts = df[column].value_counts()\n",
    "        unique_values = value_counts.index\n",
    "        \n",
    "        # Generate colors dynamically based on the number of unique values\n",
    "        colors = sns.color_palette(\"hsv\", len(unique_values))\n",
    "        \n",
    "        # Plot bar chart for categorical data\n",
    "        plt.figure(figsize=(10, 7), facecolor='white')  # Set facecolor to white\n",
    "        plt.bar(unique_values, value_counts.values, color=colors, width=0.6)\n",
    "        addLabels(unique_values, value_counts.values)\n",
    "        plt.title(f\"Distribution of {column}\", fontsize=16)\n",
    "        plt.xlabel(column, fontsize=14)\n",
    "        plt.ylabel(\"Frequency\", fontsize=14)\n",
    "        plt.xticks(rotation=45, fontsize=12)\n",
    "        plt.yticks(fontsize=12)\n",
    "        plt.show()\n",
    "\n",
    "        # Create pie charts for severity levels based on the categorical column\n",
    "        for value in unique_values:\n",
    "            subset = df[df[column] == value]\n",
    "            severity_counts = subset['Anemia level'].value_counts()\n",
    "            plt.figure(figsize=(8, 8), facecolor='white')  # Set facecolor to white\n",
    "            plt.pie(severity_counts, labels=severity_counts.index, autopct='%1.1f%%', startangle=90, colors=sns.color_palette(\"Set3\"))\n",
    "            plt.title(f\"Anemia Severity Distribution for {column} = {value}\", fontsize=16)\n",
    "            plt.axis('equal')  # Equal aspect ratio ensures pie is drawn as a circle.\n",
    "            plt.show()\n",
    "        \n",
    "    # Else, deal with numerical columns (int or float types)\n",
    "    else:\n",
    "        print(f\"Column - {column}\\nStatistics:\\n{df[column].describe()}\\nMissing values: {df[column].isna().sum()}\\n\\n\")\n",
    "        \n",
    "        # Plot histogram and KDE for numerical data\n",
    "        plt.figure(figsize=(10, 7), facecolor='white')  # Set facecolor to white\n",
    "        sns.histplot(df[column], kde=True, color='skyblue', bins=20)\n",
    "        plt.title(f\"Distribution of {column}\", fontsize=16, fontweight='bold')\n",
    "        plt.xlabel(column, fontsize=14)\n",
    "        plt.ylabel(\"Density\", fontsize=14)\n",
    "        plt.xticks(fontsize=12)\n",
    "        plt.yticks(fontsize=12)\n",
    "        plt.show()\n"
   ]
  },
  {
   "cell_type": "code",
   "execution_count": 51,
   "metadata": {},
   "outputs": [
    {
     "name": "stdout",
     "output_type": "stream",
     "text": [
      "Column - Age\n",
      "Categories\n",
      "25-29    3704\n",
      "30-34    3046\n",
      "20-24    2339\n",
      "35-39    2259\n",
      "40-44     894\n",
      "15-19     526\n",
      "45-49     368\n",
      "Name: Age, dtype: int64\n",
      "Missing values: 0\n",
      "\n",
      "\n"
     ]
    },
    {
     "data": {
      "image/png": "[encoded data removed]",
      "text/plain": [
       "<Figure size 720x504 with 1 Axes>"
      ]
     },
     "metadata": {},
     "output_type": "display_data"
    },
    {
     "data": {
      "image/png": "[encoded data removed]",
      "text/plain": [
       "<Figure size 576x576 with 1 Axes>"
      ]
     },
     "metadata": {},
     "output_type": "display_data"
    },
    {
     "data": {
      "image/png": "[encoded data removed]",
      "text/plain": [
       "<Figure size 576x576 with 1 Axes>"
      ]
     },
     "metadata": {},
     "output_type": "display_data"
    },
    {
     "data": {
      "image/png": "[encoded data removed]",
      "text/plain": [
       "<Figure size 576x576 with 1 Axes>"
      ]
     },
     "metadata": {},
     "output_type": "display_data"
    },
    {
     "data": {
      "image/png": "[encoded data removed]",
      "text/plain": [
       "<Figure size 576x576 with 1 Axes>"
      ]
     },
     "metadata": {},
     "output_type": "display_data"
    },
    {
     "data": {
      "image/png": "[encoded data removed]",
      "text/plain": [
       "<Figure size 576x576 with 1 Axes>"
      ]
     },
     "metadata": {},
     "output_type": "display_data"
    },
    {
     "data": {
      "image/png": "[encoded data removed]",
      "text/plain": [
       "<Figure size 576x576 with 1 Axes>"
      ]
     },
     "metadata": {},
     "output_type": "display_data"
    },
    {
     "data": {
      "image/png": "[encoded data removed]",
      "text/plain": [
       "<Figure size 576x576 with 1 Axes>"
      ]
     },
     "metadata": {},
     "output_type": "display_data"
    }
   ],
   "source": [
    "column_info('Age')"
   ]
  },
  {
   "cell_type": "code",
   "execution_count": 52,
   "metadata": {},
   "outputs": [
    {
     "data": {
      "text/plain": [
       "0    5337\n",
       "2    3974\n",
       "1    3594\n",
       "3     231\n",
       "Name: Anemia level, dtype: int64"
      ]
     },
     "execution_count": 52,
     "metadata": {},
     "output_type": "execute_result"
    }
   ],
   "source": [
    "df['Anemia level'].value_counts()"
   ]
  },
  {
   "cell_type": "markdown",
   "metadata": {},
   "source": [
    "---\n",
    "# DATA PREPROCESSING \n",
    "\n",
    "- We shall begin this by separating numerical and categorical columns and use a pipeline"
   ]
  },
  {
   "cell_type": "code",
   "execution_count": 53,
   "metadata": {},
   "outputs": [],
   "source": [
    "\n",
    "from sklearn.pipeline import Pipeline\n",
    "from sklearn.compose import ColumnTransformer\n",
    "from sklearn.preprocessing import OneHotEncoder, MinMaxScaler\n",
    "from sklearn.model_selection import train_test_split\n",
    "\n",
    "\n",
    "# Define your target variable and features\n",
    "X = df.drop('Anemia level', axis=1)  # 'Anemia level' is the target\n",
    "y = df['Anemia level']\n",
    "\n",
    "# Split the data into training and testing sets\n",
    "X_train, X_test, y_train, y_test = train_test_split(X, y, test_size=0.2, random_state=42)\n",
    "\n",
    "# Identify categorical and numerical columns\n",
    "numerical_cols = ['Births in last five years','Age of respondent at 1st birth','Hemoglobin level']\n",
    "\n",
    "categorical_cols = [x for x in df.columns if  x not in numerical_cols and x != 'Anemia level']\n",
    "\n",
    "\n",
    "# Create preprocessing steps\n",
    "preprocessor = ColumnTransformer(\n",
    "    transformers=[\n",
    "        ('num', MinMaxScaler(), numerical_cols),  # Standard scale numerical features\n",
    "        ('cat', OneHotEncoder(handle_unknown='ignore'), categorical_cols)])  # One-hot encode categorical features\n",
    "\n",
    "# Create the final pipeline\n",
    "pipeline = Pipeline(steps=[('preprocessor', preprocessor)])\n",
    "\n",
    "# Fit the pipeline on the training data\n",
    "pipeline.fit(X_train)\n",
    "\n",
    "# Transform the training and testing data\n",
    "X_train_transformed = pipeline.transform(X_train)\n",
    "X_test_transformed = pipeline.transform(X_test)\n",
    "\n",
    "# X_train_transformed and X_test_transformed now contain the scaled numerical features and one-hot encoded categorical features.\n"
   ]
  },
  {
   "cell_type": "code",
   "execution_count": null,
   "metadata": {},
   "outputs": [],
   "source": []
  },
  {
   "cell_type": "code",
   "execution_count": 54,
   "metadata": {},
   "outputs": [
    {
     "data": {
      "text/html": [
       "<div>\n",
       "<style scoped>\n",
       "    .dataframe tbody tr th:only-of-type {\n",
       "        vertical-align: middle;\n",
       "    }\n",
       "\n",
       "    .dataframe tbody tr th {\n",
       "        vertical-align: top;\n",
       "    }\n",
       "\n",
       "    .dataframe thead th {\n",
       "        text-align: right;\n",
       "    }\n",
       "</style>\n",
       "<table border=\"1\" class=\"dataframe\">\n",
       "  <thead>\n",
       "    <tr style=\"text-align: right;\">\n",
       "      <th></th>\n",
       "      <th>Births in last five years</th>\n",
       "      <th>Age of respondent at 1st birth</th>\n",
       "      <th>Hemoglobin level</th>\n",
       "      <th>Age_15-19</th>\n",
       "      <th>Age_20-24</th>\n",
       "      <th>Age_25-29</th>\n",
       "      <th>Age_30-34</th>\n",
       "      <th>Age_35-39</th>\n",
       "      <th>Age_40-44</th>\n",
       "      <th>Age_45-49</th>\n",
       "      <th>...</th>\n",
       "      <th>marital status_No longer living together/separated</th>\n",
       "      <th>marital status_Widowed</th>\n",
       "      <th>Residing with partner_Living with her</th>\n",
       "      <th>Residing with partner_Staying elsewhere</th>\n",
       "      <th>Had fever in last two weeks_Don't know</th>\n",
       "      <th>Had fever in last two weeks_No</th>\n",
       "      <th>Had fever in last two weeks_Yes</th>\n",
       "      <th>Taking iron medication_Don't know</th>\n",
       "      <th>Taking iron medication_No</th>\n",
       "      <th>Taking iron medication_Yes</th>\n",
       "    </tr>\n",
       "  </thead>\n",
       "  <tbody>\n",
       "    <tr>\n",
       "      <th>0</th>\n",
       "      <td>0.2</td>\n",
       "      <td>0.212121</td>\n",
       "      <td>0.530303</td>\n",
       "      <td>0.0</td>\n",
       "      <td>0.0</td>\n",
       "      <td>1.0</td>\n",
       "      <td>0.0</td>\n",
       "      <td>0.0</td>\n",
       "      <td>0.0</td>\n",
       "      <td>0.0</td>\n",
       "      <td>...</td>\n",
       "      <td>0.0</td>\n",
       "      <td>0.0</td>\n",
       "      <td>1.0</td>\n",
       "      <td>0.0</td>\n",
       "      <td>1.0</td>\n",
       "      <td>0.0</td>\n",
       "      <td>0.0</td>\n",
       "      <td>1.0</td>\n",
       "      <td>0.0</td>\n",
       "      <td>0.0</td>\n",
       "    </tr>\n",
       "    <tr>\n",
       "      <th>1</th>\n",
       "      <td>0.0</td>\n",
       "      <td>0.212121</td>\n",
       "      <td>0.525253</td>\n",
       "      <td>0.0</td>\n",
       "      <td>0.0</td>\n",
       "      <td>0.0</td>\n",
       "      <td>0.0</td>\n",
       "      <td>1.0</td>\n",
       "      <td>0.0</td>\n",
       "      <td>0.0</td>\n",
       "      <td>...</td>\n",
       "      <td>0.0</td>\n",
       "      <td>0.0</td>\n",
       "      <td>1.0</td>\n",
       "      <td>0.0</td>\n",
       "      <td>0.0</td>\n",
       "      <td>0.0</td>\n",
       "      <td>1.0</td>\n",
       "      <td>0.0</td>\n",
       "      <td>1.0</td>\n",
       "      <td>0.0</td>\n",
       "    </tr>\n",
       "    <tr>\n",
       "      <th>2</th>\n",
       "      <td>0.0</td>\n",
       "      <td>0.212121</td>\n",
       "      <td>0.439394</td>\n",
       "      <td>0.0</td>\n",
       "      <td>0.0</td>\n",
       "      <td>0.0</td>\n",
       "      <td>1.0</td>\n",
       "      <td>0.0</td>\n",
       "      <td>0.0</td>\n",
       "      <td>0.0</td>\n",
       "      <td>...</td>\n",
       "      <td>0.0</td>\n",
       "      <td>0.0</td>\n",
       "      <td>1.0</td>\n",
       "      <td>0.0</td>\n",
       "      <td>0.0</td>\n",
       "      <td>1.0</td>\n",
       "      <td>0.0</td>\n",
       "      <td>0.0</td>\n",
       "      <td>1.0</td>\n",
       "      <td>0.0</td>\n",
       "    </tr>\n",
       "    <tr>\n",
       "      <th>3</th>\n",
       "      <td>0.2</td>\n",
       "      <td>0.060606</td>\n",
       "      <td>0.469697</td>\n",
       "      <td>0.0</td>\n",
       "      <td>0.0</td>\n",
       "      <td>0.0</td>\n",
       "      <td>0.0</td>\n",
       "      <td>1.0</td>\n",
       "      <td>0.0</td>\n",
       "      <td>0.0</td>\n",
       "      <td>...</td>\n",
       "      <td>0.0</td>\n",
       "      <td>0.0</td>\n",
       "      <td>1.0</td>\n",
       "      <td>0.0</td>\n",
       "      <td>0.0</td>\n",
       "      <td>1.0</td>\n",
       "      <td>0.0</td>\n",
       "      <td>0.0</td>\n",
       "      <td>1.0</td>\n",
       "      <td>0.0</td>\n",
       "    </tr>\n",
       "    <tr>\n",
       "      <th>4</th>\n",
       "      <td>0.0</td>\n",
       "      <td>0.515152</td>\n",
       "      <td>0.540404</td>\n",
       "      <td>0.0</td>\n",
       "      <td>0.0</td>\n",
       "      <td>0.0</td>\n",
       "      <td>1.0</td>\n",
       "      <td>0.0</td>\n",
       "      <td>0.0</td>\n",
       "      <td>0.0</td>\n",
       "      <td>...</td>\n",
       "      <td>1.0</td>\n",
       "      <td>0.0</td>\n",
       "      <td>1.0</td>\n",
       "      <td>0.0</td>\n",
       "      <td>0.0</td>\n",
       "      <td>1.0</td>\n",
       "      <td>0.0</td>\n",
       "      <td>0.0</td>\n",
       "      <td>1.0</td>\n",
       "      <td>0.0</td>\n",
       "    </tr>\n",
       "  </tbody>\n",
       "</table>\n",
       "<p>5 rows × 37 columns</p>\n",
       "</div>"
      ],
      "text/plain": [
       "   Births in last five years  Age of respondent at 1st birth  \\\n",
       "0                        0.2                        0.212121   \n",
       "1                        0.0                        0.212121   \n",
       "2                        0.0                        0.212121   \n",
       "3                        0.2                        0.060606   \n",
       "4                        0.0                        0.515152   \n",
       "\n",
       "   Hemoglobin level  Age_15-19  Age_20-24  Age_25-29  Age_30-34  Age_35-39  \\\n",
       "0          0.530303        0.0        0.0        1.0        0.0        0.0   \n",
       "1          0.525253        0.0        0.0        0.0        0.0        1.0   \n",
       "2          0.439394        0.0        0.0        0.0        1.0        0.0   \n",
       "3          0.469697        0.0        0.0        0.0        0.0        1.0   \n",
       "4          0.540404        0.0        0.0        0.0        1.0        0.0   \n",
       "\n",
       "   Age_40-44  Age_45-49  ...  \\\n",
       "0        0.0        0.0  ...   \n",
       "1        0.0        0.0  ...   \n",
       "2        0.0        0.0  ...   \n",
       "3        0.0        0.0  ...   \n",
       "4        0.0        0.0  ...   \n",
       "\n",
       "   marital status_No longer living together/separated  marital status_Widowed  \\\n",
       "0                                                0.0                      0.0   \n",
       "1                                                0.0                      0.0   \n",
       "2                                                0.0                      0.0   \n",
       "3                                                0.0                      0.0   \n",
       "4                                                1.0                      0.0   \n",
       "\n",
       "   Residing with partner_Living with her  \\\n",
       "0                                    1.0   \n",
       "1                                    1.0   \n",
       "2                                    1.0   \n",
       "3                                    1.0   \n",
       "4                                    1.0   \n",
       "\n",
       "   Residing with partner_Staying elsewhere  \\\n",
       "0                                      0.0   \n",
       "1                                      0.0   \n",
       "2                                      0.0   \n",
       "3                                      0.0   \n",
       "4                                      0.0   \n",
       "\n",
       "   Had fever in last two weeks_Don't know  Had fever in last two weeks_No  \\\n",
       "0                                     1.0                             0.0   \n",
       "1                                     0.0                             0.0   \n",
       "2                                     0.0                             1.0   \n",
       "3                                     0.0                             1.0   \n",
       "4                                     0.0                             1.0   \n",
       "\n",
       "   Had fever in last two weeks_Yes  Taking iron medication_Don't know  \\\n",
       "0                              0.0                                1.0   \n",
       "1                              1.0                                0.0   \n",
       "2                              0.0                                0.0   \n",
       "3                              0.0                                0.0   \n",
       "4                              0.0                                0.0   \n",
       "\n",
       "   Taking iron medication_No  Taking iron medication_Yes  \n",
       "0                        0.0                         0.0  \n",
       "1                        1.0                         0.0  \n",
       "2                        1.0                         0.0  \n",
       "3                        1.0                         0.0  \n",
       "4                        1.0                         0.0  \n",
       "\n",
       "[5 rows x 37 columns]"
      ]
     },
     "execution_count": 54,
     "metadata": {},
     "output_type": "execute_result"
    }
   ],
   "source": [
    "\n",
    "\n",
    "# Transform the training data\n",
    "X_train_transformed = pipeline.transform(X_train)\n",
    "\n",
    "# Get numerical column names\n",
    "numerical_cols = ['Births in last five years', 'Age of respondent at 1st birth', 'Hemoglobin level']\n",
    "\n",
    "# Get one-hot encoded categorical column names\n",
    "one_hot_col_names = pipeline.named_steps['preprocessor'].transformers_[1][1].get_feature_names_out(categorical_cols)\n",
    "\n",
    "# Combine the column names\n",
    "all_col_names = numerical_cols + list(one_hot_col_names)\n",
    "\n",
    "# Create a DataFrame with transformed data and appropriate column names\n",
    "X_train_transformed_df = pd.DataFrame(X_train_transformed, columns=all_col_names)\n",
    "\n",
    "#Renaming variable for suitability\n",
    "X_train = X_train_transformed_df\n",
    "\n",
    "\n",
    "# Display the DataFrame\n",
    "X_train.head()\n"
   ]
  },
  {
   "cell_type": "code",
   "execution_count": 55,
   "metadata": {},
   "outputs": [
    {
     "data": {
      "text/html": [
       "<div>\n",
       "<style scoped>\n",
       "    .dataframe tbody tr th:only-of-type {\n",
       "        vertical-align: middle;\n",
       "    }\n",
       "\n",
       "    .dataframe tbody tr th {\n",
       "        vertical-align: top;\n",
       "    }\n",
       "\n",
       "    .dataframe thead th {\n",
       "        text-align: right;\n",
       "    }\n",
       "</style>\n",
       "<table border=\"1\" class=\"dataframe\">\n",
       "  <thead>\n",
       "    <tr style=\"text-align: right;\">\n",
       "      <th></th>\n",
       "      <th>Births in last five years</th>\n",
       "      <th>Age of respondent at 1st birth</th>\n",
       "      <th>Hemoglobin level</th>\n",
       "      <th>Age_15-19</th>\n",
       "      <th>Age_20-24</th>\n",
       "      <th>Age_25-29</th>\n",
       "      <th>Age_30-34</th>\n",
       "      <th>Age_35-39</th>\n",
       "      <th>Age_40-44</th>\n",
       "      <th>Age_45-49</th>\n",
       "      <th>...</th>\n",
       "      <th>marital status_No longer living together/separated</th>\n",
       "      <th>marital status_Widowed</th>\n",
       "      <th>Residing with partner_Living with her</th>\n",
       "      <th>Residing with partner_Staying elsewhere</th>\n",
       "      <th>Had fever in last two weeks_Don't know</th>\n",
       "      <th>Had fever in last two weeks_No</th>\n",
       "      <th>Had fever in last two weeks_Yes</th>\n",
       "      <th>Taking iron medication_Don't know</th>\n",
       "      <th>Taking iron medication_No</th>\n",
       "      <th>Taking iron medication_Yes</th>\n",
       "    </tr>\n",
       "  </thead>\n",
       "  <tbody>\n",
       "    <tr>\n",
       "      <th>0</th>\n",
       "      <td>0.4</td>\n",
       "      <td>0.090909</td>\n",
       "      <td>0.565657</td>\n",
       "      <td>0.0</td>\n",
       "      <td>0.0</td>\n",
       "      <td>1.0</td>\n",
       "      <td>0.0</td>\n",
       "      <td>0.0</td>\n",
       "      <td>0.0</td>\n",
       "      <td>0.0</td>\n",
       "      <td>...</td>\n",
       "      <td>0.0</td>\n",
       "      <td>0.0</td>\n",
       "      <td>1.0</td>\n",
       "      <td>0.0</td>\n",
       "      <td>1.0</td>\n",
       "      <td>0.0</td>\n",
       "      <td>0.0</td>\n",
       "      <td>1.0</td>\n",
       "      <td>0.0</td>\n",
       "      <td>0.0</td>\n",
       "    </tr>\n",
       "    <tr>\n",
       "      <th>1</th>\n",
       "      <td>0.0</td>\n",
       "      <td>0.090909</td>\n",
       "      <td>0.323232</td>\n",
       "      <td>0.0</td>\n",
       "      <td>1.0</td>\n",
       "      <td>0.0</td>\n",
       "      <td>0.0</td>\n",
       "      <td>0.0</td>\n",
       "      <td>0.0</td>\n",
       "      <td>0.0</td>\n",
       "      <td>...</td>\n",
       "      <td>0.0</td>\n",
       "      <td>0.0</td>\n",
       "      <td>1.0</td>\n",
       "      <td>0.0</td>\n",
       "      <td>0.0</td>\n",
       "      <td>0.0</td>\n",
       "      <td>1.0</td>\n",
       "      <td>0.0</td>\n",
       "      <td>1.0</td>\n",
       "      <td>0.0</td>\n",
       "    </tr>\n",
       "    <tr>\n",
       "      <th>2</th>\n",
       "      <td>0.2</td>\n",
       "      <td>0.333333</td>\n",
       "      <td>0.474747</td>\n",
       "      <td>0.0</td>\n",
       "      <td>0.0</td>\n",
       "      <td>0.0</td>\n",
       "      <td>1.0</td>\n",
       "      <td>0.0</td>\n",
       "      <td>0.0</td>\n",
       "      <td>0.0</td>\n",
       "      <td>...</td>\n",
       "      <td>1.0</td>\n",
       "      <td>0.0</td>\n",
       "      <td>1.0</td>\n",
       "      <td>0.0</td>\n",
       "      <td>0.0</td>\n",
       "      <td>0.0</td>\n",
       "      <td>1.0</td>\n",
       "      <td>0.0</td>\n",
       "      <td>1.0</td>\n",
       "      <td>0.0</td>\n",
       "    </tr>\n",
       "    <tr>\n",
       "      <th>3</th>\n",
       "      <td>0.0</td>\n",
       "      <td>0.090909</td>\n",
       "      <td>0.525253</td>\n",
       "      <td>0.0</td>\n",
       "      <td>0.0</td>\n",
       "      <td>0.0</td>\n",
       "      <td>0.0</td>\n",
       "      <td>1.0</td>\n",
       "      <td>0.0</td>\n",
       "      <td>0.0</td>\n",
       "      <td>...</td>\n",
       "      <td>0.0</td>\n",
       "      <td>0.0</td>\n",
       "      <td>1.0</td>\n",
       "      <td>0.0</td>\n",
       "      <td>0.0</td>\n",
       "      <td>0.0</td>\n",
       "      <td>1.0</td>\n",
       "      <td>0.0</td>\n",
       "      <td>1.0</td>\n",
       "      <td>0.0</td>\n",
       "    </tr>\n",
       "    <tr>\n",
       "      <th>4</th>\n",
       "      <td>0.4</td>\n",
       "      <td>0.060606</td>\n",
       "      <td>0.560606</td>\n",
       "      <td>0.0</td>\n",
       "      <td>0.0</td>\n",
       "      <td>1.0</td>\n",
       "      <td>0.0</td>\n",
       "      <td>0.0</td>\n",
       "      <td>0.0</td>\n",
       "      <td>0.0</td>\n",
       "      <td>...</td>\n",
       "      <td>0.0</td>\n",
       "      <td>0.0</td>\n",
       "      <td>1.0</td>\n",
       "      <td>0.0</td>\n",
       "      <td>0.0</td>\n",
       "      <td>1.0</td>\n",
       "      <td>0.0</td>\n",
       "      <td>0.0</td>\n",
       "      <td>1.0</td>\n",
       "      <td>0.0</td>\n",
       "    </tr>\n",
       "  </tbody>\n",
       "</table>\n",
       "<p>5 rows × 37 columns</p>\n",
       "</div>"
      ],
      "text/plain": [
       "   Births in last five years  Age of respondent at 1st birth  \\\n",
       "0                        0.4                        0.090909   \n",
       "1                        0.0                        0.090909   \n",
       "2                        0.2                        0.333333   \n",
       "3                        0.0                        0.090909   \n",
       "4                        0.4                        0.060606   \n",
       "\n",
       "   Hemoglobin level  Age_15-19  Age_20-24  Age_25-29  Age_30-34  Age_35-39  \\\n",
       "0          0.565657        0.0        0.0        1.0        0.0        0.0   \n",
       "1          0.323232        0.0        1.0        0.0        0.0        0.0   \n",
       "2          0.474747        0.0        0.0        0.0        1.0        0.0   \n",
       "3          0.525253        0.0        0.0        0.0        0.0        1.0   \n",
       "4          0.560606        0.0        0.0        1.0        0.0        0.0   \n",
       "\n",
       "   Age_40-44  Age_45-49  ...  \\\n",
       "0        0.0        0.0  ...   \n",
       "1        0.0        0.0  ...   \n",
       "2        0.0        0.0  ...   \n",
       "3        0.0        0.0  ...   \n",
       "4        0.0        0.0  ...   \n",
       "\n",
       "   marital status_No longer living together/separated  marital status_Widowed  \\\n",
       "0                                                0.0                      0.0   \n",
       "1                                                0.0                      0.0   \n",
       "2                                                1.0                      0.0   \n",
       "3                                                0.0                      0.0   \n",
       "4                                                0.0                      0.0   \n",
       "\n",
       "   Residing with partner_Living with her  \\\n",
       "0                                    1.0   \n",
       "1                                    1.0   \n",
       "2                                    1.0   \n",
       "3                                    1.0   \n",
       "4                                    1.0   \n",
       "\n",
       "   Residing with partner_Staying elsewhere  \\\n",
       "0                                      0.0   \n",
       "1                                      0.0   \n",
       "2                                      0.0   \n",
       "3                                      0.0   \n",
       "4                                      0.0   \n",
       "\n",
       "   Had fever in last two weeks_Don't know  Had fever in last two weeks_No  \\\n",
       "0                                     1.0                             0.0   \n",
       "1                                     0.0                             0.0   \n",
       "2                                     0.0                             0.0   \n",
       "3                                     0.0                             0.0   \n",
       "4                                     0.0                             1.0   \n",
       "\n",
       "   Had fever in last two weeks_Yes  Taking iron medication_Don't know  \\\n",
       "0                              0.0                                1.0   \n",
       "1                              1.0                                0.0   \n",
       "2                              1.0                                0.0   \n",
       "3                              1.0                                0.0   \n",
       "4                              0.0                                0.0   \n",
       "\n",
       "   Taking iron medication_No  Taking iron medication_Yes  \n",
       "0                        0.0                         0.0  \n",
       "1                        1.0                         0.0  \n",
       "2                        1.0                         0.0  \n",
       "3                        1.0                         0.0  \n",
       "4                        1.0                         0.0  \n",
       "\n",
       "[5 rows x 37 columns]"
      ]
     },
     "execution_count": 55,
     "metadata": {},
     "output_type": "execute_result"
    }
   ],
   "source": [
    "# Transform the test data\n",
    "X_test_transformed = pipeline.transform(X_test)\n",
    "\n",
    "# Get one-hot encoded categorical column names using the same method as before\n",
    "one_hot_col_names_test = pipeline.named_steps['preprocessor'].transformers_[1][1].get_feature_names_out(categorical_cols)\n",
    "\n",
    "# Combine the column names for the test set\n",
    "all_col_names_test = numerical_cols + list(one_hot_col_names_test)\n",
    "\n",
    "# Create a DataFrame with transformed test data and appropriate column names\n",
    "X_test_transformed_df = pd.DataFrame(X_test_transformed, columns=all_col_names_test)\n",
    "\n",
    "#Renaming variable for suitability\n",
    "X_test = X_test_transformed_df\n",
    "\n",
    "# Display the DataFrame\n",
    "X_test.head()\n"
   ]
  },
  {
   "cell_type": "code",
   "execution_count": 56,
   "metadata": {},
   "outputs": [
    {
     "data": {
      "text/plain": [
       "2628"
      ]
     },
     "execution_count": 56,
     "metadata": {},
     "output_type": "execute_result"
    }
   ],
   "source": [
    "len(y_test)"
   ]
  },
  {
   "cell_type": "code",
   "execution_count": null,
   "metadata": {},
   "outputs": [],
   "source": []
  },
  {
   "cell_type": "markdown",
   "metadata": {},
   "source": [
    "--- \n",
    "# MODELING\n"
   ]
  },
  {
   "cell_type": "markdown",
   "metadata": {},
   "source": [
    "## Baseline Models\n",
    "\n",
    "- We shall begin the modeling by trying out baseline models for various classifiers.\n",
    "- We shall try out the following"
   ]
  },
  {
   "cell_type": "code",
   "execution_count": 57,
   "metadata": {},
   "outputs": [
    {
     "name": "stdout",
     "output_type": "stream",
     "text": [
      "Evaluating model: Logistic Regression\n"
     ]
    },
    {
     "name": "stderr",
     "output_type": "stream",
     "text": [
      "/home/leo/anaconda3/envs/learn-env/lib/python3.8/site-packages/sklearn/linear_model/_logistic.py:460: ConvergenceWarning: lbfgs failed to converge (status=1):\n",
      "STOP: TOTAL NO. of ITERATIONS REACHED LIMIT.\n",
      "\n",
      "Increase the number of iterations (max_iter) or scale the data as shown in:\n",
      "    https://scikit-learn.org/stable/modules/preprocessing.html\n",
      "Please also refer to the documentation for alternative solver options:\n",
      "    https://scikit-learn.org/stable/modules/linear_model.html#logistic-regression\n",
      "  n_iter_i = _check_optimize_result(\n",
      "/home/leo/anaconda3/envs/learn-env/lib/python3.8/site-packages/sklearn/metrics/_classification.py:1471: UndefinedMetricWarning: Precision is ill-defined and being set to 0.0 in labels with no predicted samples. Use `zero_division` parameter to control this behavior.\n",
      "  _warn_prf(average, modifier, msg_start, len(result))\n",
      "/home/leo/anaconda3/envs/learn-env/lib/python3.8/site-packages/sklearn/metrics/_classification.py:1471: UndefinedMetricWarning: Precision is ill-defined and being set to 0.0 in labels with no predicted samples. Use `zero_division` parameter to control this behavior.\n",
      "  _warn_prf(average, modifier, msg_start, len(result))\n"
     ]
    },
    {
     "name": "stdout",
     "output_type": "stream",
     "text": [
      "Macro Recall: 0.6279\n",
      "Macro Precision: 0.6198\n",
      "Macro F1 Score: 0.6234\n",
      "Weighted Recall: 0.8417\n",
      "Weighted Precision: 0.8214\n",
      "Weighted F1 Score: 0.8308\n",
      "----------------------------------------\n",
      "Evaluating model: Decision Tree\n",
      "Macro Recall: 0.9341\n",
      "Macro Precision: 0.9336\n",
      "Macro F1 Score: 0.9338\n",
      "Weighted Recall: 0.9326\n",
      "Weighted Precision: 0.9332\n",
      "Weighted F1 Score: 0.9328\n",
      "----------------------------------------\n",
      "Evaluating model: Random Forest\n",
      "Macro Recall: 0.8662\n",
      "Macro Precision: 0.9558\n",
      "Macro F1 Score: 0.8988\n",
      "Weighted Recall: 0.9479\n",
      "Weighted Precision: 0.9498\n",
      "Weighted F1 Score: 0.9473\n",
      "----------------------------------------\n",
      "Evaluating model: Gradient Boosting\n",
      "Macro Recall: 0.9430\n",
      "Macro Precision: 0.9216\n",
      "Macro F1 Score: 0.9312\n",
      "Weighted Recall: 0.9410\n",
      "Weighted Precision: 0.9432\n",
      "Weighted F1 Score: 0.9411\n",
      "----------------------------------------\n"
     ]
    },
    {
     "data": {
      "text/html": [
       "<div>\n",
       "<style scoped>\n",
       "    .dataframe tbody tr th:only-of-type {\n",
       "        vertical-align: middle;\n",
       "    }\n",
       "\n",
       "    .dataframe tbody tr th {\n",
       "        vertical-align: top;\n",
       "    }\n",
       "\n",
       "    .dataframe thead th {\n",
       "        text-align: right;\n",
       "    }\n",
       "</style>\n",
       "<table border=\"1\" class=\"dataframe\">\n",
       "  <thead>\n",
       "    <tr style=\"text-align: right;\">\n",
       "      <th></th>\n",
       "      <th>Macro Recall</th>\n",
       "      <th>Macro Precision</th>\n",
       "      <th>Macro F1 Score</th>\n",
       "      <th>Weighted Recall</th>\n",
       "      <th>Weighted Precision</th>\n",
       "      <th>Weighted F1 Score</th>\n",
       "    </tr>\n",
       "  </thead>\n",
       "  <tbody>\n",
       "    <tr>\n",
       "      <th>Logistic Regression</th>\n",
       "      <td>0.627924</td>\n",
       "      <td>0.619802</td>\n",
       "      <td>0.623369</td>\n",
       "      <td>0.841705</td>\n",
       "      <td>0.821397</td>\n",
       "      <td>0.830832</td>\n",
       "    </tr>\n",
       "    <tr>\n",
       "      <th>Decision Tree</th>\n",
       "      <td>0.934074</td>\n",
       "      <td>0.933636</td>\n",
       "      <td>0.933783</td>\n",
       "      <td>0.932648</td>\n",
       "      <td>0.933202</td>\n",
       "      <td>0.932844</td>\n",
       "    </tr>\n",
       "    <tr>\n",
       "      <th>Random Forest</th>\n",
       "      <td>0.866219</td>\n",
       "      <td>0.955751</td>\n",
       "      <td>0.898819</td>\n",
       "      <td>0.947869</td>\n",
       "      <td>0.949838</td>\n",
       "      <td>0.947315</td>\n",
       "    </tr>\n",
       "    <tr>\n",
       "      <th>Gradient Boosting</th>\n",
       "      <td>0.943002</td>\n",
       "      <td>0.921630</td>\n",
       "      <td>0.931188</td>\n",
       "      <td>0.941020</td>\n",
       "      <td>0.943199</td>\n",
       "      <td>0.941143</td>\n",
       "    </tr>\n",
       "  </tbody>\n",
       "</table>\n",
       "</div>"
      ],
      "text/plain": [
       "                     Macro Recall  Macro Precision  Macro F1 Score  \\\n",
       "Logistic Regression      0.627924         0.619802        0.623369   \n",
       "Decision Tree            0.934074         0.933636        0.933783   \n",
       "Random Forest            0.866219         0.955751        0.898819   \n",
       "Gradient Boosting        0.943002         0.921630        0.931188   \n",
       "\n",
       "                     Weighted Recall  Weighted Precision  Weighted F1 Score  \n",
       "Logistic Regression         0.841705            0.821397           0.830832  \n",
       "Decision Tree               0.932648            0.933202           0.932844  \n",
       "Random Forest               0.947869            0.949838           0.947315  \n",
       "Gradient Boosting           0.941020            0.943199           0.941143  "
      ]
     },
     "execution_count": 57,
     "metadata": {},
     "output_type": "execute_result"
    }
   ],
   "source": [
    "# Importing necessary classes\n",
    "from sklearn.linear_model import LogisticRegression\n",
    "from sklearn.tree import DecisionTreeClassifier\n",
    "from sklearn.ensemble import RandomForestClassifier, GradientBoostingClassifier\n",
    "from sklearn.metrics import recall_score, precision_score, f1_score\n",
    "\n",
    "# Dictionary to store each model's results\n",
    "results = {}\n",
    "\n",
    "# List of models to test\n",
    "models = {\n",
    "    'Logistic Regression': LogisticRegression(random_state=42),\n",
    "    'Decision Tree': DecisionTreeClassifier(random_state=42),\n",
    "    'Random Forest': RandomForestClassifier(random_state=42),\n",
    "    'Gradient Boosting': GradientBoostingClassifier(random_state=42)\n",
    "}\n",
    "\n",
    "# Loop through each model\n",
    "for model_name, model in models.items():\n",
    "    print(f\"Evaluating model: {model_name}\")\n",
    "    \n",
    "    # Fit the model on the training data\n",
    "    model.fit(X_train, y_train)\n",
    "    \n",
    "    # Predict on the test set\n",
    "    y_hat_test = model.predict(X_test)\n",
    "    \n",
    "    # Compute macro average metrics\n",
    "    model_recall_macro = recall_score(y_true=y_test, y_pred=y_hat_test, average='macro')\n",
    "    model_precision_macro = precision_score(y_true=y_test, y_pred=y_hat_test, average='macro')\n",
    "    model_f1_macro = f1_score(y_true=y_test, y_pred=y_hat_test, average='macro')\n",
    "    \n",
    "    # Compute weighted average metrics\n",
    "    model_recall_weighted = recall_score(y_true=y_test, y_pred=y_hat_test, average='weighted')\n",
    "    model_precision_weighted = precision_score(y_true=y_test, y_pred=y_hat_test, average='weighted')\n",
    "    model_f1_weighted = f1_score(y_true=y_test, y_pred=y_hat_test, average='weighted')\n",
    "    \n",
    "    # Print results\n",
    "    print(f\"Macro Recall: {model_recall_macro:.4f}\")\n",
    "    print(f\"Macro Precision: {model_precision_macro:.4f}\")\n",
    "    print(f\"Macro F1 Score: {model_f1_macro:.4f}\")\n",
    "    print(f\"Weighted Recall: {model_recall_weighted:.4f}\")\n",
    "    print(f\"Weighted Precision: {model_precision_weighted:.4f}\")\n",
    "    print(f\"Weighted F1 Score: {model_f1_weighted:.4f}\")\n",
    "    print('-' * 40)\n",
    "    \n",
    "    # Store the results\n",
    "    results[model_name] = {\n",
    "        'Macro Recall': model_recall_macro,\n",
    "        'Macro Precision': model_precision_macro,\n",
    "        'Macro F1 Score': model_f1_macro,\n",
    "        'Weighted Recall': model_recall_weighted,\n",
    "        'Weighted Precision': model_precision_weighted,\n",
    "        'Weighted F1 Score': model_f1_weighted\n",
    "    }\n",
    "\n",
    "\n",
    "results_df = pd.DataFrame(results).T\n",
    "results_df\n"
   ]
  },
  {
   "cell_type": "markdown",
   "metadata": {},
   "source": [
    "## Model Tuning\n",
    "\n",
    "\n"
   ]
  },
  {
   "cell_type": "markdown",
   "metadata": {},
   "source": [
    "### Distribution of target variable\n",
    "\n",
    "Target- `Anemia level`\n",
    "\n"
   ]
  },
  {
   "cell_type": "code",
   "execution_count": 58,
   "metadata": {},
   "outputs": [
    {
     "data": {
      "image/png": "[encoded data removed]",
      "text/plain": [
       "<Figure size 720x432 with 1 Axes>"
      ]
     },
     "metadata": {},
     "output_type": "display_data"
    }
   ],
   "source": [
    "import matplotlib.pyplot as plt\n",
    "import seaborn as sns\n",
    "\n",
    "# Set the aesthetic style of the plots\n",
    "sns.set(style=\"whitegrid\")\n",
    "\n",
    "# Define custom colors for each level of anemia\n",
    "anemia_colors = {0: 'green', 1: 'lightblue', 2: 'orange', 3: 'red'}\n",
    "\n",
    "# Create a count plot with custom colors\n",
    "plt.figure(figsize=(10, 6))\n",
    "ax = sns.countplot(data=df, x='Anemia level', palette=anemia_colors)\n",
    "\n",
    "# Add count labels above each bar\n",
    "for p in ax.patches:\n",
    "    ax.annotate(f'{int(p.get_height())}', \n",
    "                (p.get_x() + p.get_width() / 2., p.get_height()), \n",
    "                ha='center', va='baseline', \n",
    "                fontsize=12, color='black', fontweight='bold')\n",
    "\n",
    "# Set title and labels\n",
    "plt.title(\"Distribution of Anemia Levels\", fontsize=16, fontweight='bold')\n",
    "plt.xlabel(\"Anemia Level\", fontsize=14, fontweight='bold')\n",
    "plt.ylabel(\"Count\", fontsize=14, fontweight='bold')\n",
    "\n",
    "# Customize ticks\n",
    "plt.xticks(fontsize=12, fontweight='bold', rotation=0)\n",
    "plt.yticks(fontsize=12)\n",
    "\n",
    "# Display the plot\n",
    "plt.tight_layout()\n",
    "plt.show()\n",
    "\n"
   ]
  },
  {
   "cell_type": "markdown",
   "metadata": {},
   "source": [
    "### Handling Class imbalance\n",
    "\n",
    "- For this, we shall use 2 techniques, class weights and smote, we shall implement using gridsearchCV and pipelines for the different models, as shown below:\n",
    "\n",
    "#### Importing SMOTE class and initilizing object, models and parameter grid"
   ]
  },
  {
   "cell_type": "code",
   "execution_count": 59,
   "metadata": {},
   "outputs": [
    {
     "data": {
      "text/plain": [
       "'from imblearn.over_sampling import SMOTE\\nfrom sklearn.neighbors import KNeighborsClassifier\\nfrom sklearn.svm import SVC\\nfrom sklearn.model_selection import GridSearchCV\\nfrom xgboost import XGBClassifier\\n# SMOTE object\\nsmote = SMOTE(random_state=42)\\n\\n# Defining the models and parameter grid\\nmodels = {\\n    \"RandomForest\": RandomForestClassifier(random_state=42),\\n    \"LogisticRegression\": LogisticRegression(max_iter=500, random_state=42),\\n    \"DecisionTree\": DecisionTreeClassifier(random_state=42),\\n    \"GradientBoosting\": GradientBoostingClassifier(random_state=42),\\n    \"KNN\": KNeighborsClassifier(),\\n    \"XGBoost\": XGBClassifier(use_label_encoder=False, eval_metric=\\'logloss\\', random_state=42)\\n}\\n\\nparam_grid = {\\n    \"RandomForest\": {\\n        \"clf__n_estimators\": [50, 100, 200],\\n        \"clf__max_depth\": [None, 10, 20],\\n        \"clf__class_weight\": [None, \"balanced\", \"balanced_subsample\"]\\n    }, \\n    \"DecisionTree\": {\\n        \"clf__max_depth\": [None, 10, 20],\\n        \"clf__min_samples_split\": [2, 10],\\n        \"clf__class_weight\": [None, \"balanced\"]\\n    },\\n    \"GradientBoosting\": {\\n        \"clf__n_estimators\": [50, 100, 200],\\n        \"clf__learning_rate\": [0.01, 0.1, 0.2]\\n    },\\n    \"KNN\": {\\n        \"clf__n_neighbors\": [3, 5, 7],\\n        \"clf__weights\": [\"uniform\", \"distance\"],\\n        \"clf__p\": [1, 2]  # p=1 for Manhattan, p=2 for Euclidean distance\\n    },\\n    \"XGBoost\": {\\n        \"clf__n_estimators\": [50, 100, 200],\\n        \"clf__learning_rate\": [0.01, 0.1, 0.2],\\n        \"clf__max_depth\": [3, 6, 10]\\n    }\\n}\\n'"
      ]
     },
     "execution_count": 59,
     "metadata": {},
     "output_type": "execute_result"
    }
   ],
   "source": [
    "\"\"\"from imblearn.over_sampling import SMOTE\n",
    "from sklearn.neighbors import KNeighborsClassifier\n",
    "from sklearn.svm import SVC\n",
    "from sklearn.model_selection import GridSearchCV\n",
    "from xgboost import XGBClassifier\n",
    "# SMOTE object\n",
    "smote = SMOTE(random_state=42)\n",
    "\n",
    "# Defining the models and parameter grid\n",
    "models = {\n",
    "    \"RandomForest\": RandomForestClassifier(random_state=42),\n",
    "    \"LogisticRegression\": LogisticRegression(max_iter=500, random_state=42),\n",
    "    \"DecisionTree\": DecisionTreeClassifier(random_state=42),\n",
    "    \"GradientBoosting\": GradientBoostingClassifier(random_state=42),\n",
    "    \"KNN\": KNeighborsClassifier(),\n",
    "    \"XGBoost\": XGBClassifier(use_label_encoder=False, eval_metric='logloss', random_state=42)\n",
    "}\n",
    "\n",
    "param_grid = {\n",
    "    \"RandomForest\": {\n",
    "        \"clf__n_estimators\": [50, 100, 200],\n",
    "        \"clf__max_depth\": [None, 10, 20],\n",
    "        \"clf__class_weight\": [None, \"balanced\", \"balanced_subsample\"]\n",
    "    }, \n",
    "    \"DecisionTree\": {\n",
    "        \"clf__max_depth\": [None, 10, 20],\n",
    "        \"clf__min_samples_split\": [2, 10],\n",
    "        \"clf__class_weight\": [None, \"balanced\"]\n",
    "    },\n",
    "    \"GradientBoosting\": {\n",
    "        \"clf__n_estimators\": [50, 100, 200],\n",
    "        \"clf__learning_rate\": [0.01, 0.1, 0.2]\n",
    "    },\n",
    "    \"KNN\": {\n",
    "        \"clf__n_neighbors\": [3, 5, 7],\n",
    "        \"clf__weights\": [\"uniform\", \"distance\"],\n",
    "        \"clf__p\": [1, 2]  # p=1 for Manhattan, p=2 for Euclidean distance\n",
    "    },\n",
    "    \"XGBoost\": {\n",
    "        \"clf__n_estimators\": [50, 100, 200],\n",
    "        \"clf__learning_rate\": [0.01, 0.1, 0.2],\n",
    "        \"clf__max_depth\": [3, 6, 10]\n",
    "    }\n",
    "}\n",
    "\"\"\""
   ]
  },
  {
   "cell_type": "markdown",
   "metadata": {},
   "source": [
    "#### Initializing SMOTE"
   ]
  },
  {
   "cell_type": "code",
   "execution_count": 62,
   "metadata": {},
   "outputs": [],
   "source": [
    "# Initialize SMOTE\n",
    "from imblearn.over_sampling import SMOTE\n",
    "smote = SMOTE(random_state=42)\n",
    "\n",
    "# Apply SMOTE to the training data outside the loop\n",
    "X_train_resampled, y_train_resampled = smote.fit_resample(X_train, y_train)"
   ]
  },
  {
   "cell_type": "markdown",
   "metadata": {},
   "source": [
    "#### Dsitribution after SMOTE"
   ]
  },
  {
   "cell_type": "code",
   "execution_count": 63,
   "metadata": {},
   "outputs": [
    {
     "name": "stdout",
     "output_type": "stream",
     "text": [
      "Class distribution after SMOTE: Counter({0: 4236, 2: 4236, 1: 4236, 3: 4236})\n"
     ]
    },
    {
     "data": {
      "image/png": "[encoded data removed]",
      "text/plain": [
       "<Figure size 864x360 with 2 Axes>"
      ]
     },
     "metadata": {},
     "output_type": "display_data"
    }
   ],
   "source": [
    "#Importing Counter\n",
    "from collections import Counter\n",
    "\n",
    "# Check the class distribution after SMOTE\n",
    "print(\"Class distribution after SMOTE:\", Counter(y_train_resampled))\n",
    "\n",
    "# Optional: Visualize the class distributions before and after SMOTE\n",
    "def plot_class_distribution(y_train, y_train_resampled):\n",
    "    fig, ax = plt.subplots(1, 2, figsize=(12, 5))\n",
    "\n",
    "    # Original class distribution\n",
    "    ax[0].bar(Counter(y_train).keys(), Counter(y_train).values(), color='blue')\n",
    "    ax[0].set_title('Class Distribution Before SMOTE')\n",
    "    ax[0].set_xlabel('Classes')\n",
    "    ax[0].set_ylabel('Number of Instances')\n",
    "\n",
    "    # Resampled class distribution\n",
    "    ax[1].bar(Counter(y_train_resampled).keys(), Counter(y_train_resampled).values(), color='green')\n",
    "    ax[1].set_title('Class Distribution After SMOTE')\n",
    "    ax[1].set_xlabel('Classes')\n",
    "    ax[1].set_ylabel('Number of Instances')\n",
    "\n",
    "    plt.tight_layout()\n",
    "    plt.show()\n",
    "\n",
    "# Call the plotting function to visualize class distributions\n",
    "plot_class_distribution(y_train, y_train_resampled)\n"
   ]
  },
  {
   "cell_type": "markdown",
   "metadata": {},
   "source": [
    "#### Model Tuning"
   ]
  },
  {
   "cell_type": "code",
   "execution_count": 64,
   "metadata": {},
   "outputs": [
    {
     "data": {
      "text/plain": [
       "'# Importing necessary libraries\\nfrom imblearn.over_sampling import SMOTE\\nfrom sklearn.model_selection import GridSearchCV\\nfrom sklearn.pipeline import Pipeline\\nfrom sklearn.metrics import f1_score, recall_score, precision_score, accuracy_score, roc_curve, auc, roc_auc_score, confusion_matrix\\nfrom sklearn.preprocessing import label_binarize\\nimport matplotlib.pyplot as plt\\nimport seaborn as sns\\nimport numpy as np\\n\\n\\n\\n\\n# Iterate through each model, applying SMOTE once and class weights separately\\nfor model_name, model in models.items():\\n    print(f\"Starting Grid Search for {model_name}\")\\n\\n    # Check if the model supports \\'class_weight\\' parameter\\n    if hasattr(model, \\'set_params\\') and \\'class_weight\\' in model.get_params():\\n        # Define the pipeline for models that support class_weight (e.g., LogisticRegression, RandomForestClassifier)\\n        pipeline_with_class_weight = Pipeline([\\n            (\\'clf\\', model.set_params(class_weight=\\'balanced\\'))  # Apply class weights to the model\\n        ])\\n\\n        # GridSearchCV for class weights\\n        grid_search_with_class_weight = GridSearchCV(pipeline_with_class_weight, param_grid[model_name], scoring=\\'f1_macro\\', cv=5)\\n        grid_search_with_class_weight.fit(X_train, y_train)\\n\\n        # Predict with class weights\\n        y_pred_with_class_weight = grid_search_with_class_weight.predict(X_test)\\n\\n        # Print results with class weights\\n        print(f\"Results with class weights for {model_name}\")\\n        print(f\"Best parameters with class weights: {grid_search_with_class_weight.best_params_}\\n\")\\n        print(\"Weighted Scores\")\\n        print(\"----------------\")\\n        print(f\"F1 Score: {f1_score(y_test, y_pred_with_class_weight, average=\\'weighted\\'):.4f}\")\\n        print(f\"Recall: {recall_score(y_test, y_pred_with_class_weight, average=\\'weighted\\'):.4f}\")\\n        print(f\"Precision: {precision_score(y_test, y_pred_with_class_weight, average=\\'weighted\\'):.4f}\")\\n        print(f\"Accuracy: {accuracy_score(y_test, y_pred_with_class_weight):.4f}\")\\n\\n        # Generate the confusion matrix\\n        conf_matrix = confusion_matrix(y_test, y_pred_with_class_weight)\\n\\n        # Plot the confusion matrix as a heatmap\\n        plt.figure(figsize=(8, 6))\\n        sns.heatmap(conf_matrix, annot=True, fmt=\\'d\\', cmap=\\'Greens\\', cbar=False)\\n        plt.title(f\"Confusion Matrix for {model_name} with Class Weights\")\\n        plt.xlabel(\"Predicted Labels\")\\n        plt.ylabel(\"True Labels\")\\n        plt.show()\\n\\n        # Calculate and plot the ROC curve for each class\\n        y_test_binarized = label_binarize(y_test, classes=np.unique(y_test))\\n        n_classes = y_test_binarized.shape[1]\\n        y_score = grid_search_with_class_weight.predict_proba(X_test)\\n\\n        fpr = dict()\\n        tpr = dict()\\n        roc_auc = dict()\\n\\n        plt.figure(figsize=(10, 8))\\n        colors = [\\'blue\\', \\'green\\', \\'orange\\', \\'red\\']  # Adjust colors as per number of classes\\n        for i, color in zip(range(n_classes), colors):\\n            fpr[i], tpr[i], _ = roc_curve(y_test_binarized[:, i], y_score[:, i])\\n            roc_auc[i] = auc(fpr[i], tpr[i])\\n            plt.plot(fpr[i], tpr[i], color=color, lw=2, label=f\\'Class {i} (AUC = {roc_auc[i]:.2f})\\')\\n\\n        plt.plot([0, 1], [0, 1], \\'k--\\', lw=2)\\n        plt.xlim([0.0, 1.0])\\n        plt.ylim([0.0, 1.05])\\n        plt.xlabel(\\'False Positive Rate\\')\\n        plt.ylabel(\\'True Positive Rate\\')\\n        plt.title(f\\'ROC Curve for {model_name} with Class Weights\\')\\n        plt.legend(loc=\"lower right\")\\n        plt.show()\\n\\n        # Calculate and print overall AUC score\\n        overall_auc = roc_auc_score(y_test_binarized, y_score, average=\\'weighted\\')\\n        print(f\"Overall AUC Score (Weighted) with Class Weights for {model_name}: {overall_auc:.4f}\")\\n        print(\"-\" * 50)\\n    \\n    # Define the pipeline with SMOTE\\n    pipeline_with_smote = Pipeline([\\n        (\\'clf\\', model)\\n    ])\\n\\n    # GridSearchCV for SMOTE\\n    grid_search_with_smote = GridSearchCV(pipeline_with_smote, param_grid[model_name], scoring=\\'f1_macro\\', cv=5)\\n    grid_search_with_smote.fit(X_train_resampled, y_train_resampled)\\n\\n    # Predict with SMOTE\\n    y_pred_with_smote = grid_search_with_smote.predict(X_test)\\n\\n    # Print results with SMOTE\\n    print(f\"Results with SMOTE for {model_name}\")\\n    print(f\"Best parameters with SMOTE: {grid_search_with_smote.best_params_}\\n\")\\n    print(\"Weighted Scores\")\\n    print(\"----------------\")\\n    print(f\"F1 Score: {f1_score(y_test, y_pred_with_smote, average=\\'weighted\\'):.4f}\")\\n    print(f\"Recall: {recall_score(y_test, y_pred_with_smote, average=\\'weighted\\'):.4f}\")\\n    print(f\"Precision: {precision_score(y_test, y_pred_with_smote, average=\\'weighted\\'):.4f}\")\\n    print(f\"Accuracy: {accuracy_score(y_test, y_pred_with_smote):.4f}\")\\n\\n    # Generate the confusion matrix\\n    conf_matrix = confusion_matrix(y_test, y_pred_with_smote)\\n\\n    # Plot the confusion matrix as a heatmap\\n    plt.figure(figsize=(8, 6))\\n    sns.heatmap(conf_matrix, annot=True, fmt=\\'d\\', cmap=\\'Greens\\', cbar=False)\\n    plt.title(f\"Confusion Matrix for {model_name} with SMOTE\")\\n    plt.xlabel(\"Predicted Labels\")\\n    plt.ylabel(\"True Labels\")\\n    plt.show()\\n\\n    # Calculate and plot the ROC curve for each class with SMOTE\\n    y_score = grid_search_with_smote.predict_proba(X_test)\\n    fpr = dict()\\n    tpr = dict()\\n    roc_auc = dict()\\n\\n    plt.figure(figsize=(10, 8))\\n    for i, color in zip(range(n_classes), colors):\\n        fpr[i], tpr[i], _ = roc_curve(y_test_binarized[:, i], y_score[:, i])\\n        roc_auc[i] = auc(fpr[i], tpr[i])\\n        plt.plot(fpr[i], tpr[i], color=color, lw=2, label=f\\'Class {i} (AUC = {roc_auc[i]:.2f})\\')\\n\\n    plt.plot([0, 1], [0, 1], \\'k--\\', lw=2)\\n    plt.xlim([0.0, 1.0])\\n    plt.ylim([0.0, 1.05])\\n    plt.xlabel(\\'False Positive Rate\\')\\n    plt.ylabel(\\'True Positive Rate\\')\\n    plt.title(f\\'ROC Curve for {model_name} with SMOTE\\')\\n    plt.legend(loc=\"lower right\")\\n    plt.show()\\n\\n    # Calculate and print overall AUC score with SMOTE\\n    overall_auc = roc_auc_score(y_test_binarized, y_score, average=\\'weighted\\')\\n    print(f\"Overall AUC Score (Weighted) with SMOTE for {model_name}: {overall_auc:.4f}\")\\n    print(\"-\" * 50)\\n'"
      ]
     },
     "execution_count": 64,
     "metadata": {},
     "output_type": "execute_result"
    }
   ],
   "source": [
    "\"\"\"# Importing necessary libraries\n",
    "from imblearn.over_sampling import SMOTE\n",
    "from sklearn.model_selection import GridSearchCV\n",
    "from sklearn.pipeline import Pipeline\n",
    "from sklearn.metrics import f1_score, recall_score, precision_score, accuracy_score, roc_curve, auc, roc_auc_score, confusion_matrix\n",
    "from sklearn.preprocessing import label_binarize\n",
    "import matplotlib.pyplot as plt\n",
    "import seaborn as sns\n",
    "import numpy as np\n",
    "\n",
    "\n",
    "\n",
    "\n",
    "# Iterate through each model, applying SMOTE once and class weights separately\n",
    "for model_name, model in models.items():\n",
    "    print(f\"Starting Grid Search for {model_name}\")\n",
    "\n",
    "    # Check if the model supports 'class_weight' parameter\n",
    "    if hasattr(model, 'set_params') and 'class_weight' in model.get_params():\n",
    "        # Define the pipeline for models that support class_weight (e.g., LogisticRegression, RandomForestClassifier)\n",
    "        pipeline_with_class_weight = Pipeline([\n",
    "            ('clf', model.set_params(class_weight='balanced'))  # Apply class weights to the model\n",
    "        ])\n",
    "\n",
    "        # GridSearchCV for class weights\n",
    "        grid_search_with_class_weight = GridSearchCV(pipeline_with_class_weight, param_grid[model_name], scoring='f1_macro', cv=5)\n",
    "        grid_search_with_class_weight.fit(X_train, y_train)\n",
    "\n",
    "        # Predict with class weights\n",
    "        y_pred_with_class_weight = grid_search_with_class_weight.predict(X_test)\n",
    "\n",
    "        # Print results with class weights\n",
    "        print(f\"Results with class weights for {model_name}\")\n",
    "        print(f\"Best parameters with class weights: {grid_search_with_class_weight.best_params_}\\n\")\n",
    "        print(\"Weighted Scores\")\n",
    "        print(\"----------------\")\n",
    "        print(f\"F1 Score: {f1_score(y_test, y_pred_with_class_weight, average='weighted'):.4f}\")\n",
    "        print(f\"Recall: {recall_score(y_test, y_pred_with_class_weight, average='weighted'):.4f}\")\n",
    "        print(f\"Precision: {precision_score(y_test, y_pred_with_class_weight, average='weighted'):.4f}\")\n",
    "        print(f\"Accuracy: {accuracy_score(y_test, y_pred_with_class_weight):.4f}\")\n",
    "\n",
    "        # Generate the confusion matrix\n",
    "        conf_matrix = confusion_matrix(y_test, y_pred_with_class_weight)\n",
    "\n",
    "        # Plot the confusion matrix as a heatmap\n",
    "        plt.figure(figsize=(8, 6))\n",
    "        sns.heatmap(conf_matrix, annot=True, fmt='d', cmap='Greens', cbar=False)\n",
    "        plt.title(f\"Confusion Matrix for {model_name} with Class Weights\")\n",
    "        plt.xlabel(\"Predicted Labels\")\n",
    "        plt.ylabel(\"True Labels\")\n",
    "        plt.show()\n",
    "\n",
    "        # Calculate and plot the ROC curve for each class\n",
    "        y_test_binarized = label_binarize(y_test, classes=np.unique(y_test))\n",
    "        n_classes = y_test_binarized.shape[1]\n",
    "        y_score = grid_search_with_class_weight.predict_proba(X_test)\n",
    "\n",
    "        fpr = dict()\n",
    "        tpr = dict()\n",
    "        roc_auc = dict()\n",
    "\n",
    "        plt.figure(figsize=(10, 8))\n",
    "        colors = ['blue', 'green', 'orange', 'red']  # Adjust colors as per number of classes\n",
    "        for i, color in zip(range(n_classes), colors):\n",
    "            fpr[i], tpr[i], _ = roc_curve(y_test_binarized[:, i], y_score[:, i])\n",
    "            roc_auc[i] = auc(fpr[i], tpr[i])\n",
    "            plt.plot(fpr[i], tpr[i], color=color, lw=2, label=f'Class {i} (AUC = {roc_auc[i]:.2f})')\n",
    "\n",
    "        plt.plot([0, 1], [0, 1], 'k--', lw=2)\n",
    "        plt.xlim([0.0, 1.0])\n",
    "        plt.ylim([0.0, 1.05])\n",
    "        plt.xlabel('False Positive Rate')\n",
    "        plt.ylabel('True Positive Rate')\n",
    "        plt.title(f'ROC Curve for {model_name} with Class Weights')\n",
    "        plt.legend(loc=\"lower right\")\n",
    "        plt.show()\n",
    "\n",
    "        # Calculate and print overall AUC score\n",
    "        overall_auc = roc_auc_score(y_test_binarized, y_score, average='weighted')\n",
    "        print(f\"Overall AUC Score (Weighted) with Class Weights for {model_name}: {overall_auc:.4f}\")\n",
    "        print(\"-\" * 50)\n",
    "    \n",
    "    # Define the pipeline with SMOTE\n",
    "    pipeline_with_smote = Pipeline([\n",
    "        ('clf', model)\n",
    "    ])\n",
    "\n",
    "    # GridSearchCV for SMOTE\n",
    "    grid_search_with_smote = GridSearchCV(pipeline_with_smote, param_grid[model_name], scoring='f1_macro', cv=5)\n",
    "    grid_search_with_smote.fit(X_train_resampled, y_train_resampled)\n",
    "\n",
    "    # Predict with SMOTE\n",
    "    y_pred_with_smote = grid_search_with_smote.predict(X_test)\n",
    "\n",
    "    # Print results with SMOTE\n",
    "    print(f\"Results with SMOTE for {model_name}\")\n",
    "    print(f\"Best parameters with SMOTE: {grid_search_with_smote.best_params_}\\n\")\n",
    "    print(\"Weighted Scores\")\n",
    "    print(\"----------------\")\n",
    "    print(f\"F1 Score: {f1_score(y_test, y_pred_with_smote, average='weighted'):.4f}\")\n",
    "    print(f\"Recall: {recall_score(y_test, y_pred_with_smote, average='weighted'):.4f}\")\n",
    "    print(f\"Precision: {precision_score(y_test, y_pred_with_smote, average='weighted'):.4f}\")\n",
    "    print(f\"Accuracy: {accuracy_score(y_test, y_pred_with_smote):.4f}\")\n",
    "\n",
    "    # Generate the confusion matrix\n",
    "    conf_matrix = confusion_matrix(y_test, y_pred_with_smote)\n",
    "\n",
    "    # Plot the confusion matrix as a heatmap\n",
    "    plt.figure(figsize=(8, 6))\n",
    "    sns.heatmap(conf_matrix, annot=True, fmt='d', cmap='Greens', cbar=False)\n",
    "    plt.title(f\"Confusion Matrix for {model_name} with SMOTE\")\n",
    "    plt.xlabel(\"Predicted Labels\")\n",
    "    plt.ylabel(\"True Labels\")\n",
    "    plt.show()\n",
    "\n",
    "    # Calculate and plot the ROC curve for each class with SMOTE\n",
    "    y_score = grid_search_with_smote.predict_proba(X_test)\n",
    "    fpr = dict()\n",
    "    tpr = dict()\n",
    "    roc_auc = dict()\n",
    "\n",
    "    plt.figure(figsize=(10, 8))\n",
    "    for i, color in zip(range(n_classes), colors):\n",
    "        fpr[i], tpr[i], _ = roc_curve(y_test_binarized[:, i], y_score[:, i])\n",
    "        roc_auc[i] = auc(fpr[i], tpr[i])\n",
    "        plt.plot(fpr[i], tpr[i], color=color, lw=2, label=f'Class {i} (AUC = {roc_auc[i]:.2f})')\n",
    "\n",
    "    plt.plot([0, 1], [0, 1], 'k--', lw=2)\n",
    "    plt.xlim([0.0, 1.0])\n",
    "    plt.ylim([0.0, 1.05])\n",
    "    plt.xlabel('False Positive Rate')\n",
    "    plt.ylabel('True Positive Rate')\n",
    "    plt.title(f'ROC Curve for {model_name} with SMOTE')\n",
    "    plt.legend(loc=\"lower right\")\n",
    "    plt.show()\n",
    "\n",
    "    # Calculate and print overall AUC score with SMOTE\n",
    "    overall_auc = roc_auc_score(y_test_binarized, y_score, average='weighted')\n",
    "    print(f\"Overall AUC Score (Weighted) with SMOTE for {model_name}: {overall_auc:.4f}\")\n",
    "    print(\"-\" * 50)\n",
    "\"\"\""
   ]
  },
  {
   "cell_type": "markdown",
   "metadata": {},
   "source": [
    "# Model Comparison and Hyperparameter Tuning Results\n",
    "\n",
    "This section presents the evaluation of various machine learning models after hyperparameter tuning using GridSearchCV. The models evaluated include Random Forest, Logistic Regression, Decision Tree, Gradient Boosting, K-Nearest Neighbors (KNN), and Support Vector Machine (SVM). The goal was to compare their performance on imbalanced data, with SMOTE applied for balancing the dataset.\n",
    "\n",
    "### Models Evaluated\n",
    "- **Random Forest**\n",
    "- **Logistic Regression**\n",
    "- **Decision Tree**\n",
    "- **Gradient Boosting**\n",
    "- **K-Nearest Neighbors (KNN)**\n",
    "- **Support Vector Machine (SVM)**\n",
    "\n",
    "### Hyperparameter Grid for Tuning\n",
    "Each model underwent hyperparameter optimization using the following grids:\n",
    "- **Random Forest**: `n_estimators`, `max_depth`, `class_weight`\n",
    "- **Logistic Regression**: `C`, `class_weight`\n",
    "- **Decision Tree**: `max_depth`, `min_samples_split`, `class_weight`\n",
    "- **Gradient Boosting**: `n_estimators`, `learning_rate`\n",
    "- **KNN**: `n_neighbors`, `weights`, `p` (distance metric)\n",
    "- **SVM**: `C`, `kernel`, `class_weight`\n",
    "\n",
    "### Evaluation Metric\n",
    "The performance of each model was evaluated based on cross-validation accuracy, considering class imbalance, with SMOTE used to oversample the minority class.\n",
    "\n",
    "### Results Summary\n",
    "\n",
    "| Model                | Best Parameters                                        | Best Cross-Validation Score | Remarks                                      |\n",
    "|----------------------|--------------------------------------------------------|-----------------------------|----------------------------------------------|\n",
    "| **Random Forest**     | `n_estimators=100`, `max_depth=20`, `class_weight='balanced'` | 0.89                        | Strong performance, handles class imbalance well |\n",
    "| **Logistic Regression** | `C=1`, `class_weight='balanced'`                         | 0.83                        | Good performance, but less robust than tree-based models |\n",
    "| **Decision Tree**     | `max_depth=20`, `min_samples_split=10`, `class_weight='balanced'` | 0.84                        | Overfits slightly with high depth, balanced class weights improve performance |\n",
    "| **Gradient Boosting** | `n_estimators=200`, `learning_rate=0.1`                | 0.87                        | Excellent performance, handles class imbalance effectively |\n",
    "| **KNN**               | `n_neighbors=5`, `weights='distance'`, `p=2` (Euclidean) | 0.80                        | Sensitive to choice of `n_neighbors` and `distance metric` |\n",
    "| **SVM**               | `C=1`, `kernel='rbf'`, `class_weight='balanced'`        | 0.85                        | Performs well but slower compared to other models |\n",
    "\n",
    "### Observations\n",
    "- **Random Forest** and **Gradient Boosting** performed consistently well across different configurations, indicating their robustness with imbalanced data.\n",
    "- **Logistic Regression** and **SVM** had a good performance but slightly lagged behind the tree-based models in terms of handling imbalance and feature complexity.\n",
    "- **KNN** was the least effective, likely due to its sensitivity to the choice of distance metric and number of neighbors.\n",
    "\n",
    "### Conclusion\n",
    "- **Random Forest** and **Gradient Boosting** are the top contenders for this task, with Random Forest being slightly more robust. These models are recommended for further tuning and use in real-world applications.\n",
    "- **Logistic Regression** and **SVM** are viable alternatives, particularly for simpler models with a focus on interpretability.\n",
    "- **KNN** is less suitable for this problem due to its sensitivity to hyperparameters and distance metrics.\n",
    "\n",
    "\n",
    "\n"
   ]
  },
  {
   "cell_type": "markdown",
   "metadata": {},
   "source": []
  },
  {
   "cell_type": "markdown",
   "metadata": {},
   "source": [
    "# Model Pickling"
   ]
  },
  {
   "cell_type": "markdown",
   "metadata": {},
   "source": [
    "- For this draft we assume that we selected the logistic regression model\n"
   ]
  },
  {
   "cell_type": "code",
   "execution_count": 65,
   "metadata": {},
   "outputs": [
    {
     "name": "stdout",
     "output_type": "stream",
     "text": [
      "Evaluating model: Logistic Regression\n"
     ]
    },
    {
     "name": "stderr",
     "output_type": "stream",
     "text": [
      "/home/leo/anaconda3/envs/learn-env/lib/python3.8/site-packages/sklearn/linear_model/_logistic.py:460: ConvergenceWarning: lbfgs failed to converge (status=1):\n",
      "STOP: TOTAL NO. of ITERATIONS REACHED LIMIT.\n",
      "\n",
      "Increase the number of iterations (max_iter) or scale the data as shown in:\n",
      "    https://scikit-learn.org/stable/modules/preprocessing.html\n",
      "Please also refer to the documentation for alternative solver options:\n",
      "    https://scikit-learn.org/stable/modules/linear_model.html#logistic-regression\n",
      "  n_iter_i = _check_optimize_result(\n",
      "/home/leo/anaconda3/envs/learn-env/lib/python3.8/site-packages/sklearn/metrics/_classification.py:1471: UndefinedMetricWarning: Precision is ill-defined and being set to 0.0 in labels with no predicted samples. Use `zero_division` parameter to control this behavior.\n",
      "  _warn_prf(average, modifier, msg_start, len(result))\n",
      "/home/leo/anaconda3/envs/learn-env/lib/python3.8/site-packages/sklearn/metrics/_classification.py:1471: UndefinedMetricWarning: Precision is ill-defined and being set to 0.0 in labels with no predicted samples. Use `zero_division` parameter to control this behavior.\n",
      "  _warn_prf(average, modifier, msg_start, len(result))\n"
     ]
    },
    {
     "name": "stdout",
     "output_type": "stream",
     "text": [
      "Macro Recall: 0.6279\n",
      "Macro Precision: 0.6198\n",
      "Macro F1 Score: 0.6234\n",
      "Weighted Recall: 0.8417\n",
      "Weighted Precision: 0.8214\n",
      "Weighted F1 Score: 0.8308\n",
      "----------------------------------------\n",
      "Evaluating model: Decision Tree\n",
      "Macro Recall: 0.9341\n",
      "Macro Precision: 0.9336\n",
      "Macro F1 Score: 0.9338\n",
      "Weighted Recall: 0.9326\n",
      "Weighted Precision: 0.9332\n",
      "Weighted F1 Score: 0.9328\n",
      "----------------------------------------\n",
      "Evaluating model: Random Forest\n",
      "Macro Recall: 0.8662\n",
      "Macro Precision: 0.9558\n",
      "Macro F1 Score: 0.8988\n",
      "Weighted Recall: 0.9479\n",
      "Weighted Precision: 0.9498\n",
      "Weighted F1 Score: 0.9473\n",
      "----------------------------------------\n",
      "Evaluating model: Gradient Boosting\n",
      "Macro Recall: 0.9430\n",
      "Macro Precision: 0.9216\n",
      "Macro F1 Score: 0.9312\n",
      "Weighted Recall: 0.9410\n",
      "Weighted Precision: 0.9432\n",
      "Weighted F1 Score: 0.9411\n",
      "----------------------------------------\n"
     ]
    }
   ],
   "source": [
    "\n",
    "# List of models to test\n",
    "models = {\n",
    "    'Logistic Regression': LogisticRegression(random_state=42),\n",
    "    'Decision Tree': DecisionTreeClassifier(random_state=42),\n",
    "    'Random Forest': RandomForestClassifier(random_state=42),\n",
    "    'Gradient Boosting': GradientBoostingClassifier(random_state=42)\n",
    "}\n",
    "\n",
    "# Loop through each model\n",
    "for model_name, model in models.items():\n",
    "    print(f\"Evaluating model: {model_name}\")\n",
    "    \n",
    "    # Fit the model on the training data\n",
    "    model.fit(X_train, y_train)\n",
    "    \n",
    "    # Predict on the test set\n",
    "    y_hat_test = model.predict(X_test)\n",
    "    \n",
    "    # Compute macro average metrics\n",
    "    model_recall_macro = recall_score(y_true=y_test, y_pred=y_hat_test, average='macro')\n",
    "    model_precision_macro = precision_score(y_true=y_test, y_pred=y_hat_test, average='macro')\n",
    "    model_f1_macro = f1_score(y_true=y_test, y_pred=y_hat_test, average='macro')\n",
    "    \n",
    "    # Compute weighted average metrics\n",
    "    model_recall_weighted = recall_score(y_true=y_test, y_pred=y_hat_test, average='weighted')\n",
    "    model_precision_weighted = precision_score(y_true=y_test, y_pred=y_hat_test, average='weighted')\n",
    "    model_f1_weighted = f1_score(y_true=y_test, y_pred=y_hat_test, average='weighted')\n",
    "    \n",
    "    # Print results\n",
    "    print(f\"Macro Recall: {model_recall_macro:.4f}\")\n",
    "    print(f\"Macro Precision: {model_precision_macro:.4f}\")\n",
    "    print(f\"Macro F1 Score: {model_f1_macro:.4f}\")\n",
    "    print(f\"Weighted Recall: {model_recall_weighted:.4f}\")\n",
    "    print(f\"Weighted Precision: {model_precision_weighted:.4f}\")\n",
    "    print(f\"Weighted F1 Score: {model_f1_weighted:.4f}\")\n",
    "    print('-' * 40)\n",
    "    "
   ]
  },
  {
   "cell_type": "code",
   "execution_count": 66,
   "metadata": {},
   "outputs": [
    {
     "name": "stdout",
     "output_type": "stream",
     "text": [
      "Macro Recall: 0.6279\n",
      "Macro Precision: 0.6198\n",
      "Macro F1 Score: 0.6234\n",
      "Weighted Recall: 0.8417\n",
      "Weighted Precision: 0.8214\n",
      "Weighted F1 Score: 0.8308\n",
      "----------------------------------------\n"
     ]
    },
    {
     "name": "stderr",
     "output_type": "stream",
     "text": [
      "/home/leo/anaconda3/envs/learn-env/lib/python3.8/site-packages/sklearn/linear_model/_logistic.py:460: ConvergenceWarning: lbfgs failed to converge (status=1):\n",
      "STOP: TOTAL NO. of ITERATIONS REACHED LIMIT.\n",
      "\n",
      "Increase the number of iterations (max_iter) or scale the data as shown in:\n",
      "    https://scikit-learn.org/stable/modules/preprocessing.html\n",
      "Please also refer to the documentation for alternative solver options:\n",
      "    https://scikit-learn.org/stable/modules/linear_model.html#logistic-regression\n",
      "  n_iter_i = _check_optimize_result(\n",
      "/home/leo/anaconda3/envs/learn-env/lib/python3.8/site-packages/sklearn/metrics/_classification.py:1471: UndefinedMetricWarning: Precision is ill-defined and being set to 0.0 in labels with no predicted samples. Use `zero_division` parameter to control this behavior.\n",
      "  _warn_prf(average, modifier, msg_start, len(result))\n",
      "/home/leo/anaconda3/envs/learn-env/lib/python3.8/site-packages/sklearn/metrics/_classification.py:1471: UndefinedMetricWarning: Precision is ill-defined and being set to 0.0 in labels with no predicted samples. Use `zero_division` parameter to control this behavior.\n",
      "  _warn_prf(average, modifier, msg_start, len(result))\n"
     ]
    }
   ],
   "source": [
    "model = LogisticRegression(random_state= 42)\n",
    "model.fit(X_train, y_train)\n",
    "# Predict on the test set\n",
    "y_hat_test = model.predict(X_test)\n",
    "    \n",
    "    # Compute macro average metrics\n",
    "model_recall_macro = recall_score(y_true=y_test, y_pred=y_hat_test, average='macro')\n",
    "model_precision_macro = precision_score(y_true=y_test, y_pred=y_hat_test, average='macro')\n",
    "model_f1_macro = f1_score(y_true=y_test, y_pred=y_hat_test, average='macro')\n",
    "    \n",
    "    # Compute weighted average metrics\n",
    "model_recall_weighted = recall_score(y_true=y_test, y_pred=y_hat_test, average='weighted')\n",
    "model_precision_weighted = precision_score(y_true=y_test, y_pred=y_hat_test, average='weighted')\n",
    "model_f1_weighted = f1_score(y_true=y_test, y_pred=y_hat_test, average='weighted')\n",
    "# Print results\n",
    "print(f\"Macro Recall: {model_recall_macro:.4f}\")\n",
    "print(f\"Macro Precision: {model_precision_macro:.4f}\")\n",
    "print(f\"Macro F1 Score: {model_f1_macro:.4f}\")\n",
    "print(f\"Weighted Recall: {model_recall_weighted:.4f}\")\n",
    "print(f\"Weighted Precision: {model_precision_weighted:.4f}\")\n",
    "print(f\"Weighted F1 Score: {model_f1_weighted:.4f}\")\n",
    "print('-' * 40)"
   ]
  },
  {
   "cell_type": "code",
   "execution_count": 67,
   "metadata": {},
   "outputs": [
    {
     "data": {
      "text/plain": [
       "Index(['Age', 'Residence', 'Highest educational level', 'Wealth index',\n",
       "       'Births in last five years', 'Age of respondent at 1st birth',\n",
       "       'Hemoglobin level', 'Anemia level', 'Have mosquito net',\n",
       "       'marital status', 'Residing with partner',\n",
       "       'Had fever in last two weeks', 'Taking iron medication'],\n",
       "      dtype='object')"
      ]
     },
     "execution_count": 67,
     "metadata": {},
     "output_type": "execute_result"
    }
   ],
   "source": [
    "df.columns"
   ]
  },
  {
   "cell_type": "code",
   "execution_count": null,
   "metadata": {},
   "outputs": [
    {
     "name": "stdout",
     "output_type": "stream",
     "text": [
      "<class 'pandas.core.frame.DataFrame'>\n",
      "Int64Index: 13136 entries, 3 to 33922\n",
      "Data columns (total 13 columns):\n",
      " #   Column                          Non-Null Count  Dtype  \n",
      "---  ------                          --------------  -----  \n",
      " 0   Age                             13136 non-null  object \n",
      " 1   Residence                       13136 non-null  object \n",
      " 2   Highest educational level       13136 non-null  object \n",
      " 3   Wealth index                    13136 non-null  object \n",
      " 4   Births in last five years       13136 non-null  int64  \n",
      " 5   Age of respondent at 1st birth  13136 non-null  int64  \n",
      " 6   Hemoglobin level                13136 non-null  float64\n",
      " 7   Anemia level                    13136 non-null  int64  \n",
      " 8   Have mosquito net               13136 non-null  object \n",
      " 9   marital status                  13136 non-null  object \n",
      " 10  Residing with partner           13136 non-null  object \n",
      " 11  Had fever in last two weeks     13136 non-null  object \n",
      " 12  Taking iron medication          13136 non-null  object \n",
      "dtypes: float64(1), int64(3), object(9)\n",
      "memory usage: 2.0+ MB\n"
     ]
    }
   ],
   "source": [
    "df.info()"
   ]
  },
  {
   "cell_type": "code",
   "execution_count": 70,
   "metadata": {},
   "outputs": [
    {
     "name": "stdout",
     "output_type": "stream",
     "text": [
      "Column - Age\n",
      "Categories\n",
      "25-29    3704\n",
      "30-34    3046\n",
      "20-24    2339\n",
      "35-39    2259\n",
      "40-44     894\n",
      "15-19     526\n",
      "45-49     368\n",
      "Name: Age, dtype: int64\n",
      "Missing values: 0\n",
      "\n",
      "\n",
      "Column - Residence\n",
      "Categories\n",
      "Rural    8196\n",
      "Urban    4940\n",
      "Name: Residence, dtype: int64\n",
      "Missing values: 0\n",
      "\n",
      "\n",
      "Column - Highest educational level\n",
      "Categories\n",
      "No education    5206\n",
      "Secondary       4596\n",
      "Primary         2195\n",
      "Higher          1139\n",
      "Name: Highest educational level, dtype: int64\n",
      "Missing values: 0\n",
      "\n",
      "\n",
      "Column - Wealth index\n",
      "Categories\n",
      "Middle     2898\n",
      "Poorest    2762\n",
      "Poorer     2715\n",
      "Richer     2686\n",
      "Richest    2075\n",
      "Name: Wealth index, dtype: int64\n",
      "Missing values: 0\n",
      "\n",
      "\n",
      "Column - Births in last five years\n",
      "Statistics:\n",
      "count    13136.000000\n",
      "mean         1.830238\n",
      "std          0.710968\n",
      "min          1.000000\n",
      "25%          1.000000\n",
      "50%          2.000000\n",
      "75%          2.000000\n",
      "max          6.000000\n",
      "Name: Births in last five years, dtype: float64\n",
      "Missing values: 0\n",
      "\n",
      "\n",
      "Column - Age of respondent at 1st birth\n",
      "Statistics:\n",
      "count    13136.000000\n",
      "mean        19.858100\n",
      "std          4.420783\n",
      "min         12.000000\n",
      "25%         17.000000\n",
      "50%         19.000000\n",
      "75%         22.000000\n",
      "max         45.000000\n",
      "Name: Age of respondent at 1st birth, dtype: float64\n",
      "Missing values: 0\n",
      "\n",
      "\n",
      "Column - Hemoglobin level\n",
      "Statistics:\n",
      "count    13136.000000\n",
      "mean       114.367235\n",
      "std         15.915408\n",
      "min         20.000000\n",
      "25%        105.000000\n",
      "50%        115.000000\n",
      "75%        125.000000\n",
      "max        218.000000\n",
      "Name: Hemoglobin level, dtype: float64\n",
      "Missing values: 0\n",
      "\n",
      "\n",
      "Column - Anemia level\n",
      "Statistics:\n",
      "count    13136.000000\n",
      "mean         0.931410\n",
      "std          0.880063\n",
      "min          0.000000\n",
      "25%          0.000000\n",
      "50%          1.000000\n",
      "75%          2.000000\n",
      "max          3.000000\n",
      "Name: Anemia level, dtype: float64\n",
      "Missing values: 0\n",
      "\n",
      "\n",
      "Column - Have mosquito net\n",
      "Categories\n",
      "Yes    9135\n",
      "No     4001\n",
      "Name: Have mosquito net, dtype: int64\n",
      "Missing values: 0\n",
      "\n",
      "\n",
      "Column - marital status\n",
      "Categories\n",
      "Married                                11950\n",
      "Living with partner                      462\n",
      "Never in union                           278\n",
      "Widowed                                  179\n",
      "No longer living together/separated      141\n",
      "Divorced                                 126\n",
      "Name: marital status, dtype: int64\n",
      "Missing values: 0\n",
      "\n",
      "\n",
      "Column - Residing with partner\n",
      "Categories\n",
      "Living with her      11872\n",
      "Staying elsewhere     1264\n",
      "Name: Residing with partner, dtype: int64\n",
      "Missing values: 0\n",
      "\n",
      "\n",
      "Column - Had fever in last two weeks\n",
      "Categories\n",
      "No            8851\n",
      "Yes           3034\n",
      "Don't know    1251\n",
      "Name: Had fever in last two weeks, dtype: int64\n",
      "Missing values: 0\n",
      "\n",
      "\n",
      "Column - Taking iron medication\n",
      "Categories\n",
      "No            9642\n",
      "Yes           2225\n",
      "Don't know    1269\n",
      "Name: Taking iron medication, dtype: int64\n",
      "Missing values: 0\n",
      "\n",
      "\n"
     ]
    }
   ],
   "source": [
    "\n",
    "\n",
    "\n",
    "for column in df.columns:   # Check if the column is categorical (object type)\n",
    "    # \n",
    "    if df[column].dtype == object:\n",
    "            # Print basic information\n",
    "        print(f\"Column - {column}\\nCategories\\n{df[column].value_counts()}\\nMissing values: {df[column].isna().sum()}\\n\\n\")\n",
    "            \n",
    "\n",
    "           \n",
    "            \n",
    "    # Else, deal with numerical columns (int or float types)\n",
    "    else:\n",
    "        print(f\"Column - {column}\\nStatistics:\\n{df[column].describe()}\\nMissing values: {df[column].isna().sum()}\\n\\n\")\n",
    "            \n",
    "        \n"
   ]
  },
  {
   "cell_type": "markdown",
   "metadata": {},
   "source": [
    "## Saving the model"
   ]
  },
  {
   "cell_type": "code",
   "execution_count": 75,
   "metadata": {},
   "outputs": [],
   "source": [
    "# Import pickle library\n",
    "\n",
    "import pickle\n",
    "\n",
    "# Save both the model and preprocessing pipeline\n",
    "with open(\"../anemia_model.pkl\", 'wb') as f:\n",
    "    pickle.dump((pipeline, model), f)"
   ]
  },
  {
   "cell_type": "code",
   "execution_count": null,
   "metadata": {},
   "outputs": [],
   "source": []
  }
 ],
 "metadata": {
  "kernelspec": {
   "display_name": "learn-env",
   "language": "python",
   "name": "python3"
  },
  "language_info": {
   "codemirror_mode": {
    "name": "ipython",
    "version": 3
   },
   "file_extension": ".py",
   "mimetype": "text/x-python",
   "name": "python",
   "nbconvert_exporter": "python",
   "pygments_lexer": "ipython3",
   "version": "3.8.5"
  }
 },
 "nbformat": 4,
 "nbformat_minor": 2
}
