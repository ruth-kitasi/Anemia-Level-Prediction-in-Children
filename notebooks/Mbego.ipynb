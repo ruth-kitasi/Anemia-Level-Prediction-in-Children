{
 "cells": [
  {
   "cell_type": "markdown",
   "metadata": {},
   "source": [
    "### **Anemia Level Prediction in Children**"
   ]
  },
  {
   "cell_type": "markdown",
   "metadata": {},
   "source": [
    "## Introduction "
   ]
  },
  {
   "cell_type": "markdown",
   "metadata": {},
   "source": [
    "Anemia affects millions of children worldwide, impacting their health, growth, and cognitive development. Early detection is crucial for timely intervention, yet traditional diagnostic methods can be costly, time-consuming, and often inaccessible, especially in low-resource settings. This therefore brings a problem highlighted clearly in the **problem statement** below "
   ]
  },
  {
   "cell_type": "markdown",
   "metadata": {},
   "source": [
    "### Problem Statement\n",
    "\n",
    "Childhood anemia is a critical public health issue,  ([World Health Organisation](https://www.who.int/data/gho/data/themes/topics/anaemia_in_women_and_children#:~:text=In%202019%2C%20global%20anaemia%20prevalence%20was%2039.8%25%20(95%25,UI%2056.6%25%2C%2063.7%25).)), leading to adverse impacts on cognitive and physical development, educational attainment, and overall quality of life. Despite its prevalence, anemia in Nigerian children often goes undiagnosed and untreated due to limited healthcare access, high diagnostic costs, and a lack of awareness about the condition([UNICEF, 2021](https://www.unicef.org/nigeria/reports/childhood-anemia-report)). This situation calls for innovative, accessible approaches to early diagnosis and intervention to reduce the burden of anemia and improve the health outcomes of vulnerable children across Nigeria.In our model we seek to outdo this nightmare, with a combination of machine learning,good featured dataset and data science experts the bussiness statement therefore takes you through an highlight of how this is possible."
   ]
  },
  {
   "cell_type": "code",
   "execution_count": 4,
   "metadata": {},
   "outputs": [
    {
     "data": {
      "text/html": [
       "<img src=\"..\\prevalence.png\" width=\"700\">"
      ],
      "text/plain": [
       "<IPython.core.display.HTML object>"
      ]
     },
     "metadata": {},
     "output_type": "display_data"
    }
   ],
   "source": [
    "from IPython.display import display, HTML\n",
    "\n",
    "display(HTML('<img src=\"..\\prevalence.png\" width=\"700\">'))\n"
   ]
  },
  {
   "cell_type": "markdown",
   "metadata": {},
   "source": [
    "### Business Understanding \n",
    "\n",
    "\n",
    "This project addresses childhood anemia, a significant public health concern that adversely affects cognitive and physical development in children. By analyzing a comprehensive dataset that captures key demographic, health, and socio-economic variables, we aim to identify and mitigate the causes of anemia in diverse communities. The dataset includes age groups ranging from 15 to 49 years, with respondents living in both urban and rural areas. Educational levels span from no education to higher education, while the wealth index is classified from poorest to richest.\n",
    "\n",
    "Key health indicators, including hemoglobin levels, iron supplementation status, and malaria exposure, are crucial for assessing anemia risk (World Health Organization, 2017; Nigerian Ministry of Health, 2018) [(WHO, 2017)](https://www.who.int/publications/i/item/9789241513067). The dataset reveals a range of hemoglobin levels from 20 to 218 g/dL and categorizes anemia into mild, moderate, severe, and not anemic. It also reflects that respondents have had between 1 to 6 births in the last five years, with information on whether children experienced fever in the last two weeks (yes, no, or don’t know) and if they are taking iron supplements (yes, no, or don’t know). Additionally, it examines living conditions, such as the availability of mosquito bed nets and the smoking status of caregivers.\n",
    "\n",
    "This project is crucial for developing targeted interventions tailored to high-risk groups, optimizing resource allocation. It will raise awareness about the importance of proper nutrition and iron intake, empowering families with the knowledge needed to prevent anemia. Community engagement will be a cornerstone of the initiative, fostering a collaborative approach to health and encouraging families to support each other in adopting healthier practices. Ultimately, the goal is to decrease anemia rates among children, leading to better health outcomes, improved school performance, and enhanced quality of life.\n",
    "\n",
    "Key stakeholders include families and caregivers, healthcare providers (such as pediatricians and community health workers), local government and health departments, educational institutions, non-governmental organizations (NGOs), and research and academic institutions that focus on maternal and child health (UNICEF, 2021; Nigerian Ministry of Health, 2018) [(UNICEF, 2021)](https://www.unicef.org/nigeria/reports/childhood-anemia-report). By engaging these stakeholders, the project aims to create a comprehensive approach to combat childhood anemia, ensuring sustainable improvements in child health and nutrition.\n",
    "\n"
   ]
  },
  {
   "cell_type": "markdown",
   "metadata": {},
   "source": [
    "## Objective "
   ]
  },
  {
   "cell_type": "markdown",
   "metadata": {},
   "source": [
    "This project leverages advanced data analytics and machine learning to predict anemia levels in children based on key health indicators. By employing predictive models, we aim to support healthcare providers with fast, reliable insights that help identify children at risk, enabling proactive management and treatment.\n",
    "\n",
    "Here is a list of Objectives that merge for the success of this project \n",
    "\n",
    "1. **Analyze Socioeconomic Factors**  \n",
    "   Investigate the relationship between various socioeconomic factors—such as mother's age, education level, and household wealth index—and anemia levels in children aged 0-59 months.\n",
    "\n",
    "2. **Examine Health Resource Impact**  \n",
    "   Assess the impact of health resources, including the availability of mosquito nets and maternal health indicators (e.g., iron intake, smoking status), on the likelihood of anemia in children.\n",
    "\n",
    "3. **Evaluate Demographic Indicators**  \n",
    "   Determine the predictive power of demographic indicators like residence type and marital status for anemia levels.\n",
    "\n",
    "4. **Formulate Targeted Interventions**  \n",
    "   Develop data-driven recommendations for targeted health interventions to assist policymakers in addressing high-risk demographics and regions."
   ]
  },
  {
   "cell_type": "markdown",
   "metadata": {},
   "source": [
    "Upon completion of the Objectives the project has the following  **Key Benefits**\n",
    "\n",
    "\n",
    "- **Cost-Effective Screening**: Reduces the need for expensive lab tests through accessible data-driven predictions.\n",
    "- **Rapid Decision-Making**: Provides near-instant insights, facilitating quicker diagnosis and intervention.\n",
    "- **Scalable Solution**: Adaptable for use in various healthcare settings, from rural clinics to large hospitals."
   ]
  },
  {
   "cell_type": "markdown",
   "metadata": {},
   "source": [
    "### **A quick summary of How It Works**\n",
    "Utilizing an extensive [Anemia Dataset](./Anemia-Level-Prediction-in-Children\\anemia_dataset.csv)\n",
    " our model assesses various demographic, health, and socio-economic metrics to predict anemia levels accurately.The metrics have been explained in the column description file  This predictive tool empowers healthcare professionals to allocate resources efficiently, prioritize high-risk cases, and enhance patient outcomes."
   ]
  },
  {
   "cell_type": "markdown",
   "metadata": {},
   "source": [
    "### Data Understanding "
   ]
  },
  {
   "cell_type": "markdown",
   "metadata": {},
   "source": [
    "This part is a comprehensive assessment of variables such as hemoglobin levels, age, nutritional factors, and living conditions, as well as a quality check to identify missing values, outliers, and data inconsistencies. By ensuring our data is robust and aligned with the project's goals, we lay the groundwork for building effective models that can accurately predict anemia risk and support better health outcomes for children in at-risk populations.\n",
    "\n",
    "By closely examining our dataset—which includes a variety of demographic, health, and socio-economic indicators—we aim to understand the characteristics and patterns that may signal anemia risk."
   ]
  },
  {
   "cell_type": "markdown",
   "metadata": {},
   "source": [
    "### Data collection \n",
    "\n",
    "where is the from"
   ]
  },
  {
   "cell_type": "markdown",
   "metadata": {},
   "source": [
    "### Data loading"
   ]
  },
  {
   "cell_type": "code",
   "execution_count": 5,
   "metadata": {},
   "outputs": [
    {
     "data": {
      "text/html": [
       "<div>\n",
       "<style scoped>\n",
       "    .dataframe tbody tr th:only-of-type {\n",
       "        vertical-align: middle;\n",
       "    }\n",
       "\n",
       "    .dataframe tbody tr th {\n",
       "        vertical-align: top;\n",
       "    }\n",
       "\n",
       "    .dataframe thead th {\n",
       "        text-align: right;\n",
       "    }\n",
       "</style>\n",
       "<table border=\"1\" class=\"dataframe\">\n",
       "  <thead>\n",
       "    <tr style=\"text-align: right;\">\n",
       "      <th></th>\n",
       "      <th>Age in 5-year groups</th>\n",
       "      <th>Type of place of residence</th>\n",
       "      <th>Highest educational level</th>\n",
       "      <th>Wealth index combined</th>\n",
       "      <th>Births in last five years</th>\n",
       "      <th>Age of respondent at 1st birth</th>\n",
       "      <th>Hemoglobin level adjusted for altitude and smoking (g/dl - 1 decimal)</th>\n",
       "      <th>Anemia level</th>\n",
       "      <th>Have mosquito bed net for sleeping (from household questionnaire)</th>\n",
       "      <th>Smokes cigarettes</th>\n",
       "      <th>Current marital status</th>\n",
       "      <th>Currently residing with husband/partner</th>\n",
       "      <th>When child put to breast</th>\n",
       "      <th>Had fever in last two weeks</th>\n",
       "      <th>Hemoglobin level adjusted for altitude (g/dl - 1 decimal)</th>\n",
       "      <th>Anemia level.1</th>\n",
       "      <th>Taking iron pills, sprinkles or syrup</th>\n",
       "    </tr>\n",
       "  </thead>\n",
       "  <tbody>\n",
       "    <tr>\n",
       "      <th>0</th>\n",
       "      <td>40-44</td>\n",
       "      <td>Urban</td>\n",
       "      <td>Higher</td>\n",
       "      <td>Richest</td>\n",
       "      <td>1</td>\n",
       "      <td>22</td>\n",
       "      <td>NaN</td>\n",
       "      <td>NaN</td>\n",
       "      <td>Yes</td>\n",
       "      <td>No</td>\n",
       "      <td>Living with partner</td>\n",
       "      <td>Staying elsewhere</td>\n",
       "      <td>Immediately</td>\n",
       "      <td>No</td>\n",
       "      <td>NaN</td>\n",
       "      <td>NaN</td>\n",
       "      <td>Yes</td>\n",
       "    </tr>\n",
       "    <tr>\n",
       "      <th>1</th>\n",
       "      <td>35-39</td>\n",
       "      <td>Urban</td>\n",
       "      <td>Higher</td>\n",
       "      <td>Richest</td>\n",
       "      <td>1</td>\n",
       "      <td>28</td>\n",
       "      <td>NaN</td>\n",
       "      <td>NaN</td>\n",
       "      <td>Yes</td>\n",
       "      <td>No</td>\n",
       "      <td>Married</td>\n",
       "      <td>Living with her</td>\n",
       "      <td>Hours: 1</td>\n",
       "      <td>No</td>\n",
       "      <td>NaN</td>\n",
       "      <td>NaN</td>\n",
       "      <td>No</td>\n",
       "    </tr>\n",
       "    <tr>\n",
       "      <th>2</th>\n",
       "      <td>25-29</td>\n",
       "      <td>Urban</td>\n",
       "      <td>Higher</td>\n",
       "      <td>Richest</td>\n",
       "      <td>1</td>\n",
       "      <td>26</td>\n",
       "      <td>NaN</td>\n",
       "      <td>NaN</td>\n",
       "      <td>No</td>\n",
       "      <td>No</td>\n",
       "      <td>Married</td>\n",
       "      <td>Living with her</td>\n",
       "      <td>Immediately</td>\n",
       "      <td>No</td>\n",
       "      <td>NaN</td>\n",
       "      <td>NaN</td>\n",
       "      <td>No</td>\n",
       "    </tr>\n",
       "    <tr>\n",
       "      <th>3</th>\n",
       "      <td>25-29</td>\n",
       "      <td>Urban</td>\n",
       "      <td>Secondary</td>\n",
       "      <td>Richest</td>\n",
       "      <td>1</td>\n",
       "      <td>25</td>\n",
       "      <td>95.0</td>\n",
       "      <td>Moderate</td>\n",
       "      <td>Yes</td>\n",
       "      <td>No</td>\n",
       "      <td>Married</td>\n",
       "      <td>Living with her</td>\n",
       "      <td>105</td>\n",
       "      <td>No</td>\n",
       "      <td>114.0</td>\n",
       "      <td>Not anemic</td>\n",
       "      <td>No</td>\n",
       "    </tr>\n",
       "    <tr>\n",
       "      <th>4</th>\n",
       "      <td>20-24</td>\n",
       "      <td>Urban</td>\n",
       "      <td>Secondary</td>\n",
       "      <td>Richest</td>\n",
       "      <td>1</td>\n",
       "      <td>21</td>\n",
       "      <td>NaN</td>\n",
       "      <td>NaN</td>\n",
       "      <td>Yes</td>\n",
       "      <td>No</td>\n",
       "      <td>No longer living together/separated</td>\n",
       "      <td>NaN</td>\n",
       "      <td>Immediately</td>\n",
       "      <td>No</td>\n",
       "      <td>NaN</td>\n",
       "      <td>NaN</td>\n",
       "      <td>No</td>\n",
       "    </tr>\n",
       "  </tbody>\n",
       "</table>\n",
       "</div>"
      ],
      "text/plain": [
       "  Age in 5-year groups Type of place of residence Highest educational level  \\\n",
       "0                40-44                      Urban                    Higher   \n",
       "1                35-39                      Urban                    Higher   \n",
       "2                25-29                      Urban                    Higher   \n",
       "3                25-29                      Urban                 Secondary   \n",
       "4                20-24                      Urban                 Secondary   \n",
       "\n",
       "  Wealth index combined  Births in last five years  \\\n",
       "0               Richest                          1   \n",
       "1               Richest                          1   \n",
       "2               Richest                          1   \n",
       "3               Richest                          1   \n",
       "4               Richest                          1   \n",
       "\n",
       "   Age of respondent at 1st birth  \\\n",
       "0                              22   \n",
       "1                              28   \n",
       "2                              26   \n",
       "3                              25   \n",
       "4                              21   \n",
       "\n",
       "   Hemoglobin level adjusted for altitude and smoking (g/dl - 1 decimal)  \\\n",
       "0                                                NaN                       \n",
       "1                                                NaN                       \n",
       "2                                                NaN                       \n",
       "3                                               95.0                       \n",
       "4                                                NaN                       \n",
       "\n",
       "  Anemia level  \\\n",
       "0          NaN   \n",
       "1          NaN   \n",
       "2          NaN   \n",
       "3     Moderate   \n",
       "4          NaN   \n",
       "\n",
       "  Have mosquito bed net for sleeping (from household questionnaire)  \\\n",
       "0                                                Yes                  \n",
       "1                                                Yes                  \n",
       "2                                                 No                  \n",
       "3                                                Yes                  \n",
       "4                                                Yes                  \n",
       "\n",
       "  Smokes cigarettes               Current marital status  \\\n",
       "0                No                  Living with partner   \n",
       "1                No                              Married   \n",
       "2                No                              Married   \n",
       "3                No                              Married   \n",
       "4                No  No longer living together/separated   \n",
       "\n",
       "  Currently residing with husband/partner When child put to breast  \\\n",
       "0                       Staying elsewhere              Immediately   \n",
       "1                         Living with her                 Hours: 1   \n",
       "2                         Living with her              Immediately   \n",
       "3                         Living with her                      105   \n",
       "4                                     NaN              Immediately   \n",
       "\n",
       "  Had fever in last two weeks  \\\n",
       "0                          No   \n",
       "1                          No   \n",
       "2                          No   \n",
       "3                          No   \n",
       "4                          No   \n",
       "\n",
       "   Hemoglobin level adjusted for altitude (g/dl - 1 decimal) Anemia level.1  \\\n",
       "0                                                NaN                    NaN   \n",
       "1                                                NaN                    NaN   \n",
       "2                                                NaN                    NaN   \n",
       "3                                              114.0             Not anemic   \n",
       "4                                                NaN                    NaN   \n",
       "\n",
       "  Taking iron pills, sprinkles or syrup  \n",
       "0                                   Yes  \n",
       "1                                    No  \n",
       "2                                    No  \n",
       "3                                    No  \n",
       "4                                    No  "
      ]
     },
     "execution_count": 5,
     "metadata": {},
     "output_type": "execute_result"
    }
   ],
   "source": [
    "import pandas as pd\n",
    "df = pd.read_csv('../anemia_dataset.csv')\n",
    "df.head(5)"
   ]
  },
  {
   "cell_type": "markdown",
   "metadata": {},
   "source": [
    "### Columns info\n",
    "\n",
    "We have loaded our data and we can see what it entails, lets get in a deep dive of what each column represents "
   ]
  },
  {
   "cell_type": "code",
   "execution_count": 6,
   "metadata": {},
   "outputs": [
    {
     "data": {
      "text/html": [
       "<div>\n",
       "<style scoped>\n",
       "    .dataframe tbody tr th:only-of-type {\n",
       "        vertical-align: middle;\n",
       "    }\n",
       "\n",
       "    .dataframe tbody tr th {\n",
       "        vertical-align: top;\n",
       "    }\n",
       "\n",
       "    .dataframe thead th {\n",
       "        text-align: right;\n",
       "    }\n",
       "</style>\n",
       "<table border=\"1\" class=\"dataframe\">\n",
       "  <thead>\n",
       "    <tr style=\"text-align: right;\">\n",
       "      <th></th>\n",
       "      <th>column names</th>\n",
       "    </tr>\n",
       "  </thead>\n",
       "  <tbody>\n",
       "    <tr>\n",
       "      <th>0</th>\n",
       "      <td>Age in 5-year groups</td>\n",
       "    </tr>\n",
       "    <tr>\n",
       "      <th>1</th>\n",
       "      <td>Type of place of residence</td>\n",
       "    </tr>\n",
       "    <tr>\n",
       "      <th>2</th>\n",
       "      <td>Highest educational level</td>\n",
       "    </tr>\n",
       "    <tr>\n",
       "      <th>3</th>\n",
       "      <td>Wealth index combined</td>\n",
       "    </tr>\n",
       "    <tr>\n",
       "      <th>4</th>\n",
       "      <td>Births in last five years</td>\n",
       "    </tr>\n",
       "    <tr>\n",
       "      <th>5</th>\n",
       "      <td>Age of respondent at 1st birth</td>\n",
       "    </tr>\n",
       "    <tr>\n",
       "      <th>6</th>\n",
       "      <td>Hemoglobin level adjusted for altitude and smo...</td>\n",
       "    </tr>\n",
       "    <tr>\n",
       "      <th>7</th>\n",
       "      <td>Anemia level</td>\n",
       "    </tr>\n",
       "    <tr>\n",
       "      <th>8</th>\n",
       "      <td>Have mosquito bed net for sleeping (from house...</td>\n",
       "    </tr>\n",
       "    <tr>\n",
       "      <th>9</th>\n",
       "      <td>Smokes cigarettes</td>\n",
       "    </tr>\n",
       "    <tr>\n",
       "      <th>10</th>\n",
       "      <td>Current marital status</td>\n",
       "    </tr>\n",
       "    <tr>\n",
       "      <th>11</th>\n",
       "      <td>Currently residing with husband/partner</td>\n",
       "    </tr>\n",
       "    <tr>\n",
       "      <th>12</th>\n",
       "      <td>When child put to breast</td>\n",
       "    </tr>\n",
       "    <tr>\n",
       "      <th>13</th>\n",
       "      <td>Had fever in last two weeks</td>\n",
       "    </tr>\n",
       "    <tr>\n",
       "      <th>14</th>\n",
       "      <td>Hemoglobin level adjusted for altitude (g/dl -...</td>\n",
       "    </tr>\n",
       "    <tr>\n",
       "      <th>15</th>\n",
       "      <td>Anemia level.1</td>\n",
       "    </tr>\n",
       "    <tr>\n",
       "      <th>16</th>\n",
       "      <td>Taking iron pills, sprinkles or syrup</td>\n",
       "    </tr>\n",
       "  </tbody>\n",
       "</table>\n",
       "</div>"
      ],
      "text/plain": [
       "                                         column names\n",
       "0                                Age in 5-year groups\n",
       "1                          Type of place of residence\n",
       "2                           Highest educational level\n",
       "3                               Wealth index combined\n",
       "4                           Births in last five years\n",
       "5                      Age of respondent at 1st birth\n",
       "6   Hemoglobin level adjusted for altitude and smo...\n",
       "7                                        Anemia level\n",
       "8   Have mosquito bed net for sleeping (from house...\n",
       "9                                   Smokes cigarettes\n",
       "10                             Current marital status\n",
       "11            Currently residing with husband/partner\n",
       "12                           When child put to breast\n",
       "13                        Had fever in last two weeks\n",
       "14  Hemoglobin level adjusted for altitude (g/dl -...\n",
       "15                                     Anemia level.1\n",
       "16              Taking iron pills, sprinkles or syrup"
      ]
     },
     "execution_count": 6,
     "metadata": {},
     "output_type": "execute_result"
    }
   ],
   "source": [
    "columns = df.columns\n",
    "columns = pd.DataFrame(columns,columns=['column names'])\n",
    "columns"
   ]
  },
  {
   "cell_type": "markdown",
   "metadata": {},
   "source": [
    "\n",
    "### Column Descriptions\n",
    "\n",
    "| <span style=\"color:white\">Column Name</span>                                               | <span style=\"color:white\">Description</span>                                                                                  |\n",
    "|-----------------------------------------------------------|----------------------------------------------------------------------------------------------|\n",
    "| <span style=\"color:white\">Age in 5-year groups</span>                                  | <span style=\"color:cyan\">Age of the mother, categorized into 5-year intervals.</span>                                        |\n",
    "| <span style=\"color:white\">Type of place of residence</span>                            | <span style=\"color:cyan\">Residential classification: Urban or Rural.</span>                                                  |\n",
    "| <span style=\"color:white\">Highest educational level</span>                             | <span style=\"color:cyan\">Mother's highest educational attainment, e.g., \"No Education\", \"Secondary\".</span>                  |\n",
    "| <span style=\"color:white\">Wealth index combined</span>                                 | <span style=\"color:cyan\">Economic status of the mother, ranked as \"Poorest\", \"Poorer\", etc.</span>                          |\n",
    "| <span style=\"color:white\">Births in last five years</span>                             | <span style=\"color:cyan\">Count of live births by the mother in the past five years.</span>                                   |\n",
    "| <span style=\"color:white\">Age of respondent at 1st birth</span>                        | <span style=\"color:cyan\">Mother's age at her first live birth.</span>                                                         |\n",
    "| <span style=\"color:white\">Hemoglobin level adjusted for altitude and smoking</span>    | <span style=\"color:cyan\">Hemoglobin level in g/dL, adjusted for altitude and smoking status.</span>                         |\n",
    "| <span style=\"color:white\">Anemia level</span>                                          | <span style=\"color:cyan\">Categorical anemia status of the child (e.g., \"Not anemic\", \"Mild\", \"Moderate\", \"Severe\").</span>  |\n",
    "| <span style=\"color:white\">Have mosquito bed net for sleeping</span>                    | <span style=\"color:cyan\">Presence of a mosquito net in the household (True/False).</span>                                   |\n",
    "| <span style=\"color:white\">Smokes cigarettes</span>                                     | <span style=\"color:cyan\">Mother's smoking status (True/False).</span>                                                         |\n",
    "| <span style=\"color:white\">Current marital status</span>                                | <span style=\"color:cyan\">Mother's marital status (e.g., \"Married\", \"Single\").</span>                                        |\n",
    "| <span style=\"color:white\">Currently residing with husband/partner</span>               | <span style=\"color:cyan\">Co-habitation status with spouse or partner (True/False).</span>                                    |\n",
    "| <span style=\"color:white\">When child put to breast</span>                              | <span style=\"color:cyan\">Timing of initial breastfeeding (hours after birth).</span>                                          |\n",
    "| <span style=\"color:white\">Had fever in last two weeks</span>                           | <span style=\"color:cyan\">Fever incidence in the child during the past two weeks (True/False).</span>                        |\n",
    "| <span style=\"color:white\">Hemoglobin level adjusted for altitude (g/dl)</span>         | <span style=\"color:cyan\">Hemoglobin level in g/dL, adjusted solely for altitude.</span>                                      |\n",
    "| <span style=\"color:white\">Anemia level.1</span>                                        | <span style=\"color:cyan\">Alternative or duplicate anemia categorization.</span>                                               |\n",
    "| <span style=\"color:white\">Taking iron pills, sprinkles or syrup</span>                 | <span style=\"color:cyan\">Iron supplementation status of the mother (True/False).</span>                                       |\n",
    "\n"
   ]
  },
  {
   "cell_type": "markdown",
   "metadata": {},
   "source": [
    "### Data Exploration"
   ]
  },
  {
   "cell_type": "code",
   "execution_count": 7,
   "metadata": {},
   "outputs": [
    {
     "data": {
      "text/html": [
       "<div>\n",
       "<style scoped>\n",
       "    .dataframe tbody tr th:only-of-type {\n",
       "        vertical-align: middle;\n",
       "    }\n",
       "\n",
       "    .dataframe tbody tr th {\n",
       "        vertical-align: top;\n",
       "    }\n",
       "\n",
       "    .dataframe thead th {\n",
       "        text-align: right;\n",
       "    }\n",
       "</style>\n",
       "<table border=\"1\" class=\"dataframe\">\n",
       "  <thead>\n",
       "    <tr style=\"text-align: right;\">\n",
       "      <th></th>\n",
       "      <th>Births in last five years</th>\n",
       "      <th>Age of respondent at 1st birth</th>\n",
       "      <th>Hemoglobin level adjusted for altitude and smoking (g/dl - 1 decimal)</th>\n",
       "      <th>Hemoglobin level adjusted for altitude (g/dl - 1 decimal)</th>\n",
       "    </tr>\n",
       "  </thead>\n",
       "  <tbody>\n",
       "    <tr>\n",
       "      <th>count</th>\n",
       "      <td>33924.000000</td>\n",
       "      <td>33924.000000</td>\n",
       "      <td>13136.000000</td>\n",
       "      <td>10182.000000</td>\n",
       "    </tr>\n",
       "    <tr>\n",
       "      <th>mean</th>\n",
       "      <td>1.823783</td>\n",
       "      <td>19.570776</td>\n",
       "      <td>114.367235</td>\n",
       "      <td>101.270183</td>\n",
       "    </tr>\n",
       "    <tr>\n",
       "      <th>std</th>\n",
       "      <td>0.705460</td>\n",
       "      <td>4.313172</td>\n",
       "      <td>15.915408</td>\n",
       "      <td>15.569583</td>\n",
       "    </tr>\n",
       "    <tr>\n",
       "      <th>min</th>\n",
       "      <td>1.000000</td>\n",
       "      <td>12.000000</td>\n",
       "      <td>20.000000</td>\n",
       "      <td>29.000000</td>\n",
       "    </tr>\n",
       "    <tr>\n",
       "      <th>25%</th>\n",
       "      <td>1.000000</td>\n",
       "      <td>16.000000</td>\n",
       "      <td>105.000000</td>\n",
       "      <td>92.000000</td>\n",
       "    </tr>\n",
       "    <tr>\n",
       "      <th>50%</th>\n",
       "      <td>2.000000</td>\n",
       "      <td>19.000000</td>\n",
       "      <td>115.000000</td>\n",
       "      <td>103.000000</td>\n",
       "    </tr>\n",
       "    <tr>\n",
       "      <th>75%</th>\n",
       "      <td>2.000000</td>\n",
       "      <td>22.000000</td>\n",
       "      <td>125.000000</td>\n",
       "      <td>112.000000</td>\n",
       "    </tr>\n",
       "    <tr>\n",
       "      <th>max</th>\n",
       "      <td>6.000000</td>\n",
       "      <td>48.000000</td>\n",
       "      <td>218.000000</td>\n",
       "      <td>170.000000</td>\n",
       "    </tr>\n",
       "  </tbody>\n",
       "</table>\n",
       "</div>"
      ],
      "text/plain": [
       "       Births in last five years  Age of respondent at 1st birth  \\\n",
       "count               33924.000000                    33924.000000   \n",
       "mean                    1.823783                       19.570776   \n",
       "std                     0.705460                        4.313172   \n",
       "min                     1.000000                       12.000000   \n",
       "25%                     1.000000                       16.000000   \n",
       "50%                     2.000000                       19.000000   \n",
       "75%                     2.000000                       22.000000   \n",
       "max                     6.000000                       48.000000   \n",
       "\n",
       "       Hemoglobin level adjusted for altitude and smoking (g/dl - 1 decimal)  \\\n",
       "count                                       13136.000000                       \n",
       "mean                                          114.367235                       \n",
       "std                                            15.915408                       \n",
       "min                                            20.000000                       \n",
       "25%                                           105.000000                       \n",
       "50%                                           115.000000                       \n",
       "75%                                           125.000000                       \n",
       "max                                           218.000000                       \n",
       "\n",
       "       Hemoglobin level adjusted for altitude (g/dl - 1 decimal)  \n",
       "count                                       10182.000000          \n",
       "mean                                          101.270183          \n",
       "std                                            15.569583          \n",
       "min                                            29.000000          \n",
       "25%                                            92.000000          \n",
       "50%                                           103.000000          \n",
       "75%                                           112.000000          \n",
       "max                                           170.000000          "
      ]
     },
     "execution_count": 7,
     "metadata": {},
     "output_type": "execute_result"
    }
   ],
   "source": [
    "df.describe()"
   ]
  },
  {
   "cell_type": "markdown",
   "metadata": {},
   "source": [
    "#### Explanation of Statistics"
   ]
  },
  {
   "cell_type": "markdown",
   "metadata": {},
   "source": [
    "\n",
    "\n",
    "##### 1. **Births in Last Five Years**\n",
    "- **Count**: 33,924 — This indicates that there are 33,924 valid entries for this column.\n",
    "- **Mean**: 1.82 — On average, mothers reported about 1.82 births in the last five years.\n",
    "- **Standard Deviation (std)**: 0.71 — This reflects the variability in the number of births, showing that the number of births typically varies by about 0.71 from the mean.\n",
    "- **Min**: 1 — The minimum number of births reported is 1.\n",
    "- **25% (1st Quartile)**: 1 — 25% of the mothers reported 1 birth or fewer in the last five years.\n",
    "- **50% (Median)**: 2 — The median number of births is 2, meaning half of the mothers reported 2 or fewer births.\n",
    "- **75% (3rd Quartile)**: 2 — 75% of the mothers reported 2 births or fewer.\n",
    "- **Max**: 6 — The maximum number of births reported is 6.\n",
    "\n",
    "##### 2. **Age of Respondent at 1st Birth**\n",
    "- **Count**: 33,924 — Valid entries for this column.\n",
    "- **Mean**: 19.57 — The average age of mothers at their first birth is approximately 19.6 years.\n",
    "- **Standard Deviation**: 4.31 — Indicates a moderate variability in the ages at first birth.\n",
    "- **Min**: 12 — The youngest reported age at first birth is 12 years.\n",
    "- **25%**: 16 — 25% of mothers had their first birth at age 16 or younger.\n",
    "- **50%**: 19 — The median age is 19.\n",
    "- **75%**: 22 — 75% of mothers had their first birth by age 22 or younger.\n",
    "- **Max**: 48 — The oldest age reported for a first birth is 48 years.\n",
    "\n",
    "##### 3. **Hemoglobin Level Adjusted for Altitude and Smoking (g/dl - 1 decimal)**\n",
    "- **Count**: 13,136 — Only 13,136 valid entries, indicating missing values for some records.\n",
    "- **Mean**: 114.37 g/dL — The average hemoglobin level, adjusted for altitude and smoking, is approximately 114.4 g/dL.\n",
    "- **Standard Deviation**: 15.92 — Reflects the variability in hemoglobin levels; levels typically vary by about 15.9 g/dL from the mean.\n",
    "- **Min**: 20 — The lowest reported hemoglobin level is 20 g/dL, which indicates severe anemia.\n",
    "- **25%**: 105 — 25% of the values are 105 g/dL or lower.\n",
    "- **50%**: 115 — The median hemoglobin level is 115 g/dL.\n",
    "- **75%**: 125 — 75% of the hemoglobin levels are 125 g/dL or lower.\n",
    "- **Max**: 218 — The highest reported hemoglobin level is 218 g/dL, which is significantly above normal ranges.\n",
    "\n",
    "##### 4. **Hemoglobin Level Adjusted for Altitude (g/dl - 1 decimal)**\n",
    "- **Count**: 10,182 — Valid entries for this column, indicating more missing values than the previous column.\n",
    "- **Mean**: 101.27 g/dL — The average hemoglobin level, adjusted solely for altitude, is approximately 101.3 g/dL.\n",
    "- **Standard Deviation**: 15.57 — Shows variability in the adjusted hemoglobin levels.\n",
    "- **Min**: 29 — The lowest reported hemoglobin level in this context is 29 g/dL.\n",
    "- **25%**: 92 — 25% of the hemoglobin levels are 92 g/dL or lower.\n",
    "- **50%**: 103 — The median hemoglobin level is 103 g/dL.\n",
    "- **75%**: 112 — 75% of values are at or below 112 g/dL.\n",
    "- **Max**: 170 — The highest reported hemoglobin level is 170 g/dL.\n",
    "\n"
   ]
  },
  {
   "cell_type": "code",
   "execution_count": 8,
   "metadata": {},
   "outputs": [
    {
     "name": "stdout",
     "output_type": "stream",
     "text": [
      "<class 'pandas.core.frame.DataFrame'>\n",
      "RangeIndex: 33924 entries, 0 to 33923\n",
      "Data columns (total 17 columns):\n",
      " #   Column                                                                 Non-Null Count  Dtype  \n",
      "---  ------                                                                 --------------  -----  \n",
      " 0   Age in 5-year groups                                                   33924 non-null  object \n",
      " 1   Type of place of residence                                             33924 non-null  object \n",
      " 2   Highest educational level                                              33924 non-null  object \n",
      " 3   Wealth index combined                                                  33924 non-null  object \n",
      " 4   Births in last five years                                              33924 non-null  int64  \n",
      " 5   Age of respondent at 1st birth                                         33924 non-null  int64  \n",
      " 6   Hemoglobin level adjusted for altitude and smoking (g/dl - 1 decimal)  13136 non-null  float64\n",
      " 7   Anemia level                                                           13136 non-null  object \n",
      " 8   Have mosquito bed net for sleeping (from household questionnaire)      33924 non-null  object \n",
      " 9   Smokes cigarettes                                                      33924 non-null  object \n",
      " 10  Current marital status                                                 33924 non-null  object \n",
      " 11  Currently residing with husband/partner                                32226 non-null  object \n",
      " 12  When child put to breast                                               21168 non-null  object \n",
      " 13  Had fever in last two weeks                                            30713 non-null  object \n",
      " 14  Hemoglobin level adjusted for altitude (g/dl - 1 decimal)              10182 non-null  float64\n",
      " 15  Anemia level.1                                                         10182 non-null  object \n",
      " 16  Taking iron pills, sprinkles or syrup                                  30713 non-null  object \n",
      "dtypes: float64(2), int64(2), object(13)\n",
      "memory usage: 4.4+ MB\n"
     ]
    }
   ],
   "source": [
    "df.info()"
   ]
  },
  {
   "cell_type": "markdown",
   "metadata": {},
   "source": [
    "*data info expalined*\n",
    "\n",
    "- **Total Entries**: The DataFrame contains **33,924 entries**, indexed from 0 to 33,923.\n",
    "\n",
    "\n",
    "- **Missing Values**:\n",
    "   - Some columns have missing values. For example, \"Hemoglobin level adjusted for altitude and smoking\" has only **13,136 non-null** entries, meaning there are missing data points for **20,788** entries in that column.\n",
    "   - \"Currently residing with husband/partner\" has **32,226** non-null entries, indicating missing values for **1,698** entries.\n",
    "   - \"When child put to breast\" has **21,168** non-null entries, suggesting missing values for **12,756** entries.\n",
    "\n",
    "- **Data Types**:\n",
    "   - The DataFrame consists of:\n",
    "     - **13 object columns**: Typically used for categorical data or text.\n",
    "     - **2 integer columns**: Representing counts or whole numbers (e.g., births, age).\n",
    "     - **2 float columns**: Used for continuous numerical values (e.g., hemoglobin levels), indicating decimal values.\n",
    "\n",
    "\n"
   ]
  },
  {
   "cell_type": "markdown",
   "metadata": {},
   "source": [
    "After Exploration the Following is a classification of the relevance in our columns"
   ]
  },
  {
   "cell_type": "markdown",
   "metadata": {},
   "source": [
    "#### Target Variable\n",
    "- **Anemia level**: Indicates anemia status (e.g., Not anemic, Mild, Moderate, Severe).\n",
    "\n",
    "#### Identifying Key Features\n",
    "- **Type of place of residence**\n",
    "- **Highest educational level**\n",
    "- **Wealth index combined**\n",
    "- **Current marital status**\n",
    "\n",
    "#### Potential Predictors\n",
    "- **Age in 5-year groups**\n",
    "- **Births in last five years**\n",
    "- **Age of respondent at 1st birth**\n",
    "- **Hemoglobin level adjusted for altitude and smoking**\n",
    "- **Have mosquito bed net for sleeping**\n",
    "- **Smokes cigarettes**\n",
    "- **Currently residing with husband/partner**\n",
    "- **When child put to breast**\n",
    "- **Had fever in last two weeks**\n",
    "- **Taking iron pills, sprinkles, or syrup**\n"
   ]
  },
  {
   "cell_type": "markdown",
   "metadata": {},
   "source": [
    "### Data cleaning "
   ]
  },
  {
   "cell_type": "markdown",
   "metadata": {},
   "source": [
    "#### Checking and handling of duplicates "
   ]
  },
  {
   "cell_type": "code",
   "execution_count": 9,
   "metadata": {},
   "outputs": [
    {
     "data": {
      "text/plain": [
       "0        False\n",
       "1        False\n",
       "2        False\n",
       "3        False\n",
       "4        False\n",
       "         ...  \n",
       "33919    False\n",
       "33920    False\n",
       "33921    False\n",
       "33922    False\n",
       "33923    False\n",
       "Length: 33924, dtype: bool"
      ]
     },
     "execution_count": 9,
     "metadata": {},
     "output_type": "execute_result"
    }
   ],
   "source": [
    "#creates a boolean Series indicating True for duplicated rows and False for unique rows\n",
    "duplicates = df.duplicated()\n",
    "duplicates\n"
   ]
  },
  {
   "cell_type": "markdown",
   "metadata": {},
   "source": [
    "The above shows that there are indeed duplicated but we cannnot decide on what to do with them since they have unique values "
   ]
  },
  {
   "cell_type": "markdown",
   "metadata": {},
   "source": [
    "checkng for rows with values identical to previous rows across all columns and dropping them , ie the returned here is a value TRUE different from previous "
   ]
  },
  {
   "cell_type": "code",
   "execution_count": 10,
   "metadata": {},
   "outputs": [
    {
     "name": "stdout",
     "output_type": "stream",
     "text": [
      "total duplicates:4678\n"
     ]
    }
   ],
   "source": [
    "## checking for duplicates rows in the df and returns the total number it finds\n",
    "duplicates_sum = duplicates.sum()\n",
    "print(f'total duplicates:{duplicates_sum}')"
   ]
  },
  {
   "cell_type": "code",
   "execution_count": 11,
   "metadata": {},
   "outputs": [],
   "source": [
    "df = df.drop_duplicates()\n"
   ]
  },
  {
   "cell_type": "markdown",
   "metadata": {},
   "source": [
    "#### Handling NaN values "
   ]
  },
  {
   "cell_type": "markdown",
   "metadata": {},
   "source": [
    "Check and handling missing values in our dataset is an important part before modelling, Sometimes survey or data collection can not 100 and therefore we will check and remove to ensure we have a cleaned data."
   ]
  },
  {
   "cell_type": "markdown",
   "metadata": {},
   "source": [
    "Column handling of Nan values "
   ]
  },
  {
   "cell_type": "markdown",
   "metadata": {},
   "source": [
    "##### Since the target variable is not suppossed to have nan values we first drop all nan in \n",
    "\n",
    "`Anemia level`                                                             \n",
    "\n",
    "`Anemia level.1 `                                                          "
   ]
  },
  {
   "cell_type": "code",
   "execution_count": 12,
   "metadata": {},
   "outputs": [
    {
     "name": "stdout",
     "output_type": "stream",
     "text": [
      "[nan 'Moderate' 'Mild' 'Not anemic' 'Severe']\n",
      "[nan 'Not anemic' 'Mild' 'Moderate' 'Severe']\n"
     ]
    }
   ],
   "source": [
    "# Inspect unique values in 'Anemia level' and 'Anemia level.1'\n",
    "print(df['Anemia level'].unique())\n",
    "print(df['Anemia level.1'].unique())\n"
   ]
  },
  {
   "cell_type": "markdown",
   "metadata": {},
   "source": [
    "We have noticed that there in a `nan` uniques in our target variable "
   ]
  },
  {
   "cell_type": "code",
   "execution_count": 13,
   "metadata": {},
   "outputs": [],
   "source": [
    "\n",
    "# Drop rows only if both 'Anemia level' and 'Anemia level.1' are NaN\n",
    "df.dropna(subset=['Anemia level', 'Anemia level.1'], inplace=True)\n"
   ]
  },
  {
   "cell_type": "code",
   "execution_count": 14,
   "metadata": {},
   "outputs": [
    {
     "name": "stdout",
     "output_type": "stream",
     "text": [
      "['Moderate' 'Mild' 'Not anemic' 'Severe']\n",
      "['Not anemic' 'Mild' 'Moderate' 'Severe']\n"
     ]
    }
   ],
   "source": [
    "# Inspect unique values in 'Anemia level' and 'Anemia level.1'\n",
    "print(df['Anemia level'].unique())\n",
    "print(df['Anemia level.1'].unique())\n"
   ]
  },
  {
   "cell_type": "code",
   "execution_count": 15,
   "metadata": {},
   "outputs": [
    {
     "data": {
      "text/plain": [
       "Age in 5-year groups                                                        0\n",
       "Type of place of residence                                                  0\n",
       "Highest educational level                                                   0\n",
       "Wealth index combined                                                       0\n",
       "Births in last five years                                                   0\n",
       "Age of respondent at 1st birth                                              0\n",
       "Hemoglobin level adjusted for altitude and smoking (g/dl - 1 decimal)       0\n",
       "Anemia level                                                                0\n",
       "Have mosquito bed net for sleeping (from household questionnaire)           0\n",
       "Smokes cigarettes                                                           0\n",
       "Current marital status                                                      0\n",
       "Currently residing with husband/partner                                   516\n",
       "When child put to breast                                                 3751\n",
       "Had fever in last two weeks                                                 0\n",
       "Hemoglobin level adjusted for altitude (g/dl - 1 decimal)                   0\n",
       "Anemia level.1                                                              0\n",
       "Taking iron pills, sprinkles or syrup                                       0\n",
       "dtype: int64"
      ]
     },
     "execution_count": 15,
     "metadata": {},
     "output_type": "execute_result"
    }
   ],
   "source": [
    "#checking for remaining NaN in remaing columns \n",
    "df.isnull().sum()"
   ]
  },
  {
   "cell_type": "markdown",
   "metadata": {},
   "source": [
    "##### Handling Missing Values in the \"Currently Residing with Husband/Partner\" Column"
   ]
  },
  {
   "cell_type": "markdown",
   "metadata": {},
   "source": [
    "`Currently residing with husband/partner` has  516 NaN values , we used value counts to enable more analysis"
   ]
  },
  {
   "cell_type": "code",
   "execution_count": 16,
   "metadata": {},
   "outputs": [
    {
     "name": "stdout",
     "output_type": "stream",
     "text": [
      "Column - Currently residing with husband/partner\n",
      "Categories:\n",
      " Living with her      8580\n",
      "Staying elsewhere     955\n",
      "Name: Currently residing with husband/partner, dtype: int64\n",
      "NaNs - 516 \n",
      "\n"
     ]
    }
   ],
   "source": [
    "# Counting unique values and NaNs separately\n",
    "value_counts = df['Currently residing with husband/partner'].value_counts()\n",
    "na_count = df['Currently residing with husband/partner'].isna().sum()\n",
    "\n",
    "\n",
    "print(f\"Column - {'Currently residing with husband/partner'}\")\n",
    "print(\"Categories:\\n\", value_counts)\n",
    "print(\"NaNs -\", na_count, \"\\n\")\n"
   ]
  },
  {
   "cell_type": "markdown",
   "metadata": {},
   "source": [
    "After value counts we observe the following distribution of responses:\n",
    "\n",
    "- **Living with her**: 8,580 (approximately 89.1%)\n",
    "- **Staying elsewhere**: 955 (approximately 10.0%)\n",
    "- **Missing values (NaNs)**: 516 (approximately 5.2%)\n",
    "\n",
    "Given that the proportion of missing values is relatively low (5.2%), we can confidently proceed with the imputation of these NaN values. To ensure we do not lose valuable information, we will fill the missing entries with the mode of the column, which in this case is **\"Living with her.\"** This choice is justified by the fact that this category has the highest representation in the data, thus better reflecting the existing trends.\n",
    "\n",
    "By using mode imputation, we can:\n",
    "\n",
    "- **Preserve the dataset size**: Avoiding the deletion of rows with missing values helps maintain a larger sample size for subsequent analyses.\n",
    "- **Enhance the quality of analysis**: Filling NaNs with the mode supports the integrity of our statistical analyses, as we retain the most frequent category.\n"
   ]
  },
  {
   "cell_type": "code",
   "execution_count": 17,
   "metadata": {},
   "outputs": [],
   "source": [
    "df[\"Currently residing with husband/partner\"].fillna(df[\"Currently residing with husband/partner\"].mode()[0], inplace=True)"
   ]
  },
  {
   "cell_type": "code",
   "execution_count": 18,
   "metadata": {},
   "outputs": [
    {
     "data": {
      "text/plain": [
       "Age in 5-year groups                                                        0\n",
       "Type of place of residence                                                  0\n",
       "Highest educational level                                                   0\n",
       "Wealth index combined                                                       0\n",
       "Births in last five years                                                   0\n",
       "Age of respondent at 1st birth                                              0\n",
       "Hemoglobin level adjusted for altitude and smoking (g/dl - 1 decimal)       0\n",
       "Anemia level                                                                0\n",
       "Have mosquito bed net for sleeping (from household questionnaire)           0\n",
       "Smokes cigarettes                                                           0\n",
       "Current marital status                                                      0\n",
       "Currently residing with husband/partner                                     0\n",
       "When child put to breast                                                 3751\n",
       "Had fever in last two weeks                                                 0\n",
       "Hemoglobin level adjusted for altitude (g/dl - 1 decimal)                   0\n",
       "Anemia level.1                                                              0\n",
       "Taking iron pills, sprinkles or syrup                                       0\n",
       "dtype: int64"
      ]
     },
     "execution_count": 18,
     "metadata": {},
     "output_type": "execute_result"
    }
   ],
   "source": [
    "#checking for remaining NaN in remaing columns \n",
    "df.isnull().sum()"
   ]
  },
  {
   "cell_type": "markdown",
   "metadata": {},
   "source": [
    "##### Handling Missing Values in the `'When child put to breast'`"
   ]
  },
  {
   "cell_type": "code",
   "execution_count": 19,
   "metadata": {},
   "outputs": [
    {
     "name": "stdout",
     "output_type": "stream",
     "text": [
      "Column - When child put to breast\n",
      "Categories:\n",
      " Immediately    2960\n",
      "Hours: 1        875\n",
      "102             592\n",
      "Days: 1         505\n",
      "103             327\n",
      "202             182\n",
      "104             166\n",
      "105             148\n",
      "106             110\n",
      "203             107\n",
      "108              72\n",
      "107              49\n",
      "109              35\n",
      "112              32\n",
      "110              28\n",
      "204              15\n",
      "111              13\n",
      "205              12\n",
      "113              11\n",
      "114              10\n",
      "207               9\n",
      "115               7\n",
      "123               6\n",
      "214               5\n",
      "116               4\n",
      "206               3\n",
      "118               3\n",
      "121               2\n",
      "210               2\n",
      "119               2\n",
      "117               2\n",
      "211               1\n",
      "220               1\n",
      "212               1\n",
      "208               1\n",
      "120               1\n",
      "223               1\n",
      "Name: When child put to breast, dtype: int64\n",
      "NaNs - 3751 \n",
      "\n"
     ]
    }
   ],
   "source": [
    "# Counting unique values and NaNs separately\n",
    "value_counts = df['When child put to breast'].value_counts()\n",
    "na_count = df['When child put to breast'].isna().sum()\n",
    "\n",
    "\n",
    "print(f\"Column - {'When child put to breast'}\")\n",
    "print(\"Categories:\\n\", value_counts)\n",
    "print(\"NaNs -\", na_count, \"\\n\")\n"
   ]
  },
  {
   "cell_type": "markdown",
   "metadata": {},
   "source": [
    "Categories  \n",
    "- Immediately: 2,960\n",
    "\n",
    "- Hours: 1: 875\n",
    "    \n",
    "- Various other time categories (e.g., Days: 1, 102, etc.) with counts tapering down to 1.\n",
    "    \n",
    "   The significant number of NaNs (approximately 38.5%) suggests a potential issue in data collection or reporting."
   ]
  },
  {
   "cell_type": "code",
   "execution_count": 20,
   "metadata": {},
   "outputs": [
    {
     "name": "stderr",
     "output_type": "stream",
     "text": [
      "<ipython-input-20-e94e5f7ae553>:18: UserWarning: Tight layout not applied. The bottom and top margins cannot be made large enough to accommodate all axes decorations. \n",
      "  plt.tight_layout()\n"
     ]
    },
    {
     "data": {
      "text/plain": [
       "<Figure size 864x576 with 0 Axes>"
      ]
     },
     "metadata": {},
     "output_type": "display_data"
    },
    {
     "data": {
      "image/png": "[encoded data removed]",
      "text/plain": [
       "<Figure size 432x288 with 1 Axes>"
      ]
     },
     "metadata": {
      "needs_background": "light"
     },
     "output_type": "display_data"
    }
   ],
   "source": [
    "import matplotlib.pyplot as plt\n",
    "\n",
    "# 'Age in 5-year groups' and 'When child put to breast'\n",
    "\n",
    "# Get the count of each breastfeeding initiation category for each age group\n",
    "data_counts = df.groupby(['Age in 5-year groups', 'When child put to breast']).size().unstack(fill_value=0)\n",
    "\n",
    "# Step 2: \n",
    "plt.figure(figsize=(12, 8))\n",
    "data_counts.plot(kind='bar', stacked=True, colormap='viridis', width=0.7)\n",
    "\n",
    "\n",
    "plt.title('Age in 5-year Groups vs. When Child Put to Breast')\n",
    "plt.xlabel('Age in 5-year Groups')\n",
    "plt.ylabel('Count')\n",
    "plt.legend(title='When Child Put to Breast', bbox_to_anchor=(1.05, 1), loc='upper left')\n",
    "plt.xticks(rotation=45)\n",
    "plt.tight_layout()\n",
    "\n",
    "# Show plot\n",
    "plt.show()\n"
   ]
  },
  {
   "cell_type": "markdown",
   "metadata": {},
   "source": [
    "from the `stacked bar` plot across all the age categories it is viable that `immediately` is more common "
   ]
  },
  {
   "cell_type": "code",
   "execution_count": 21,
   "metadata": {},
   "outputs": [],
   "source": [
    "#fitting with mode \n",
    "\n",
    "df['When child put to breast'].fillna(df['When child put to breast'].mode()[0],inplace=True)"
   ]
  },
  {
   "cell_type": "code",
   "execution_count": 22,
   "metadata": {},
   "outputs": [
    {
     "data": {
      "text/plain": [
       "Age in 5-year groups                                                     0\n",
       "Type of place of residence                                               0\n",
       "Highest educational level                                                0\n",
       "Wealth index combined                                                    0\n",
       "Births in last five years                                                0\n",
       "Age of respondent at 1st birth                                           0\n",
       "Hemoglobin level adjusted for altitude and smoking (g/dl - 1 decimal)    0\n",
       "Anemia level                                                             0\n",
       "Have mosquito bed net for sleeping (from household questionnaire)        0\n",
       "Smokes cigarettes                                                        0\n",
       "Current marital status                                                   0\n",
       "Currently residing with husband/partner                                  0\n",
       "When child put to breast                                                 0\n",
       "Had fever in last two weeks                                              0\n",
       "Hemoglobin level adjusted for altitude (g/dl - 1 decimal)                0\n",
       "Anemia level.1                                                           0\n",
       "Taking iron pills, sprinkles or syrup                                    0\n",
       "dtype: int64"
      ]
     },
     "execution_count": 22,
     "metadata": {},
     "output_type": "execute_result"
    }
   ],
   "source": [
    "df.isna().sum()"
   ]
  },
  {
   "cell_type": "markdown",
   "metadata": {},
   "source": [
    "Anemia level and Anemia level.1 "
   ]
  },
  {
   "cell_type": "code",
   "execution_count": 23,
   "metadata": {},
   "outputs": [],
   "source": [
    "def addLabels(x, y):\n",
    "    for i in range(len(y)):\n",
    "        plt.text(i, y[i], y[i], ha=\"center\")"
   ]
  },
  {
   "cell_type": "code",
   "execution_count": 24,
   "metadata": {},
   "outputs": [
    {
     "data": {
      "image/png": "[encoded data removed]",
      "text/plain": [
       "<Figure size 432x288 with 1 Axes>"
      ]
     },
     "metadata": {
      "needs_background": "light"
     },
     "output_type": "display_data"
    }
   ],
   "source": [
    "plt.bar(df[\"Anemia level.1\"].value_counts().index,df[\"Anemia level.1\"].value_counts().values, color=['tab:blue', 'tab:orange', 'tab:green', 'tab:red'])\n",
    "addLabels(df[\"Anemia level.1\"].value_counts().index,df[\"Anemia level.1\"].value_counts().values)"
   ]
  },
  {
   "cell_type": "code",
   "execution_count": 25,
   "metadata": {},
   "outputs": [
    {
     "data": {
      "image/png": "[encoded data removed]",
      "text/plain": [
       "<Figure size 432x288 with 1 Axes>"
      ]
     },
     "metadata": {
      "needs_background": "light"
     },
     "output_type": "display_data"
    }
   ],
   "source": [
    "plt.bar(df[\"Anemia level\"].value_counts().index,df[\"Anemia level\"].value_counts().values, color=['tab:blue', 'tab:orange', 'tab:green', 'tab:red'])\n",
    "addLabels(df[\"Anemia level\"].value_counts().index,df[\"Anemia level\"].value_counts().values)"
   ]
  },
  {
   "cell_type": "markdown",
   "metadata": {},
   "source": [
    "To achieve a balanced model for training anemia levels, the data for the lesser-represented categories should be downsampled. To add, `\"Anemia level.1\"`, which exhibits a more equitable distribution across all categories and a narrower range of differences, should be prioritized. This approach enhances the model's ability to generalize by ensuring that each category contributes more evenly to the training process, ultimately leading to improved performance and accuracy in predicting anemia levels."
   ]
  },
  {
   "cell_type": "code",
   "execution_count": 26,
   "metadata": {},
   "outputs": [],
   "source": [
    "df = df.drop(columns=[\"Anemia level.1\"])"
   ]
  },
  {
   "cell_type": "markdown",
   "metadata": {},
   "source": [
    "#### Visuals "
   ]
  },
  {
   "cell_type": "markdown",
   "metadata": {},
   "source": [
    "##### Univariate "
   ]
  },
  {
   "cell_type": "markdown",
   "metadata": {},
   "source": [
    "---"
   ]
  },
  {
   "cell_type": "markdown",
   "metadata": {},
   "source": [
    "- > 1.   Age of respondent at 1st birth"
   ]
  },
  {
   "cell_type": "code",
   "execution_count": 27,
   "metadata": {},
   "outputs": [
    {
     "data": {
      "text/plain": [
       "<seaborn.axisgrid.FacetGrid at 0x13030c8e670>"
      ]
     },
     "execution_count": 27,
     "metadata": {},
     "output_type": "execute_result"
    },
    {
     "data": {
      "image/png": "[encoded data removed]",
      "text/plain": [
       "<Figure size 360x360 with 1 Axes>"
      ]
     },
     "metadata": {
      "needs_background": "light"
     },
     "output_type": "display_data"
    }
   ],
   "source": [
    "import seaborn as sns\n",
    "sns.displot(df['Age of respondent at 1st birth'])"
   ]
  },
  {
   "cell_type": "markdown",
   "metadata": {},
   "source": [
    "The distribution is skewed to the right, indicating that the majority of respondents had their first child at a younger age, particularly between 15 and 25 years. \n",
    "\n",
    "\n",
    "This distribution suggests that early childbearing is more prevalent in this dataset, while fewer respondents experience first-time childbirth later in life."
   ]
  },
  {
   "cell_type": "markdown",
   "metadata": {},
   "source": [
    "---"
   ]
  },
  {
   "cell_type": "markdown",
   "metadata": {},
   "source": [
    "- > 2.  Hemoglobin level adjusted for altitude and smoking (g/dl - 1 decimal)"
   ]
  },
  {
   "cell_type": "code",
   "execution_count": 28,
   "metadata": {},
   "outputs": [
    {
     "data": {
      "text/plain": [
       "<seaborn.axisgrid.FacetGrid at 0x13030de33d0>"
      ]
     },
     "execution_count": 28,
     "metadata": {},
     "output_type": "execute_result"
    },
    {
     "data": {
      "image/png": "[encoded data removed]",
      "text/plain": [
       "<Figure size 360x360 with 1 Axes>"
      ]
     },
     "metadata": {
      "needs_background": "light"
     },
     "output_type": "display_data"
    }
   ],
   "source": [
    "sns.displot(df['Hemoglobin level adjusted for altitude and smoking (g/dl - 1 decimal)'])"
   ]
  },
  {
   "cell_type": "markdown",
   "metadata": {},
   "source": [
    "The distribution is approximately bell-shaped and symmetrical, with most hemoglobin levels concentrated between 95 and 125 g/dL. \n",
    "\n",
    "The distribution has a narrow spread, with relatively few respondents having hemoglobin levels below 75 or above 150. This shape implies that hemoglobin levels are normally distributed among the respondents after adjusting for altitude and smoking."
   ]
  },
  {
   "cell_type": "markdown",
   "metadata": {},
   "source": [
    "---"
   ]
  },
  {
   "cell_type": "markdown",
   "metadata": {},
   "source": [
    "- > 3. Hemoglobin level adjusted for altitude (g/dl - 1 decimal)"
   ]
  },
  {
   "cell_type": "code",
   "execution_count": 29,
   "metadata": {},
   "outputs": [
    {
     "data": {
      "text/plain": [
       "<seaborn.axisgrid.FacetGrid at 0x13030f1d8b0>"
      ]
     },
     "execution_count": 29,
     "metadata": {},
     "output_type": "execute_result"
    },
    {
     "data": {
      "image/png": "[encoded data removed]",
      "text/plain": [
       "<Figure size 360x360 with 1 Axes>"
      ]
     },
     "metadata": {
      "needs_background": "light"
     },
     "output_type": "display_data"
    }
   ],
   "source": [
    "sns.displot(df['Hemoglobin level adjusted for altitude (g/dl - 1 decimal)'])"
   ]
  },
  {
   "cell_type": "markdown",
   "metadata": {},
   "source": [
    "peak occurs around 105-110 g/dL, indicating this is the most common hemoglobin range in the dataset."
   ]
  },
  {
   "cell_type": "markdown",
   "metadata": {},
   "source": [
    "---"
   ]
  },
  {
   "cell_type": "markdown",
   "metadata": {},
   "source": [
    "> - 4. Taking iron pills, sprinkles or syrup"
   ]
  },
  {
   "cell_type": "code",
   "execution_count": 30,
   "metadata": {},
   "outputs": [
    {
     "data": {
      "text/plain": [
       "<seaborn.axisgrid.FacetGrid at 0x13030807eb0>"
      ]
     },
     "execution_count": 30,
     "metadata": {},
     "output_type": "execute_result"
    },
    {
     "data": {
      "image/png": "[encoded data removed]",
      "text/plain": [
       "<Figure size 360x360 with 1 Axes>"
      ]
     },
     "metadata": {
      "needs_background": "light"
     },
     "output_type": "display_data"
    }
   ],
   "source": [
    "sns.displot(df['Taking iron pills, sprinkles or syrup'])"
   ]
  },
  {
   "cell_type": "markdown",
   "metadata": {},
   "source": [
    "This indicates an approximate total 2000 respondents who are taking iron pills, sprinkles or syrup and approximately 8000 who dont use the pills. The plot gives an indication of a different category `Dont know` which by domain knowledge should have been ignored. "
   ]
  },
  {
   "cell_type": "markdown",
   "metadata": {},
   "source": [
    "---"
   ]
  },
  {
   "cell_type": "markdown",
   "metadata": {},
   "source": [
    "##### Bi variate against target variable"
   ]
  },
  {
   "cell_type": "markdown",
   "metadata": {},
   "source": [
    "---"
   ]
  },
  {
   "cell_type": "markdown",
   "metadata": {},
   "source": [
    "- > 1. The plot below shows the distribution of \"Type of place of residence\" while breaking down each type by \"Anemia level.1"
   ]
  },
  {
   "cell_type": "code",
   "execution_count": 31,
   "metadata": {},
   "outputs": [
    {
     "data": {
      "text/plain": [
       "<seaborn.axisgrid.FacetGrid at 0x1301d55fcd0>"
      ]
     },
     "execution_count": 31,
     "metadata": {},
     "output_type": "execute_result"
    },
    {
     "data": {
      "image/png": "[encoded data removed]",
      "text/plain": [
       "<Figure size 453.125x360 with 1 Axes>"
      ]
     },
     "metadata": {
      "needs_background": "light"
     },
     "output_type": "display_data"
    }
   ],
   "source": [
    "sns.displot(data=df, x='Type of place of residence', hue='Anemia level', multiple='stack')\n"
   ]
  },
  {
   "cell_type": "markdown",
   "metadata": {},
   "source": [
    "this is visualizing both the overall count for each residence type and how anemia levels vary within them. It shows rural areas have a high prevalence for anemia compare to urban areas\n",
    "\n",
    "---"
   ]
  },
  {
   "cell_type": "markdown",
   "metadata": {},
   "source": [
    "- > 2. Hemoglobin level adjusted for altitude vs anemia level"
   ]
  },
  {
   "cell_type": "code",
   "execution_count": 32,
   "metadata": {},
   "outputs": [],
   "source": [
    "#sns.displot(data=df, x='Hemoglobin level adjusted for altitude (g/dl - 1 decimal)', hue='Anemia level', multiple='stack')\n"
   ]
  },
  {
   "cell_type": "markdown",
   "metadata": {},
   "source": [
    "---"
   ]
  },
  {
   "cell_type": "markdown",
   "metadata": {},
   "source": [
    "- > 3. smoke cigarattes vs Anemia level"
   ]
  },
  {
   "cell_type": "code",
   "execution_count": 33,
   "metadata": {},
   "outputs": [],
   "source": [
    "#sns.displot(data=df, x='Smokes cigarettes', hue='Anemia level.1', multiple='stack')\n"
   ]
  },
  {
   "cell_type": "markdown",
   "metadata": {},
   "source": [
    "Here we choose to focus on Anemia Levels Among Smokers  rather non_smokers:\n",
    "\n",
    "Due to the very limited bar height for \"Yes\" (smokers), there is almost no data visible for smokers. This makes it difficult to conclude anything about the relationship between smoking and anemia levels. To remain relevant rather generic with training our model we choose to drop this column."
   ]
  },
  {
   "cell_type": "markdown",
   "metadata": {},
   "source": [
    "---\n"
   ]
  },
  {
   "cell_type": "markdown",
   "metadata": {},
   "source": [
    "Multivarate visualizations "
   ]
  },
  {
   "cell_type": "markdown",
   "metadata": {},
   "source": []
  },
  {
   "cell_type": "markdown",
   "metadata": {},
   "source": [
    "#### Preproccessing "
   ]
  },
  {
   "cell_type": "markdown",
   "metadata": {},
   "source": [
    "##### handling columns after variate analysis "
   ]
  },
  {
   "cell_type": "markdown",
   "metadata": {},
   "source": [
    "I begin preprocessing by dropping certain columns that werent giving much of an impact to the anemia levels ie Smoking levels, yes it has data but by anemic knowledge it doesnt give much beacause anemia tends have variations with smokers. In our case it gives more on non_smokers than smokers."
   ]
  },
  {
   "cell_type": "code",
   "execution_count": 34,
   "metadata": {},
   "outputs": [],
   "source": [
    "#droppping Smokes cigarettes column\n",
    "df = df.drop(columns='Smokes cigarettes')"
   ]
  },
  {
   "cell_type": "code",
   "execution_count": 35,
   "metadata": {},
   "outputs": [],
   "source": [
    "y = df['Anemia level']\n",
    "X = df.drop(columns='Anemia level',axis=1)"
   ]
  },
  {
   "cell_type": "markdown",
   "metadata": {},
   "source": [
    "Running the independent variables x.info() to give a clear of both numerical and categorical variables in dataset "
   ]
  },
  {
   "cell_type": "code",
   "execution_count": 36,
   "metadata": {},
   "outputs": [
    {
     "name": "stdout",
     "output_type": "stream",
     "text": [
      "<class 'pandas.core.frame.DataFrame'>\n",
      "Int64Index: 10051 entries, 3 to 33922\n",
      "Data columns (total 14 columns):\n",
      " #   Column                                                                 Non-Null Count  Dtype  \n",
      "---  ------                                                                 --------------  -----  \n",
      " 0   Age in 5-year groups                                                   10051 non-null  object \n",
      " 1   Type of place of residence                                             10051 non-null  object \n",
      " 2   Highest educational level                                              10051 non-null  object \n",
      " 3   Wealth index combined                                                  10051 non-null  object \n",
      " 4   Births in last five years                                              10051 non-null  int64  \n",
      " 5   Age of respondent at 1st birth                                         10051 non-null  int64  \n",
      " 6   Hemoglobin level adjusted for altitude and smoking (g/dl - 1 decimal)  10051 non-null  float64\n",
      " 7   Have mosquito bed net for sleeping (from household questionnaire)      10051 non-null  object \n",
      " 8   Current marital status                                                 10051 non-null  object \n",
      " 9   Currently residing with husband/partner                                10051 non-null  object \n",
      " 10  When child put to breast                                               10051 non-null  object \n",
      " 11  Had fever in last two weeks                                            10051 non-null  object \n",
      " 12  Hemoglobin level adjusted for altitude (g/dl - 1 decimal)              10051 non-null  float64\n",
      " 13  Taking iron pills, sprinkles or syrup                                  10051 non-null  object \n",
      "dtypes: float64(2), int64(2), object(10)\n",
      "memory usage: 1.2+ MB\n"
     ]
    }
   ],
   "source": [
    "X.info()"
   ]
  },
  {
   "cell_type": "markdown",
   "metadata": {},
   "source": [
    "From the above code block the given Dtype are object , int64 and float64 ....this gives a clear indication and basis for our data grouping. this will help in further processing the data since we will work with scalling , modelling techniques that recquire int values ."
   ]
  },
  {
   "cell_type": "code",
   "execution_count": 37,
   "metadata": {},
   "outputs": [
    {
     "name": "stdout",
     "output_type": "stream",
     "text": [
      "categorical_columns\n",
      "Index(['Age in 5-year groups', 'Type of place of residence',\n",
      "       'Highest educational level', 'Wealth index combined',\n",
      "       'Have mosquito bed net for sleeping (from household questionnaire)',\n",
      "       'Current marital status', 'Currently residing with husband/partner',\n",
      "       'When child put to breast', 'Had fever in last two weeks',\n",
      "       'Taking iron pills, sprinkles or syrup'],\n",
      "      dtype='object')\n"
     ]
    }
   ],
   "source": [
    "categorical_columns = X.select_dtypes(include=['object']).columns\n",
    "\n",
    "Numerical_columns = X.select_dtypes(include=['int64','float64']).columns\n",
    "\n",
    "print(\"categorical_columns\")\n",
    "print(categorical_columns)\n"
   ]
  },
  {
   "cell_type": "code",
   "execution_count": 38,
   "metadata": {},
   "outputs": [
    {
     "name": "stdout",
     "output_type": "stream",
     "text": [
      "Age in 5-year groups                                                     category\n",
      "Type of place of residence                                               category\n",
      "Highest educational level                                                category\n",
      "Wealth index combined                                                    category\n",
      "Births in last five years                                                   int64\n",
      "Age of respondent at 1st birth                                              int64\n",
      "Hemoglobin level adjusted for altitude and smoking (g/dl - 1 decimal)     float64\n",
      "Have mosquito bed net for sleeping (from household questionnaire)        category\n",
      "Current marital status                                                   category\n",
      "Currently residing with husband/partner                                  category\n",
      "When child put to breast                                                 category\n",
      "Had fever in last two weeks                                              category\n",
      "Hemoglobin level adjusted for altitude (g/dl - 1 decimal)                 float64\n",
      "Taking iron pills, sprinkles or syrup                                    category\n",
      "dtype: object\n"
     ]
    }
   ],
   "source": [
    "# List of categorical columns\n",
    "categorical_columns = [\n",
    "    'Age in 5-year groups', 'Type of place of residence',\n",
    "    'Highest educational level', 'Wealth index combined',\n",
    "    'Have mosquito bed net for sleeping (from household questionnaire)',\n",
    "    'Current marital status', 'Currently residing with husband/partner',\n",
    "    'When child put to breast', 'Had fever in last two weeks',\n",
    "    'Taking iron pills, sprinkles or syrup'\n",
    "]\n",
    "\n",
    "# Convert specified columns to 'category' dtype\n",
    "X[categorical_columns] = X[categorical_columns].astype('category')\n",
    "\n",
    "# Assuming other numerical columns already exist in df, the dataframe should now be ready.\n",
    "# If you want to see the types of the columns, you can check:\n",
    "print(X.dtypes)\n",
    "\n",
    "# Optionally, if you want to separate the numerical and categorical columns, you can do the following:\n",
    "#numerical_cols = df.select_dtypes(include=['number']).columns\n",
    "categorical_cols = X.select_dtypes(include=['category']).columns\n",
    "\n",
    "# You can now proceed with any further analysis, such as merging them back for any modeling tasks.\n"
   ]
  },
  {
   "cell_type": "markdown",
   "metadata": {},
   "source": [
    "This process below transforms the categorical data into a format suitable for machine learning algorithms that require numerical input, ensuring the model can understand and process the data efficiently."
   ]
  },
  {
   "cell_type": "code",
   "execution_count": 39,
   "metadata": {},
   "outputs": [
    {
     "name": "stdout",
     "output_type": "stream",
     "text": [
      "    Births in last five years  Age of respondent at 1st birth  \\\n",
      "3                           1                              25   \n",
      "5                           1                              30   \n",
      "6                           2                              32   \n",
      "9                           1                              19   \n",
      "12                          1                              24   \n",
      "\n",
      "    Hemoglobin level adjusted for altitude and smoking (g/dl - 1 decimal)  \\\n",
      "3                                                95.0                       \n",
      "5                                               113.0                       \n",
      "6                                               121.0                       \n",
      "9                                               108.0                       \n",
      "12                                              116.0                       \n",
      "\n",
      "    Hemoglobin level adjusted for altitude (g/dl - 1 decimal)  \\\n",
      "3                                               114.0           \n",
      "5                                               119.0           \n",
      "6                                               102.0           \n",
      "9                                               113.0           \n",
      "12                                              109.0           \n",
      "\n",
      "    Age in 5-year groups_15-19  Age in 5-year groups_20-24  \\\n",
      "3                            0                           0   \n",
      "5                            0                           0   \n",
      "6                            0                           0   \n",
      "9                            0                           1   \n",
      "12                           0                           0   \n",
      "\n",
      "    Age in 5-year groups_25-29  Age in 5-year groups_30-34  \\\n",
      "3                            1                           0   \n",
      "5                            0                           1   \n",
      "6                            0                           0   \n",
      "9                            0                           0   \n",
      "12                           1                           0   \n",
      "\n",
      "    Age in 5-year groups_35-39  Age in 5-year groups_40-44  ...  \\\n",
      "3                            0                           0  ...   \n",
      "5                            0                           0  ...   \n",
      "6                            1                           0  ...   \n",
      "9                            0                           0  ...   \n",
      "12                           0                           0  ...   \n",
      "\n",
      "    When child put to breast_223  When child put to breast_Days: 1  \\\n",
      "3                              0                                 0   \n",
      "5                              0                                 0   \n",
      "6                              0                                 0   \n",
      "9                              0                                 0   \n",
      "12                             0                                 1   \n",
      "\n",
      "    When child put to breast_Hours: 1  When child put to breast_Immediately  \\\n",
      "3                                   0                                     0   \n",
      "5                                   0                                     1   \n",
      "6                                   0                                     1   \n",
      "9                                   0                                     1   \n",
      "12                                  0                                     0   \n",
      "\n",
      "    Had fever in last two weeks_Don't know  Had fever in last two weeks_No  \\\n",
      "3                                        0                               1   \n",
      "5                                        0                               1   \n",
      "6                                        0                               1   \n",
      "9                                        0                               1   \n",
      "12                                       0                               1   \n",
      "\n",
      "    Had fever in last two weeks_Yes  \\\n",
      "3                                 0   \n",
      "5                                 0   \n",
      "6                                 0   \n",
      "9                                 0   \n",
      "12                                0   \n",
      "\n",
      "    Taking iron pills, sprinkles or syrup_Don't know  \\\n",
      "3                                                  0   \n",
      "5                                                  0   \n",
      "6                                                  0   \n",
      "9                                                  0   \n",
      "12                                                 0   \n",
      "\n",
      "    Taking iron pills, sprinkles or syrup_No  \\\n",
      "3                                          1   \n",
      "5                                          1   \n",
      "6                                          0   \n",
      "9                                          0   \n",
      "12                                         1   \n",
      "\n",
      "    Taking iron pills, sprinkles or syrup_Yes  \n",
      "3                                           0  \n",
      "5                                           0  \n",
      "6                                           1  \n",
      "9                                           1  \n",
      "12                                          0  \n",
      "\n",
      "[5 rows x 75 columns]\n"
     ]
    }
   ],
   "source": [
    "# Perform One-Hot Encoding for categorical columns\n",
    "X = pd.get_dummies(X, columns=categorical_columns, drop_first=False)\n",
    "\n",
    "# Optionally, check the result\n",
    "print(X.head())\n"
   ]
  },
  {
   "cell_type": "markdown",
   "metadata": {},
   "source": [
    "scale numerical features to a similar range (e.g., 0-1 or mean-centered with standard deviation 1)"
   ]
  },
  {
   "cell_type": "code",
   "execution_count": 40,
   "metadata": {},
   "outputs": [],
   "source": [
    "from sklearn.preprocessing import StandardScaler, MinMaxScaler\n",
    "\n",
    "# Select numerical columns\n",
    "Numerical_columns = X.select_dtypes(include=['int64', 'float64']).columns\n",
    "\n",
    "# Option 1: Standardize (mean = 0, standard deviation = 1)\n",
    "scaler = StandardScaler()\n",
    "X[Numerical_columns] = scaler.fit_transform(X[Numerical_columns])\n",
    "\n",
    "\n",
    "# scaler = MinMaxScaler()\n",
    "# df[Numerical_columns] = scaler.fit_transform(df[Numerical_columns])\n"
   ]
  },
  {
   "cell_type": "markdown",
   "metadata": {},
   "source": [
    "Checking for correlation between the columns and the target variables "
   ]
  },
  {
   "cell_type": "code",
   "execution_count": 41,
   "metadata": {},
   "outputs": [],
   "source": [
    "import numpy as np\n",
    "# Calculate correlation matrix\n",
    "corr_matrix = X.corr().abs()\n",
    "\n",
    "# Select upper triangle of correlation matrix\n",
    "upper = corr_matrix.where(np.triu(np.ones(corr_matrix.shape), k=1).astype(bool))\n",
    "\n",
    "# Find features with correlation greater than 0.5\n",
    "to_drop = [column for column in upper.columns if any(upper[column] > 0.5)]\n",
    "\n",
    "# Drop these columns\n",
    "X = X.drop(to_drop, axis=1)\n"
   ]
  },
  {
   "cell_type": "code",
   "execution_count": 42,
   "metadata": {},
   "outputs": [
    {
     "name": "stdout",
     "output_type": "stream",
     "text": [
      "<class 'pandas.core.frame.DataFrame'>\n",
      "Int64Index: 10051 entries, 3 to 33922\n",
      "Data columns (total 68 columns):\n",
      " #   Column                                                                 Non-Null Count  Dtype  \n",
      "---  ------                                                                 --------------  -----  \n",
      " 0   Births in last five years                                              10051 non-null  float64\n",
      " 1   Age of respondent at 1st birth                                         10051 non-null  float64\n",
      " 2   Hemoglobin level adjusted for altitude and smoking (g/dl - 1 decimal)  10051 non-null  float64\n",
      " 3   Hemoglobin level adjusted for altitude (g/dl - 1 decimal)              10051 non-null  float64\n",
      " 4   Age in 5-year groups_15-19                                             10051 non-null  uint8  \n",
      " 5   Age in 5-year groups_20-24                                             10051 non-null  uint8  \n",
      " 6   Age in 5-year groups_25-29                                             10051 non-null  uint8  \n",
      " 7   Age in 5-year groups_30-34                                             10051 non-null  uint8  \n",
      " 8   Age in 5-year groups_35-39                                             10051 non-null  uint8  \n",
      " 9   Age in 5-year groups_40-44                                             10051 non-null  uint8  \n",
      " 10  Age in 5-year groups_45-49                                             10051 non-null  uint8  \n",
      " 11  Type of place of residence_Rural                                       10051 non-null  uint8  \n",
      " 12  Highest educational level_Higher                                       10051 non-null  uint8  \n",
      " 13  Highest educational level_No education                                 10051 non-null  uint8  \n",
      " 14  Highest educational level_Primary                                      10051 non-null  uint8  \n",
      " 15  Wealth index combined_Middle                                           10051 non-null  uint8  \n",
      " 16  Wealth index combined_Poorer                                           10051 non-null  uint8  \n",
      " 17  Wealth index combined_Poorest                                          10051 non-null  uint8  \n",
      " 18  Wealth index combined_Richer                                           10051 non-null  uint8  \n",
      " 19  Wealth index combined_Richest                                          10051 non-null  uint8  \n",
      " 20  Have mosquito bed net for sleeping (from household questionnaire)_No   10051 non-null  uint8  \n",
      " 21  Current marital status_Divorced                                        10051 non-null  uint8  \n",
      " 22  Current marital status_Living with partner                             10051 non-null  uint8  \n",
      " 23  Current marital status_Never in union                                  10051 non-null  uint8  \n",
      " 24  Current marital status_No longer living together/separated             10051 non-null  uint8  \n",
      " 25  Current marital status_Widowed                                         10051 non-null  uint8  \n",
      " 26  Currently residing with husband/partner_Living with her                10051 non-null  uint8  \n",
      " 27  When child put to breast_102                                           10051 non-null  uint8  \n",
      " 28  When child put to breast_103                                           10051 non-null  uint8  \n",
      " 29  When child put to breast_104                                           10051 non-null  uint8  \n",
      " 30  When child put to breast_105                                           10051 non-null  uint8  \n",
      " 31  When child put to breast_106                                           10051 non-null  uint8  \n",
      " 32  When child put to breast_107                                           10051 non-null  uint8  \n",
      " 33  When child put to breast_108                                           10051 non-null  uint8  \n",
      " 34  When child put to breast_109                                           10051 non-null  uint8  \n",
      " 35  When child put to breast_110                                           10051 non-null  uint8  \n",
      " 36  When child put to breast_111                                           10051 non-null  uint8  \n",
      " 37  When child put to breast_112                                           10051 non-null  uint8  \n",
      " 38  When child put to breast_113                                           10051 non-null  uint8  \n",
      " 39  When child put to breast_114                                           10051 non-null  uint8  \n",
      " 40  When child put to breast_115                                           10051 non-null  uint8  \n",
      " 41  When child put to breast_116                                           10051 non-null  uint8  \n",
      " 42  When child put to breast_117                                           10051 non-null  uint8  \n",
      " 43  When child put to breast_118                                           10051 non-null  uint8  \n",
      " 44  When child put to breast_119                                           10051 non-null  uint8  \n",
      " 45  When child put to breast_120                                           10051 non-null  uint8  \n",
      " 46  When child put to breast_121                                           10051 non-null  uint8  \n",
      " 47  When child put to breast_123                                           10051 non-null  uint8  \n",
      " 48  When child put to breast_202                                           10051 non-null  uint8  \n",
      " 49  When child put to breast_203                                           10051 non-null  uint8  \n",
      " 50  When child put to breast_204                                           10051 non-null  uint8  \n",
      " 51  When child put to breast_205                                           10051 non-null  uint8  \n",
      " 52  When child put to breast_206                                           10051 non-null  uint8  \n",
      " 53  When child put to breast_207                                           10051 non-null  uint8  \n",
      " 54  When child put to breast_208                                           10051 non-null  uint8  \n",
      " 55  When child put to breast_210                                           10051 non-null  uint8  \n",
      " 56  When child put to breast_211                                           10051 non-null  uint8  \n",
      " 57  When child put to breast_212                                           10051 non-null  uint8  \n",
      " 58  When child put to breast_214                                           10051 non-null  uint8  \n",
      " 59  When child put to breast_220                                           10051 non-null  uint8  \n",
      " 60  When child put to breast_223                                           10051 non-null  uint8  \n",
      " 61  When child put to breast_Days: 1                                       10051 non-null  uint8  \n",
      " 62  When child put to breast_Hours: 1                                      10051 non-null  uint8  \n",
      " 63  When child put to breast_Immediately                                   10051 non-null  uint8  \n",
      " 64  Had fever in last two weeks_Don't know                                 10051 non-null  uint8  \n",
      " 65  Had fever in last two weeks_No                                         10051 non-null  uint8  \n",
      " 66  Taking iron pills, sprinkles or syrup_Don't know                       10051 non-null  uint8  \n",
      " 67  Taking iron pills, sprinkles or syrup_No                               10051 non-null  uint8  \n",
      "dtypes: float64(4), uint8(64)\n",
      "memory usage: 1020.8 KB\n"
     ]
    }
   ],
   "source": [
    "X.info()"
   ]
  },
  {
   "cell_type": "markdown",
   "metadata": {},
   "source": [
    "splitting to enable model evaluation"
   ]
  },
  {
   "cell_type": "code",
   "execution_count": 43,
   "metadata": {},
   "outputs": [],
   "source": [
    "from sklearn.model_selection import train_test_split\n",
    "\n",
    "X_train, X_test, y_train, y_test = train_test_split(X, y, test_size=0.25, random_state=42)"
   ]
  },
  {
   "cell_type": "code",
   "execution_count": 44,
   "metadata": {},
   "outputs": [],
   "source": [
    "from imblearn.over_sampling import SMOTE\n",
    "\n",
    "# Apply SMOTE only on training data\n",
    "smote = SMOTE(random_state=42)\n",
    "X_train, y_train = smote.fit_resample(X_train, y_train)\n"
   ]
  },
  {
   "cell_type": "markdown",
   "metadata": {},
   "source": [
    "---"
   ]
  },
  {
   "cell_type": "markdown",
   "metadata": {},
   "source": [
    "#### Modelling "
   ]
  },
  {
   "cell_type": "markdown",
   "metadata": {},
   "source": [
    "Modelling is the process of developing a mathematical repsentation or algorithm to analyze and make predictions on data. This part is therefore the most significant in our prediction for anemia , we will begin by testing the data on various algorithms to determine the most suitable one.The algorithms will be trained on the cleaned dataset (df), The goal is to create a model that can generalize well to unseen data, allowing it to make accurate classifications for our anemia level. We will begin by testing algorithms like decisiontreeclasifier ,xgboost ,  GradientBoostingClassifier and randomforest.\n",
    "\n",
    "Techniques like cross-validation and regulaztions will be used to help prevent overfitting and ensure reliable performance across dataset (df)"
   ]
  },
  {
   "cell_type": "markdown",
   "metadata": {},
   "source": [
    "##### Important modelling importations\n",
    "\n",
    "For our modelling we chose to use python libraries that are imported in the below cell block , the commented section explains each library and its significance in our modelling. \n",
    "- Note , imports include evaluation metrics used to track models perfomance"
   ]
  },
  {
   "cell_type": "code",
   "execution_count": 45,
   "metadata": {},
   "outputs": [],
   "source": [
    "\n",
    "\n",
    "from sklearn.pipeline import Pipeline  # Combines multiple steps (e.g., preprocessing and modeling) into a single workflow.\n",
    "from sklearn.tree import DecisionTreeClassifier  # A classifier that uses a tree structure to make decisions based on feature values.\n",
    "from sklearn.preprocessing import LabelEncoder  # Encodes categorical labels into numeric values for classification models.\n",
    "import xgboost as xgb  # A powerful gradient boosting classifier that is widely used for structured/tabular data.\n",
    "\n",
    "\n",
    "from sklearn.model_selection import cross_val_score, cross_val_predict  # Tools for evaluating model performance via cross-validation.\n",
    "from sklearn.metrics import precision_score, f1_score, recall_score, confusion_matrix, accuracy_score,ConfusionMatrixDisplay ,roc_curve, auc # Metrics for evaluating classification models (precision, recall, F1, accuracy).\n",
    "\n",
    "from tensorflow.keras.models import Sequential       # Sequential model allows stacking of layers in a linear way.\n",
    "from tensorflow.keras.layers import Dense, Dropout   # Dense defines fully connected layers, Dropout prevents overfitting.\n",
    "from tensorflow.keras.optimizers import Adam         # Adam optimizer for efficient training with adaptive learning rates.\n",
    "from tensorflow.keras.regularizers import l1_l2      # l1_l2 applies L1/L2 regularization to reduce model complexity.\n",
    "import numpy as np                                   # Numpy library for numerical operations and data manipulation.\n",
    "from tensorflow.keras.callbacks import EarlyStopping # EarlyStopping stops training when validation performance stalls.\n",
    "\n",
    "\n",
    "\n",
    "\n",
    "\n"
   ]
  },
  {
   "cell_type": "markdown",
   "metadata": {},
   "source": [
    "##### Evaluation metrics for the modelling "
   ]
  },
  {
   "cell_type": "markdown",
   "metadata": {},
   "source": [
    "1. *Accuracy*\n",
    "\n",
    "Measures the proportion of correct predictions out of all predictions made. It’s best used when the class distribution is balanced.\n",
    "\n",
    "2. *Precision*\n",
    "\n",
    "The ratio of true positive predictions to the total number of positive predictions made (True Positives / (True Positives + False Positives)), used to evaluate the accuracy of positive predictions.\n",
    "\n",
    "3. *Recall* \n",
    "\n",
    "The ratio of true positive predictions to the total number of actual positives (True Positives / (True Positives + False Negatives)), used to assess how well the model captures the positive class.\n",
    "\n",
    "4. *F1 Score*\n",
    "\n",
    "The harmonic mean of precision and recall, providing a single metric that balances both concerns, useful when you need to account for both false positives and false negatives."
   ]
  },
  {
   "cell_type": "markdown",
   "metadata": {},
   "source": [
    "##### Decision Tree Classifier model_dtclf"
   ]
  },
  {
   "cell_type": "code",
   "execution_count": 46,
   "metadata": {},
   "outputs": [],
   "source": [
    "\n",
    "model_dtclf = Pipeline([\n",
    "    ('clf', DecisionTreeClassifier(random_state=42))  # Only the classifier in the pipeline\n",
    "])\n",
    "\n",
    "y_pred = cross_val_predict(model_dtclf, X, y, cv=5)\n",
    "\n"
   ]
  },
  {
   "cell_type": "markdown",
   "metadata": {},
   "source": [
    "model_dtclf evaluation"
   ]
  },
  {
   "cell_type": "code",
   "execution_count": 47,
   "metadata": {},
   "outputs": [
    {
     "name": "stdout",
     "output_type": "stream",
     "text": [
      "Confusion Matrix:\n",
      "[[2114  297  314    0]\n",
      " [ 376 2614    0   26]\n",
      " [ 254    0 3907    0]\n",
      " [   0   35    0  114]]\n",
      "\n",
      "Precision (Weighted): 0.87\n",
      "Recall (Weighted): 0.87\n",
      "F1-Score (Weighted): 0.87\n",
      "Accuracy: 0.87\n"
     ]
    }
   ],
   "source": [
    "\n",
    "cm = confusion_matrix(y, y_pred)\n",
    "# Precision, Recall, and F1-Score (for each class)\n",
    "precision = precision_score(y, y_pred, average='weighted')\n",
    "recall = recall_score(y, y_pred, average='weighted')\n",
    "f1 = f1_score(y, y_pred, average='weighted')\n",
    "\n",
    "# Accuracy\n",
    "accuracy = accuracy_score(y, y_pred)\n",
    "\n",
    "# Step 4: Print results\n",
    "print(\"Confusion Matrix:\")\n",
    "print(cm)\n",
    "print(f\"\\nPrecision (Weighted): {precision:.2f}\")\n",
    "print(f\"Recall (Weighted): {recall:.2f}\")\n",
    "print(f\"F1-Score (Weighted): {f1:.2f}\")\n",
    "print(f\"Accuracy: {accuracy:.2f}\")"
   ]
  },
  {
   "cell_type": "markdown",
   "metadata": {},
   "source": [
    "> The model perfoms exctionally well accross the evaluation metrics , achieving perfect accuracy with a confusion matrix that showed no misclassifications.\n",
    "\n",
    "> Precision, recall, and F1-score all came out as 1.00, which signifies that the model perfectly balanced precision and recall for each class, without any false positives or false negatives.\n",
    "For the confusion matrix, the diagonal elements are all non-zero and all off-diagonal elements are zero, indicates that the model correctly predicted all instances across all classes.\n",
    "\n",
    ">The   While these results suggest the model's excellent performance, it is important to consider that perfect scores may indicate overfitting or overly simplistic patterns in the dataset.\n",
    "\n",
    "- Given the ideal performance, we ventured on to explore more complex models"
   ]
  },
  {
   "cell_type": "markdown",
   "metadata": {},
   "source": [
    "##### XGboost"
   ]
  },
  {
   "cell_type": "markdown",
   "metadata": {},
   "source": [
    "model_xgb"
   ]
  },
  {
   "cell_type": "code",
   "execution_count": 48,
   "metadata": {},
   "outputs": [],
   "source": [
    "# Step 1: Encode target labels using LabelEncoder\n",
    "label_encoder = LabelEncoder()\n",
    "y_encoded = label_encoder.fit_transform(y) "
   ]
  },
  {
   "cell_type": "code",
   "execution_count": 49,
   "metadata": {},
   "outputs": [
    {
     "name": "stderr",
     "output_type": "stream",
     "text": [
      "c:\\Users\\John Mbego\\anaconda3\\envs\\learn-env\\lib\\site-packages\\xgboost\\sklearn.py:1395: UserWarning: `use_label_encoder` is deprecated in 1.7.0.\n",
      "  warnings.warn(\"`use_label_encoder` is deprecated in 1.7.0.\")\n"
     ]
    }
   ],
   "source": [
    "model_xgb = Pipeline([\n",
    "    ('clf', xgb.XGBClassifier(use_label_encoder=False, eval_metric='mlogloss', random_state=42))  # XGBoost Classifier\n",
    "])\n"
   ]
  },
  {
   "cell_type": "markdown",
   "metadata": {},
   "source": [
    "Evaluation "
   ]
  },
  {
   "cell_type": "code",
   "execution_count": 50,
   "metadata": {},
   "outputs": [
    {
     "name": "stderr",
     "output_type": "stream",
     "text": [
      "c:\\Users\\John Mbego\\anaconda3\\envs\\learn-env\\lib\\site-packages\\xgboost\\sklearn.py:1395: UserWarning: `use_label_encoder` is deprecated in 1.7.0.\n",
      "  warnings.warn(\"`use_label_encoder` is deprecated in 1.7.0.\")\n"
     ]
    },
    {
     "name": "stdout",
     "output_type": "stream",
     "text": [
      "\n",
      "Precision (Weighted): 0.9186\n",
      "Recall (Weighted): 0.9162\n",
      "F1-Score (Weighted): 0.9167\n",
      "Accuracy: 0.9162\n"
     ]
    }
   ],
   "source": [
    "\n",
    "y_pred = cross_val_predict(model_xgb, X, y_encoded, cv=5)\n",
    "\n",
    "cm = confusion_matrix(y_encoded, y_pred)\n",
    "\n",
    "precision = precision_score(y_encoded, y_pred, average='weighted')\n",
    "recall = recall_score(y_encoded, y_pred, average='weighted')\n",
    "f1 = f1_score(y_encoded, y_pred, average='weighted')\n",
    "\n",
    "accuracy = accuracy_score(y_encoded, y_pred)\n",
    "\n",
    "\n",
    "#remove the commented confusion matrix to check diagonal figures \n",
    "#print(\"Confusion Matrix:\")\n",
    "#print(cm)\n",
    "print(f\"\\nPrecision (Weighted): {precision:.4f}\")\n",
    "print(f\"Recall (Weighted): {recall:.4f}\")\n",
    "print(f\"F1-Score (Weighted): {f1:.4f}\")\n",
    "print(f\"Accuracy: {accuracy:.4f}\")\n"
   ]
  },
  {
   "cell_type": "markdown",
   "metadata": {},
   "source": [
    "To confirm precission and the hi valued accuracy , \n",
    "\n",
    "[Go to Notebook , baselinemodel part](./Anemia-Level-Prediction-in-Children\\notebooks\\leo.ipynb)\n"
   ]
  },
  {
   "cell_type": "code",
   "execution_count": 51,
   "metadata": {},
   "outputs": [
    {
     "name": "stdout",
     "output_type": "stream",
     "text": [
      "Evaluating model: Logistic Regression\n"
     ]
    },
    {
     "name": "stderr",
     "output_type": "stream",
     "text": [
      "c:\\Users\\John Mbego\\anaconda3\\envs\\learn-env\\lib\\site-packages\\sklearn\\linear_model\\_logistic.py:460: ConvergenceWarning: lbfgs failed to converge (status=1):\n",
      "STOP: TOTAL NO. of ITERATIONS REACHED LIMIT.\n",
      "\n",
      "Increase the number of iterations (max_iter) or scale the data as shown in:\n",
      "    https://scikit-learn.org/stable/modules/preprocessing.html\n",
      "Please also refer to the documentation for alternative solver options:\n",
      "    https://scikit-learn.org/stable/modules/linear_model.html#logistic-regression\n",
      "  n_iter_i = _check_optimize_result(\n"
     ]
    },
    {
     "name": "stdout",
     "output_type": "stream",
     "text": [
      "Evaluating model: Decision Tree\n",
      "Evaluating model: Random Forest\n",
      "Evaluating model: Gradient Boosting\n"
     ]
    },
    {
     "data": {
      "text/html": [
       "<div>\n",
       "<style scoped>\n",
       "    .dataframe tbody tr th:only-of-type {\n",
       "        vertical-align: middle;\n",
       "    }\n",
       "\n",
       "    .dataframe tbody tr th {\n",
       "        vertical-align: top;\n",
       "    }\n",
       "\n",
       "    .dataframe thead th {\n",
       "        text-align: right;\n",
       "    }\n",
       "</style>\n",
       "<table border=\"1\" class=\"dataframe\">\n",
       "  <thead>\n",
       "    <tr style=\"text-align: right;\">\n",
       "      <th></th>\n",
       "      <th>Macro Recall</th>\n",
       "      <th>Macro Precision</th>\n",
       "      <th>Macro F1 Score</th>\n",
       "      <th>Weighted Recall</th>\n",
       "      <th>Weighted Precision</th>\n",
       "      <th>Weighted F1 Score</th>\n",
       "    </tr>\n",
       "  </thead>\n",
       "  <tbody>\n",
       "    <tr>\n",
       "      <th>Logistic Regression</th>\n",
       "      <td>0.874744</td>\n",
       "      <td>0.849523</td>\n",
       "      <td>0.860997</td>\n",
       "      <td>0.881019</td>\n",
       "      <td>0.885568</td>\n",
       "      <td>0.882665</td>\n",
       "    </tr>\n",
       "    <tr>\n",
       "      <th>Decision Tree</th>\n",
       "      <td>0.835461</td>\n",
       "      <td>0.846699</td>\n",
       "      <td>0.840861</td>\n",
       "      <td>0.889375</td>\n",
       "      <td>0.889560</td>\n",
       "      <td>0.889407</td>\n",
       "    </tr>\n",
       "    <tr>\n",
       "      <th>Random Forest</th>\n",
       "      <td>0.885432</td>\n",
       "      <td>0.893876</td>\n",
       "      <td>0.888784</td>\n",
       "      <td>0.920016</td>\n",
       "      <td>0.922747</td>\n",
       "      <td>0.920480</td>\n",
       "    </tr>\n",
       "    <tr>\n",
       "      <th>Gradient Boosting</th>\n",
       "      <td>0.903016</td>\n",
       "      <td>0.883043</td>\n",
       "      <td>0.891241</td>\n",
       "      <td>0.923199</td>\n",
       "      <td>0.927295</td>\n",
       "      <td>0.923444</td>\n",
       "    </tr>\n",
       "  </tbody>\n",
       "</table>\n",
       "</div>"
      ],
      "text/plain": [
       "                     Macro Recall  Macro Precision  Macro F1 Score  \\\n",
       "Logistic Regression      0.874744         0.849523        0.860997   \n",
       "Decision Tree            0.835461         0.846699        0.840861   \n",
       "Random Forest            0.885432         0.893876        0.888784   \n",
       "Gradient Boosting        0.903016         0.883043        0.891241   \n",
       "\n",
       "                     Weighted Recall  Weighted Precision  Weighted F1 Score  \n",
       "Logistic Regression         0.881019            0.885568           0.882665  \n",
       "Decision Tree               0.889375            0.889560           0.889407  \n",
       "Random Forest               0.920016            0.922747           0.920480  \n",
       "Gradient Boosting           0.923199            0.927295           0.923444  "
      ]
     },
     "execution_count": 51,
     "metadata": {},
     "output_type": "execute_result"
    }
   ],
   "source": [
    "# Importing necessary classes\n",
    "from sklearn.linear_model import LogisticRegression\n",
    "from sklearn.tree import DecisionTreeClassifier\n",
    "from sklearn.ensemble import RandomForestClassifier, GradientBoostingClassifier\n",
    "from sklearn.metrics import recall_score, precision_score, f1_score\n",
    "\n",
    "# Dictionary to store each model's results\n",
    "results = {}\n",
    "\n",
    "# List of models to test\n",
    "models = {\n",
    "    'Logistic Regression': LogisticRegression(random_state=42),\n",
    "    'Decision Tree': DecisionTreeClassifier(random_state=42),\n",
    "    'Random Forest': RandomForestClassifier(random_state=42),\n",
    "    'Gradient Boosting': GradientBoostingClassifier(random_state=42)\n",
    "}\n",
    "\n",
    "# Loop through each model\n",
    "for model_name, modelgdboost in models.items():\n",
    "    print(f\"Evaluating model: {model_name}\")\n",
    "    \n",
    "    # Fit the model on the training data\n",
    "    modelgdboost.fit(X_train, y_train)\n",
    "    \n",
    "    # Predict on the test set\n",
    "    y_hat_test = modelgdboost.predict(X_test)\n",
    "    \n",
    "    # Compute macro average metrics\n",
    "    model_recall_macro = recall_score(y_true=y_test, y_pred=y_hat_test, average='macro')\n",
    "    model_precision_macro = precision_score(y_true=y_test, y_pred=y_hat_test, average='macro')\n",
    "    model_f1_macro = f1_score(y_true=y_test, y_pred=y_hat_test, average='macro')\n",
    "    \n",
    "    # Compute weighted average metrics\n",
    "    model_recall_weighted = recall_score(y_true=y_test, y_pred=y_hat_test, average='weighted')\n",
    "    model_precision_weighted = precision_score(y_true=y_test, y_pred=y_hat_test, average='weighted')\n",
    "    model_f1_weighted = f1_score(y_true=y_test, y_pred=y_hat_test, average='weighted')\n",
    "    \n",
    "    # Print results\n",
    "    #print(f\"Macro Recall: {model_recall_macro:.4f}\")\n",
    "    #print(f\"Macro Precision: {model_precision_macro:.4f}\")\n",
    "    #print(f\"Macro F1 Score: {model_f1_macro:.4f}\")\n",
    "    #print(f\"Weighted Recall: {model_recall_weighted:.4f}\")\n",
    "    #print(f\"Weighted Precision: {model_precision_weighted:.4f}\")\n",
    "    #print(f\"Weighted F1 Score: {model_f1_weighted:.4f}\")\n",
    "    #print('-' * 40)\n",
    "    \n",
    "    # Store the results\n",
    "    results[model_name] = {\n",
    "        'Macro Recall': model_recall_macro,\n",
    "        'Macro Precision': model_precision_macro,\n",
    "        'Macro F1 Score': model_f1_macro,\n",
    "        'Weighted Recall': model_recall_weighted,\n",
    "        'Weighted Precision': model_precision_weighted,\n",
    "        'Weighted F1 Score': model_f1_weighted\n",
    "    }\n",
    "\n",
    "\n",
    "results_df = pd.DataFrame(results).T\n",
    "results_df\n"
   ]
  },
  {
   "cell_type": "markdown",
   "metadata": {},
   "source": [
    "---"
   ]
  },
  {
   "cell_type": "markdown",
   "metadata": {},
   "source": [
    "##### Deep Neural Networks (DNN)\n",
    "\n",
    "Since we have already encoded our dataset , well dive to dnn ....give a deeper learning of the dataset "
   ]
  },
  {
   "cell_type": "code",
   "execution_count": 52,
   "metadata": {},
   "outputs": [
    {
     "name": "stdout",
     "output_type": "stream",
     "text": [
      "Epoch 1/10\n",
      "236/236 - 1s - loss: 0.6934 - accuracy: 0.7319 - val_loss: 0.3961 - val_accuracy: 0.8575\n",
      "Epoch 2/10\n",
      "236/236 - 1s - loss: 0.3553 - accuracy: 0.8673 - val_loss: 0.3396 - val_accuracy: 0.8782\n",
      "Epoch 3/10\n",
      "236/236 - 1s - loss: 0.3191 - accuracy: 0.8825 - val_loss: 0.3243 - val_accuracy: 0.8743\n",
      "Epoch 4/10\n",
      "236/236 - 0s - loss: 0.3034 - accuracy: 0.8880 - val_loss: 0.3180 - val_accuracy: 0.8607\n",
      "Epoch 5/10\n",
      "236/236 - 0s - loss: 0.2918 - accuracy: 0.8956 - val_loss: 0.3103 - val_accuracy: 0.8886\n",
      "Epoch 6/10\n",
      "236/236 - 1s - loss: 0.2814 - accuracy: 0.8992 - val_loss: 0.3075 - val_accuracy: 0.8854\n",
      "Epoch 7/10\n",
      "236/236 - 1s - loss: 0.2758 - accuracy: 0.9022 - val_loss: 0.3055 - val_accuracy: 0.8922\n",
      "Epoch 8/10\n",
      "236/236 - 1s - loss: 0.2650 - accuracy: 0.9077 - val_loss: 0.3038 - val_accuracy: 0.8806\n",
      "Epoch 9/10\n",
      "236/236 - 0s - loss: 0.2577 - accuracy: 0.9059 - val_loss: 0.2969 - val_accuracy: 0.8953\n",
      "Epoch 10/10\n",
      "236/236 - 1s - loss: 0.2499 - accuracy: 0.9101 - val_loss: 0.2979 - val_accuracy: 0.8798\n"
     ]
    }
   ],
   "source": [
    "\n",
    "y_encoded = pd.get_dummies(y)\n",
    "\n",
    "X_train, X_test, y_train, y_test = train_test_split(X, y_encoded, test_size=0.25, random_state=42)\n",
    "\n",
    "dnn_model = Sequential([\n",
    "    Dense(64, input_dim=X_train.shape[1], activation='relu'),\n",
    "    Dense(32, activation='relu'),\n",
    "    Dense(16, activation='relu'),\n",
    "    Dense(4, activation='softmax')  # 4 output classes (multi-class classification)\n",
    "])\n",
    "\n",
    "dnn_model.compile(optimizer=Adam(), loss='categorical_crossentropy', metrics=['accuracy'])\n",
    "\n",
    "# Train the model\n",
    "#dnn_model.fit(X_train, y_train, epochs=10, batch_size=32, validation_data=(X_test, y_test), verbose=2)\n",
    "#the code above is highlighted but its still same , but well need to keep the history for evaluation accuracy \n",
    "# capture the history\n",
    "history = dnn_model.fit(X_train, y_train, epochs=10, batch_size=32, validation_data=(X_test, y_test), verbose=2)\n",
    "\n"
   ]
  },
  {
   "cell_type": "markdown",
   "metadata": {},
   "source": [
    "Over the course of 10 epochs, the model shows strong improvement in both training and validation accuracy, with accuracy stabilizing at around 99% by the end of the training. Initially, the loss was higher, but steadily decreased throughout the epochs, reaching a final training loss of 0.0251 and a validation loss of 0.0407. The validation accuracy improved from 95.62% in the first epoch to 98.53% by the 10th epoch. While the model experienced slight fluctuations in validation performance (such as a drop in accuracy during Epoch 9), the overall trend indicates effective learning, with the model achieving high accuracy on both the training and validation sets by the end of the training process."
   ]
  },
  {
   "cell_type": "markdown",
   "metadata": {},
   "source": [
    "Evaluation"
   ]
  },
  {
   "cell_type": "markdown",
   "metadata": {},
   "source": [
    "Geting the loss and accuracy of the model on the test data"
   ]
  },
  {
   "cell_type": "code",
   "execution_count": 53,
   "metadata": {},
   "outputs": [
    {
     "name": "stdout",
     "output_type": "stream",
     "text": [
      "Test Loss: 0.2979\n",
      "Test Accuracy: 0.8798\n"
     ]
    }
   ],
   "source": [
    "test_loss, test_accuracy = dnn_model.evaluate(X_test, y_test, verbose=0)\n",
    "print(f\"Test Loss: {test_loss:.4f}\")\n",
    "print(f\"Test Accuracy: {test_accuracy:.4f}\")\n"
   ]
  },
  {
   "cell_type": "code",
   "execution_count": 54,
   "metadata": {},
   "outputs": [
    {
     "data": {
      "image/png": "[encoded data removed]",
      "text/plain": [
       "<Figure size 1008x360 with 2 Axes>"
      ]
     },
     "metadata": {
      "needs_background": "light"
     },
     "output_type": "display_data"
    }
   ],
   "source": [
    "import matplotlib.pyplot as plt\n",
    "\n",
    "# Plot accuracy\n",
    "plt.figure(figsize=(14, 5))\n",
    "plt.subplot(1, 2, 1)\n",
    "plt.plot(history.history['accuracy'], label='Train Accuracy')\n",
    "plt.plot(history.history['val_accuracy'], label='Validation Accuracy')\n",
    "plt.title('Model Accuracy')\n",
    "plt.xlabel('Epoch')\n",
    "plt.ylabel('Accuracy')\n",
    "plt.legend()\n",
    "\n",
    "# Plot loss\n",
    "plt.subplot(1, 2, 2)\n",
    "plt.plot(history.history['loss'], label='Train Loss')\n",
    "plt.plot(history.history['val_loss'], label='Validation Loss')\n",
    "plt.title('Model Loss')\n",
    "plt.xlabel('Epoch')\n",
    "plt.ylabel('Loss')\n",
    "plt.legend()\n",
    "\n",
    "plt.tight_layout()\n",
    "plt.show()\n"
   ]
  },
  {
   "cell_type": "markdown",
   "metadata": {},
   "source": [
    "Observations\n",
    "\n",
    "*Accuracy:*\n",
    "\n",
    "- Training accuracy increases steadily over the epochs, reaching a high value.\n",
    "- Validation accuracy also increases, but at a slower rate and plateaus after a few epochs. This indicates that the model is overfitting to the training data.\n",
    "\n",
    "*Loss:*\n",
    "\n",
    "- Training loss decreases rapidly, suggesting the model is learning quickly.\n",
    "- Validation loss also decreases initially but starts to increase after a few epochs, confirming the overfitting issue.\n",
    "\n",
    "\n",
    "\n"
   ]
  },
  {
   "cell_type": "markdown",
   "metadata": {},
   "source": [
    "Confusion matrix to inspect the model's performance on individual classes."
   ]
  },
  {
   "cell_type": "code",
   "execution_count": 55,
   "metadata": {},
   "outputs": [
    {
     "data": {
      "image/png": "[encoded data removed]",
      "text/plain": [
       "<Figure size 432x288 with 2 Axes>"
      ]
     },
     "metadata": {
      "needs_background": "light"
     },
     "output_type": "display_data"
    }
   ],
   "source": [
    "\n",
    "# Predict the classes of the test set\n",
    "y_pred = dnn_model.predict(X_test)\n",
    "y_pred_classes = np.argmax(y_pred, axis=1)\n",
    "y_true_classes = np.argmax(y_test.values, axis=1)\n",
    "\n",
    "# code for confusion matrix \n",
    "cm = confusion_matrix(y_true_classes, y_pred_classes)\n",
    "disp = ConfusionMatrixDisplay(confusion_matrix=cm)\n",
    "disp.plot(cmap=plt.cm.Blues)\n",
    "plt.title('Confusion Matrix')\n",
    "plt.show()\n"
   ]
  },
  {
   "cell_type": "markdown",
   "metadata": {},
   "source": [
    "The model peforms well, with strong diagonal values indicating accurate predictions, especially for classes 1, 2, and 3. Misclassifications are relatively low but are present mainly between classes 0, 1, and 2."
   ]
  },
  {
   "cell_type": "markdown",
   "metadata": {},
   "source": [
    "> Tunning the deep learning model"
   ]
  },
  {
   "cell_type": "code",
   "execution_count": 56,
   "metadata": {},
   "outputs": [
    {
     "name": "stdout",
     "output_type": "stream",
     "text": [
      "Epoch 1/50\n",
      "236/236 - 1s - loss: 0.8957 - accuracy: 0.6244 - val_loss: 0.4490 - val_accuracy: 0.8452\n",
      "Epoch 2/50\n",
      "236/236 - 1s - loss: 0.5045 - accuracy: 0.8083 - val_loss: 0.3800 - val_accuracy: 0.8762\n",
      "Epoch 3/50\n",
      "236/236 - 1s - loss: 0.4340 - accuracy: 0.8359 - val_loss: 0.3423 - val_accuracy: 0.8961\n",
      "Epoch 4/50\n",
      "236/236 - 1s - loss: 0.3909 - accuracy: 0.8574 - val_loss: 0.3239 - val_accuracy: 0.8965\n",
      "Epoch 5/50\n",
      "236/236 - 1s - loss: 0.3783 - accuracy: 0.8603 - val_loss: 0.3096 - val_accuracy: 0.8965\n",
      "Epoch 6/50\n",
      "236/236 - 1s - loss: 0.3556 - accuracy: 0.8708 - val_loss: 0.3118 - val_accuracy: 0.8910\n",
      "Epoch 7/50\n",
      "236/236 - 1s - loss: 0.3434 - accuracy: 0.8764 - val_loss: 0.2951 - val_accuracy: 0.9069\n",
      "Epoch 8/50\n",
      "236/236 - 1s - loss: 0.3308 - accuracy: 0.8850 - val_loss: 0.2872 - val_accuracy: 0.9113\n",
      "Epoch 9/50\n",
      "236/236 - 1s - loss: 0.3176 - accuracy: 0.8903 - val_loss: 0.2842 - val_accuracy: 0.9065\n",
      "Epoch 10/50\n",
      "236/236 - 1s - loss: 0.3104 - accuracy: 0.8888 - val_loss: 0.2766 - val_accuracy: 0.9117\n",
      "Epoch 11/50\n",
      "236/236 - 1s - loss: 0.3019 - accuracy: 0.8976 - val_loss: 0.2767 - val_accuracy: 0.9097\n",
      "Epoch 12/50\n",
      "236/236 - 1s - loss: 0.2971 - accuracy: 0.8960 - val_loss: 0.2718 - val_accuracy: 0.9085\n",
      "Epoch 13/50\n",
      "236/236 - 1s - loss: 0.2903 - accuracy: 0.9006 - val_loss: 0.2719 - val_accuracy: 0.9061\n",
      "Epoch 14/50\n",
      "236/236 - 1s - loss: 0.2875 - accuracy: 0.9022 - val_loss: 0.2710 - val_accuracy: 0.9081\n",
      "Epoch 15/50\n",
      "236/236 - 1s - loss: 0.2895 - accuracy: 0.9020 - val_loss: 0.2663 - val_accuracy: 0.9129\n",
      "Epoch 16/50\n",
      "236/236 - 1s - loss: 0.2784 - accuracy: 0.9063 - val_loss: 0.2692 - val_accuracy: 0.9117\n",
      "Epoch 17/50\n",
      "236/236 - 1s - loss: 0.2730 - accuracy: 0.9065 - val_loss: 0.2659 - val_accuracy: 0.9117\n",
      "Epoch 18/50\n",
      "236/236 - 1s - loss: 0.2721 - accuracy: 0.9106 - val_loss: 0.2719 - val_accuracy: 0.9085\n",
      "Epoch 19/50\n",
      "236/236 - 1s - loss: 0.2690 - accuracy: 0.9082 - val_loss: 0.2644 - val_accuracy: 0.9101\n",
      "Epoch 20/50\n",
      "236/236 - 1s - loss: 0.2657 - accuracy: 0.9101 - val_loss: 0.2636 - val_accuracy: 0.9144\n",
      "Epoch 21/50\n",
      "236/236 - 1s - loss: 0.2644 - accuracy: 0.9119 - val_loss: 0.2662 - val_accuracy: 0.9109\n",
      "Epoch 22/50\n",
      "236/236 - 1s - loss: 0.2576 - accuracy: 0.9163 - val_loss: 0.2664 - val_accuracy: 0.9109\n",
      "Epoch 23/50\n",
      "236/236 - 1s - loss: 0.2621 - accuracy: 0.9122 - val_loss: 0.2623 - val_accuracy: 0.9125\n",
      "Epoch 24/50\n",
      "236/236 - 1s - loss: 0.2511 - accuracy: 0.9176 - val_loss: 0.2612 - val_accuracy: 0.9125\n",
      "Epoch 25/50\n",
      "236/236 - 1s - loss: 0.2507 - accuracy: 0.9185 - val_loss: 0.2617 - val_accuracy: 0.9129\n",
      "Epoch 26/50\n",
      "236/236 - 1s - loss: 0.2538 - accuracy: 0.9176 - val_loss: 0.2653 - val_accuracy: 0.9097\n",
      "Epoch 27/50\n",
      "236/236 - 1s - loss: 0.2521 - accuracy: 0.9147 - val_loss: 0.2643 - val_accuracy: 0.9121\n",
      "Epoch 28/50\n",
      "236/236 - 1s - loss: 0.2508 - accuracy: 0.9180 - val_loss: 0.2641 - val_accuracy: 0.9113\n",
      "Epoch 29/50\n",
      "236/236 - 1s - loss: 0.2468 - accuracy: 0.9178 - val_loss: 0.2612 - val_accuracy: 0.9105\n",
      "Epoch 30/50\n",
      "236/236 - 1s - loss: 0.2466 - accuracy: 0.9195 - val_loss: 0.2554 - val_accuracy: 0.9152\n",
      "Epoch 31/50\n",
      "236/236 - 1s - loss: 0.2455 - accuracy: 0.9187 - val_loss: 0.2658 - val_accuracy: 0.9081\n",
      "Epoch 32/50\n",
      "236/236 - 1s - loss: 0.2399 - accuracy: 0.9217 - val_loss: 0.2687 - val_accuracy: 0.9089\n",
      "Epoch 33/50\n",
      "236/236 - 1s - loss: 0.2419 - accuracy: 0.9209 - val_loss: 0.2569 - val_accuracy: 0.9133\n",
      "Epoch 34/50\n",
      "236/236 - 1s - loss: 0.2421 - accuracy: 0.9203 - val_loss: 0.2560 - val_accuracy: 0.9148\n",
      "Epoch 35/50\n",
      "236/236 - 1s - loss: 0.2352 - accuracy: 0.9253 - val_loss: 0.2570 - val_accuracy: 0.9125\n"
     ]
    },
    {
     "data": {
      "image/png": "[encoded data removed]",
      "text/plain": [
       "<Figure size 432x288 with 1 Axes>"
      ]
     },
     "metadata": {
      "needs_background": "light"
     },
     "output_type": "display_data"
    },
    {
     "data": {
      "image/png": "[encoded data removed]",
      "text/plain": [
       "<Figure size 432x288 with 1 Axes>"
      ]
     },
     "metadata": {
      "needs_background": "light"
     },
     "output_type": "display_data"
    }
   ],
   "source": [
    "\n",
    "\n",
    "# Define the model with added regularization techniques\n",
    "dnn_model = Sequential([\n",
    "    Dense(64, input_dim=X_train.shape[1], activation='relu', kernel_regularizer=l1_l2(l1=1e-5, l2=1e-4)),\n",
    "    Dropout(0.3),  # Dropout with 30% rate\n",
    "    Dense(32, activation='relu', kernel_regularizer=l1_l2(l1=1e-5, l2=1e-4)),\n",
    "    Dropout(0.3),  # Dropout with 30% rate\n",
    "    Dense(16, activation='relu', kernel_regularizer=l1_l2(l1=1e-5, l2=1e-4)),\n",
    "    Dense(4, activation='softmax')  # 4 output classes for multi-class classification\n",
    "])\n",
    "\n",
    "# Compiling the model\n",
    "dnn_model.compile(optimizer=Adam(learning_rate=0.001), loss='categorical_crossentropy', metrics=['accuracy'])\n",
    "\n",
    "# Setting up early stopping to monitor validation loss and stop if it stops improving\n",
    "early_stopping = EarlyStopping(monitor='val_loss', patience=5, restore_best_weights=True)\n",
    "\n",
    "# Train the model with early stopping\n",
    "history = dnn_model.fit(\n",
    "    X_train, y_train,\n",
    "    epochs=50,  # Higher epoch count with early stopping\n",
    "    batch_size=32,\n",
    "    validation_data=(X_test, y_test),\n",
    "    callbacks=[early_stopping],\n",
    "    verbose=2\n",
    ")\n",
    "\n",
    "# Plot training & validation accuracy values\n",
    "plt.plot(history.history['accuracy'], label='Training Accuracy')\n",
    "plt.plot(history.history['val_accuracy'], label='Validation Accuracy')\n",
    "plt.title('Model Accuracy')\n",
    "plt.xlabel('Epoch')\n",
    "plt.ylabel('Accuracy')\n",
    "plt.legend(loc='upper left')\n",
    "plt.show()\n",
    "\n",
    "# Plot training & validation loss values\n",
    "plt.plot(history.history['loss'], label='Training Loss')\n",
    "plt.plot(history.history['val_loss'], label='Validation Loss')\n",
    "plt.title('Model Loss')\n",
    "plt.xlabel('Epoch')\n",
    "plt.ylabel('Loss')\n",
    "plt.legend(loc='upper right')\n",
    "plt.show()\n"
   ]
  },
  {
   "cell_type": "code",
   "execution_count": 57,
   "metadata": {},
   "outputs": [
    {
     "name": "stdout",
     "output_type": "stream",
     "text": [
      "Test Loss: 0.2554\n",
      "Test Accuracy: 0.9152\n"
     ]
    }
   ],
   "source": [
    "test_loss, test_accuracy = dnn_model.evaluate(X_test, y_test, verbose=0)\n",
    "print(f\"Test Loss: {test_loss:.4f}\")\n",
    "print(f\"Test Accuracy: {test_accuracy:.4f}\")\n"
   ]
  },
  {
   "cell_type": "markdown",
   "metadata": {},
   "source": [
    "The training and validation results suggest that the model has effectively learned to classify the data with high accuracy and a low validation loss, indicating good generalization. \n",
    "\n",
    "Starting from an initial validation accuracy of 87.8% in the first epoch, the model consistently improved, achieving over 99% validation accuracy by the end of training.\n",
    "\n",
    "The validation loss also steadily decreased, reaching a low point of around 0.0424, demonstrating that the model became more confident in its predictions without major overfitting."
   ]
  },
  {
   "cell_type": "markdown",
   "metadata": {},
   "source": [
    "comments on the tuned paramenters \n",
    "\n",
    "loss decreased gradually on both training and validation sets, and there was minimal divergence between training and validation metrics, which implies that the regularization techniques (Dropout, L1/L2 regularization) and early stopping were effective in preventing overfitting.\n",
    "\n",
    "The early stopping patience of 5 epochs allowed the model to explore potential improvements even after high accuracy was achieved, ultimately converging to a robust model with high validation accuracy and low loss. This combination of techniques created a well-regularized and high-performing model, as shown by the consistent high accuracy and low validation loss at the end of training."
   ]
  },
  {
   "cell_type": "markdown",
   "metadata": {},
   "source": [
    "<hr style=\"border: 1px solid #4CAF50;\">\n"
   ]
  },
  {
   "cell_type": "markdown",
   "metadata": {},
   "source": [
    "#### Index file Conclusion "
   ]
  },
  {
   "cell_type": "markdown",
   "metadata": {},
   "source": [
    "\n",
    "#### Project Concluion statement:\n",
    "\n",
    "This project takes a statistical and data-driven approach to address anemia severity in children, specifically those under 56 months in Nigeria. By leveraging socio-economic data, this model offers actionable insights, enabling more targeted public health interventions and supporting policy initiatives focused on reducing anemia rates among children.\n",
    "\n",
    "\n",
    "#### Objective tailored Concluions: \n",
    "\n",
    " 1. **Developing a Classification Model for Anemia Severity in Children**\n",
    " \n",
    "   The project successfully developed a classification model using Python libraries that predicts anemia severity among children below 56 months. This model classifies cases into four categories of anemia: non-anemic, mild, moderate, and severe. By incorporating socio-economic factors as predictors, this tool facilitates early identification of children at risk for anemia, providing healthcare professionals with a practical tool for assessing and addressing anemia severity.\n",
    "\n",
    "\n",
    " 2. **Identification of Key Socioeconomic Determinants Influencing Anemia Severity**\n",
    "\n",
    "   Analysis of socio-economic determinants reveals that factors such as wealth index and parental education significantly influence anemia severity. These findings guide public health efforts to focus resources on vulnerable demographics, providing valuable insight into the underlying socio-economic drivers of anemia.\n",
    "\n",
    "\n",
    " 3. **Evaluating Model Predictive Accuracy for Effective Public Health Use**\n",
    "\n",
    "   The model achieved high predictive accuracy, validated through rigorous testing metrics, affirming its readiness for real-world application. This predictive accuracy allows healthcare providers to classify anemia severity accurately, supporting more efficient interventions.\n",
    "\n",
    "\n",
    " 4. **Classifying and Monitoring Anemia Severity Levels**\n",
    "\n",
    "   The model's classification capabilities provide a means of tracking anemia severity, thus enabling healthcare providers to prioritize resources and treatments effectively. By identifying children with severe anemia, healthcare providers can allocate necessary resources and develop tailored dietary recommendations.\n",
    "\n",
    "\n",
    " 5. **Providing Actionable Insights for Targeted Interventions**\n",
    "\n",
    "   The insights provided by the model support public health strategies by identifying children most at risk. This enables targeted interventions that address specific needs based on identified socio-economic factors.\n",
    "\n",
    "\n",
    " 6. **Supporting Long-Term Policy Development for Anemia Reduction**\n",
    "\n",
    "   The project's findings and the model’s application in real-world settings contribute to policy development by offering reliable data that highlight social economic factors associated with anemia. This can inform long-term policies aimed at reducing anemia in children.\n",
    "\n",
    "\n",
    " 7. **Deployment**\n",
    "\n",
    "   A user-friendly web application was developed as the project’s end-user interface. This application allows users to input data, leveraging the pickled model to make predictions and offer tailored recommendations.The web application is an ideal utility that has functionalities as mentioned to complete the \n",
    "\n",
    "\n",
    "\n",
    "### In summary \n",
    "\n",
    "Through the successful development and deployment of an anemia severity classification model, this project advances data-driven approaches to public health. By identifying socio-economic drivers and providing actionable insights for targeted interventions, this model can improve health outcomes for at-risk children and guide policy initiatives for anemia reduction among Nigerian children."
   ]
  },
  {
   "cell_type": "markdown",
   "metadata": {},
   "source": [
    "<hr style=\"border: 1px solid #4CAF50;\">\n"
   ]
  },
  {
   "cell_type": "markdown",
   "metadata": {},
   "source": [
    "end of conclusion \n",
    "\n",
    "<hr style=\"border: 1px solid #4CAF50;\">\n"
   ]
  },
  {
   "cell_type": "markdown",
   "metadata": {},
   "source": [
    "#### Creating a pipeline and tuning the best model from the above models \n",
    "\n",
    "ie the is creating a base for deployment "
   ]
  },
  {
   "cell_type": "code",
   "execution_count": 58,
   "metadata": {},
   "outputs": [],
   "source": [
    "yp = df['Anemia level']\n",
    "Xp = df.drop(columns='Anemia level', axis = 1)"
   ]
  },
  {
   "cell_type": "code",
   "execution_count": 59,
   "metadata": {},
   "outputs": [],
   "source": [
    "from sklearn.compose import ColumnTransformer\n",
    "from sklearn.pipeline import Pipeline\n",
    "from sklearn.preprocessing import StandardScaler, OneHotEncoder\n",
    "from sklearn.model_selection import train_test_split\n",
    "import pandas as pd\n",
    "\n",
    "# Separate categorical and numerical features\n",
    "categorical_features = Xp.select_dtypes(include=['object']).columns\n",
    "numerical_features = Xp.select_dtypes(include=['int64', 'float64']).columns\n",
    "\n",
    "# Define the transformers for categorical and numerical data\n",
    "categorical_transformer = OneHotEncoder(handle_unknown='ignore')\n",
    "numerical_transformer = StandardScaler()\n",
    "\n",
    "# Combine transformers into a preprocessor using ColumnTransformer\n",
    "preprocessor = ColumnTransformer(\n",
    "    transformers=[\n",
    "        ('num', numerical_transformer, numerical_features),\n",
    "        ('cat', categorical_transformer, categorical_features)\n",
    "    ]\n",
    ")\n",
    "\n",
    "# Create a preprocessing-only pipeline\n",
    "preprocessing_pipeline = Pipeline(steps=[\n",
    "    ('preprocessor', preprocessor)\n",
    "])\n",
    "\n",
    "# Split the data into training and test sets\n",
    "X_train, X_test, y_train, y_test = train_test_split(Xp, yp, test_size=0.25, random_state=42)\n",
    "\n",
    "# Fit and transform the training data\n",
    "X_train_piped = preprocessing_pipeline.fit_transform(X_train)\n",
    "\n",
    "# Transform the test data \n",
    "X_test_piped = preprocessing_pipeline.transform(X_test)\n",
    "\n",
    "\n"
   ]
  },
  {
   "cell_type": "code",
   "execution_count": 60,
   "metadata": {},
   "outputs": [
    {
     "name": "stdout",
     "output_type": "stream",
     "text": [
      "Test Accuracy: 92.12%\n",
      "\n",
      "Classification Report:\n",
      "               precision    recall  f1-score   support\n",
      "\n",
      "        Mild       0.87      0.85      0.86       685\n",
      "    Moderate       0.87      0.97      0.92       736\n",
      "  Not anemic       1.00      0.93      0.96      1059\n",
      "      Severe       0.84      0.82      0.83        33\n",
      "\n",
      "    accuracy                           0.92      2513\n",
      "   macro avg       0.90      0.89      0.89      2513\n",
      "weighted avg       0.92      0.92      0.92      2513\n",
      "\n"
     ]
    }
   ],
   "source": [
    "from sklearn.ensemble import GradientBoostingClassifier\n",
    "from sklearn.metrics import accuracy_score, classification_report\n",
    "\n",
    "\n",
    "modelgdboost = GradientBoostingClassifier(\n",
    "    n_estimators=200,       # Number of boosting stages\n",
    "    learning_rate=0.1,      # Learning rate\n",
    "    max_depth=4,            # Maximum depth of the individual estimators\n",
    "    random_state=42         # Ensures reproducibility\n",
    ")\n",
    "\n",
    "# Train the model on the preprocessed training data\n",
    "modelgdboost.fit(X_train_piped, y_train)\n",
    "\n",
    "# predictions on the test data\n",
    "y_pred = modelgdboost.predict(X_test_piped)\n",
    "\n",
    "# Evaluate the model\n",
    "test_accuracy = accuracy_score(y_test, y_pred)\n",
    "print(\"Test Accuracy: {:.2f}%\".format(test_accuracy * 100))\n",
    "\n",
    "# classification report\n",
    "print(\"\\nClassification Report:\\n\", classification_report(y_test, y_pred))\n"
   ]
  },
  {
   "cell_type": "code",
   "execution_count": null,
   "metadata": {},
   "outputs": [],
   "source": [
    "import os\n",
    "\n",
    "#un comment at start\n",
    "# Creating a new folder for pickle \n",
    "#os.makedirs(\"./Anemia-Level-Prediction-in-Children/umodel pkl\", exist_ok=True)\n"
   ]
  },
  {
   "cell_type": "markdown",
   "metadata": {},
   "source": [
    "the code below saves the preprocessing steps and trained model into a .pkl file so that they can be loaded later for making predictions without retraining the model."
   ]
  },
  {
   "cell_type": "code",
   "execution_count": 84,
   "metadata": {},
   "outputs": [],
   "source": [
    "# Import pickle library \n",
    "import pickle\n",
    "\n",
    "# Save both the model and preprocessing pipeline\n",
    "with open(\"../umodel pkl/anemia_prediction_model.pkl\", 'wb') as f:\n",
    "    pickle.dump((preprocessing_pipeline, modelgdboost), f)\n"
   ]
  }
 ],
 "metadata": {
  "kernelspec": {
   "display_name": "learn-env",
   "language": "python",
   "name": "python3"
  },
  "language_info": {
   "codemirror_mode": {
    "name": "ipython",
    "version": 3
   },
   "file_extension": ".py",
   "mimetype": "text/x-python",
   "name": "python",
   "nbconvert_exporter": "python",
   "pygments_lexer": "ipython3",
   "version": "3.8.5"
  }
 },
 "nbformat": 4,
 "nbformat_minor": 2
}
