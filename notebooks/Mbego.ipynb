{
 "cells": [
  {
   "cell_type": "markdown",
   "metadata": {},
   "source": [
    "## Title"
   ]
  },
  {
   "cell_type": "markdown",
   "metadata": {},
   "source": [
    "### **Anemia Level Prediction in Children**"
   ]
  },
  {
   "cell_type": "markdown",
   "metadata": {},
   "source": [
    "## Intoroduction "
   ]
  },
  {
   "cell_type": "markdown",
   "metadata": {},
   "source": [
    "Anemia affects millions of children worldwide, impacting their health, growth, and cognitive development. Early detection is crucial for timely intervention, yet traditional diagnostic methods can be costly, time-consuming, and often inaccessible, especially in low-resource settings. This therefore brings a problem highlighted clearly in the **problem statement** below "
   ]
  },
  {
   "cell_type": "markdown",
   "metadata": {},
   "source": [
    "### Problem Statement\n",
    "\n",
    "Childhood anemia is a critical public health issue,  ([World Health Organisation](https://www.who.int/data/gho/data/indicators/indicator-details/GHO/prevalence-of-anaemia-in-children-under-5-years-(-))), leading to adverse impacts on cognitive and physical development, educational attainment, and overall quality of life. Despite its prevalence, anemia in Nigerian children often goes undiagnosed and untreated due to limited healthcare access, high diagnostic costs, and a lack of awareness about the condition([UNICEF, 2021](https://www.unicef.org/nigeria/reports/childhood-anemia-report)). This situation calls for innovative, accessible approaches to early diagnosis and intervention to reduce the burden of anemia and improve the health outcomes of vulnerable children across Nigeria.In our model we seek to outdo this nightmare, with a combination of machine learning,good featured dataset and data science experts the bussiness statement therefore takes you through an highlight of how this is possible."
   ]
  },
  {
   "cell_type": "markdown",
   "metadata": {},
   "source": [
    "### Business Understanding \n",
    "\n",
    "\n",
    "This project addresses childhood anemia, a significant public health concern that adversely affects cognitive and physical development in children. By analyzing a comprehensive dataset that captures key demographic, health, and socio-economic variables, we aim to identify and mitigate the causes of anemia in diverse communities. The dataset includes age groups ranging from 15 to 49 years, with respondents living in both urban and rural areas. Educational levels span from no education to higher education, while the wealth index is classified from poorest to richest.\n",
    "\n",
    "Key health indicators, including hemoglobin levels, iron supplementation status, and malaria exposure, are crucial for assessing anemia risk (World Health Organization, 2017; Nigerian Ministry of Health, 2018) [(WHO, 2017)](https://www.who.int/publications/i/item/9789241513067). The dataset reveals a range of hemoglobin levels from 20 to 218 g/dL and categorizes anemia into mild, moderate, severe, and not anemic. It also reflects that respondents have had between 1 to 6 births in the last five years, with information on whether children experienced fever in the last two weeks (yes, no, or don’t know) and if they are taking iron supplements (yes, no, or don’t know). Additionally, it examines living conditions, such as the availability of mosquito bed nets and the smoking status of caregivers.\n",
    "\n",
    "This project is crucial for developing targeted interventions tailored to high-risk groups, optimizing resource allocation. It will raise awareness about the importance of proper nutrition and iron intake, empowering families with the knowledge needed to prevent anemia. Community engagement will be a cornerstone of the initiative, fostering a collaborative approach to health and encouraging families to support each other in adopting healthier practices. Ultimately, the goal is to decrease anemia rates among children, leading to better health outcomes, improved school performance, and enhanced quality of life.\n",
    "\n",
    "Key stakeholders include families and caregivers, healthcare providers (such as pediatricians and community health workers), local government and health departments, educational institutions, non-governmental organizations (NGOs), and research and academic institutions that focus on maternal and child health (UNICEF, 2021; Nigerian Ministry of Health, 2018) [(UNICEF, 2021)](https://www.unicef.org/nigeria/reports/childhood-anemia-report). By engaging these stakeholders, the project aims to create a comprehensive approach to combat childhood anemia, ensuring sustainable improvements in child health and nutrition.\n",
    "\n"
   ]
  },
  {
   "cell_type": "markdown",
   "metadata": {},
   "source": [
    "## Objective "
   ]
  },
  {
   "cell_type": "markdown",
   "metadata": {},
   "source": [
    "This project leverages advanced data analytics and machine learning to predict anemia levels in children based on key health indicators. By employing predictive models, we aim to support healthcare providers with fast, reliable insights that help identify children at risk, enabling proactive management and treatment.\n",
    "\n",
    "Here is a list of Objectives that merge for the success of this project \n",
    "\n",
    "1. **Analyze Socioeconomic Factors**  \n",
    "   Investigate the relationship between various socioeconomic factors—such as mother's age, education level, and household wealth index—and anemia levels in children aged 0-59 months.\n",
    "\n",
    "2. **Examine Health Resource Impact**  \n",
    "   Assess the impact of health resources, including the availability of mosquito nets and maternal health indicators (e.g., iron intake, smoking status), on the likelihood of anemia in children.\n",
    "\n",
    "3. **Evaluate Demographic Indicators**  \n",
    "   Determine the predictive power of demographic indicators like residence type and marital status for anemia levels.\n",
    "\n",
    "4. **Formulate Targeted Interventions**  \n",
    "   Develop data-driven recommendations for targeted health interventions to assist policymakers in addressing high-risk demographics and regions."
   ]
  },
  {
   "cell_type": "markdown",
   "metadata": {},
   "source": [
    "Upon completion of the Objectives the project has the following  **Key Benefits**\n",
    "\n",
    "\n",
    "- **Cost-Effective Screening**: Reduces the need for expensive lab tests through accessible data-driven predictions.\n",
    "- **Rapid Decision-Making**: Provides near-instant insights, facilitating quicker diagnosis and intervention.\n",
    "- **Scalable Solution**: Adaptable for use in various healthcare settings, from rural clinics to large hospitals."
   ]
  },
  {
   "cell_type": "markdown",
   "metadata": {},
   "source": [
    "### **A quick summary of How It Works**\n",
    "Utilizing an extensive [Anemia Dataset](./Anemia-Level-Prediction-in-Children\\anemia_dataset.csv)\n",
    " our model assesses various demographic, health, and socio-economic metrics to predict anemia levels accurately.The metrics have been explained in the column description file  This predictive tool empowers healthcare professionals to allocate resources efficiently, prioritize high-risk cases, and enhance patient outcomes."
   ]
  },
  {
   "cell_type": "markdown",
   "metadata": {},
   "source": [
    "### Data Understanding "
   ]
  },
  {
   "cell_type": "markdown",
   "metadata": {},
   "source": [
    "This part is a comprehensive assessment of variables such as hemoglobin levels, age, nutritional factors, and living conditions, as well as a quality check to identify missing values, outliers, and data inconsistencies. By ensuring our data is robust and aligned with the project's goals, we lay the groundwork for building effective models that can accurately predict anemia risk and support better health outcomes for children in at-risk populations.\n",
    "\n",
    "By closely examining our dataset—which includes a variety of demographic, health, and socio-economic indicators—we aim to understand the characteristics and patterns that may signal anemia risk."
   ]
  },
  {
   "cell_type": "markdown",
   "metadata": {},
   "source": [
    "### Data collection \n",
    "\n",
    "where is the from"
   ]
  },
  {
   "cell_type": "markdown",
   "metadata": {},
   "source": [
    "### Data loading"
   ]
  },
  {
   "cell_type": "code",
   "execution_count": 334,
   "metadata": {},
   "outputs": [
    {
     "data": {
      "text/html": [
       "<div>\n",
       "<style scoped>\n",
       "    .dataframe tbody tr th:only-of-type {\n",
       "        vertical-align: middle;\n",
       "    }\n",
       "\n",
       "    .dataframe tbody tr th {\n",
       "        vertical-align: top;\n",
       "    }\n",
       "\n",
       "    .dataframe thead th {\n",
       "        text-align: right;\n",
       "    }\n",
       "</style>\n",
       "<table border=\"1\" class=\"dataframe\">\n",
       "  <thead>\n",
       "    <tr style=\"text-align: right;\">\n",
       "      <th></th>\n",
       "      <th>Age in 5-year groups</th>\n",
       "      <th>Type of place of residence</th>\n",
       "      <th>Highest educational level</th>\n",
       "      <th>Wealth index combined</th>\n",
       "      <th>Births in last five years</th>\n",
       "      <th>Age of respondent at 1st birth</th>\n",
       "      <th>Hemoglobin level adjusted for altitude and smoking (g/dl - 1 decimal)</th>\n",
       "      <th>Anemia level</th>\n",
       "      <th>Have mosquito bed net for sleeping (from household questionnaire)</th>\n",
       "      <th>Smokes cigarettes</th>\n",
       "      <th>Current marital status</th>\n",
       "      <th>Currently residing with husband/partner</th>\n",
       "      <th>When child put to breast</th>\n",
       "      <th>Had fever in last two weeks</th>\n",
       "      <th>Hemoglobin level adjusted for altitude (g/dl - 1 decimal)</th>\n",
       "      <th>Anemia level.1</th>\n",
       "      <th>Taking iron pills, sprinkles or syrup</th>\n",
       "    </tr>\n",
       "  </thead>\n",
       "  <tbody>\n",
       "    <tr>\n",
       "      <th>0</th>\n",
       "      <td>40-44</td>\n",
       "      <td>Urban</td>\n",
       "      <td>Higher</td>\n",
       "      <td>Richest</td>\n",
       "      <td>1</td>\n",
       "      <td>22</td>\n",
       "      <td>NaN</td>\n",
       "      <td>NaN</td>\n",
       "      <td>Yes</td>\n",
       "      <td>No</td>\n",
       "      <td>Living with partner</td>\n",
       "      <td>Staying elsewhere</td>\n",
       "      <td>Immediately</td>\n",
       "      <td>No</td>\n",
       "      <td>NaN</td>\n",
       "      <td>NaN</td>\n",
       "      <td>Yes</td>\n",
       "    </tr>\n",
       "    <tr>\n",
       "      <th>1</th>\n",
       "      <td>35-39</td>\n",
       "      <td>Urban</td>\n",
       "      <td>Higher</td>\n",
       "      <td>Richest</td>\n",
       "      <td>1</td>\n",
       "      <td>28</td>\n",
       "      <td>NaN</td>\n",
       "      <td>NaN</td>\n",
       "      <td>Yes</td>\n",
       "      <td>No</td>\n",
       "      <td>Married</td>\n",
       "      <td>Living with her</td>\n",
       "      <td>Hours: 1</td>\n",
       "      <td>No</td>\n",
       "      <td>NaN</td>\n",
       "      <td>NaN</td>\n",
       "      <td>No</td>\n",
       "    </tr>\n",
       "    <tr>\n",
       "      <th>2</th>\n",
       "      <td>25-29</td>\n",
       "      <td>Urban</td>\n",
       "      <td>Higher</td>\n",
       "      <td>Richest</td>\n",
       "      <td>1</td>\n",
       "      <td>26</td>\n",
       "      <td>NaN</td>\n",
       "      <td>NaN</td>\n",
       "      <td>No</td>\n",
       "      <td>No</td>\n",
       "      <td>Married</td>\n",
       "      <td>Living with her</td>\n",
       "      <td>Immediately</td>\n",
       "      <td>No</td>\n",
       "      <td>NaN</td>\n",
       "      <td>NaN</td>\n",
       "      <td>No</td>\n",
       "    </tr>\n",
       "    <tr>\n",
       "      <th>3</th>\n",
       "      <td>25-29</td>\n",
       "      <td>Urban</td>\n",
       "      <td>Secondary</td>\n",
       "      <td>Richest</td>\n",
       "      <td>1</td>\n",
       "      <td>25</td>\n",
       "      <td>95.0</td>\n",
       "      <td>Moderate</td>\n",
       "      <td>Yes</td>\n",
       "      <td>No</td>\n",
       "      <td>Married</td>\n",
       "      <td>Living with her</td>\n",
       "      <td>105</td>\n",
       "      <td>No</td>\n",
       "      <td>114.0</td>\n",
       "      <td>Not anemic</td>\n",
       "      <td>No</td>\n",
       "    </tr>\n",
       "    <tr>\n",
       "      <th>4</th>\n",
       "      <td>20-24</td>\n",
       "      <td>Urban</td>\n",
       "      <td>Secondary</td>\n",
       "      <td>Richest</td>\n",
       "      <td>1</td>\n",
       "      <td>21</td>\n",
       "      <td>NaN</td>\n",
       "      <td>NaN</td>\n",
       "      <td>Yes</td>\n",
       "      <td>No</td>\n",
       "      <td>No longer living together/separated</td>\n",
       "      <td>NaN</td>\n",
       "      <td>Immediately</td>\n",
       "      <td>No</td>\n",
       "      <td>NaN</td>\n",
       "      <td>NaN</td>\n",
       "      <td>No</td>\n",
       "    </tr>\n",
       "    <tr>\n",
       "      <th>5</th>\n",
       "      <td>30-34</td>\n",
       "      <td>Urban</td>\n",
       "      <td>Higher</td>\n",
       "      <td>Richest</td>\n",
       "      <td>1</td>\n",
       "      <td>30</td>\n",
       "      <td>113.0</td>\n",
       "      <td>Mild</td>\n",
       "      <td>Yes</td>\n",
       "      <td>No</td>\n",
       "      <td>Married</td>\n",
       "      <td>Living with her</td>\n",
       "      <td>NaN</td>\n",
       "      <td>No</td>\n",
       "      <td>119.0</td>\n",
       "      <td>Not anemic</td>\n",
       "      <td>No</td>\n",
       "    </tr>\n",
       "    <tr>\n",
       "      <th>6</th>\n",
       "      <td>35-39</td>\n",
       "      <td>Urban</td>\n",
       "      <td>Secondary</td>\n",
       "      <td>Richest</td>\n",
       "      <td>2</td>\n",
       "      <td>32</td>\n",
       "      <td>121.0</td>\n",
       "      <td>Not anemic</td>\n",
       "      <td>Yes</td>\n",
       "      <td>No</td>\n",
       "      <td>Married</td>\n",
       "      <td>Living with her</td>\n",
       "      <td>Immediately</td>\n",
       "      <td>No</td>\n",
       "      <td>102.0</td>\n",
       "      <td>Mild</td>\n",
       "      <td>Yes</td>\n",
       "    </tr>\n",
       "    <tr>\n",
       "      <th>7</th>\n",
       "      <td>35-39</td>\n",
       "      <td>Urban</td>\n",
       "      <td>Secondary</td>\n",
       "      <td>Richest</td>\n",
       "      <td>2</td>\n",
       "      <td>32</td>\n",
       "      <td>121.0</td>\n",
       "      <td>Not anemic</td>\n",
       "      <td>Yes</td>\n",
       "      <td>No</td>\n",
       "      <td>Married</td>\n",
       "      <td>Living with her</td>\n",
       "      <td>NaN</td>\n",
       "      <td>NaN</td>\n",
       "      <td>NaN</td>\n",
       "      <td>NaN</td>\n",
       "      <td>NaN</td>\n",
       "    </tr>\n",
       "    <tr>\n",
       "      <th>8</th>\n",
       "      <td>30-34</td>\n",
       "      <td>Urban</td>\n",
       "      <td>Secondary</td>\n",
       "      <td>Richest</td>\n",
       "      <td>1</td>\n",
       "      <td>32</td>\n",
       "      <td>NaN</td>\n",
       "      <td>NaN</td>\n",
       "      <td>Yes</td>\n",
       "      <td>No</td>\n",
       "      <td>Married</td>\n",
       "      <td>Living with her</td>\n",
       "      <td>Immediately</td>\n",
       "      <td>No</td>\n",
       "      <td>NaN</td>\n",
       "      <td>NaN</td>\n",
       "      <td>No</td>\n",
       "    </tr>\n",
       "    <tr>\n",
       "      <th>9</th>\n",
       "      <td>20-24</td>\n",
       "      <td>Urban</td>\n",
       "      <td>Secondary</td>\n",
       "      <td>Richest</td>\n",
       "      <td>1</td>\n",
       "      <td>19</td>\n",
       "      <td>108.0</td>\n",
       "      <td>Moderate</td>\n",
       "      <td>Yes</td>\n",
       "      <td>No</td>\n",
       "      <td>Married</td>\n",
       "      <td>Living with her</td>\n",
       "      <td>Immediately</td>\n",
       "      <td>No</td>\n",
       "      <td>113.0</td>\n",
       "      <td>Not anemic</td>\n",
       "      <td>Yes</td>\n",
       "    </tr>\n",
       "    <tr>\n",
       "      <th>10</th>\n",
       "      <td>25-29</td>\n",
       "      <td>Urban</td>\n",
       "      <td>Secondary</td>\n",
       "      <td>Richer</td>\n",
       "      <td>2</td>\n",
       "      <td>23</td>\n",
       "      <td>NaN</td>\n",
       "      <td>NaN</td>\n",
       "      <td>Yes</td>\n",
       "      <td>No</td>\n",
       "      <td>Married</td>\n",
       "      <td>Living with her</td>\n",
       "      <td>Hours: 1</td>\n",
       "      <td>No</td>\n",
       "      <td>NaN</td>\n",
       "      <td>NaN</td>\n",
       "      <td>No</td>\n",
       "    </tr>\n",
       "    <tr>\n",
       "      <th>11</th>\n",
       "      <td>25-29</td>\n",
       "      <td>Urban</td>\n",
       "      <td>Secondary</td>\n",
       "      <td>Richer</td>\n",
       "      <td>2</td>\n",
       "      <td>23</td>\n",
       "      <td>NaN</td>\n",
       "      <td>NaN</td>\n",
       "      <td>Yes</td>\n",
       "      <td>No</td>\n",
       "      <td>Married</td>\n",
       "      <td>Living with her</td>\n",
       "      <td>NaN</td>\n",
       "      <td>Yes</td>\n",
       "      <td>NaN</td>\n",
       "      <td>NaN</td>\n",
       "      <td>No</td>\n",
       "    </tr>\n",
       "    <tr>\n",
       "      <th>12</th>\n",
       "      <td>25-29</td>\n",
       "      <td>Urban</td>\n",
       "      <td>Higher</td>\n",
       "      <td>Richest</td>\n",
       "      <td>1</td>\n",
       "      <td>24</td>\n",
       "      <td>116.0</td>\n",
       "      <td>Mild</td>\n",
       "      <td>Yes</td>\n",
       "      <td>No</td>\n",
       "      <td>Married</td>\n",
       "      <td>Living with her</td>\n",
       "      <td>Days: 1</td>\n",
       "      <td>No</td>\n",
       "      <td>109.0</td>\n",
       "      <td>Mild</td>\n",
       "      <td>No</td>\n",
       "    </tr>\n",
       "    <tr>\n",
       "      <th>13</th>\n",
       "      <td>20-24</td>\n",
       "      <td>Urban</td>\n",
       "      <td>Higher</td>\n",
       "      <td>Richest</td>\n",
       "      <td>2</td>\n",
       "      <td>19</td>\n",
       "      <td>118.0</td>\n",
       "      <td>Mild</td>\n",
       "      <td>Yes</td>\n",
       "      <td>No</td>\n",
       "      <td>Married</td>\n",
       "      <td>Living with her</td>\n",
       "      <td>Immediately</td>\n",
       "      <td>No</td>\n",
       "      <td>96.0</td>\n",
       "      <td>Moderate</td>\n",
       "      <td>Yes</td>\n",
       "    </tr>\n",
       "    <tr>\n",
       "      <th>14</th>\n",
       "      <td>20-24</td>\n",
       "      <td>Urban</td>\n",
       "      <td>Higher</td>\n",
       "      <td>Richest</td>\n",
       "      <td>2</td>\n",
       "      <td>19</td>\n",
       "      <td>118.0</td>\n",
       "      <td>Mild</td>\n",
       "      <td>Yes</td>\n",
       "      <td>No</td>\n",
       "      <td>Married</td>\n",
       "      <td>Living with her</td>\n",
       "      <td>NaN</td>\n",
       "      <td>No</td>\n",
       "      <td>111.0</td>\n",
       "      <td>Not anemic</td>\n",
       "      <td>No</td>\n",
       "    </tr>\n",
       "  </tbody>\n",
       "</table>\n",
       "</div>"
      ],
      "text/plain": [
       "   Age in 5-year groups Type of place of residence Highest educational level  \\\n",
       "0                 40-44                      Urban                    Higher   \n",
       "1                 35-39                      Urban                    Higher   \n",
       "2                 25-29                      Urban                    Higher   \n",
       "3                 25-29                      Urban                 Secondary   \n",
       "4                 20-24                      Urban                 Secondary   \n",
       "5                 30-34                      Urban                    Higher   \n",
       "6                 35-39                      Urban                 Secondary   \n",
       "7                 35-39                      Urban                 Secondary   \n",
       "8                 30-34                      Urban                 Secondary   \n",
       "9                 20-24                      Urban                 Secondary   \n",
       "10                25-29                      Urban                 Secondary   \n",
       "11                25-29                      Urban                 Secondary   \n",
       "12                25-29                      Urban                    Higher   \n",
       "13                20-24                      Urban                    Higher   \n",
       "14                20-24                      Urban                    Higher   \n",
       "\n",
       "   Wealth index combined  Births in last five years  \\\n",
       "0                Richest                          1   \n",
       "1                Richest                          1   \n",
       "2                Richest                          1   \n",
       "3                Richest                          1   \n",
       "4                Richest                          1   \n",
       "5                Richest                          1   \n",
       "6                Richest                          2   \n",
       "7                Richest                          2   \n",
       "8                Richest                          1   \n",
       "9                Richest                          1   \n",
       "10                Richer                          2   \n",
       "11                Richer                          2   \n",
       "12               Richest                          1   \n",
       "13               Richest                          2   \n",
       "14               Richest                          2   \n",
       "\n",
       "    Age of respondent at 1st birth  \\\n",
       "0                               22   \n",
       "1                               28   \n",
       "2                               26   \n",
       "3                               25   \n",
       "4                               21   \n",
       "5                               30   \n",
       "6                               32   \n",
       "7                               32   \n",
       "8                               32   \n",
       "9                               19   \n",
       "10                              23   \n",
       "11                              23   \n",
       "12                              24   \n",
       "13                              19   \n",
       "14                              19   \n",
       "\n",
       "    Hemoglobin level adjusted for altitude and smoking (g/dl - 1 decimal)  \\\n",
       "0                                                 NaN                       \n",
       "1                                                 NaN                       \n",
       "2                                                 NaN                       \n",
       "3                                                95.0                       \n",
       "4                                                 NaN                       \n",
       "5                                               113.0                       \n",
       "6                                               121.0                       \n",
       "7                                               121.0                       \n",
       "8                                                 NaN                       \n",
       "9                                               108.0                       \n",
       "10                                                NaN                       \n",
       "11                                                NaN                       \n",
       "12                                              116.0                       \n",
       "13                                              118.0                       \n",
       "14                                              118.0                       \n",
       "\n",
       "   Anemia level  \\\n",
       "0           NaN   \n",
       "1           NaN   \n",
       "2           NaN   \n",
       "3      Moderate   \n",
       "4           NaN   \n",
       "5          Mild   \n",
       "6    Not anemic   \n",
       "7    Not anemic   \n",
       "8           NaN   \n",
       "9      Moderate   \n",
       "10          NaN   \n",
       "11          NaN   \n",
       "12         Mild   \n",
       "13         Mild   \n",
       "14         Mild   \n",
       "\n",
       "   Have mosquito bed net for sleeping (from household questionnaire)  \\\n",
       "0                                                 Yes                  \n",
       "1                                                 Yes                  \n",
       "2                                                  No                  \n",
       "3                                                 Yes                  \n",
       "4                                                 Yes                  \n",
       "5                                                 Yes                  \n",
       "6                                                 Yes                  \n",
       "7                                                 Yes                  \n",
       "8                                                 Yes                  \n",
       "9                                                 Yes                  \n",
       "10                                                Yes                  \n",
       "11                                                Yes                  \n",
       "12                                                Yes                  \n",
       "13                                                Yes                  \n",
       "14                                                Yes                  \n",
       "\n",
       "   Smokes cigarettes               Current marital status  \\\n",
       "0                 No                  Living with partner   \n",
       "1                 No                              Married   \n",
       "2                 No                              Married   \n",
       "3                 No                              Married   \n",
       "4                 No  No longer living together/separated   \n",
       "5                 No                              Married   \n",
       "6                 No                              Married   \n",
       "7                 No                              Married   \n",
       "8                 No                              Married   \n",
       "9                 No                              Married   \n",
       "10                No                              Married   \n",
       "11                No                              Married   \n",
       "12                No                              Married   \n",
       "13                No                              Married   \n",
       "14                No                              Married   \n",
       "\n",
       "   Currently residing with husband/partner When child put to breast  \\\n",
       "0                        Staying elsewhere              Immediately   \n",
       "1                          Living with her                 Hours: 1   \n",
       "2                          Living with her              Immediately   \n",
       "3                          Living with her                      105   \n",
       "4                                      NaN              Immediately   \n",
       "5                          Living with her                      NaN   \n",
       "6                          Living with her              Immediately   \n",
       "7                          Living with her                      NaN   \n",
       "8                          Living with her              Immediately   \n",
       "9                          Living with her              Immediately   \n",
       "10                         Living with her                 Hours: 1   \n",
       "11                         Living with her                      NaN   \n",
       "12                         Living with her                  Days: 1   \n",
       "13                         Living with her              Immediately   \n",
       "14                         Living with her                      NaN   \n",
       "\n",
       "   Had fever in last two weeks  \\\n",
       "0                           No   \n",
       "1                           No   \n",
       "2                           No   \n",
       "3                           No   \n",
       "4                           No   \n",
       "5                           No   \n",
       "6                           No   \n",
       "7                          NaN   \n",
       "8                           No   \n",
       "9                           No   \n",
       "10                          No   \n",
       "11                         Yes   \n",
       "12                          No   \n",
       "13                          No   \n",
       "14                          No   \n",
       "\n",
       "    Hemoglobin level adjusted for altitude (g/dl - 1 decimal) Anemia level.1  \\\n",
       "0                                                 NaN                    NaN   \n",
       "1                                                 NaN                    NaN   \n",
       "2                                                 NaN                    NaN   \n",
       "3                                               114.0             Not anemic   \n",
       "4                                                 NaN                    NaN   \n",
       "5                                               119.0             Not anemic   \n",
       "6                                               102.0                   Mild   \n",
       "7                                                 NaN                    NaN   \n",
       "8                                                 NaN                    NaN   \n",
       "9                                               113.0             Not anemic   \n",
       "10                                                NaN                    NaN   \n",
       "11                                                NaN                    NaN   \n",
       "12                                              109.0                   Mild   \n",
       "13                                               96.0               Moderate   \n",
       "14                                              111.0             Not anemic   \n",
       "\n",
       "   Taking iron pills, sprinkles or syrup  \n",
       "0                                    Yes  \n",
       "1                                     No  \n",
       "2                                     No  \n",
       "3                                     No  \n",
       "4                                     No  \n",
       "5                                     No  \n",
       "6                                    Yes  \n",
       "7                                    NaN  \n",
       "8                                     No  \n",
       "9                                    Yes  \n",
       "10                                    No  \n",
       "11                                    No  \n",
       "12                                    No  \n",
       "13                                   Yes  \n",
       "14                                    No  "
      ]
     },
     "execution_count": 334,
     "metadata": {},
     "output_type": "execute_result"
    }
   ],
   "source": [
    "import pandas as pd\n",
    "df = pd.read_csv('../anemia_dataset.csv')\n",
    "df.head(15)"
   ]
  },
  {
   "cell_type": "markdown",
   "metadata": {},
   "source": [
    "### Columns info\n",
    "\n",
    "We have loaded our data and we can see what it entails, lets get in a deep dive of what each column represents "
   ]
  },
  {
   "cell_type": "code",
   "execution_count": 335,
   "metadata": {},
   "outputs": [
    {
     "data": {
      "text/html": [
       "<div>\n",
       "<style scoped>\n",
       "    .dataframe tbody tr th:only-of-type {\n",
       "        vertical-align: middle;\n",
       "    }\n",
       "\n",
       "    .dataframe tbody tr th {\n",
       "        vertical-align: top;\n",
       "    }\n",
       "\n",
       "    .dataframe thead th {\n",
       "        text-align: right;\n",
       "    }\n",
       "</style>\n",
       "<table border=\"1\" class=\"dataframe\">\n",
       "  <thead>\n",
       "    <tr style=\"text-align: right;\">\n",
       "      <th></th>\n",
       "      <th>column names</th>\n",
       "    </tr>\n",
       "  </thead>\n",
       "  <tbody>\n",
       "    <tr>\n",
       "      <th>0</th>\n",
       "      <td>Age in 5-year groups</td>\n",
       "    </tr>\n",
       "    <tr>\n",
       "      <th>1</th>\n",
       "      <td>Type of place of residence</td>\n",
       "    </tr>\n",
       "    <tr>\n",
       "      <th>2</th>\n",
       "      <td>Highest educational level</td>\n",
       "    </tr>\n",
       "    <tr>\n",
       "      <th>3</th>\n",
       "      <td>Wealth index combined</td>\n",
       "    </tr>\n",
       "    <tr>\n",
       "      <th>4</th>\n",
       "      <td>Births in last five years</td>\n",
       "    </tr>\n",
       "    <tr>\n",
       "      <th>5</th>\n",
       "      <td>Age of respondent at 1st birth</td>\n",
       "    </tr>\n",
       "    <tr>\n",
       "      <th>6</th>\n",
       "      <td>Hemoglobin level adjusted for altitude and smo...</td>\n",
       "    </tr>\n",
       "    <tr>\n",
       "      <th>7</th>\n",
       "      <td>Anemia level</td>\n",
       "    </tr>\n",
       "    <tr>\n",
       "      <th>8</th>\n",
       "      <td>Have mosquito bed net for sleeping (from house...</td>\n",
       "    </tr>\n",
       "    <tr>\n",
       "      <th>9</th>\n",
       "      <td>Smokes cigarettes</td>\n",
       "    </tr>\n",
       "    <tr>\n",
       "      <th>10</th>\n",
       "      <td>Current marital status</td>\n",
       "    </tr>\n",
       "    <tr>\n",
       "      <th>11</th>\n",
       "      <td>Currently residing with husband/partner</td>\n",
       "    </tr>\n",
       "    <tr>\n",
       "      <th>12</th>\n",
       "      <td>When child put to breast</td>\n",
       "    </tr>\n",
       "    <tr>\n",
       "      <th>13</th>\n",
       "      <td>Had fever in last two weeks</td>\n",
       "    </tr>\n",
       "    <tr>\n",
       "      <th>14</th>\n",
       "      <td>Hemoglobin level adjusted for altitude (g/dl -...</td>\n",
       "    </tr>\n",
       "    <tr>\n",
       "      <th>15</th>\n",
       "      <td>Anemia level.1</td>\n",
       "    </tr>\n",
       "    <tr>\n",
       "      <th>16</th>\n",
       "      <td>Taking iron pills, sprinkles or syrup</td>\n",
       "    </tr>\n",
       "  </tbody>\n",
       "</table>\n",
       "</div>"
      ],
      "text/plain": [
       "                                         column names\n",
       "0                                Age in 5-year groups\n",
       "1                          Type of place of residence\n",
       "2                           Highest educational level\n",
       "3                               Wealth index combined\n",
       "4                           Births in last five years\n",
       "5                      Age of respondent at 1st birth\n",
       "6   Hemoglobin level adjusted for altitude and smo...\n",
       "7                                        Anemia level\n",
       "8   Have mosquito bed net for sleeping (from house...\n",
       "9                                   Smokes cigarettes\n",
       "10                             Current marital status\n",
       "11            Currently residing with husband/partner\n",
       "12                           When child put to breast\n",
       "13                        Had fever in last two weeks\n",
       "14  Hemoglobin level adjusted for altitude (g/dl -...\n",
       "15                                     Anemia level.1\n",
       "16              Taking iron pills, sprinkles or syrup"
      ]
     },
     "execution_count": 335,
     "metadata": {},
     "output_type": "execute_result"
    }
   ],
   "source": [
    "columns = df.columns\n",
    "columns = pd.DataFrame(columns,columns=['column names'])\n",
    "columns"
   ]
  },
  {
   "cell_type": "markdown",
   "metadata": {},
   "source": [
    "\n",
    "### Column Descriptions\n",
    "\n",
    "| <span style=\"color:white\">Column Name</span>                                               | <span style=\"color:white\">Description</span>                                                                                  |\n",
    "|-----------------------------------------------------------|----------------------------------------------------------------------------------------------|\n",
    "| <span style=\"color:white\">Age in 5-year groups</span>                                  | <span style=\"color:cyan\">Age of the mother, categorized into 5-year intervals.</span>                                        |\n",
    "| <span style=\"color:white\">Type of place of residence</span>                            | <span style=\"color:cyan\">Residential classification: Urban or Rural.</span>                                                  |\n",
    "| <span style=\"color:white\">Highest educational level</span>                             | <span style=\"color:cyan\">Mother's highest educational attainment, e.g., \"No Education\", \"Secondary\".</span>                  |\n",
    "| <span style=\"color:white\">Wealth index combined</span>                                 | <span style=\"color:cyan\">Economic status of the mother, ranked as \"Poorest\", \"Poorer\", etc.</span>                          |\n",
    "| <span style=\"color:white\">Births in last five years</span>                             | <span style=\"color:cyan\">Count of live births by the mother in the past five years.</span>                                   |\n",
    "| <span style=\"color:white\">Age of respondent at 1st birth</span>                        | <span style=\"color:cyan\">Mother's age at her first live birth.</span>                                                         |\n",
    "| <span style=\"color:white\">Hemoglobin level adjusted for altitude and smoking</span>    | <span style=\"color:cyan\">Hemoglobin level in g/dL, adjusted for altitude and smoking status.</span>                         |\n",
    "| <span style=\"color:white\">Anemia level</span>                                          | <span style=\"color:cyan\">Categorical anemia status of the child (e.g., \"Not anemic\", \"Mild\", \"Moderate\", \"Severe\").</span>  |\n",
    "| <span style=\"color:white\">Have mosquito bed net for sleeping</span>                    | <span style=\"color:cyan\">Presence of a mosquito net in the household (True/False).</span>                                   |\n",
    "| <span style=\"color:white\">Smokes cigarettes</span>                                     | <span style=\"color:cyan\">Mother's smoking status (True/False).</span>                                                         |\n",
    "| <span style=\"color:white\">Current marital status</span>                                | <span style=\"color:cyan\">Mother's marital status (e.g., \"Married\", \"Single\").</span>                                        |\n",
    "| <span style=\"color:white\">Currently residing with husband/partner</span>               | <span style=\"color:cyan\">Co-habitation status with spouse or partner (True/False).</span>                                    |\n",
    "| <span style=\"color:white\">When child put to breast</span>                              | <span style=\"color:cyan\">Timing of initial breastfeeding (hours after birth).</span>                                          |\n",
    "| <span style=\"color:white\">Had fever in last two weeks</span>                           | <span style=\"color:cyan\">Fever incidence in the child during the past two weeks (True/False).</span>                        |\n",
    "| <span style=\"color:white\">Hemoglobin level adjusted for altitude (g/dl)</span>         | <span style=\"color:cyan\">Hemoglobin level in g/dL, adjusted solely for altitude.</span>                                      |\n",
    "| <span style=\"color:white\">Anemia level.1</span>                                        | <span style=\"color:cyan\">Alternative or duplicate anemia categorization.</span>                                               |\n",
    "| <span style=\"color:white\">Taking iron pills, sprinkles or syrup</span>                 | <span style=\"color:cyan\">Iron supplementation status of the mother (True/False).</span>                                       |\n",
    "\n"
   ]
  },
  {
   "cell_type": "markdown",
   "metadata": {},
   "source": [
    "### Data Exploration"
   ]
  },
  {
   "cell_type": "code",
   "execution_count": 336,
   "metadata": {},
   "outputs": [
    {
     "data": {
      "text/html": [
       "<div>\n",
       "<style scoped>\n",
       "    .dataframe tbody tr th:only-of-type {\n",
       "        vertical-align: middle;\n",
       "    }\n",
       "\n",
       "    .dataframe tbody tr th {\n",
       "        vertical-align: top;\n",
       "    }\n",
       "\n",
       "    .dataframe thead th {\n",
       "        text-align: right;\n",
       "    }\n",
       "</style>\n",
       "<table border=\"1\" class=\"dataframe\">\n",
       "  <thead>\n",
       "    <tr style=\"text-align: right;\">\n",
       "      <th></th>\n",
       "      <th>Births in last five years</th>\n",
       "      <th>Age of respondent at 1st birth</th>\n",
       "      <th>Hemoglobin level adjusted for altitude and smoking (g/dl - 1 decimal)</th>\n",
       "      <th>Hemoglobin level adjusted for altitude (g/dl - 1 decimal)</th>\n",
       "    </tr>\n",
       "  </thead>\n",
       "  <tbody>\n",
       "    <tr>\n",
       "      <th>count</th>\n",
       "      <td>33924.000000</td>\n",
       "      <td>33924.000000</td>\n",
       "      <td>13136.000000</td>\n",
       "      <td>10182.000000</td>\n",
       "    </tr>\n",
       "    <tr>\n",
       "      <th>mean</th>\n",
       "      <td>1.823783</td>\n",
       "      <td>19.570776</td>\n",
       "      <td>114.367235</td>\n",
       "      <td>101.270183</td>\n",
       "    </tr>\n",
       "    <tr>\n",
       "      <th>std</th>\n",
       "      <td>0.705460</td>\n",
       "      <td>4.313172</td>\n",
       "      <td>15.915408</td>\n",
       "      <td>15.569583</td>\n",
       "    </tr>\n",
       "    <tr>\n",
       "      <th>min</th>\n",
       "      <td>1.000000</td>\n",
       "      <td>12.000000</td>\n",
       "      <td>20.000000</td>\n",
       "      <td>29.000000</td>\n",
       "    </tr>\n",
       "    <tr>\n",
       "      <th>25%</th>\n",
       "      <td>1.000000</td>\n",
       "      <td>16.000000</td>\n",
       "      <td>105.000000</td>\n",
       "      <td>92.000000</td>\n",
       "    </tr>\n",
       "    <tr>\n",
       "      <th>50%</th>\n",
       "      <td>2.000000</td>\n",
       "      <td>19.000000</td>\n",
       "      <td>115.000000</td>\n",
       "      <td>103.000000</td>\n",
       "    </tr>\n",
       "    <tr>\n",
       "      <th>75%</th>\n",
       "      <td>2.000000</td>\n",
       "      <td>22.000000</td>\n",
       "      <td>125.000000</td>\n",
       "      <td>112.000000</td>\n",
       "    </tr>\n",
       "    <tr>\n",
       "      <th>max</th>\n",
       "      <td>6.000000</td>\n",
       "      <td>48.000000</td>\n",
       "      <td>218.000000</td>\n",
       "      <td>170.000000</td>\n",
       "    </tr>\n",
       "  </tbody>\n",
       "</table>\n",
       "</div>"
      ],
      "text/plain": [
       "       Births in last five years  Age of respondent at 1st birth  \\\n",
       "count               33924.000000                    33924.000000   \n",
       "mean                    1.823783                       19.570776   \n",
       "std                     0.705460                        4.313172   \n",
       "min                     1.000000                       12.000000   \n",
       "25%                     1.000000                       16.000000   \n",
       "50%                     2.000000                       19.000000   \n",
       "75%                     2.000000                       22.000000   \n",
       "max                     6.000000                       48.000000   \n",
       "\n",
       "       Hemoglobin level adjusted for altitude and smoking (g/dl - 1 decimal)  \\\n",
       "count                                       13136.000000                       \n",
       "mean                                          114.367235                       \n",
       "std                                            15.915408                       \n",
       "min                                            20.000000                       \n",
       "25%                                           105.000000                       \n",
       "50%                                           115.000000                       \n",
       "75%                                           125.000000                       \n",
       "max                                           218.000000                       \n",
       "\n",
       "       Hemoglobin level adjusted for altitude (g/dl - 1 decimal)  \n",
       "count                                       10182.000000          \n",
       "mean                                          101.270183          \n",
       "std                                            15.569583          \n",
       "min                                            29.000000          \n",
       "25%                                            92.000000          \n",
       "50%                                           103.000000          \n",
       "75%                                           112.000000          \n",
       "max                                           170.000000          "
      ]
     },
     "execution_count": 336,
     "metadata": {},
     "output_type": "execute_result"
    }
   ],
   "source": [
    "df.describe()"
   ]
  },
  {
   "cell_type": "markdown",
   "metadata": {},
   "source": [
    "#### Explanation of Statistics"
   ]
  },
  {
   "cell_type": "markdown",
   "metadata": {},
   "source": [
    "\n",
    "\n",
    "##### 1. **Births in Last Five Years**\n",
    "- **Count**: 33,924 — This indicates that there are 33,924 valid entries for this column.\n",
    "- **Mean**: 1.82 — On average, mothers reported about 1.82 births in the last five years.\n",
    "- **Standard Deviation (std)**: 0.71 — This reflects the variability in the number of births, showing that the number of births typically varies by about 0.71 from the mean.\n",
    "- **Min**: 1 — The minimum number of births reported is 1.\n",
    "- **25% (1st Quartile)**: 1 — 25% of the mothers reported 1 birth or fewer in the last five years.\n",
    "- **50% (Median)**: 2 — The median number of births is 2, meaning half of the mothers reported 2 or fewer births.\n",
    "- **75% (3rd Quartile)**: 2 — 75% of the mothers reported 2 births or fewer.\n",
    "- **Max**: 6 — The maximum number of births reported is 6.\n",
    "\n",
    "##### 2. **Age of Respondent at 1st Birth**\n",
    "- **Count**: 33,924 — Valid entries for this column.\n",
    "- **Mean**: 19.57 — The average age of mothers at their first birth is approximately 19.6 years.\n",
    "- **Standard Deviation**: 4.31 — Indicates a moderate variability in the ages at first birth.\n",
    "- **Min**: 12 — The youngest reported age at first birth is 12 years.\n",
    "- **25%**: 16 — 25% of mothers had their first birth at age 16 or younger.\n",
    "- **50%**: 19 — The median age is 19.\n",
    "- **75%**: 22 — 75% of mothers had their first birth by age 22 or younger.\n",
    "- **Max**: 48 — The oldest age reported for a first birth is 48 years.\n",
    "\n",
    "##### 3. **Hemoglobin Level Adjusted for Altitude and Smoking (g/dl - 1 decimal)**\n",
    "- **Count**: 13,136 — Only 13,136 valid entries, indicating missing values for some records.\n",
    "- **Mean**: 114.37 g/dL — The average hemoglobin level, adjusted for altitude and smoking, is approximately 114.4 g/dL.\n",
    "- **Standard Deviation**: 15.92 — Reflects the variability in hemoglobin levels; levels typically vary by about 15.9 g/dL from the mean.\n",
    "- **Min**: 20 — The lowest reported hemoglobin level is 20 g/dL, which indicates severe anemia.\n",
    "- **25%**: 105 — 25% of the values are 105 g/dL or lower.\n",
    "- **50%**: 115 — The median hemoglobin level is 115 g/dL.\n",
    "- **75%**: 125 — 75% of the hemoglobin levels are 125 g/dL or lower.\n",
    "- **Max**: 218 — The highest reported hemoglobin level is 218 g/dL, which is significantly above normal ranges.\n",
    "\n",
    "##### 4. **Hemoglobin Level Adjusted for Altitude (g/dl - 1 decimal)**\n",
    "- **Count**: 10,182 — Valid entries for this column, indicating more missing values than the previous column.\n",
    "- **Mean**: 101.27 g/dL — The average hemoglobin level, adjusted solely for altitude, is approximately 101.3 g/dL.\n",
    "- **Standard Deviation**: 15.57 — Shows variability in the adjusted hemoglobin levels.\n",
    "- **Min**: 29 — The lowest reported hemoglobin level in this context is 29 g/dL.\n",
    "- **25%**: 92 — 25% of the hemoglobin levels are 92 g/dL or lower.\n",
    "- **50%**: 103 — The median hemoglobin level is 103 g/dL.\n",
    "- **75%**: 112 — 75% of values are at or below 112 g/dL.\n",
    "- **Max**: 170 — The highest reported hemoglobin level is 170 g/dL.\n",
    "\n"
   ]
  },
  {
   "cell_type": "code",
   "execution_count": 337,
   "metadata": {},
   "outputs": [
    {
     "name": "stdout",
     "output_type": "stream",
     "text": [
      "<class 'pandas.core.frame.DataFrame'>\n",
      "RangeIndex: 33924 entries, 0 to 33923\n",
      "Data columns (total 17 columns):\n",
      " #   Column                                                                 Non-Null Count  Dtype  \n",
      "---  ------                                                                 --------------  -----  \n",
      " 0   Age in 5-year groups                                                   33924 non-null  object \n",
      " 1   Type of place of residence                                             33924 non-null  object \n",
      " 2   Highest educational level                                              33924 non-null  object \n",
      " 3   Wealth index combined                                                  33924 non-null  object \n",
      " 4   Births in last five years                                              33924 non-null  int64  \n",
      " 5   Age of respondent at 1st birth                                         33924 non-null  int64  \n",
      " 6   Hemoglobin level adjusted for altitude and smoking (g/dl - 1 decimal)  13136 non-null  float64\n",
      " 7   Anemia level                                                           13136 non-null  object \n",
      " 8   Have mosquito bed net for sleeping (from household questionnaire)      33924 non-null  object \n",
      " 9   Smokes cigarettes                                                      33924 non-null  object \n",
      " 10  Current marital status                                                 33924 non-null  object \n",
      " 11  Currently residing with husband/partner                                32226 non-null  object \n",
      " 12  When child put to breast                                               21168 non-null  object \n",
      " 13  Had fever in last two weeks                                            30713 non-null  object \n",
      " 14  Hemoglobin level adjusted for altitude (g/dl - 1 decimal)              10182 non-null  float64\n",
      " 15  Anemia level.1                                                         10182 non-null  object \n",
      " 16  Taking iron pills, sprinkles or syrup                                  30713 non-null  object \n",
      "dtypes: float64(2), int64(2), object(13)\n",
      "memory usage: 4.4+ MB\n"
     ]
    }
   ],
   "source": [
    "df.info()"
   ]
  },
  {
   "cell_type": "markdown",
   "metadata": {},
   "source": [
    "*data info expalined*\n",
    "\n",
    "- **Total Entries**: The DataFrame contains **33,924 entries**, indexed from 0 to 33,923.\n",
    "\n",
    "\n",
    "- **Missing Values**:\n",
    "   - Some columns have missing values. For example, \"Hemoglobin level adjusted for altitude and smoking\" has only **13,136 non-null** entries, meaning there are missing data points for **20,788** entries in that column.\n",
    "   - \"Currently residing with husband/partner\" has **32,226** non-null entries, indicating missing values for **1,698** entries.\n",
    "   - \"When child put to breast\" has **21,168** non-null entries, suggesting missing values for **12,756** entries.\n",
    "\n",
    "- **Data Types**:\n",
    "   - The DataFrame consists of:\n",
    "     - **13 object columns**: Typically used for categorical data or text.\n",
    "     - **2 integer columns**: Representing counts or whole numbers (e.g., births, age).\n",
    "     - **2 float columns**: Used for continuous numerical values (e.g., hemoglobin levels), indicating decimal values.\n",
    "\n",
    "\n"
   ]
  },
  {
   "cell_type": "markdown",
   "metadata": {},
   "source": [
    "After Exploration the Following is a classification of the relevance in our columns"
   ]
  },
  {
   "cell_type": "markdown",
   "metadata": {},
   "source": [
    "#### Target Variable\n",
    "- **Anemia level**: Indicates anemia status (e.g., Not anemic, Mild, Moderate, Severe).\n",
    "\n",
    "#### Identifying Key Features\n",
    "- **Type of place of residence**\n",
    "- **Highest educational level**\n",
    "- **Wealth index combined**\n",
    "- **Current marital status**\n",
    "\n",
    "#### Potential Predictors\n",
    "- **Age in 5-year groups**\n",
    "- **Births in last five years**\n",
    "- **Age of respondent at 1st birth**\n",
    "- **Hemoglobin level adjusted for altitude and smoking**\n",
    "- **Have mosquito bed net for sleeping**\n",
    "- **Smokes cigarettes**\n",
    "- **Currently residing with husband/partner**\n",
    "- **When child put to breast**\n",
    "- **Had fever in last two weeks**\n",
    "- **Taking iron pills, sprinkles, or syrup**\n"
   ]
  },
  {
   "cell_type": "markdown",
   "metadata": {},
   "source": [
    "### Data cleaning "
   ]
  },
  {
   "cell_type": "markdown",
   "metadata": {},
   "source": [
    "#### Checking and handling of duplicates "
   ]
  },
  {
   "cell_type": "code",
   "execution_count": 338,
   "metadata": {},
   "outputs": [
    {
     "data": {
      "text/plain": [
       "0        False\n",
       "1        False\n",
       "2        False\n",
       "3        False\n",
       "4        False\n",
       "         ...  \n",
       "33919    False\n",
       "33920    False\n",
       "33921    False\n",
       "33922    False\n",
       "33923    False\n",
       "Length: 33924, dtype: bool"
      ]
     },
     "execution_count": 338,
     "metadata": {},
     "output_type": "execute_result"
    }
   ],
   "source": [
    "#creates a boolean Series indicating True for duplicated rows and False for unique rows\n",
    "duplicates = df.duplicated()\n",
    "duplicates\n"
   ]
  },
  {
   "cell_type": "markdown",
   "metadata": {},
   "source": [
    "The above shows that there are indeed duplicated but we cannnot decide on what to do with them since they have unique values "
   ]
  },
  {
   "cell_type": "markdown",
   "metadata": {},
   "source": [
    "checkng for rows with values identical to previous rows across all columns and dropping them , ie the returned here is a value TRUE different from previous "
   ]
  },
  {
   "cell_type": "code",
   "execution_count": 339,
   "metadata": {},
   "outputs": [
    {
     "name": "stdout",
     "output_type": "stream",
     "text": [
      "total duplicates:4678\n"
     ]
    }
   ],
   "source": [
    "## checking for duplicates rows in the df and returns the total number it finds\n",
    "duplicates_sum = duplicates.sum()\n",
    "print(f'total duplicates:{duplicates_sum}')"
   ]
  },
  {
   "cell_type": "code",
   "execution_count": 340,
   "metadata": {},
   "outputs": [],
   "source": [
    "df = df.drop_duplicates()\n"
   ]
  },
  {
   "cell_type": "markdown",
   "metadata": {},
   "source": [
    "#### Handling NaN values "
   ]
  },
  {
   "cell_type": "markdown",
   "metadata": {},
   "source": [
    "Check and handling missing values in our dataset is an important part before modelling, Sometimes survey or data collection can not 100 and therefore we will check and remove to ensure we have a cleaned data."
   ]
  },
  {
   "cell_type": "markdown",
   "metadata": {},
   "source": [
    "Column handling of Nan values "
   ]
  },
  {
   "cell_type": "markdown",
   "metadata": {},
   "source": [
    "##### Since the target variable is not suppossed to have nan values we first drop all nan in \n",
    "\n",
    "Anemia level                                                             \n",
    "\n",
    "Anemia level.1                                                           "
   ]
  },
  {
   "cell_type": "code",
   "execution_count": 341,
   "metadata": {},
   "outputs": [
    {
     "name": "stdout",
     "output_type": "stream",
     "text": [
      "[nan 'Moderate' 'Mild' 'Not anemic' 'Severe']\n",
      "[nan 'Not anemic' 'Mild' 'Moderate' 'Severe']\n"
     ]
    }
   ],
   "source": [
    "# Inspect unique values in 'Anemia level' and 'Anemia level.1'\n",
    "print(df['Anemia level'].unique())\n",
    "print(df['Anemia level.1'].unique())\n"
   ]
  },
  {
   "cell_type": "markdown",
   "metadata": {},
   "source": [
    "We have noticed that there in a nan uniques in our target variable "
   ]
  },
  {
   "cell_type": "code",
   "execution_count": 342,
   "metadata": {},
   "outputs": [],
   "source": [
    "\n",
    "# Drop rows only if both 'Anemia level' and 'Anemia level.1' are NaN\n",
    "df.dropna(subset=['Anemia level', 'Anemia level.1'], inplace=True)\n"
   ]
  },
  {
   "cell_type": "code",
   "execution_count": 343,
   "metadata": {},
   "outputs": [
    {
     "name": "stdout",
     "output_type": "stream",
     "text": [
      "['Moderate' 'Mild' 'Not anemic' 'Severe']\n",
      "['Not anemic' 'Mild' 'Moderate' 'Severe']\n"
     ]
    }
   ],
   "source": [
    "# Inspect unique values in 'Anemia level' and 'Anemia level.1'\n",
    "print(df['Anemia level'].unique())\n",
    "print(df['Anemia level.1'].unique())\n"
   ]
  },
  {
   "cell_type": "code",
   "execution_count": 344,
   "metadata": {},
   "outputs": [
    {
     "data": {
      "text/plain": [
       "Age in 5-year groups                                                        0\n",
       "Type of place of residence                                                  0\n",
       "Highest educational level                                                   0\n",
       "Wealth index combined                                                       0\n",
       "Births in last five years                                                   0\n",
       "Age of respondent at 1st birth                                              0\n",
       "Hemoglobin level adjusted for altitude and smoking (g/dl - 1 decimal)       0\n",
       "Anemia level                                                                0\n",
       "Have mosquito bed net for sleeping (from household questionnaire)           0\n",
       "Smokes cigarettes                                                           0\n",
       "Current marital status                                                      0\n",
       "Currently residing with husband/partner                                   516\n",
       "When child put to breast                                                 3751\n",
       "Had fever in last two weeks                                                 0\n",
       "Hemoglobin level adjusted for altitude (g/dl - 1 decimal)                   0\n",
       "Anemia level.1                                                              0\n",
       "Taking iron pills, sprinkles or syrup                                       0\n",
       "dtype: int64"
      ]
     },
     "execution_count": 344,
     "metadata": {},
     "output_type": "execute_result"
    }
   ],
   "source": [
    "#checking for remaining NaN in remaing columns \n",
    "df.isnull().sum()"
   ]
  },
  {
   "cell_type": "markdown",
   "metadata": {},
   "source": [
    "##### Handling Missing Values in the \"Currently Residing with Husband/Partner\" Column"
   ]
  },
  {
   "cell_type": "markdown",
   "metadata": {},
   "source": [
    "Currently residing with husband/partner has  516 NaN values , we used value counts to enable more analysis"
   ]
  },
  {
   "cell_type": "code",
   "execution_count": 345,
   "metadata": {},
   "outputs": [
    {
     "name": "stdout",
     "output_type": "stream",
     "text": [
      "Column - Currently residing with husband/partner\n",
      "Categories:\n",
      " Living with her      8580\n",
      "Staying elsewhere     955\n",
      "Name: Currently residing with husband/partner, dtype: int64\n",
      "NaNs - 516 \n",
      "\n"
     ]
    }
   ],
   "source": [
    "# Counting unique values and NaNs separately\n",
    "value_counts = df['Currently residing with husband/partner'].value_counts()\n",
    "na_count = df['Currently residing with husband/partner'].isna().sum()\n",
    "\n",
    "\n",
    "print(f\"Column - {'Currently residing with husband/partner'}\")\n",
    "print(\"Categories:\\n\", value_counts)\n",
    "print(\"NaNs -\", na_count, \"\\n\")\n"
   ]
  },
  {
   "cell_type": "markdown",
   "metadata": {},
   "source": [
    "After value counts we observe the following distribution of responses:\n",
    "\n",
    "- **Living with her**: 8,580 (approximately 89.1%)\n",
    "- **Staying elsewhere**: 955 (approximately 10.0%)\n",
    "- **Missing values (NaNs)**: 516 (approximately 5.2%)\n",
    "\n",
    "Given that the proportion of missing values is relatively low (5.2%), we can confidently proceed with the imputation of these NaN values. To ensure we do not lose valuable information, we will fill the missing entries with the mode of the column, which in this case is **\"Living with her.\"** This choice is justified by the fact that this category has the highest representation in the data, thus better reflecting the existing trends.\n",
    "\n",
    "By using mode imputation, we can:\n",
    "\n",
    "- **Preserve the dataset size**: Avoiding the deletion of rows with missing values helps maintain a larger sample size for subsequent analyses.\n",
    "- **Enhance the quality of analysis**: Filling NaNs with the mode supports the integrity of our statistical analyses, as we retain the most frequent category.\n"
   ]
  },
  {
   "cell_type": "code",
   "execution_count": 346,
   "metadata": {},
   "outputs": [],
   "source": [
    "df[\"Currently residing with husband/partner\"].fillna(df[\"Currently residing with husband/partner\"].mode()[0], inplace=True)"
   ]
  },
  {
   "cell_type": "code",
   "execution_count": 347,
   "metadata": {},
   "outputs": [
    {
     "data": {
      "text/plain": [
       "Age in 5-year groups                                                        0\n",
       "Type of place of residence                                                  0\n",
       "Highest educational level                                                   0\n",
       "Wealth index combined                                                       0\n",
       "Births in last five years                                                   0\n",
       "Age of respondent at 1st birth                                              0\n",
       "Hemoglobin level adjusted for altitude and smoking (g/dl - 1 decimal)       0\n",
       "Anemia level                                                                0\n",
       "Have mosquito bed net for sleeping (from household questionnaire)           0\n",
       "Smokes cigarettes                                                           0\n",
       "Current marital status                                                      0\n",
       "Currently residing with husband/partner                                     0\n",
       "When child put to breast                                                 3751\n",
       "Had fever in last two weeks                                                 0\n",
       "Hemoglobin level adjusted for altitude (g/dl - 1 decimal)                   0\n",
       "Anemia level.1                                                              0\n",
       "Taking iron pills, sprinkles or syrup                                       0\n",
       "dtype: int64"
      ]
     },
     "execution_count": 347,
     "metadata": {},
     "output_type": "execute_result"
    }
   ],
   "source": [
    "#checking for remaining NaN in remaing columns \n",
    "df.isnull().sum()"
   ]
  },
  {
   "cell_type": "markdown",
   "metadata": {},
   "source": [
    "##### When child put to breast"
   ]
  },
  {
   "cell_type": "code",
   "execution_count": 348,
   "metadata": {},
   "outputs": [
    {
     "name": "stdout",
     "output_type": "stream",
     "text": [
      "Column - When child put to breast\n",
      "Categories:\n",
      " Immediately    2960\n",
      "Hours: 1        875\n",
      "102             592\n",
      "Days: 1         505\n",
      "103             327\n",
      "202             182\n",
      "104             166\n",
      "105             148\n",
      "106             110\n",
      "203             107\n",
      "108              72\n",
      "107              49\n",
      "109              35\n",
      "112              32\n",
      "110              28\n",
      "204              15\n",
      "111              13\n",
      "205              12\n",
      "113              11\n",
      "114              10\n",
      "207               9\n",
      "115               7\n",
      "123               6\n",
      "214               5\n",
      "116               4\n",
      "206               3\n",
      "118               3\n",
      "121               2\n",
      "117               2\n",
      "119               2\n",
      "210               2\n",
      "220               1\n",
      "120               1\n",
      "223               1\n",
      "208               1\n",
      "212               1\n",
      "211               1\n",
      "Name: When child put to breast, dtype: int64\n",
      "NaNs - 3751 \n",
      "\n"
     ]
    }
   ],
   "source": [
    "# Counting unique values and NaNs separately\n",
    "value_counts = df['When child put to breast'].value_counts()\n",
    "na_count = df['When child put to breast'].isna().sum()\n",
    "\n",
    "\n",
    "print(f\"Column - {'When child put to breast'}\")\n",
    "print(\"Categories:\\n\", value_counts)\n",
    "print(\"NaNs -\", na_count, \"\\n\")\n"
   ]
  },
  {
   "cell_type": "markdown",
   "metadata": {},
   "source": [
    "Categories  \n",
    "- Immediately: 2,960\n",
    "\n",
    "- Hours: 1: 875\n",
    "    \n",
    "- Various other time categories (e.g., Days: 1, 102, etc.) with counts tapering down to 1.\n",
    "    \n",
    "   The significant number of NaNs (approximately 38.5%) suggests a potential issue in data collection or reporting."
   ]
  },
  {
   "cell_type": "code",
   "execution_count": 349,
   "metadata": {},
   "outputs": [
    {
     "name": "stderr",
     "output_type": "stream",
     "text": [
      "<ipython-input-349-6b102c74c6ec>:18: UserWarning: Tight layout not applied. The bottom and top margins cannot be made large enough to accommodate all axes decorations. \n",
      "  plt.tight_layout()\n"
     ]
    },
    {
     "data": {
      "text/plain": [
       "<Figure size 864x576 with 0 Axes>"
      ]
     },
     "metadata": {},
     "output_type": "display_data"
    },
    {
     "data": {
      "image/png": "[encoded data removed]",
      "text/plain": [
       "<Figure size 432x288 with 1 Axes>"
      ]
     },
     "metadata": {
      "needs_background": "light"
     },
     "output_type": "display_data"
    }
   ],
   "source": [
    "import matplotlib.pyplot as plt\n",
    "\n",
    "# 'Age in 5-year groups' and 'When child put to breast'\n",
    "\n",
    "# Get the count of each breastfeeding initiation category for each age group\n",
    "data_counts = df.groupby(['Age in 5-year groups', 'When child put to breast']).size().unstack(fill_value=0)\n",
    "\n",
    "# Step 2: Plot\n",
    "plt.figure(figsize=(12, 8))\n",
    "data_counts.plot(kind='bar', stacked=True, colormap='viridis', width=0.7)\n",
    "\n",
    "\n",
    "plt.title('Age in 5-year Groups vs. When Child Put to Breast')\n",
    "plt.xlabel('Age in 5-year Groups')\n",
    "plt.ylabel('Count')\n",
    "plt.legend(title='When Child Put to Breast', bbox_to_anchor=(1.05, 1), loc='upper left')\n",
    "plt.xticks(rotation=45)\n",
    "plt.tight_layout()\n",
    "\n",
    "# Show plot\n",
    "plt.show()\n"
   ]
  },
  {
   "cell_type": "code",
   "execution_count": 350,
   "metadata": {},
   "outputs": [],
   "source": [
    "#from the stacked bar plot acrpss all the age categories it is viable that immediately is more common \n",
    "\n",
    "df['When child put to breast'].fillna(df['When child put to breast'].mode()[0],inplace=True)"
   ]
  },
  {
   "cell_type": "code",
   "execution_count": 351,
   "metadata": {},
   "outputs": [
    {
     "data": {
      "text/plain": [
       "Age in 5-year groups                                                     0\n",
       "Type of place of residence                                               0\n",
       "Highest educational level                                                0\n",
       "Wealth index combined                                                    0\n",
       "Births in last five years                                                0\n",
       "Age of respondent at 1st birth                                           0\n",
       "Hemoglobin level adjusted for altitude and smoking (g/dl - 1 decimal)    0\n",
       "Anemia level                                                             0\n",
       "Have mosquito bed net for sleeping (from household questionnaire)        0\n",
       "Smokes cigarettes                                                        0\n",
       "Current marital status                                                   0\n",
       "Currently residing with husband/partner                                  0\n",
       "When child put to breast                                                 0\n",
       "Had fever in last two weeks                                              0\n",
       "Hemoglobin level adjusted for altitude (g/dl - 1 decimal)                0\n",
       "Anemia level.1                                                           0\n",
       "Taking iron pills, sprinkles or syrup                                    0\n",
       "dtype: int64"
      ]
     },
     "execution_count": 351,
     "metadata": {},
     "output_type": "execute_result"
    }
   ],
   "source": [
    "df.isna().sum()"
   ]
  },
  {
   "cell_type": "markdown",
   "metadata": {},
   "source": [
    "Determining Columns to drop "
   ]
  }
 ],
 "metadata": {
  "kernelspec": {
   "display_name": "learn-env",
   "language": "python",
   "name": "python3"
  },
  "language_info": {
   "codemirror_mode": {
    "name": "ipython",
    "version": 3
   },
   "file_extension": ".py",
   "mimetype": "text/x-python",
   "name": "python",
   "nbconvert_exporter": "python",
   "pygments_lexer": "ipython3",
   "version": "3.8.5"
  }
 },
 "nbformat": 4,
 "nbformat_minor": 2
}
